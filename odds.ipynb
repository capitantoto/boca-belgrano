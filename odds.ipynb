{
 "cells": [
  {
   "cell_type": "code",
   "execution_count": 78,
   "metadata": {},
   "outputs": [],
   "source": [
    "import numpy as np\n",
    "import pandas as pd\n",
    "\n",
    "def simulate(lambda_A, lambda_B, K):\n",
    "    # Simulate K matches between teams A and B\n",
    "    results = []\n",
    "    for i in range(K):\n",
    "        # Simulate the number of goals for each team using Poisson distributions\n",
    "        goals_1 = np.random.poisson(lambda_A)\n",
    "        goals_2 = np.random.poisson(lambda_B)\n",
    "\n",
    "        goal_spread = goals_1 - goals_2\n",
    "\n",
    "        # Determine the winner of the match\n",
    "        if goal_spread > 0:\n",
    "            winner = '1'\n",
    "        elif goal_spread < 0:\n",
    "            winner = '2'\n",
    "        else:\n",
    "            winner = 'X'\n",
    "\n",
    "        # Store the results in a dictionary\n",
    "        result = {'Match': i+1, 'Team 1 Goals': goals_1, 'Team 1 Goals': goals_2, 'Goal Spread': goal_spread, 'Winner': winner}\n",
    "        results.append(result)\n",
    "\n",
    "    # Create a Pandas DataFrame from the results\n",
    "    df = pd.DataFrame(results)\n",
    "\n",
    "    return df\n"
   ]
  },
  {
   "cell_type": "code",
   "execution_count": 79,
   "metadata": {},
   "outputs": [],
   "source": [
    "\n",
    "# Define the Poisson rate parameters for each team\n",
    "lambda_A = 1.5\n",
    "lambda_B = 1.2\n",
    "\n",
    "# Define the number of simulations\n",
    "K = 100000\n",
    "\n",
    "df = simulate(lambda_A, lambda_B, K)"
   ]
  },
  {
   "cell_type": "code",
   "execution_count": 80,
   "metadata": {},
   "outputs": [
    {
     "data": {
      "text/html": [
       "<div>\n",
       "<style scoped>\n",
       "    .dataframe tbody tr th:only-of-type {\n",
       "        vertical-align: middle;\n",
       "    }\n",
       "\n",
       "    .dataframe tbody tr th {\n",
       "        vertical-align: top;\n",
       "    }\n",
       "\n",
       "    .dataframe thead th {\n",
       "        text-align: right;\n",
       "    }\n",
       "</style>\n",
       "<table border=\"1\" class=\"dataframe\">\n",
       "  <thead>\n",
       "    <tr style=\"text-align: right;\">\n",
       "      <th></th>\n",
       "      <th>Match</th>\n",
       "      <th>Team 1 Goals</th>\n",
       "      <th>Goal Spread</th>\n",
       "      <th>Winner</th>\n",
       "    </tr>\n",
       "  </thead>\n",
       "  <tbody>\n",
       "    <tr>\n",
       "      <th>0</th>\n",
       "      <td>1</td>\n",
       "      <td>0</td>\n",
       "      <td>2</td>\n",
       "      <td>1</td>\n",
       "    </tr>\n",
       "    <tr>\n",
       "      <th>1</th>\n",
       "      <td>2</td>\n",
       "      <td>3</td>\n",
       "      <td>-1</td>\n",
       "      <td>2</td>\n",
       "    </tr>\n",
       "    <tr>\n",
       "      <th>2</th>\n",
       "      <td>3</td>\n",
       "      <td>1</td>\n",
       "      <td>-1</td>\n",
       "      <td>2</td>\n",
       "    </tr>\n",
       "    <tr>\n",
       "      <th>3</th>\n",
       "      <td>4</td>\n",
       "      <td>2</td>\n",
       "      <td>-1</td>\n",
       "      <td>2</td>\n",
       "    </tr>\n",
       "    <tr>\n",
       "      <th>4</th>\n",
       "      <td>5</td>\n",
       "      <td>0</td>\n",
       "      <td>2</td>\n",
       "      <td>1</td>\n",
       "    </tr>\n",
       "  </tbody>\n",
       "</table>\n",
       "</div>"
      ],
      "text/plain": [
       "   Match  Team 1 Goals  Goal Spread Winner\n",
       "0      1             0            2      1\n",
       "1      2             3           -1      2\n",
       "2      3             1           -1      2\n",
       "3      4             2           -1      2\n",
       "4      5             0            2      1"
      ]
     },
     "execution_count": 80,
     "metadata": {},
     "output_type": "execute_result"
    }
   ],
   "source": [
    "df.head()"
   ]
  },
  {
   "cell_type": "code",
   "execution_count": 81,
   "metadata": {},
   "outputs": [
    {
     "data": {
      "text/plain": [
       "<Axes: >"
      ]
     },
     "execution_count": 81,
     "metadata": {},
     "output_type": "execute_result"
    },
    {
     "data": {
      "image/png": "[encoded data removed]",
      "text/plain": [
       "<Figure size 640x480 with 1 Axes>"
      ]
     },
     "metadata": {},
     "output_type": "display_data"
    }
   ],
   "source": [
    "df[\"Goal Spread\"].value_counts().sort_index().plot(kind=\"bar\")"
   ]
  },
  {
   "cell_type": "code",
   "execution_count": 82,
   "metadata": {},
   "outputs": [
    {
     "data": {
      "text/plain": [
       "Winner\n",
       "1    0.44094\n",
       "2    0.30353\n",
       "X    0.25553\n",
       "dtype: float64"
      ]
     },
     "execution_count": 82,
     "metadata": {},
     "output_type": "execute_result"
    }
   ],
   "source": [
    "(df.groupby(\"Winner\").size() / K)"
   ]
  },
  {
   "cell_type": "code",
   "execution_count": 83,
   "metadata": {},
   "outputs": [
    {
     "name": "stdout",
     "output_type": "stream",
     "text": [
      "['You do not have access to www.bet365.bet.ar.', 'The site owner may have set restrictions that prevent you from accessing the site.', 'Error details', 'Provide the site owner this information.', 'I got an error when visiting www.bet365.bet.ar/?_h=3LwNG5H5dnUh2GAZlKipZQ%3D%3D.', 'Error code: 1020', 'Ray ID: 7c7600848cbaab25', 'Country: AR', 'Data center: eze03', 'IP: 186.18.0.116', 'Timestamp: 2023-05-14 20:48:26 UTC', 'Click to copy', '\\n               Performance & security by Cloudflare \\n']\n"
     ]
    }
   ],
   "source": [
    "import requests\n",
    "from bs4 import BeautifulSoup\n",
    "\n",
    "# Define the URL to scrape\n",
    "url = 'https://www.bet365.bet.ar/?_h=3LwNG5H5dnUh2GAZlKipZQ%3D%3D#/AC/B1/C1/D1002/E84855132/G40/'\n",
    "\n",
    "# Send a GET request to the URL and get the HTML content\n",
    "response = requests.get(url)\n",
    "html_content = response.content\n",
    "\n",
    "# Parse the HTML content using BeautifulSoup\n",
    "soup = BeautifulSoup(html_content, 'html.parser')\n",
    "\n",
    "# Find all the <p> tags on the page and extract their text content\n",
    "p_tags = soup.find_all('p')\n",
    "p_texts = [p.get_text() for p in p_tags]\n",
    "\n",
    "# Print the extracted text content\n",
    "print(p_texts)"
   ]
  },
  {
   "attachments": {},
   "cell_type": "markdown",
   "metadata": {},
   "source": [
    "A Manopla!"
   ]
  },
  {
   "attachments": {},
   "cell_type": "markdown",
   "metadata": {},
   "source": [
    "![Alt text](boca-belgrano.png)"
   ]
  },
  {
   "cell_type": "code",
   "execution_count": 99,
   "metadata": {},
   "outputs": [
    {
     "data": {
      "text/plain": [
       "1    1.75\n",
       "X    3.30\n",
       "2    5.75\n",
       "dtype: float64"
      ]
     },
     "execution_count": 99,
     "metadata": {},
     "output_type": "execute_result"
    }
   ],
   "source": [
    "# From Boca's perspective\n",
    "house_odds = pd.Series([1.75, 3.3, 5.75], [\"1\", \"X\", \"2\"])\n",
    "house_odds"
   ]
  },
  {
   "cell_type": "code",
   "execution_count": 100,
   "metadata": {},
   "outputs": [],
   "source": [
    "import requests\n",
    "from bs4 import BeautifulSoup\n",
    "\n",
    "# Define the URL to scrape\n",
    "url = 'https://www.promiedos.com.ar/primera'\n",
    "\n",
    "# Send a GET request to the URL and get the HTML content\n",
    "response = requests.get(url)\n",
    "html_content = response.content\n",
    "\n",
    "# Parse the HTML content using BeautifulSoup\n",
    "soup = BeautifulSoup(html_content, 'html.parser')"
   ]
  },
  {
   "cell_type": "code",
   "execution_count": 101,
   "metadata": {},
   "outputs": [],
   "source": [
    "historico = soup.find(\"table\")"
   ]
  },
  {
   "cell_type": "code",
   "execution_count": 102,
   "metadata": {},
   "outputs": [
    {
     "name": "stderr",
     "output_type": "stream",
     "text": [
      "/var/folders/h3/d7vpv1m17lv29p7dw5y0yy1c0000gn/T/ipykernel_23855/2239294595.py:14: FutureWarning: The frame.append method is deprecated and will be removed from pandas in a future version. Use pandas.concat instead.\n",
      "  df = df.append(pd.Series(values, index=columns), ignore_index=True)\n",
      "/var/folders/h3/d7vpv1m17lv29p7dw5y0yy1c0000gn/T/ipykernel_23855/2239294595.py:14: FutureWarning: The frame.append method is deprecated and will be removed from pandas in a future version. Use pandas.concat instead.\n",
      "  df = df.append(pd.Series(values, index=columns), ignore_index=True)\n",
      "/var/folders/h3/d7vpv1m17lv29p7dw5y0yy1c0000gn/T/ipykernel_23855/2239294595.py:14: FutureWarning: The frame.append method is deprecated and will be removed from pandas in a future version. Use pandas.concat instead.\n",
      "  df = df.append(pd.Series(values, index=columns), ignore_index=True)\n",
      "/var/folders/h3/d7vpv1m17lv29p7dw5y0yy1c0000gn/T/ipykernel_23855/2239294595.py:14: FutureWarning: The frame.append method is deprecated and will be removed from pandas in a future version. Use pandas.concat instead.\n",
      "  df = df.append(pd.Series(values, index=columns), ignore_index=True)\n",
      "/var/folders/h3/d7vpv1m17lv29p7dw5y0yy1c0000gn/T/ipykernel_23855/2239294595.py:14: FutureWarning: The frame.append method is deprecated and will be removed from pandas in a future version. Use pandas.concat instead.\n",
      "  df = df.append(pd.Series(values, index=columns), ignore_index=True)\n",
      "/var/folders/h3/d7vpv1m17lv29p7dw5y0yy1c0000gn/T/ipykernel_23855/2239294595.py:14: FutureWarning: The frame.append method is deprecated and will be removed from pandas in a future version. Use pandas.concat instead.\n",
      "  df = df.append(pd.Series(values, index=columns), ignore_index=True)\n",
      "/var/folders/h3/d7vpv1m17lv29p7dw5y0yy1c0000gn/T/ipykernel_23855/2239294595.py:14: FutureWarning: The frame.append method is deprecated and will be removed from pandas in a future version. Use pandas.concat instead.\n",
      "  df = df.append(pd.Series(values, index=columns), ignore_index=True)\n",
      "/var/folders/h3/d7vpv1m17lv29p7dw5y0yy1c0000gn/T/ipykernel_23855/2239294595.py:14: FutureWarning: The frame.append method is deprecated and will be removed from pandas in a future version. Use pandas.concat instead.\n",
      "  df = df.append(pd.Series(values, index=columns), ignore_index=True)\n",
      "/var/folders/h3/d7vpv1m17lv29p7dw5y0yy1c0000gn/T/ipykernel_23855/2239294595.py:14: FutureWarning: The frame.append method is deprecated and will be removed from pandas in a future version. Use pandas.concat instead.\n",
      "  df = df.append(pd.Series(values, index=columns), ignore_index=True)\n",
      "/var/folders/h3/d7vpv1m17lv29p7dw5y0yy1c0000gn/T/ipykernel_23855/2239294595.py:14: FutureWarning: The frame.append method is deprecated and will be removed from pandas in a future version. Use pandas.concat instead.\n",
      "  df = df.append(pd.Series(values, index=columns), ignore_index=True)\n",
      "/var/folders/h3/d7vpv1m17lv29p7dw5y0yy1c0000gn/T/ipykernel_23855/2239294595.py:14: FutureWarning: The frame.append method is deprecated and will be removed from pandas in a future version. Use pandas.concat instead.\n",
      "  df = df.append(pd.Series(values, index=columns), ignore_index=True)\n",
      "/var/folders/h3/d7vpv1m17lv29p7dw5y0yy1c0000gn/T/ipykernel_23855/2239294595.py:14: FutureWarning: The frame.append method is deprecated and will be removed from pandas in a future version. Use pandas.concat instead.\n",
      "  df = df.append(pd.Series(values, index=columns), ignore_index=True)\n",
      "/var/folders/h3/d7vpv1m17lv29p7dw5y0yy1c0000gn/T/ipykernel_23855/2239294595.py:14: FutureWarning: The frame.append method is deprecated and will be removed from pandas in a future version. Use pandas.concat instead.\n",
      "  df = df.append(pd.Series(values, index=columns), ignore_index=True)\n",
      "/var/folders/h3/d7vpv1m17lv29p7dw5y0yy1c0000gn/T/ipykernel_23855/2239294595.py:14: FutureWarning: The frame.append method is deprecated and will be removed from pandas in a future version. Use pandas.concat instead.\n",
      "  df = df.append(pd.Series(values, index=columns), ignore_index=True)\n",
      "/var/folders/h3/d7vpv1m17lv29p7dw5y0yy1c0000gn/T/ipykernel_23855/2239294595.py:14: FutureWarning: The frame.append method is deprecated and will be removed from pandas in a future version. Use pandas.concat instead.\n",
      "  df = df.append(pd.Series(values, index=columns), ignore_index=True)\n",
      "/var/folders/h3/d7vpv1m17lv29p7dw5y0yy1c0000gn/T/ipykernel_23855/2239294595.py:14: FutureWarning: The frame.append method is deprecated and will be removed from pandas in a future version. Use pandas.concat instead.\n",
      "  df = df.append(pd.Series(values, index=columns), ignore_index=True)\n",
      "/var/folders/h3/d7vpv1m17lv29p7dw5y0yy1c0000gn/T/ipykernel_23855/2239294595.py:14: FutureWarning: The frame.append method is deprecated and will be removed from pandas in a future version. Use pandas.concat instead.\n",
      "  df = df.append(pd.Series(values, index=columns), ignore_index=True)\n",
      "/var/folders/h3/d7vpv1m17lv29p7dw5y0yy1c0000gn/T/ipykernel_23855/2239294595.py:14: FutureWarning: The frame.append method is deprecated and will be removed from pandas in a future version. Use pandas.concat instead.\n",
      "  df = df.append(pd.Series(values, index=columns), ignore_index=True)\n",
      "/var/folders/h3/d7vpv1m17lv29p7dw5y0yy1c0000gn/T/ipykernel_23855/2239294595.py:14: FutureWarning: The frame.append method is deprecated and will be removed from pandas in a future version. Use pandas.concat instead.\n",
      "  df = df.append(pd.Series(values, index=columns), ignore_index=True)\n",
      "/var/folders/h3/d7vpv1m17lv29p7dw5y0yy1c0000gn/T/ipykernel_23855/2239294595.py:14: FutureWarning: The frame.append method is deprecated and will be removed from pandas in a future version. Use pandas.concat instead.\n",
      "  df = df.append(pd.Series(values, index=columns), ignore_index=True)\n",
      "/var/folders/h3/d7vpv1m17lv29p7dw5y0yy1c0000gn/T/ipykernel_23855/2239294595.py:14: FutureWarning: The frame.append method is deprecated and will be removed from pandas in a future version. Use pandas.concat instead.\n",
      "  df = df.append(pd.Series(values, index=columns), ignore_index=True)\n",
      "/var/folders/h3/d7vpv1m17lv29p7dw5y0yy1c0000gn/T/ipykernel_23855/2239294595.py:14: FutureWarning: The frame.append method is deprecated and will be removed from pandas in a future version. Use pandas.concat instead.\n",
      "  df = df.append(pd.Series(values, index=columns), ignore_index=True)\n",
      "/var/folders/h3/d7vpv1m17lv29p7dw5y0yy1c0000gn/T/ipykernel_23855/2239294595.py:14: FutureWarning: The frame.append method is deprecated and will be removed from pandas in a future version. Use pandas.concat instead.\n",
      "  df = df.append(pd.Series(values, index=columns), ignore_index=True)\n",
      "/var/folders/h3/d7vpv1m17lv29p7dw5y0yy1c0000gn/T/ipykernel_23855/2239294595.py:14: FutureWarning: The frame.append method is deprecated and will be removed from pandas in a future version. Use pandas.concat instead.\n",
      "  df = df.append(pd.Series(values, index=columns), ignore_index=True)\n",
      "/var/folders/h3/d7vpv1m17lv29p7dw5y0yy1c0000gn/T/ipykernel_23855/2239294595.py:14: FutureWarning: The frame.append method is deprecated and will be removed from pandas in a future version. Use pandas.concat instead.\n",
      "  df = df.append(pd.Series(values, index=columns), ignore_index=True)\n",
      "/var/folders/h3/d7vpv1m17lv29p7dw5y0yy1c0000gn/T/ipykernel_23855/2239294595.py:14: FutureWarning: The frame.append method is deprecated and will be removed from pandas in a future version. Use pandas.concat instead.\n",
      "  df = df.append(pd.Series(values, index=columns), ignore_index=True)\n",
      "/var/folders/h3/d7vpv1m17lv29p7dw5y0yy1c0000gn/T/ipykernel_23855/2239294595.py:14: FutureWarning: The frame.append method is deprecated and will be removed from pandas in a future version. Use pandas.concat instead.\n",
      "  df = df.append(pd.Series(values, index=columns), ignore_index=True)\n",
      "/var/folders/h3/d7vpv1m17lv29p7dw5y0yy1c0000gn/T/ipykernel_23855/2239294595.py:14: FutureWarning: The frame.append method is deprecated and will be removed from pandas in a future version. Use pandas.concat instead.\n",
      "  df = df.append(pd.Series(values, index=columns), ignore_index=True)\n"
     ]
    }
   ],
   "source": [
    "import pandas as pd\n",
    "\n",
    "# Assuming you have a Beautifulsoup object called \"soup\" and a table element called \"table\"\n",
    "# You can extract the table rows and columns using the find_all method\n",
    "rows = historico.find_all('tr')\n",
    "columns = [v.text.replace('\\n', '') for v in rows[0].find_all('th')]\n",
    "\n",
    "# Create a pandas dataframe with the extracted rows and columns\n",
    "df = pd.DataFrame(columns=columns)\n",
    "\n",
    "for i in range(1, len(rows)):\n",
    "    tds = rows[i].find_all('td')\n",
    "    values = [td.text.replace('\\n', '') for td in tds]\n",
    "    df = df.append(pd.Series(values, index=columns), ignore_index=True)\n",
    "\n",
    "# Now you have a pandas dataframe with the table data"
   ]
  },
  {
   "cell_type": "code",
   "execution_count": 103,
   "metadata": {},
   "outputs": [],
   "source": [
    "df = df.set_index(\"Equipo\").astype(int)"
   ]
  },
  {
   "cell_type": "code",
   "execution_count": 104,
   "metadata": {},
   "outputs": [],
   "source": [
    "df[\"GPP\"] = df[\"GF\"] / df[\"PJ\"]"
   ]
  },
  {
   "cell_type": "code",
   "execution_count": 114,
   "metadata": {},
   "outputs": [],
   "source": [
    "teams = home, away = [\"Boca Juniors\", \"Belgrano\"]"
   ]
  },
  {
   "cell_type": "code",
   "execution_count": 115,
   "metadata": {},
   "outputs": [
    {
     "data": {
      "text/html": [
       "<div>\n",
       "<style scoped>\n",
       "    .dataframe tbody tr th:only-of-type {\n",
       "        vertical-align: middle;\n",
       "    }\n",
       "\n",
       "    .dataframe tbody tr th {\n",
       "        vertical-align: top;\n",
       "    }\n",
       "\n",
       "    .dataframe thead th {\n",
       "        text-align: right;\n",
       "    }\n",
       "</style>\n",
       "<table border=\"1\" class=\"dataframe\">\n",
       "  <thead>\n",
       "    <tr style=\"text-align: right;\">\n",
       "      <th></th>\n",
       "      <th>#</th>\n",
       "      <th>Pts</th>\n",
       "      <th>PJ</th>\n",
       "      <th>PG</th>\n",
       "      <th>PE</th>\n",
       "      <th>PP</th>\n",
       "      <th>GF</th>\n",
       "      <th>GC</th>\n",
       "      <th>DIF</th>\n",
       "      <th>GPP</th>\n",
       "    </tr>\n",
       "    <tr>\n",
       "      <th>Equipo</th>\n",
       "      <th></th>\n",
       "      <th></th>\n",
       "      <th></th>\n",
       "      <th></th>\n",
       "      <th></th>\n",
       "      <th></th>\n",
       "      <th></th>\n",
       "      <th></th>\n",
       "      <th></th>\n",
       "      <th></th>\n",
       "    </tr>\n",
       "  </thead>\n",
       "  <tbody>\n",
       "    <tr>\n",
       "      <th>Boca Juniors</th>\n",
       "      <td>16</td>\n",
       "      <td>18</td>\n",
       "      <td>15</td>\n",
       "      <td>5</td>\n",
       "      <td>3</td>\n",
       "      <td>7</td>\n",
       "      <td>18</td>\n",
       "      <td>16</td>\n",
       "      <td>2</td>\n",
       "      <td>1.200000</td>\n",
       "    </tr>\n",
       "    <tr>\n",
       "      <th>Belgrano</th>\n",
       "      <td>6</td>\n",
       "      <td>27</td>\n",
       "      <td>15</td>\n",
       "      <td>8</td>\n",
       "      <td>3</td>\n",
       "      <td>4</td>\n",
       "      <td>14</td>\n",
       "      <td>11</td>\n",
       "      <td>3</td>\n",
       "      <td>0.933333</td>\n",
       "    </tr>\n",
       "  </tbody>\n",
       "</table>\n",
       "</div>"
      ],
      "text/plain": [
       "               #  Pts  PJ  PG  PE  PP  GF  GC  DIF       GPP\n",
       "Equipo                                                      \n",
       "Boca Juniors  16   18  15   5   3   7  18  16    2  1.200000\n",
       "Belgrano       6   27  15   8   3   4  14  11    3  0.933333"
      ]
     },
     "execution_count": 115,
     "metadata": {},
     "output_type": "execute_result"
    }
   ],
   "source": [
    "df.loc[teams]"
   ]
  },
  {
   "cell_type": "code",
   "execution_count": 123,
   "metadata": {},
   "outputs": [],
   "source": [
    "sim = simulate(*df.loc[teams, \"GPP\"], K)\n",
    "p_hat = sim.groupby(\"Winner\").size() / K"
   ]
  },
  {
   "cell_type": "code",
   "execution_count": 124,
   "metadata": {},
   "outputs": [],
   "source": [
    "neutral_odds = 1 / p_hat\n",
    "odds_df = pd.DataFrame.from_records([house_odds, neutral_odds], index=[\"House\", \"Neutral\"])"
   ]
  },
  {
   "cell_type": "code",
   "execution_count": 125,
   "metadata": {},
   "outputs": [
    {
     "data": {
      "text/html": [
       "<div>\n",
       "<style scoped>\n",
       "    .dataframe tbody tr th:only-of-type {\n",
       "        vertical-align: middle;\n",
       "    }\n",
       "\n",
       "    .dataframe tbody tr th {\n",
       "        vertical-align: top;\n",
       "    }\n",
       "\n",
       "    .dataframe thead th {\n",
       "        text-align: right;\n",
       "    }\n",
       "</style>\n",
       "<table border=\"1\" class=\"dataframe\">\n",
       "  <thead>\n",
       "    <tr style=\"text-align: right;\">\n",
       "      <th></th>\n",
       "      <th>1</th>\n",
       "      <th>X</th>\n",
       "      <th>2</th>\n",
       "    </tr>\n",
       "  </thead>\n",
       "  <tbody>\n",
       "    <tr>\n",
       "      <th>House</th>\n",
       "      <td>1.75</td>\n",
       "      <td>3.30</td>\n",
       "      <td>5.75</td>\n",
       "    </tr>\n",
       "    <tr>\n",
       "      <th>Neutral</th>\n",
       "      <td>2.38</td>\n",
       "      <td>3.38</td>\n",
       "      <td>3.52</td>\n",
       "    </tr>\n",
       "  </tbody>\n",
       "</table>\n",
       "</div>"
      ],
      "text/plain": [
       "            1     X     2\n",
       "House    1.75  3.30  5.75\n",
       "Neutral  2.38  3.38  3.52"
      ]
     },
     "execution_count": 125,
     "metadata": {},
     "output_type": "execute_result"
    }
   ],
   "source": [
    "odds_df.round(2)"
   ]
  },
  {
   "cell_type": "code",
   "execution_count": 129,
   "metadata": {},
   "outputs": [
    {
     "data": {
      "text/plain": [
       "1.0483719179371351"
      ]
     },
     "execution_count": 129,
     "metadata": {},
     "output_type": "execute_result"
    }
   ],
   "source": [
    "(1 / house_odds).sum()"
   ]
  },
  {
   "cell_type": "code",
   "execution_count": 140,
   "metadata": {},
   "outputs": [
    {
     "data": {
      "text/plain": [
       "1.0483719179371351"
      ]
     },
     "execution_count": 140,
     "metadata": {},
     "output_type": "execute_result"
    }
   ],
   "source": [
    "np.sum(1 / house_odds)"
   ]
  },
  {
   "attachments": {},
   "cell_type": "markdown",
   "metadata": {},
   "source": [
    "Aja! Casa mala. Asumamos que las verdaderas probabilidades de que pasen son proporcionales a las de la casa."
   ]
  },
  {
   "cell_type": "code",
   "execution_count": 141,
   "metadata": {},
   "outputs": [],
   "source": [
    "house_probs = 1 / house_odds\n",
    "real_probs = house_probs / house_probs.sum()"
   ]
  },
  {
   "cell_type": "code",
   "execution_count": 142,
   "metadata": {},
   "outputs": [
    {
     "data": {
      "text/plain": [
       "(Winner\n",
       " 1    0.42000\n",
       " 2    0.28378\n",
       " X    0.29622\n",
       " dtype: float64,\n",
       " 1    0.545063\n",
       " X    0.289048\n",
       " 2    0.165889\n",
       " dtype: float64)"
      ]
     },
     "execution_count": 142,
     "metadata": {},
     "output_type": "execute_result"
    }
   ],
   "source": [
    "p_hat, real_probs"
   ]
  },
  {
   "cell_type": "code",
   "execution_count": 146,
   "metadata": {},
   "outputs": [
    {
     "data": {
      "text/plain": [
       "1   -0.265000\n",
       "2    0.631735\n",
       "X   -0.022474\n",
       "dtype: float64"
      ]
     },
     "execution_count": 146,
     "metadata": {},
     "output_type": "execute_result"
    }
   ],
   "source": [
    "ev = p_hat * (house_odds - 1) + (1 - p_hat) * -1\n",
    "ev"
   ]
  },
  {
   "attachments": {},
   "cell_type": "markdown",
   "metadata": {},
   "source": [
    "### Conclusion\n",
    "La unica apuesta de +EV es Belgrano. Cuánto apostar, es otro cantar.\n",
    "\n",
    "### TODO\n",
    "- Aprender $lambda_x$ directamente de resultados previos. GLM con respuesta Poisson, y ajustar usando resultados de partidos pasados.\n",
    "- Aprender resultado del partido como una respuesta bivariada directamente. Considerar dummies para eleccion de arbitros, o pares (arbitro, equipo) para capturar \"efecto Boca\".\n",
    "- Bet sizing. Algo con Kelly."
   ]
  },
  {
   "cell_type": "code",
   "execution_count": null,
   "metadata": {},
   "outputs": [],
   "source": []
  }
 ],
 "metadata": {
  "kernelspec": {
   "display_name": "jose-luis",
   "language": "python",
   "name": "python3"
  },
  "language_info": {
   "codemirror_mode": {
    "name": "ipython",
    "version": 3
   },
   "file_extension": ".py",
   "mimetype": "text/x-python",
   "name": "python",
   "nbconvert_exporter": "python",
   "pygments_lexer": "ipython3",
   "version": "3.10.10"
  },
  "orig_nbformat": 4
 },
 "nbformat": 4,
 "nbformat_minor": 2
}
