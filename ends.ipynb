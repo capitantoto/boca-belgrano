{
 "cells": [
  {
   "attachments": {},
   "cell_type": "markdown",
   "metadata": {},
   "source": [
    "# Post-meet: Benter 1994 & NFL Data Project"
   ]
  },
  {
   "attachments": {},
   "cell_type": "markdown",
   "metadata": {},
   "source": [
    "## Data"
   ]
  },
  {
   "attachments": {},
   "cell_type": "markdown",
   "metadata": {},
   "source": [
    "**“game data.csv”**: Game level summary statistics from pro-football-reference.com. Data columns are:\n",
    "\n",
    "- `link`: link to page data was scraped from, contains information on relevant team\n",
    "- `week`: week of game\n",
    "- `date`: date of game\n",
    "- `ot`: indicator for if game went to overtime\n",
    "- `rec`: record of team for that season after the game was completed\n",
    "- `opp`: opposing team\n",
    "- `team_score`: points scored\n",
    "- `opp_score`: points allowed\n",
    "- `o_fistdown`: first downs gained\n",
    "- `o_yards`: total yards gained\n",
    "- `o_passy`: pass yards gained\n",
    "- `o_rushy`: rush yards gained\n",
    "- `o_to`: offensive turnovers\n",
    "- `d_fistdown`: first downs allowed\n",
    "- `d_yards`: total yards allowed\n",
    "- `d_passy`: pass yards allowed\n",
    "- `d_rushy`: rush yards allowed\n",
    "- `d_to`: defensive turnovers\n",
    "- `ep_offense`: Offense’s “Expected Points”\n",
    "- `ep_defense`: Defense’s “Expected Points”\n",
    "- `ep_st`: Special Teams’ “Expected Points”\n",
    "- `Team`: the home team (abbreviated)\n",
    "- `Season`: season the game took place\n",
    "- `eday`: date the game took place on\n",
    "- `ha`: indicator if the “Team” is the home or away team\n",
    "- `OddsOpen`: decimal odds of the “Team” winning at the start of betting (typically 6 days before the game is played)\n",
    "- `OddsClose`: decimal odds of the “Team” winning right before kickoff\n",
    "- `LineOpen`: Moneyline for the “Team” winning at the start of betting (typically 6 days before the game is played)\n",
    "- `LineClose`: Moneyline for the “Team” winning right before kickoff\n",
    "- `LineOddsOpen`: Payout for the moneyline bet (decimal odds) at start of betting for the “Team”\n",
    "- `LineOddsClose`: Payout for the moneyline bet (decimal odds) right before kickoff\n",
    "- `Opponent`: opposing team (abbreviated)\n",
    "- `game_id`: identifier variable for the game. This is NOT a unique identifier as each game_id should be repeated twice. Observations should be unique by game_id and “Team”\n",
    "- `take`: take or vigorish for the OddsClose bet\n",
    "- `win`: 0/1 indicator for if the Team won or not\n",
    "\n",
    "For all ELO measures see https://projects.fivethirtyeight.com/complete-history-of-the-nfl/"
   ]
  },
  {
   "attachments": {},
   "cell_type": "markdown",
   "metadata": {},
   "source": [
    "## Setup"
   ]
  },
  {
   "cell_type": "code",
   "execution_count": 67,
   "metadata": {},
   "outputs": [],
   "source": [
    "import lightgbm as lgb\n",
    "import pandas as pd\n",
    "from sklearn.model_selection import train_test_split\n",
    "import numpy as np\n",
    "import os\n",
    "\n",
    "# To avoid time conversion issues\n",
    "os.environ['TZ'] = 'UTC'"
   ]
  },
  {
   "cell_type": "code",
   "execution_count": 68,
   "metadata": {},
   "outputs": [],
   "source": [
    "class Bundle(dict):\n",
    "    def __getattr__(self, key):\n",
    "        try:\n",
    "            return self[key]\n",
    "        except KeyError:\n",
    "            raise AttributeError(key)\n",
    "\n",
    "    def __setattr__(self, key, value):\n",
    "        self[key] = value"
   ]
  },
  {
   "cell_type": "code",
   "execution_count": 69,
   "metadata": {},
   "outputs": [
    {
     "name": "stdout",
     "output_type": "stream",
     "text": [
      "(3584, 38)\n"
     ]
    },
    {
     "data": {
      "text/html": [
       "<div>\n",
       "<style scoped>\n",
       "    .dataframe tbody tr th:only-of-type {\n",
       "        vertical-align: middle;\n",
       "    }\n",
       "\n",
       "    .dataframe tbody tr th {\n",
       "        vertical-align: top;\n",
       "    }\n",
       "\n",
       "    .dataframe thead th {\n",
       "        text-align: right;\n",
       "    }\n",
       "</style>\n",
       "<table border=\"1\" class=\"dataframe\">\n",
       "  <thead>\n",
       "    <tr style=\"text-align: right;\">\n",
       "      <th></th>\n",
       "      <th>0</th>\n",
       "      <th>1</th>\n",
       "      <th>2</th>\n",
       "      <th>3</th>\n",
       "      <th>4</th>\n",
       "    </tr>\n",
       "  </thead>\n",
       "  <tbody>\n",
       "    <tr>\n",
       "      <th>week</th>\n",
       "      <td>1</td>\n",
       "      <td>2</td>\n",
       "      <td>3</td>\n",
       "      <td>4</td>\n",
       "      <td>5</td>\n",
       "    </tr>\n",
       "    <tr>\n",
       "      <th>date</th>\n",
       "      <td>September 07</td>\n",
       "      <td>September 14</td>\n",
       "      <td>September 18</td>\n",
       "      <td>September 28</td>\n",
       "      <td>October 05</td>\n",
       "    </tr>\n",
       "    <tr>\n",
       "      <th>ot</th>\n",
       "      <td>OT</td>\n",
       "      <td>NaN</td>\n",
       "      <td>NaN</td>\n",
       "      <td>NaN</td>\n",
       "      <td>NaN</td>\n",
       "    </tr>\n",
       "    <tr>\n",
       "      <th>rec</th>\n",
       "      <td>1-0</td>\n",
       "      <td>1-1</td>\n",
       "      <td>2-1</td>\n",
       "      <td>2-2</td>\n",
       "      <td>2-3</td>\n",
       "    </tr>\n",
       "    <tr>\n",
       "      <th>opp</th>\n",
       "      <td>New Orleans Saints</td>\n",
       "      <td>Cincinnati Bengals</td>\n",
       "      <td>Tampa Bay Buccaneers</td>\n",
       "      <td>Minnesota Vikings</td>\n",
       "      <td>New York Giants</td>\n",
       "    </tr>\n",
       "    <tr>\n",
       "      <th>team_score</th>\n",
       "      <td>37.0</td>\n",
       "      <td>10.0</td>\n",
       "      <td>56.0</td>\n",
       "      <td>28.0</td>\n",
       "      <td>20.0</td>\n",
       "    </tr>\n",
       "    <tr>\n",
       "      <th>opp_score</th>\n",
       "      <td>34.0</td>\n",
       "      <td>24.0</td>\n",
       "      <td>14.0</td>\n",
       "      <td>41.0</td>\n",
       "      <td>30.0</td>\n",
       "    </tr>\n",
       "    <tr>\n",
       "      <th>o_fistdown</th>\n",
       "      <td>28.0</td>\n",
       "      <td>19.0</td>\n",
       "      <td>26.0</td>\n",
       "      <td>23.0</td>\n",
       "      <td>20.0</td>\n",
       "    </tr>\n",
       "    <tr>\n",
       "      <th>o_yards</th>\n",
       "      <td>568.0</td>\n",
       "      <td>309.0</td>\n",
       "      <td>488.0</td>\n",
       "      <td>411.0</td>\n",
       "      <td>397.0</td>\n",
       "    </tr>\n",
       "    <tr>\n",
       "      <th>o_passy</th>\n",
       "      <td>445.0</td>\n",
       "      <td>212.0</td>\n",
       "      <td>344.0</td>\n",
       "      <td>288.0</td>\n",
       "      <td>307.0</td>\n",
       "    </tr>\n",
       "    <tr>\n",
       "      <th>o_rushy</th>\n",
       "      <td>123.0</td>\n",
       "      <td>97.0</td>\n",
       "      <td>144.0</td>\n",
       "      <td>123.0</td>\n",
       "      <td>90.0</td>\n",
       "    </tr>\n",
       "    <tr>\n",
       "      <th>o_to</th>\n",
       "      <td>1</td>\n",
       "      <td>3</td>\n",
       "      <td>4</td>\n",
       "      <td>2</td>\n",
       "      <td>1</td>\n",
       "    </tr>\n",
       "    <tr>\n",
       "      <th>d_fistdown</th>\n",
       "      <td>30.0</td>\n",
       "      <td>21.0</td>\n",
       "      <td>10.0</td>\n",
       "      <td>26.0</td>\n",
       "      <td>22.0</td>\n",
       "    </tr>\n",
       "    <tr>\n",
       "      <th>d_yards</th>\n",
       "      <td>472.0</td>\n",
       "      <td>472.0</td>\n",
       "      <td>217.0</td>\n",
       "      <td>558.0</td>\n",
       "      <td>317.0</td>\n",
       "    </tr>\n",
       "    <tr>\n",
       "      <th>d_passy</th>\n",
       "      <td>333.0</td>\n",
       "      <td>302.0</td>\n",
       "      <td>153.0</td>\n",
       "      <td>317.0</td>\n",
       "      <td>193.0</td>\n",
       "    </tr>\n",
       "    <tr>\n",
       "      <th>d_rushy</th>\n",
       "      <td>139.0</td>\n",
       "      <td>170.0</td>\n",
       "      <td>64.0</td>\n",
       "      <td>241.0</td>\n",
       "      <td>124.0</td>\n",
       "    </tr>\n",
       "    <tr>\n",
       "      <th>d_to</th>\n",
       "      <td>2</td>\n",
       "      <td>0</td>\n",
       "      <td>5</td>\n",
       "      <td>0</td>\n",
       "      <td>2</td>\n",
       "    </tr>\n",
       "    <tr>\n",
       "      <th>ep_offense</th>\n",
       "      <td>25.42</td>\n",
       "      <td>-9.3</td>\n",
       "      <td>13.83</td>\n",
       "      <td>12.49</td>\n",
       "      <td>5.0</td>\n",
       "    </tr>\n",
       "    <tr>\n",
       "      <th>ep_defense</th>\n",
       "      <td>-21.85</td>\n",
       "      <td>-16.280001</td>\n",
       "      <td>29.0</td>\n",
       "      <td>-29.120001</td>\n",
       "      <td>-14.28</td>\n",
       "    </tr>\n",
       "    <tr>\n",
       "      <th>ep_st</th>\n",
       "      <td>-0.57</td>\n",
       "      <td>10.47</td>\n",
       "      <td>-4.23</td>\n",
       "      <td>1.75</td>\n",
       "      <td>1.67</td>\n",
       "    </tr>\n",
       "    <tr>\n",
       "      <th>Team</th>\n",
       "      <td>atl</td>\n",
       "      <td>atl</td>\n",
       "      <td>atl</td>\n",
       "      <td>atl</td>\n",
       "      <td>atl</td>\n",
       "    </tr>\n",
       "    <tr>\n",
       "      <th>season</th>\n",
       "      <td>2014</td>\n",
       "      <td>2014</td>\n",
       "      <td>2014</td>\n",
       "      <td>2014</td>\n",
       "      <td>2014</td>\n",
       "    </tr>\n",
       "    <tr>\n",
       "      <th>eday</th>\n",
       "      <td>07sep2014</td>\n",
       "      <td>14sep2014</td>\n",
       "      <td>18sep2014</td>\n",
       "      <td>28sep2014</td>\n",
       "      <td>05oct2014</td>\n",
       "    </tr>\n",
       "    <tr>\n",
       "      <th>ha</th>\n",
       "      <td>H</td>\n",
       "      <td>A</td>\n",
       "      <td>H</td>\n",
       "      <td>A</td>\n",
       "      <td>A</td>\n",
       "    </tr>\n",
       "    <tr>\n",
       "      <th>OddsOpen</th>\n",
       "      <td>2.31</td>\n",
       "      <td>2.95</td>\n",
       "      <td>1.363</td>\n",
       "      <td>1.724</td>\n",
       "      <td>2.88</td>\n",
       "    </tr>\n",
       "    <tr>\n",
       "      <th>OddsClose</th>\n",
       "      <td>2.44</td>\n",
       "      <td>3.16</td>\n",
       "      <td>1.361</td>\n",
       "      <td>1.432</td>\n",
       "      <td>2.76</td>\n",
       "    </tr>\n",
       "    <tr>\n",
       "      <th>LineOpen</th>\n",
       "      <td>2.5</td>\n",
       "      <td>4.0</td>\n",
       "      <td>-5.5</td>\n",
       "      <td>-3.0</td>\n",
       "      <td>4.0</td>\n",
       "    </tr>\n",
       "    <tr>\n",
       "      <th>LineClose</th>\n",
       "      <td>3.0</td>\n",
       "      <td>5.5</td>\n",
       "      <td>-6.5</td>\n",
       "      <td>-5.5</td>\n",
       "      <td>4.0</td>\n",
       "    </tr>\n",
       "    <tr>\n",
       "      <th>LineOddsOpen</th>\n",
       "      <td>2.06</td>\n",
       "      <td>2.05</td>\n",
       "      <td>1.952</td>\n",
       "      <td>1.952</td>\n",
       "      <td>1.952</td>\n",
       "    </tr>\n",
       "    <tr>\n",
       "      <th>LineOddsClose</th>\n",
       "      <td>1.961</td>\n",
       "      <td>1.925</td>\n",
       "      <td>1.925</td>\n",
       "      <td>1.917</td>\n",
       "      <td>1.934</td>\n",
       "    </tr>\n",
       "    <tr>\n",
       "      <th>Opponent</th>\n",
       "      <td>nor</td>\n",
       "      <td>cin</td>\n",
       "      <td>tam</td>\n",
       "      <td>min</td>\n",
       "      <td>nyg</td>\n",
       "    </tr>\n",
       "    <tr>\n",
       "      <th>game_id</th>\n",
       "      <td>2140</td>\n",
       "      <td>2161</td>\n",
       "      <td>2169</td>\n",
       "      <td>2187</td>\n",
       "      <td>2211</td>\n",
       "    </tr>\n",
       "    <tr>\n",
       "      <th>elo</th>\n",
       "      <td>1458.825</td>\n",
       "      <td>1475.033</td>\n",
       "      <td>1461.5229</td>\n",
       "      <td>1485.661</td>\n",
       "      <td>1463.7629</td>\n",
       "    </tr>\n",
       "    <tr>\n",
       "      <th>elo_prob</th>\n",
       "      <td>0.428661</td>\n",
       "      <td>0.269114</td>\n",
       "      <td>0.662082</td>\n",
       "      <td>0.424808</td>\n",
       "      <td>0.358524</td>\n",
       "    </tr>\n",
       "    <tr>\n",
       "      <th>qbelo</th>\n",
       "      <td>1495.6633</td>\n",
       "      <td>1511.3295</td>\n",
       "      <td>1492.9829</td>\n",
       "      <td>1516.1132</td>\n",
       "      <td>1487.3192</td>\n",
       "    </tr>\n",
       "    <tr>\n",
       "      <th>qbelo_prob</th>\n",
       "      <td>0.444847</td>\n",
       "      <td>0.354743</td>\n",
       "      <td>0.674791</td>\n",
       "      <td>0.538832</td>\n",
       "      <td>0.389688</td>\n",
       "    </tr>\n",
       "    <tr>\n",
       "      <th>take</th>\n",
       "      <td>1.024967</td>\n",
       "      <td>1.024854</td>\n",
       "      <td>1.024373</td>\n",
       "      <td>1.024491</td>\n",
       "      <td>1.024729</td>\n",
       "    </tr>\n",
       "    <tr>\n",
       "      <th>win</th>\n",
       "      <td>1</td>\n",
       "      <td>0</td>\n",
       "      <td>1</td>\n",
       "      <td>0</td>\n",
       "      <td>0</td>\n",
       "    </tr>\n",
       "  </tbody>\n",
       "</table>\n",
       "</div>"
      ],
      "text/plain": [
       "                                0                   1                     2  \\\n",
       "week                            1                   2                     3   \n",
       "date                 September 07        September 14          September 18   \n",
       "ot                             OT                 NaN                   NaN   \n",
       "rec                           1-0                 1-1                   2-1   \n",
       "opp            New Orleans Saints  Cincinnati Bengals  Tampa Bay Buccaneers   \n",
       "team_score                   37.0                10.0                  56.0   \n",
       "opp_score                    34.0                24.0                  14.0   \n",
       "o_fistdown                   28.0                19.0                  26.0   \n",
       "o_yards                     568.0               309.0                 488.0   \n",
       "o_passy                     445.0               212.0                 344.0   \n",
       "o_rushy                     123.0                97.0                 144.0   \n",
       "o_to                            1                   3                     4   \n",
       "d_fistdown                   30.0                21.0                  10.0   \n",
       "d_yards                     472.0               472.0                 217.0   \n",
       "d_passy                     333.0               302.0                 153.0   \n",
       "d_rushy                     139.0               170.0                  64.0   \n",
       "d_to                            2                   0                     5   \n",
       "ep_offense                  25.42                -9.3                 13.83   \n",
       "ep_defense                 -21.85          -16.280001                  29.0   \n",
       "ep_st                       -0.57               10.47                 -4.23   \n",
       "Team                          atl                 atl                   atl   \n",
       "season                       2014                2014                  2014   \n",
       "eday                    07sep2014           14sep2014             18sep2014   \n",
       "ha                              H                   A                     H   \n",
       "OddsOpen                     2.31                2.95                 1.363   \n",
       "OddsClose                    2.44                3.16                 1.361   \n",
       "LineOpen                      2.5                 4.0                  -5.5   \n",
       "LineClose                     3.0                 5.5                  -6.5   \n",
       "LineOddsOpen                 2.06                2.05                 1.952   \n",
       "LineOddsClose               1.961               1.925                 1.925   \n",
       "Opponent                      nor                 cin                   tam   \n",
       "game_id                      2140                2161                  2169   \n",
       "elo                      1458.825            1475.033             1461.5229   \n",
       "elo_prob                 0.428661            0.269114              0.662082   \n",
       "qbelo                   1495.6633           1511.3295             1492.9829   \n",
       "qbelo_prob               0.444847            0.354743              0.674791   \n",
       "take                     1.024967            1.024854              1.024373   \n",
       "win                             1                   0                     1   \n",
       "\n",
       "                               3                4  \n",
       "week                           4                5  \n",
       "date                September 28       October 05  \n",
       "ot                           NaN              NaN  \n",
       "rec                          2-2              2-3  \n",
       "opp            Minnesota Vikings  New York Giants  \n",
       "team_score                  28.0             20.0  \n",
       "opp_score                   41.0             30.0  \n",
       "o_fistdown                  23.0             20.0  \n",
       "o_yards                    411.0            397.0  \n",
       "o_passy                    288.0            307.0  \n",
       "o_rushy                    123.0             90.0  \n",
       "o_to                           2                1  \n",
       "d_fistdown                  26.0             22.0  \n",
       "d_yards                    558.0            317.0  \n",
       "d_passy                    317.0            193.0  \n",
       "d_rushy                    241.0            124.0  \n",
       "d_to                           0                2  \n",
       "ep_offense                 12.49              5.0  \n",
       "ep_defense            -29.120001           -14.28  \n",
       "ep_st                       1.75             1.67  \n",
       "Team                         atl              atl  \n",
       "season                      2014             2014  \n",
       "eday                   28sep2014        05oct2014  \n",
       "ha                             A                A  \n",
       "OddsOpen                   1.724             2.88  \n",
       "OddsClose                  1.432             2.76  \n",
       "LineOpen                    -3.0              4.0  \n",
       "LineClose                   -5.5              4.0  \n",
       "LineOddsOpen               1.952            1.952  \n",
       "LineOddsClose              1.917            1.934  \n",
       "Opponent                     min              nyg  \n",
       "game_id                     2187             2211  \n",
       "elo                     1485.661        1463.7629  \n",
       "elo_prob                0.424808         0.358524  \n",
       "qbelo                  1516.1132        1487.3192  \n",
       "qbelo_prob              0.538832         0.389688  \n",
       "take                    1.024491         1.024729  \n",
       "win                            0                0  "
      ]
     },
     "execution_count": 69,
     "metadata": {},
     "output_type": "execute_result"
    }
   ],
   "source": [
    "filename = \"Data Project NFL/clean NFL.csv\"\n",
    "# Load the data from the CSV file\n",
    "raw = pd.read_csv(filename)\n",
    "print(raw.shape)\n",
    "raw.head().T"
   ]
  },
  {
   "attachments": {},
   "cell_type": "markdown",
   "metadata": {},
   "source": [
    "## EDA (Exploratory Data Analysis)"
   ]
  },
  {
   "cell_type": "code",
   "execution_count": 70,
   "metadata": {},
   "outputs": [
    {
     "data": {
      "text/plain": [
       "week               int64\n",
       "date              object\n",
       "ot                object\n",
       "rec               object\n",
       "opp               object\n",
       "team_score       float64\n",
       "opp_score        float64\n",
       "o_fistdown       float64\n",
       "o_yards          float64\n",
       "o_passy          float64\n",
       "o_rushy          float64\n",
       "o_to               int64\n",
       "d_fistdown       float64\n",
       "d_yards          float64\n",
       "d_passy          float64\n",
       "d_rushy          float64\n",
       "d_to               int64\n",
       "ep_offense       float64\n",
       "ep_defense       float64\n",
       "ep_st            float64\n",
       "Team              object\n",
       "season             int64\n",
       "eday              object\n",
       "ha                object\n",
       "OddsOpen         float64\n",
       "OddsClose        float64\n",
       "LineOpen         float64\n",
       "LineClose        float64\n",
       "LineOddsOpen     float64\n",
       "LineOddsClose    float64\n",
       "Opponent          object\n",
       "game_id            int64\n",
       "elo              float64\n",
       "elo_prob         float64\n",
       "qbelo            float64\n",
       "qbelo_prob       float64\n",
       "take             float64\n",
       "win                int64\n",
       "dtype: object"
      ]
     },
     "execution_count": 70,
     "metadata": {},
     "output_type": "execute_result"
    }
   ],
   "source": [
    "raw.dtypes"
   ]
  },
  {
   "cell_type": "code",
   "execution_count": 71,
   "metadata": {},
   "outputs": [
    {
     "data": {
      "text/plain": [
       "3414                                                   ot\n",
       "386     ep_st, LineOddsClose, LineClose, LineOpen, Odd...\n",
       "0       qbelo_prob, elo_prob, elo, game_id, take, week...\n",
       "dtype: object"
      ]
     },
     "execution_count": 71,
     "metadata": {},
     "output_type": "execute_result"
    }
   ],
   "source": [
    "nulls = raw.isna().sum().sort_values(ascending=False)\n",
    "pd.Series({n: \", \".join(nulls[nulls == n].index.tolist()) for n in nulls.unique()})\n",
    "# print(nulls)"
   ]
  },
  {
   "cell_type": "code",
   "execution_count": 72,
   "metadata": {},
   "outputs": [
    {
     "data": {
      "text/plain": [
       "NaN    3414\n",
       "OT      170\n",
       "Name: ot, dtype: int64"
      ]
     },
     "execution_count": 72,
     "metadata": {},
     "output_type": "execute_result"
    }
   ],
   "source": [
    "raw.ot.value_counts(dropna=False)"
   ]
  },
  {
   "attachments": {},
   "cell_type": "markdown",
   "metadata": {},
   "source": [
    "We expect `OT` to be a boolean flag, instead it's \"OT\" or None. Must encode correctly. But first let look at the rest of NaNs.\n",
    "\n",
    "Then there's apparently a set of 386 records with no data for a lot of fields. Grouping by season, we can see they're all from the 2020 season:"
   ]
  },
  {
   "cell_type": "code",
   "execution_count": 73,
   "metadata": {},
   "outputs": [
    {
     "data": {
      "text/plain": [
       "2014    512\n",
       "2015    512\n",
       "2016    512\n",
       "2017    512\n",
       "2018    512\n",
       "2019    512\n",
       "2020    512\n",
       "Name: season, dtype: int64"
      ]
     },
     "execution_count": 73,
     "metadata": {},
     "output_type": "execute_result"
    }
   ],
   "source": [
    "raw.season.value_counts()"
   ]
  },
  {
   "cell_type": "code",
   "execution_count": 74,
   "metadata": {},
   "outputs": [
    {
     "data": {
      "text/html": [
       "<div>\n",
       "<style scoped>\n",
       "    .dataframe tbody tr th:only-of-type {\n",
       "        vertical-align: middle;\n",
       "    }\n",
       "\n",
       "    .dataframe tbody tr th {\n",
       "        vertical-align: top;\n",
       "    }\n",
       "\n",
       "    .dataframe thead th {\n",
       "        text-align: right;\n",
       "    }\n",
       "</style>\n",
       "<table border=\"1\" class=\"dataframe\">\n",
       "  <thead>\n",
       "    <tr style=\"text-align: right;\">\n",
       "      <th>season</th>\n",
       "      <th>2014</th>\n",
       "      <th>2015</th>\n",
       "      <th>2016</th>\n",
       "      <th>2017</th>\n",
       "      <th>2018</th>\n",
       "      <th>2019</th>\n",
       "      <th>2020</th>\n",
       "    </tr>\n",
       "  </thead>\n",
       "  <tbody>\n",
       "    <tr>\n",
       "      <th>week</th>\n",
       "      <td>0</td>\n",
       "      <td>0</td>\n",
       "      <td>0</td>\n",
       "      <td>0</td>\n",
       "      <td>0</td>\n",
       "      <td>0</td>\n",
       "      <td>0</td>\n",
       "    </tr>\n",
       "    <tr>\n",
       "      <th>date</th>\n",
       "      <td>0</td>\n",
       "      <td>0</td>\n",
       "      <td>0</td>\n",
       "      <td>0</td>\n",
       "      <td>0</td>\n",
       "      <td>0</td>\n",
       "      <td>0</td>\n",
       "    </tr>\n",
       "    <tr>\n",
       "      <th>ot</th>\n",
       "      <td>490</td>\n",
       "      <td>470</td>\n",
       "      <td>486</td>\n",
       "      <td>484</td>\n",
       "      <td>482</td>\n",
       "      <td>494</td>\n",
       "      <td>508</td>\n",
       "    </tr>\n",
       "    <tr>\n",
       "      <th>rec</th>\n",
       "      <td>0</td>\n",
       "      <td>0</td>\n",
       "      <td>0</td>\n",
       "      <td>0</td>\n",
       "      <td>0</td>\n",
       "      <td>0</td>\n",
       "      <td>386</td>\n",
       "    </tr>\n",
       "    <tr>\n",
       "      <th>opp</th>\n",
       "      <td>0</td>\n",
       "      <td>0</td>\n",
       "      <td>0</td>\n",
       "      <td>0</td>\n",
       "      <td>0</td>\n",
       "      <td>0</td>\n",
       "      <td>0</td>\n",
       "    </tr>\n",
       "    <tr>\n",
       "      <th>team_score</th>\n",
       "      <td>0</td>\n",
       "      <td>0</td>\n",
       "      <td>0</td>\n",
       "      <td>0</td>\n",
       "      <td>0</td>\n",
       "      <td>0</td>\n",
       "      <td>386</td>\n",
       "    </tr>\n",
       "    <tr>\n",
       "      <th>opp_score</th>\n",
       "      <td>0</td>\n",
       "      <td>0</td>\n",
       "      <td>0</td>\n",
       "      <td>0</td>\n",
       "      <td>0</td>\n",
       "      <td>0</td>\n",
       "      <td>386</td>\n",
       "    </tr>\n",
       "    <tr>\n",
       "      <th>o_fistdown</th>\n",
       "      <td>0</td>\n",
       "      <td>0</td>\n",
       "      <td>0</td>\n",
       "      <td>0</td>\n",
       "      <td>0</td>\n",
       "      <td>0</td>\n",
       "      <td>386</td>\n",
       "    </tr>\n",
       "    <tr>\n",
       "      <th>o_yards</th>\n",
       "      <td>0</td>\n",
       "      <td>0</td>\n",
       "      <td>0</td>\n",
       "      <td>0</td>\n",
       "      <td>0</td>\n",
       "      <td>0</td>\n",
       "      <td>386</td>\n",
       "    </tr>\n",
       "    <tr>\n",
       "      <th>o_passy</th>\n",
       "      <td>0</td>\n",
       "      <td>0</td>\n",
       "      <td>0</td>\n",
       "      <td>0</td>\n",
       "      <td>0</td>\n",
       "      <td>0</td>\n",
       "      <td>386</td>\n",
       "    </tr>\n",
       "  </tbody>\n",
       "</table>\n",
       "</div>"
      ],
      "text/plain": [
       "season      2014  2015  2016  2017  2018  2019  2020\n",
       "week           0     0     0     0     0     0     0\n",
       "date           0     0     0     0     0     0     0\n",
       "ot           490   470   486   484   482   494   508\n",
       "rec            0     0     0     0     0     0   386\n",
       "opp            0     0     0     0     0     0     0\n",
       "team_score     0     0     0     0     0     0   386\n",
       "opp_score      0     0     0     0     0     0   386\n",
       "o_fistdown     0     0     0     0     0     0   386\n",
       "o_yards        0     0     0     0     0     0   386\n",
       "o_passy        0     0     0     0     0     0   386"
      ]
     },
     "execution_count": 74,
     "metadata": {},
     "output_type": "execute_result"
    }
   ],
   "source": [
    "raw.groupby([\"season\"]).apply(lambda x: x.isna().sum()).round(2).T.head(10)"
   ]
  },
  {
   "attachments": {},
   "cell_type": "markdown",
   "metadata": {},
   "source": [
    "Not _every_ game from 2020 season has no data, let's look at per-week stats:"
   ]
  },
  {
   "cell_type": "code",
   "execution_count": 75,
   "metadata": {},
   "outputs": [
    {
     "data": {
      "text/html": [
       "<div>\n",
       "<style scoped>\n",
       "    .dataframe tbody tr th:only-of-type {\n",
       "        vertical-align: middle;\n",
       "    }\n",
       "\n",
       "    .dataframe tbody tr th {\n",
       "        vertical-align: top;\n",
       "    }\n",
       "\n",
       "    .dataframe thead th {\n",
       "        text-align: right;\n",
       "    }\n",
       "</style>\n",
       "<table border=\"1\" class=\"dataframe\">\n",
       "  <thead>\n",
       "    <tr style=\"text-align: right;\">\n",
       "      <th>week</th>\n",
       "      <th>1</th>\n",
       "      <th>2</th>\n",
       "      <th>3</th>\n",
       "      <th>4</th>\n",
       "      <th>5</th>\n",
       "      <th>6</th>\n",
       "      <th>7</th>\n",
       "      <th>8</th>\n",
       "      <th>9</th>\n",
       "      <th>10</th>\n",
       "      <th>11</th>\n",
       "      <th>12</th>\n",
       "      <th>13</th>\n",
       "      <th>14</th>\n",
       "      <th>15</th>\n",
       "      <th>16</th>\n",
       "      <th>17</th>\n",
       "    </tr>\n",
       "  </thead>\n",
       "  <tbody>\n",
       "    <tr>\n",
       "      <th>LineOddsOpen</th>\n",
       "      <td>0</td>\n",
       "      <td>0</td>\n",
       "      <td>0</td>\n",
       "      <td>0</td>\n",
       "      <td>30</td>\n",
       "      <td>28</td>\n",
       "      <td>28</td>\n",
       "      <td>28</td>\n",
       "      <td>28</td>\n",
       "      <td>28</td>\n",
       "      <td>26</td>\n",
       "      <td>32</td>\n",
       "      <td>30</td>\n",
       "      <td>32</td>\n",
       "      <td>32</td>\n",
       "      <td>32</td>\n",
       "      <td>32</td>\n",
       "    </tr>\n",
       "    <tr>\n",
       "      <th>LineOddsClose</th>\n",
       "      <td>0</td>\n",
       "      <td>0</td>\n",
       "      <td>0</td>\n",
       "      <td>0</td>\n",
       "      <td>30</td>\n",
       "      <td>28</td>\n",
       "      <td>28</td>\n",
       "      <td>28</td>\n",
       "      <td>28</td>\n",
       "      <td>28</td>\n",
       "      <td>26</td>\n",
       "      <td>32</td>\n",
       "      <td>30</td>\n",
       "      <td>32</td>\n",
       "      <td>32</td>\n",
       "      <td>32</td>\n",
       "      <td>32</td>\n",
       "    </tr>\n",
       "    <tr>\n",
       "      <th>Opponent</th>\n",
       "      <td>0</td>\n",
       "      <td>0</td>\n",
       "      <td>0</td>\n",
       "      <td>0</td>\n",
       "      <td>30</td>\n",
       "      <td>28</td>\n",
       "      <td>28</td>\n",
       "      <td>28</td>\n",
       "      <td>28</td>\n",
       "      <td>28</td>\n",
       "      <td>26</td>\n",
       "      <td>32</td>\n",
       "      <td>30</td>\n",
       "      <td>32</td>\n",
       "      <td>32</td>\n",
       "      <td>32</td>\n",
       "      <td>32</td>\n",
       "    </tr>\n",
       "    <tr>\n",
       "      <th>game_id</th>\n",
       "      <td>0</td>\n",
       "      <td>0</td>\n",
       "      <td>0</td>\n",
       "      <td>0</td>\n",
       "      <td>0</td>\n",
       "      <td>0</td>\n",
       "      <td>0</td>\n",
       "      <td>0</td>\n",
       "      <td>0</td>\n",
       "      <td>0</td>\n",
       "      <td>0</td>\n",
       "      <td>0</td>\n",
       "      <td>0</td>\n",
       "      <td>0</td>\n",
       "      <td>0</td>\n",
       "      <td>0</td>\n",
       "      <td>0</td>\n",
       "    </tr>\n",
       "    <tr>\n",
       "      <th>elo</th>\n",
       "      <td>0</td>\n",
       "      <td>0</td>\n",
       "      <td>0</td>\n",
       "      <td>0</td>\n",
       "      <td>0</td>\n",
       "      <td>0</td>\n",
       "      <td>0</td>\n",
       "      <td>0</td>\n",
       "      <td>0</td>\n",
       "      <td>0</td>\n",
       "      <td>0</td>\n",
       "      <td>0</td>\n",
       "      <td>0</td>\n",
       "      <td>0</td>\n",
       "      <td>0</td>\n",
       "      <td>0</td>\n",
       "      <td>0</td>\n",
       "    </tr>\n",
       "    <tr>\n",
       "      <th>elo_prob</th>\n",
       "      <td>0</td>\n",
       "      <td>0</td>\n",
       "      <td>0</td>\n",
       "      <td>0</td>\n",
       "      <td>0</td>\n",
       "      <td>0</td>\n",
       "      <td>0</td>\n",
       "      <td>0</td>\n",
       "      <td>0</td>\n",
       "      <td>0</td>\n",
       "      <td>0</td>\n",
       "      <td>0</td>\n",
       "      <td>0</td>\n",
       "      <td>0</td>\n",
       "      <td>0</td>\n",
       "      <td>0</td>\n",
       "      <td>0</td>\n",
       "    </tr>\n",
       "    <tr>\n",
       "      <th>qbelo</th>\n",
       "      <td>0</td>\n",
       "      <td>0</td>\n",
       "      <td>0</td>\n",
       "      <td>0</td>\n",
       "      <td>30</td>\n",
       "      <td>28</td>\n",
       "      <td>28</td>\n",
       "      <td>28</td>\n",
       "      <td>28</td>\n",
       "      <td>28</td>\n",
       "      <td>26</td>\n",
       "      <td>32</td>\n",
       "      <td>30</td>\n",
       "      <td>32</td>\n",
       "      <td>32</td>\n",
       "      <td>32</td>\n",
       "      <td>32</td>\n",
       "    </tr>\n",
       "    <tr>\n",
       "      <th>qbelo_prob</th>\n",
       "      <td>0</td>\n",
       "      <td>0</td>\n",
       "      <td>0</td>\n",
       "      <td>0</td>\n",
       "      <td>0</td>\n",
       "      <td>0</td>\n",
       "      <td>0</td>\n",
       "      <td>0</td>\n",
       "      <td>0</td>\n",
       "      <td>0</td>\n",
       "      <td>0</td>\n",
       "      <td>0</td>\n",
       "      <td>0</td>\n",
       "      <td>0</td>\n",
       "      <td>0</td>\n",
       "      <td>0</td>\n",
       "      <td>0</td>\n",
       "    </tr>\n",
       "    <tr>\n",
       "      <th>take</th>\n",
       "      <td>0</td>\n",
       "      <td>0</td>\n",
       "      <td>0</td>\n",
       "      <td>0</td>\n",
       "      <td>0</td>\n",
       "      <td>0</td>\n",
       "      <td>0</td>\n",
       "      <td>0</td>\n",
       "      <td>0</td>\n",
       "      <td>0</td>\n",
       "      <td>0</td>\n",
       "      <td>0</td>\n",
       "      <td>0</td>\n",
       "      <td>0</td>\n",
       "      <td>0</td>\n",
       "      <td>0</td>\n",
       "      <td>0</td>\n",
       "    </tr>\n",
       "    <tr>\n",
       "      <th>win</th>\n",
       "      <td>0</td>\n",
       "      <td>0</td>\n",
       "      <td>0</td>\n",
       "      <td>0</td>\n",
       "      <td>0</td>\n",
       "      <td>0</td>\n",
       "      <td>0</td>\n",
       "      <td>0</td>\n",
       "      <td>0</td>\n",
       "      <td>0</td>\n",
       "      <td>0</td>\n",
       "      <td>0</td>\n",
       "      <td>0</td>\n",
       "      <td>0</td>\n",
       "      <td>0</td>\n",
       "      <td>0</td>\n",
       "      <td>0</td>\n",
       "    </tr>\n",
       "  </tbody>\n",
       "</table>\n",
       "</div>"
      ],
      "text/plain": [
       "week           1   2   3   4   5   6   7   8   9   10  11  12  13  14  15  16  \\\n",
       "LineOddsOpen    0   0   0   0  30  28  28  28  28  28  26  32  30  32  32  32   \n",
       "LineOddsClose   0   0   0   0  30  28  28  28  28  28  26  32  30  32  32  32   \n",
       "Opponent        0   0   0   0  30  28  28  28  28  28  26  32  30  32  32  32   \n",
       "game_id         0   0   0   0   0   0   0   0   0   0   0   0   0   0   0   0   \n",
       "elo             0   0   0   0   0   0   0   0   0   0   0   0   0   0   0   0   \n",
       "elo_prob        0   0   0   0   0   0   0   0   0   0   0   0   0   0   0   0   \n",
       "qbelo           0   0   0   0  30  28  28  28  28  28  26  32  30  32  32  32   \n",
       "qbelo_prob      0   0   0   0   0   0   0   0   0   0   0   0   0   0   0   0   \n",
       "take            0   0   0   0   0   0   0   0   0   0   0   0   0   0   0   0   \n",
       "win             0   0   0   0   0   0   0   0   0   0   0   0   0   0   0   0   \n",
       "\n",
       "week           17  \n",
       "LineOddsOpen   32  \n",
       "LineOddsClose  32  \n",
       "Opponent       32  \n",
       "game_id         0  \n",
       "elo             0  \n",
       "elo_prob        0  \n",
       "qbelo          32  \n",
       "qbelo_prob      0  \n",
       "take            0  \n",
       "win             0  "
      ]
     },
     "execution_count": 75,
     "metadata": {},
     "output_type": "execute_result"
    }
   ],
   "source": [
    "raw[raw.season == 2020].groupby([\"week\"]).apply(lambda x: x.isna().sum()).round(2).T.tail(10)"
   ]
  },
  {
   "attachments": {},
   "cell_type": "markdown",
   "metadata": {},
   "source": [
    "From week 4 onwards, the data is missing, but the response variable `win` is never empty. Let's see its value distribution."
   ]
  },
  {
   "cell_type": "code",
   "execution_count": 76,
   "metadata": {},
   "outputs": [
    {
     "data": {
      "text/plain": [
       "0    386\n",
       "Name: win, dtype: int64"
      ]
     },
     "execution_count": 76,
     "metadata": {},
     "output_type": "execute_result"
    }
   ],
   "source": [
    "raw[(raw.season == 2020) & (raw.week >= 5)].win.value_counts(dropna=False)"
   ]
  },
  {
   "attachments": {},
   "cell_type": "markdown",
   "metadata": {},
   "source": [
    "No chance _both_ teams lost every match after week 5, this is a zero-value where a NaN value should have been. "
   ]
  },
  {
   "cell_type": "code",
   "execution_count": 77,
   "metadata": {},
   "outputs": [
    {
     "data": {
      "text/html": [
       "<div>\n",
       "<style scoped>\n",
       "    .dataframe tbody tr th:only-of-type {\n",
       "        vertical-align: middle;\n",
       "    }\n",
       "\n",
       "    .dataframe tbody tr th {\n",
       "        vertical-align: top;\n",
       "    }\n",
       "\n",
       "    .dataframe thead th {\n",
       "        text-align: right;\n",
       "    }\n",
       "</style>\n",
       "<table border=\"1\" class=\"dataframe\">\n",
       "  <thead>\n",
       "    <tr style=\"text-align: right;\">\n",
       "      <th>team_score</th>\n",
       "      <th>False</th>\n",
       "      <th>True</th>\n",
       "    </tr>\n",
       "  </thead>\n",
       "  <tbody>\n",
       "    <tr>\n",
       "      <th>ot</th>\n",
       "      <td>0.95</td>\n",
       "      <td>1.0</td>\n",
       "    </tr>\n",
       "    <tr>\n",
       "      <th>week</th>\n",
       "      <td>0.00</td>\n",
       "      <td>0.0</td>\n",
       "    </tr>\n",
       "    <tr>\n",
       "      <th>LineOddsClose</th>\n",
       "      <td>0.00</td>\n",
       "      <td>1.0</td>\n",
       "    </tr>\n",
       "    <tr>\n",
       "      <th>eday</th>\n",
       "      <td>0.00</td>\n",
       "      <td>0.0</td>\n",
       "    </tr>\n",
       "    <tr>\n",
       "      <th>ha</th>\n",
       "      <td>0.00</td>\n",
       "      <td>1.0</td>\n",
       "    </tr>\n",
       "    <tr>\n",
       "      <th>OddsOpen</th>\n",
       "      <td>0.00</td>\n",
       "      <td>1.0</td>\n",
       "    </tr>\n",
       "    <tr>\n",
       "      <th>OddsClose</th>\n",
       "      <td>0.00</td>\n",
       "      <td>1.0</td>\n",
       "    </tr>\n",
       "    <tr>\n",
       "      <th>LineOpen</th>\n",
       "      <td>0.00</td>\n",
       "      <td>1.0</td>\n",
       "    </tr>\n",
       "    <tr>\n",
       "      <th>LineClose</th>\n",
       "      <td>0.00</td>\n",
       "      <td>1.0</td>\n",
       "    </tr>\n",
       "    <tr>\n",
       "      <th>LineOddsOpen</th>\n",
       "      <td>0.00</td>\n",
       "      <td>1.0</td>\n",
       "    </tr>\n",
       "  </tbody>\n",
       "</table>\n",
       "</div>"
      ],
      "text/plain": [
       "team_score     False  True \n",
       "ot              0.95    1.0\n",
       "week            0.00    0.0\n",
       "LineOddsClose   0.00    1.0\n",
       "eday            0.00    0.0\n",
       "ha              0.00    1.0\n",
       "OddsOpen        0.00    1.0\n",
       "OddsClose       0.00    1.0\n",
       "LineOpen        0.00    1.0\n",
       "LineClose       0.00    1.0\n",
       "LineOddsOpen    0.00    1.0"
      ]
     },
     "execution_count": 77,
     "metadata": {},
     "output_type": "execute_result"
    }
   ],
   "source": [
    "raw.groupby(raw.team_score.isna()).apply(lambda x: x.isna().mean()).round(2).T.sort_values(by=False, ascending=False).head(10)"
   ]
  },
  {
   "attachments": {},
   "cell_type": "markdown",
   "metadata": {},
   "source": [
    "Games with a value for `team_score`, only have `ot` missing (which we know already), and all other fields are present. _Every_ game without a `team_score` value, neither has any of the other missing fields, and although they have a `win` value, it's not significant.\n",
    "\n",
    "**We'll drop every row without `team_score`, which should delete 386 rows:**\n"
   ]
  },
  {
   "cell_type": "code",
   "execution_count": 97,
   "metadata": {},
   "outputs": [],
   "source": [
    "data = raw[raw.team_score.notna()].copy()\n",
    "assert len(raw) - 386 == len(data)"
   ]
  },
  {
   "cell_type": "code",
   "execution_count": 98,
   "metadata": {},
   "outputs": [],
   "source": [
    "data[\"ot\"] = data[\"ot\"].notna()"
   ]
  },
  {
   "cell_type": "code",
   "execution_count": 99,
   "metadata": {},
   "outputs": [
    {
     "data": {
      "text/html": [
       "<div>\n",
       "<style scoped>\n",
       "    .dataframe tbody tr th:only-of-type {\n",
       "        vertical-align: middle;\n",
       "    }\n",
       "\n",
       "    .dataframe tbody tr th {\n",
       "        vertical-align: top;\n",
       "    }\n",
       "\n",
       "    .dataframe thead th {\n",
       "        text-align: right;\n",
       "    }\n",
       "</style>\n",
       "<table border=\"1\" class=\"dataframe\">\n",
       "  <thead>\n",
       "    <tr style=\"text-align: right;\">\n",
       "      <th></th>\n",
       "      <th>raw_date</th>\n",
       "      <th>eday</th>\n",
       "      <th>date</th>\n",
       "      <th>ts</th>\n",
       "    </tr>\n",
       "  </thead>\n",
       "  <tbody>\n",
       "    <tr>\n",
       "      <th>0</th>\n",
       "      <td>September 07</td>\n",
       "      <td>07sep2014</td>\n",
       "      <td>2014-09-07</td>\n",
       "      <td>1410048000</td>\n",
       "    </tr>\n",
       "    <tr>\n",
       "      <th>1</th>\n",
       "      <td>September 14</td>\n",
       "      <td>14sep2014</td>\n",
       "      <td>2014-09-14</td>\n",
       "      <td>1410652800</td>\n",
       "    </tr>\n",
       "    <tr>\n",
       "      <th>2</th>\n",
       "      <td>September 18</td>\n",
       "      <td>18sep2014</td>\n",
       "      <td>2014-09-18</td>\n",
       "      <td>1410998400</td>\n",
       "    </tr>\n",
       "    <tr>\n",
       "      <th>3</th>\n",
       "      <td>September 28</td>\n",
       "      <td>28sep2014</td>\n",
       "      <td>2014-09-28</td>\n",
       "      <td>1411862400</td>\n",
       "    </tr>\n",
       "    <tr>\n",
       "      <th>4</th>\n",
       "      <td>October 05</td>\n",
       "      <td>05oct2014</td>\n",
       "      <td>2014-10-05</td>\n",
       "      <td>1412467200</td>\n",
       "    </tr>\n",
       "  </tbody>\n",
       "</table>\n",
       "</div>"
      ],
      "text/plain": [
       "       raw_date       eday       date          ts\n",
       "0  September 07  07sep2014 2014-09-07  1410048000\n",
       "1  September 14  14sep2014 2014-09-14  1410652800\n",
       "2  September 18  18sep2014 2014-09-18  1410998400\n",
       "3  September 28  28sep2014 2014-09-28  1411862400\n",
       "4    October 05  05oct2014 2014-10-05  1412467200"
      ]
     },
     "execution_count": 99,
     "metadata": {},
     "output_type": "execute_result"
    }
   ],
   "source": [
    "# Convert the 'eday' column to datetime dtype\n",
    "data[\"raw_date\"] = data.date\n",
    "data['date'] = pd.to_datetime(data['eday'], format='%d%b%Y')\n",
    "# Convert the datetime objects to Unix timestamps\n",
    "data['ts'] = data.date.astype(int) // 10**9\n",
    "\n",
    "data[[\"raw_date\", \"eday\", \"date\", \"ts\"]].head()"
   ]
  },
  {
   "cell_type": "code",
   "execution_count": 100,
   "metadata": {},
   "outputs": [],
   "source": [
    "from datetime import datetime\n",
    "\n",
    "assert [\n",
    "    datetime.fromtimestamp(timestamp) for timestamp in data.ts\n",
    "] == data.date.tolist()"
   ]
  },
  {
   "cell_type": "code",
   "execution_count": 101,
   "metadata": {},
   "outputs": [],
   "source": [
    "# Convert `rec` to three separate fields\n",
    "# data[[\"win\", \"loss\", \"tie\"]] = data['rec'].str.split(\"-\",expand=True).fillna(0).astype(int)"
   ]
  },
  {
   "cell_type": "code",
   "execution_count": 102,
   "metadata": {},
   "outputs": [],
   "source": [
    "assert sorted(data.ha.unique()) == [\"A\", \"H\"]  # Exclude any third options\n",
    "data[\"H\"] = data.ha == \"H\""
   ]
  },
  {
   "cell_type": "code",
   "execution_count": 103,
   "metadata": {},
   "outputs": [],
   "source": [
    "for x in [\"o\", \"d\"]:\n",
    "    assert np.all(data[x + \"_yards\"] == data[x + \"_passy\"] + data[x + \"_rushy\"])"
   ]
  },
  {
   "attachments": {},
   "cell_type": "markdown",
   "metadata": {},
   "source": [
    "Even then, we'll keep the three and let the estimator decide on the better representation."
   ]
  },
  {
   "cell_type": "code",
   "execution_count": 104,
   "metadata": {},
   "outputs": [
    {
     "data": {
      "text/plain": [
       "((1599, 41), (1599, 41))"
      ]
     },
     "execution_count": 104,
     "metadata": {},
     "output_type": "execute_result"
    }
   ],
   "source": [
    "assert data[data.H].shape == data[~data.H].shape\n",
    "data[data.H].shape, data[~data.H].shape"
   ]
  },
  {
   "cell_type": "code",
   "execution_count": 105,
   "metadata": {},
   "outputs": [],
   "source": [
    "data[\"diff_score\"] = data.team_score - data.opp_score\n",
    "data[\"signed_win\"] = np.sign(data.diff_score)"
   ]
  },
  {
   "cell_type": "code",
   "execution_count": 106,
   "metadata": {},
   "outputs": [
    {
     "data": {
      "text/plain": [
       "win  signed_win\n",
       "0    -1.0          1592\n",
       "1     1.0          1592\n",
       "0     0.0            14\n",
       "dtype: int64"
      ]
     },
     "execution_count": 106,
     "metadata": {},
     "output_type": "execute_result"
    }
   ],
   "source": [
    "data[[\"win\", \"signed_win\"]].value_counts()"
   ]
  },
  {
   "attachments": {},
   "cell_type": "markdown",
   "metadata": {},
   "source": [
    "## Feature Engineering\n",
    "\n",
    "Every `week` of every `season`, several `games` between a `home_team` and an `away_team` happen. Some of the features available are particular to the match itself, including the betting odds and line odds:"
   ]
  },
  {
   "cell_type": "code",
   "execution_count": 107,
   "metadata": {},
   "outputs": [],
   "source": [
    "stats_cols = [\n",
    "    \"diff_score\",\n",
    "    \"team_score\",\n",
    "    \"opp_score\",\n",
    "    \"o_fistdown\",\n",
    "    \"o_yards\",\n",
    "    \"o_passy\",\n",
    "    \"o_rushy\",\n",
    "    \"o_to\",\n",
    "    \"d_fistdown\",\n",
    "    \"d_yards\",\n",
    "    \"d_passy\",\n",
    "    \"d_rushy\",\n",
    "    \"d_to\",\n",
    "    \"ep_offense\",\n",
    "    \"ep_defense\",\n",
    "    \"ep_st\",\n",
    "    \"elo\",\n",
    "    \"elo_prob\",\n",
    "    \"qbelo\",\n",
    "    \"qbelo_prob\",\n",
    "    \"win\",\n",
    "]\n",
    "betting_cols = [\n",
    "    \"OddsOpen\",\n",
    "    \"OddsClose\",\n",
    "    \"LineOpen\",\n",
    "    \"LineClose\",\n",
    "    \"LineOddsOpen\",\n",
    "    \"LineOddsClose\",\n",
    "]"
   ]
  },
  {
   "attachments": {},
   "cell_type": "markdown",
   "metadata": {},
   "source": [
    "TODO: `stats_cols` include a lot of \"post-game\" metrics that you only know after the _end_ of the match, and cannot be used as features to predict the outcome (`[team|opp]_score, [o|d]_[yards|passy|rushy|fistdown|to]`), and some that look like \"pre-game\" stats about each team (`ep_[offense|defense|st], (qb)elo(_prob)`). We should clearly differentiate between the two, and keep the latter (instead of dropping them all) as prediction features."
   ]
  },
  {
   "attachments": {},
   "cell_type": "markdown",
   "metadata": {},
   "source": [
    "For each match, we'll create two set of features, for the home (`home_`) and away (`away_`) teams. For each , match, \"base feature\" (i.e. each column in `stats_cols`) and home/away team, we'll calculate:\n",
    "- the last value against any other team (`vsall_last_`),\n",
    "- the historical average against any other team, up until last match included (`vsall_avg_`)\n",
    "- the last value against the same opponent (`vsopp_last_`),\n",
    "- the historical average against the same opponent, up until last match included (`vsopp_avg_`)\n",
    "- the season average, up until last match included (`season_avg_`)\n",
    "\n",
    "We do not include `season_last_` features, because except for the first match of the season it's identical to `vsall_last_`.\n"
   ]
  },
  {
   "cell_type": "code",
   "execution_count": 108,
   "metadata": {},
   "outputs": [],
   "source": [
    "key = [\"season\", \"week\", \"Opponent\", \"Team\"]\n",
    "data = data.sort_values(by=key)\n",
    "vsall = data.groupby(\"Team\", group_keys=False)[stats_cols]\n",
    "vsopp = data.groupby([\"Opponent\", \"Team\"], group_keys=False)[stats_cols]\n",
    "season = data.groupby([\"season\", \"Team\"], group_keys=False)[stats_cols]"
   ]
  },
  {
   "cell_type": "code",
   "execution_count": 125,
   "metadata": {},
   "outputs": [
    {
     "ename": "InvalidIndexError",
     "evalue": "Reindexing only valid with uniquely valued Index objects",
     "output_type": "error",
     "traceback": [
      "\u001b[0;31m---------------------------------------------------------------------------\u001b[0m",
      "\u001b[0;31mInvalidIndexError\u001b[0m                         Traceback (most recent call last)",
      "Cell \u001b[0;32mIn[125], line 1\u001b[0m\n\u001b[0;32m----> 1\u001b[0m feats \u001b[39m=\u001b[39m pd\u001b[39m.\u001b[39;49mconcat(\n\u001b[1;32m      2\u001b[0m     [\n\u001b[1;32m      3\u001b[0m         data[key \u001b[39m+\u001b[39;49m betting_cols],\n\u001b[1;32m      4\u001b[0m         \u001b[39m# Last game stats\u001b[39;49;00m\n\u001b[1;32m      5\u001b[0m         vsall\u001b[39m.\u001b[39;49mshift()\u001b[39m.\u001b[39;49madd_prefix(\u001b[39m\"\u001b[39;49m\u001b[39mvsall_last_\u001b[39;49m\u001b[39m\"\u001b[39;49m),\n\u001b[1;32m      6\u001b[0m         \u001b[39m# Historical stats average (expanding.mean) up to last game (shift)\u001b[39;49;00m\n\u001b[1;32m      7\u001b[0m         vsall\u001b[39m.\u001b[39;49mapply(\u001b[39mlambda\u001b[39;49;00m x: x\u001b[39m.\u001b[39;49mshift()\u001b[39m.\u001b[39;49mexpanding()\u001b[39m.\u001b[39;49mmean())\u001b[39m.\u001b[39;49madd_prefix(\u001b[39m\"\u001b[39;49m\u001b[39mvsall_avg_\u001b[39;49m\u001b[39m\"\u001b[39;49m),\n\u001b[1;32m      8\u001b[0m         \u001b[39m# Sames as before, but exclusively against the current opponen\u001b[39;49;00m\n\u001b[1;32m      9\u001b[0m         vsopp\u001b[39m.\u001b[39;49mshift()\u001b[39m.\u001b[39;49madd_prefix(\u001b[39m\"\u001b[39;49m\u001b[39mvsopp_last_\u001b[39;49m\u001b[39m\"\u001b[39;49m),\n\u001b[1;32m     10\u001b[0m         vsopp\u001b[39m.\u001b[39;49mapply(\u001b[39mlambda\u001b[39;49;00m x: x\u001b[39m.\u001b[39;49mshift()\u001b[39m.\u001b[39;49mexpanding()\u001b[39m.\u001b[39;49mmean())\u001b[39m.\u001b[39;49madd_prefix(\u001b[39m\"\u001b[39;49m\u001b[39mvsopp_avg_\u001b[39;49m\u001b[39m\"\u001b[39;49m),\n\u001b[1;32m     11\u001b[0m         season\u001b[39m.\u001b[39;49mapply(\u001b[39mlambda\u001b[39;49;00m x: x\u001b[39m.\u001b[39;49mshift()\u001b[39m.\u001b[39;49mexpanding()\u001b[39m.\u001b[39;49mmean())\u001b[39m.\u001b[39;49madd_prefix(\u001b[39m\"\u001b[39;49m\u001b[39mseason_avg_\u001b[39;49m\u001b[39m\"\u001b[39;49m),\n\u001b[1;32m     12\u001b[0m     ],\n\u001b[1;32m     13\u001b[0m     axis\u001b[39m=\u001b[39;49m\u001b[39m1\u001b[39;49m,\n\u001b[1;32m     14\u001b[0m )\u001b[39m.\u001b[39mset_index(key)\n",
      "File \u001b[0;32m~/opt/anaconda3/envs/jose-luis/lib/python3.10/site-packages/pandas/util/_decorators.py:331\u001b[0m, in \u001b[0;36mdeprecate_nonkeyword_arguments.<locals>.decorate.<locals>.wrapper\u001b[0;34m(*args, **kwargs)\u001b[0m\n\u001b[1;32m    325\u001b[0m \u001b[39mif\u001b[39;00m \u001b[39mlen\u001b[39m(args) \u001b[39m>\u001b[39m num_allow_args:\n\u001b[1;32m    326\u001b[0m     warnings\u001b[39m.\u001b[39mwarn(\n\u001b[1;32m    327\u001b[0m         msg\u001b[39m.\u001b[39mformat(arguments\u001b[39m=\u001b[39m_format_argument_list(allow_args)),\n\u001b[1;32m    328\u001b[0m         \u001b[39mFutureWarning\u001b[39;00m,\n\u001b[1;32m    329\u001b[0m         stacklevel\u001b[39m=\u001b[39mfind_stack_level(),\n\u001b[1;32m    330\u001b[0m     )\n\u001b[0;32m--> 331\u001b[0m \u001b[39mreturn\u001b[39;00m func(\u001b[39m*\u001b[39;49margs, \u001b[39m*\u001b[39;49m\u001b[39m*\u001b[39;49mkwargs)\n",
      "File \u001b[0;32m~/opt/anaconda3/envs/jose-luis/lib/python3.10/site-packages/pandas/core/reshape/concat.py:381\u001b[0m, in \u001b[0;36mconcat\u001b[0;34m(objs, axis, join, ignore_index, keys, levels, names, verify_integrity, sort, copy)\u001b[0m\n\u001b[1;32m    159\u001b[0m \u001b[39m\"\"\"\u001b[39;00m\n\u001b[1;32m    160\u001b[0m \u001b[39mConcatenate pandas objects along a particular axis.\u001b[39;00m\n\u001b[1;32m    161\u001b[0m \n\u001b[0;32m   (...)\u001b[0m\n\u001b[1;32m    366\u001b[0m \u001b[39m1   3   4\u001b[39;00m\n\u001b[1;32m    367\u001b[0m \u001b[39m\"\"\"\u001b[39;00m\n\u001b[1;32m    368\u001b[0m op \u001b[39m=\u001b[39m _Concatenator(\n\u001b[1;32m    369\u001b[0m     objs,\n\u001b[1;32m    370\u001b[0m     axis\u001b[39m=\u001b[39maxis,\n\u001b[0;32m   (...)\u001b[0m\n\u001b[1;32m    378\u001b[0m     sort\u001b[39m=\u001b[39msort,\n\u001b[1;32m    379\u001b[0m )\n\u001b[0;32m--> 381\u001b[0m \u001b[39mreturn\u001b[39;00m op\u001b[39m.\u001b[39;49mget_result()\n",
      "File \u001b[0;32m~/opt/anaconda3/envs/jose-luis/lib/python3.10/site-packages/pandas/core/reshape/concat.py:612\u001b[0m, in \u001b[0;36m_Concatenator.get_result\u001b[0;34m(self)\u001b[0m\n\u001b[1;32m    610\u001b[0m         obj_labels \u001b[39m=\u001b[39m obj\u001b[39m.\u001b[39maxes[\u001b[39m1\u001b[39m \u001b[39m-\u001b[39m ax]\n\u001b[1;32m    611\u001b[0m         \u001b[39mif\u001b[39;00m \u001b[39mnot\u001b[39;00m new_labels\u001b[39m.\u001b[39mequals(obj_labels):\n\u001b[0;32m--> 612\u001b[0m             indexers[ax] \u001b[39m=\u001b[39m obj_labels\u001b[39m.\u001b[39;49mget_indexer(new_labels)\n\u001b[1;32m    614\u001b[0m     mgrs_indexers\u001b[39m.\u001b[39mappend((obj\u001b[39m.\u001b[39m_mgr, indexers))\n\u001b[1;32m    616\u001b[0m new_data \u001b[39m=\u001b[39m concatenate_managers(\n\u001b[1;32m    617\u001b[0m     mgrs_indexers, \u001b[39mself\u001b[39m\u001b[39m.\u001b[39mnew_axes, concat_axis\u001b[39m=\u001b[39m\u001b[39mself\u001b[39m\u001b[39m.\u001b[39mbm_axis, copy\u001b[39m=\u001b[39m\u001b[39mself\u001b[39m\u001b[39m.\u001b[39mcopy\n\u001b[1;32m    618\u001b[0m )\n",
      "File \u001b[0;32m~/opt/anaconda3/envs/jose-luis/lib/python3.10/site-packages/pandas/core/indexes/base.py:3904\u001b[0m, in \u001b[0;36mIndex.get_indexer\u001b[0;34m(self, target, method, limit, tolerance)\u001b[0m\n\u001b[1;32m   3901\u001b[0m \u001b[39mself\u001b[39m\u001b[39m.\u001b[39m_check_indexing_method(method, limit, tolerance)\n\u001b[1;32m   3903\u001b[0m \u001b[39mif\u001b[39;00m \u001b[39mnot\u001b[39;00m \u001b[39mself\u001b[39m\u001b[39m.\u001b[39m_index_as_unique:\n\u001b[0;32m-> 3904\u001b[0m     \u001b[39mraise\u001b[39;00m InvalidIndexError(\u001b[39mself\u001b[39m\u001b[39m.\u001b[39m_requires_unique_msg)\n\u001b[1;32m   3906\u001b[0m \u001b[39mif\u001b[39;00m \u001b[39mlen\u001b[39m(target) \u001b[39m==\u001b[39m \u001b[39m0\u001b[39m:\n\u001b[1;32m   3907\u001b[0m     \u001b[39mreturn\u001b[39;00m np\u001b[39m.\u001b[39marray([], dtype\u001b[39m=\u001b[39mnp\u001b[39m.\u001b[39mintp)\n",
      "\u001b[0;31mInvalidIndexError\u001b[0m: Reindexing only valid with uniquely valued Index objects"
     ]
    }
   ],
   "source": [
    "feats = pd.concat(\n",
    "    [\n",
    "        data[key + betting_cols],\n",
    "        # Last game stats\n",
    "        vsall.shift().add_prefix(\"vsall_last_\"),\n",
    "        # Historical stats average (expanding.mean) up to last game (shift)\n",
    "        vsall.apply(lambda x: x.shift().expanding().mean()).add_prefix(\"vsall_avg_\"),\n",
    "        # Sames as before, but exclusively against the current opponen\n",
    "        vsopp.shift().add_prefix(\"vsopp_last_\"),\n",
    "        vsopp.apply(lambda x: x.shift().expanding().mean()).add_prefix(\"vsopp_avg_\"),\n",
    "        season.apply(lambda x: x.shift().expanding().mean()).add_prefix(\"season_avg_\"),\n",
    "    ],\n",
    "    axis=1,\n",
    ").set_index(key)"
   ]
  },
  {
   "cell_type": "code",
   "execution_count": null,
   "metadata": {},
   "outputs": [],
   "source": [
    "match_cols = key + [\"date\", \"ts\", \"ot\"]"
   ]
  },
  {
   "cell_type": "code",
   "execution_count": null,
   "metadata": {},
   "outputs": [],
   "source": [
    "if \"game_id\" in data.columns:\n",
    "    data = data.set_index(\"game_id\").sort_index()\n",
    "home, away = data[data.H], data[~data.H]\n",
    "assert len(home) == len(away) == len(data) / 2\n",
    "assert np.all(home.index == away.index)"
   ]
  },
  {
   "cell_type": "code",
   "execution_count": 133,
   "metadata": {},
   "outputs": [],
   "source": [
    "home_feats = home[key].reset_index().set_index(key).join(feats).set_index(\"game_id\").sort_index()\n",
    "away_feats = away[key].reset_index().set_index(key).join(feats).set_index(\"game_id\").sort_index()"
   ]
  },
  {
   "cell_type": "code",
   "execution_count": 134,
   "metadata": {},
   "outputs": [],
   "source": [
    "X = home[match_cols].sort_index().join(\n",
    "    home_feats.add_prefix(\"home_\")\n",
    ").join(away_feats.add_prefix(\"away_\")).sort_index()"
   ]
  },
  {
   "cell_type": "code",
   "execution_count": 135,
   "metadata": {},
   "outputs": [
    {
     "data": {
      "text/plain": [
       "array([0.467, 0.502, 0.502])"
      ]
     },
     "execution_count": 135,
     "metadata": {},
     "output_type": "execute_result"
    }
   ],
   "source": [
    "over_spread = np.array([\n",
    "    (home.team_score + home.LineClose > home.opp_score).mean(),\n",
    "    (away.team_score + away.LineClose > away.opp_score).mean(),\n",
    "    (home.opp_score + away.LineClose > home.team_score).mean(),\n",
    "]).round(3)\n",
    "over_spread"
   ]
  },
  {
   "attachments": {},
   "cell_type": "markdown",
   "metadata": {},
   "source": [
    "## Modelling"
   ]
  },
  {
   "attachments": {},
   "cell_type": "markdown",
   "metadata": {},
   "source": [
    "Benter:\n",
    "> The type of model used by the author is the **multinomial logit** model proposed by Bolton and Chapman (1986). This model is well suited to horse racing and has the convenient property that its output is a **set of probability estimates which sum to 1 within each race**."
   ]
  },
  {
   "attachments": {},
   "cell_type": "markdown",
   "metadata": {},
   "source": [
    "There are eight possible bets to make on every game:\n",
    "$$ \\text{Bet on the [money, spread] line for the [home, away] team @ book [open, close]}$$\n",
    "\n",
    "To bet on any of those, we need an estimate of the probability of winning the event. There are several ways to do so. In no particular order, here are some possible models:\n",
    "\n",
    "#### 1. \"Trinomial\" Signed Lines\n",
    "For every \"line\" (money or spread), one of three things can happen: home wins, draw/push, away wins. One can then train such \"trinomial\" response (with a logit as Benter, or any other model that outputs probabilities for each class) for every line available (money, open spread, close spread), using the same set of observations, one for each match.\n",
    "- Pros: very straightforward to implement\n",
    "- Cons: loses information by not differentiating between a big (say, +20) and small (+2) win over the line.\n",
    "\n",
    "#### 2. Parametric Point Scores\n",
    "Instead of directly predicting bet's winning probabilities, we first explicitly model the point scoring distribution for both teams, and then derive a closed-form distribution for the point difference of every game. Maher (1982), Dixon & Coles (1997) do so for soccer games rather convincingly, representing the home and away scores essentially as Poisson RVs.\n",
    "- Pros: allows for explicit mean/variance calculations about the game scores; provides ways of computing money, total and spread line odds.\n",
    "- Cons: No obvious parametric distribution to fit even soccer scores (with +1 point increments), less so for american football.\n",
    "\n",
    "#### 3. Score Difference PMF\n",
    "Having no \"total\" line, the money and spread bets winning probabilities can be found knowing just the score difference distribution, which can be thought of as a discrete RV assuming integer values between `min_diff, max_diff`. Then, the probability of winning a bet with $L$ line, is\n",
    "$$ P(diff > L) = \\sum_{k>L} P(diff=k)$$\n",
    "- Pros: Very few assumptions, any nonparametric classifier which outputs class probabilities would do.\n",
    "- Cons: There are a _lot_ of possible lines. Even a [0.05, 0.95] quantile range is `[-22, 27]` in the dataset, for a total of 50 outcomes to train on just ~1.6K games\n",
    "\n",
    "### 4. Score Difference CDF\n",
    "Instead of finding the full PMF for the score difference $diff$ as in Model #3 ($P(diff=k)$ for every $k$), we could directly estimate the quantities of interest $P(diff > L) = 1 - F(L)$, where $F$ is the cumulative distribution function for $diff$. To that end, for every possible line $L$, we train a binary classifier, on the outcome $diff > L$, with every game available.\n",
    "- Pros: Gives direct probabilities of winning any money/spread bet (money bets == spread bets with +-0 line).\n",
    "- Cons: We need to train 50+ classifiers, one for each \"step\" on the CDF \"ladder\"."
   ]
  },
  {
   "attachments": {},
   "cell_type": "markdown",
   "metadata": {},
   "source": [
    "We'll go for Model #1, not because of any intrinsic merit, but due to a lack of time to explore other alternatives."
   ]
  },
  {
   "cell_type": "code",
   "execution_count": 162,
   "metadata": {},
   "outputs": [
    {
     "data": {
      "text/plain": [
       "count    1599.000000\n",
       "mean        1.821764\n",
       "std        14.354579\n",
       "min       -49.000000\n",
       "5%        -22.000000\n",
       "50%         3.000000\n",
       "95%        27.000000\n",
       "max        52.000000\n",
       "Name: diff_score, dtype: float64"
      ]
     },
     "execution_count": 162,
     "metadata": {},
     "output_type": "execute_result"
    }
   ],
   "source": [
    "home.diff_score.describe(percentiles=[0.05, 0.95])"
   ]
  },
  {
   "cell_type": "code",
   "execution_count": 163,
   "metadata": {},
   "outputs": [
    {
     "data": {
      "text/plain": [
       " 3.0     130\n",
       "-3.0      94\n",
       " 7.0      82\n",
       "-7.0      67\n",
       " 6.0      55\n",
       " 10.0     51\n",
       "-6.0      50\n",
       " 14.0     48\n",
       "Name: diff_score, dtype: int64"
      ]
     },
     "execution_count": 163,
     "metadata": {},
     "output_type": "execute_result"
    }
   ],
   "source": [
    "home.diff_score.value_counts().head(8)"
   ]
  },
  {
   "cell_type": "code",
   "execution_count": 164,
   "metadata": {},
   "outputs": [],
   "source": [
    "# \"Signed\" Responses\n",
    "Y = pd.DataFrame(Bundle(\n",
    "    win=np.sign(home.team_score - home.opp_score),\n",
    "    open_spread=np.sign(home.team_score + home.LineOpen - home.opp_score),\n",
    "    close_spread=np.sign(home.team_score + home.LineClose - home.opp_score),\n",
    "))"
   ]
  },
  {
   "cell_type": "code",
   "execution_count": 169,
   "metadata": {},
   "outputs": [
    {
     "data": {
      "text/plain": [
       "win   open_spread  close_spread\n",
       " 1.0   1.0          1.0            662\n",
       "-1.0  -1.0         -1.0            608\n",
       " 1.0  -1.0         -1.0            159\n",
       "-1.0   1.0          1.0             51\n",
       " 1.0  -1.0          0.0             17\n",
       "-1.0  -1.0          1.0             12\n",
       " 1.0   0.0         -1.0             12\n",
       "-1.0  -1.0          0.0             11\n",
       " 1.0  -1.0          1.0             11\n",
       "       1.0         -1.0             10\n",
       "       0.0          0.0              9\n",
       "       1.0          0.0              7\n",
       "-1.0   1.0         -1.0              6\n",
       "       0.0          0.0              4\n",
       "                    1.0              4\n",
       " 0.0  -1.0         -1.0              4\n",
       " 1.0   0.0          1.0              4\n",
       "-1.0   0.0         -1.0              3\n",
       " 0.0   1.0          1.0              2\n",
       "-1.0   1.0          0.0              2\n",
       " 0.0  -1.0          1.0              1\n",
       "dtype: int64"
      ]
     },
     "execution_count": 169,
     "metadata": {},
     "output_type": "execute_result"
    }
   ],
   "source": [
    "Y.value_counts()"
   ]
  },
  {
   "cell_type": "code",
   "execution_count": null,
   "metadata": {},
   "outputs": [],
   "source": [
    "Y = pd.DataFrame(\n",
    "    {\n",
    "        \"sideome_win\": home.team_score > home.opp_score,\n",
    "        \"away_win\": away.team_score > away.opp_score,\n",
    "        \"draw\": home.team_score == home.opp_score,\n",
    "        \"home_osp\": home.team_score + home.LineOpen > home.opp_score, \n",
    "        \"away_osp\": away.team_score + away.LineOpen > away.opp_score, \n",
    "        \"pusho\": home.team_score + home.LineOpen == home.opp_score,\n",
    "        \"home_csp\": home.team_score + home.LineClose > home.opp_score, \n",
    "        \"away_csp\": away.team_score + away.LineClose > away.opp_score,\n",
    "        \"pushc\": home.team_score + home.LineClose == home.opp_score,\n",
    "    }\n",
    "    # \"home_lo_win\": home.team_score - home.opp_score > home.Line,\n",
    ")"
   ]
  },
  {
   "cell_type": "code",
   "execution_count": null,
   "metadata": {},
   "outputs": [],
   "source": [
    "X.shape, Y.shape"
   ]
  },
  {
   "cell_type": "code",
   "execution_count": null,
   "metadata": {},
   "outputs": [],
   "source": [
    "first_season = data.season.min()\n",
    "starting_elo = data[(data.season == first_season) & (data.week == 1)][[\"Team\", \"elo\"]].set_index(\"Team\").elo\n",
    "team_rank = starting_elo.rank().astype(int)"
   ]
  },
  {
   "cell_type": "code",
   "execution_count": null,
   "metadata": {},
   "outputs": [],
   "source": [
    "X[\"team_rank\"] = team_rank[X.Team].values\n",
    "X[\"opp_rank\"] = team_rank[X.Opponent].values\n",
    "# X[\"diff\"] = home.team_score - home.opp_score"
   ]
  },
  {
   "cell_type": "code",
   "execution_count": null,
   "metadata": {},
   "outputs": [],
   "source": [
    "X = X.drop(columns=[\"Team\", \"Opponent\", \"date\"])\n"
   ]
  },
  {
   "cell_type": "code",
   "execution_count": null,
   "metadata": {},
   "outputs": [],
   "source": [
    "assert (\n",
    "    S.home_win + S.away_win + S.draw\n",
    "    == S.home_osp + S.away_osp + S.pusho\n",
    "    == S.home_csp + S.away_csp + S.pushc\n",
    "    == len(data) / 2\n",
    ")"
   ]
  },
  {
   "attachments": {},
   "cell_type": "markdown",
   "metadata": {},
   "source": [
    "### Model training"
   ]
  },
  {
   "cell_type": "code",
   "execution_count": null,
   "metadata": {},
   "outputs": [],
   "source": [
    "import lightgbm as lgb\n",
    "import pandas as pd\n",
    "import numpy as np\n",
    "from sklearn.model_selection import train_test_split\n",
    "from sklearn.metrics import accuracy_score\n",
    "\n",
    "# Load the historical match data for the team\n",
    "# Split the data into training and testing sets\n",
    "(\n",
    "    X_train,\n",
    "    X_test,\n",
    "    win_train,\n",
    "    win_test,\n",
    "    open_spread_train,\n",
    "    open_spread_test,\n",
    "    close_spread_train,\n",
    "    close_spread_test,\n",
    ") = train_test_split(X, win, close_spread, close_spread, test_size=0.2, random_state=42)"
   ]
  },
  {
   "cell_type": "code",
   "execution_count": null,
   "metadata": {},
   "outputs": [],
   "source": [
    "from skopt import BayesSearchCV\n",
    "from skopt.space import Real, Integer\n",
    "\n",
    "# Define the search space for the hyperparameters\n",
    "search_space = {\n",
    "    \"num_leaves\": Integer(2, 10),\n",
    "    \"learning_rate\": Real(0.01, 0.25),\n",
    "    \"feature_fraction\": Real(0.5, 1.0),\n",
    "    \"num_iterations\": Integer(50, 500),\n",
    "    \"lambda_l1\": Real(0, 10),\n",
    "    \"lambda_l2\": Real(0, 10),\n",
    "}\n",
    "\n",
    "# Define the LightGBM parameters\n",
    "params = {\n",
    "    \"objective\": \"multiclass\",\n",
    "    \"num_class\": 3,\n",
    "    \"metric\": \"multi_logloss\",\n",
    "    \"boosting_type\": \"gbdt\",\n",
    "}\n",
    "\n",
    "# Define the BayesSearchCV object for each model\n",
    "search_params = Bundle(\n",
    "    estimator=lgb.LGBMClassifier(**params),\n",
    "    search_spaces=search_space,\n",
    "    n_iter=10,\n",
    "    cv=3,\n",
    "    n_jobs=-1,\n",
    "    scoring=\"neg_log_loss\",  # \"accuracy\": pros and cons\n",
    "    random_state=42,\n",
    ")\n"
   ]
  },
  {
   "cell_type": "code",
   "execution_count": null,
   "metadata": {},
   "outputs": [],
   "source": [
    "ys = [\"win\", \"open_spread\", \"close_spread\"]\n",
    "models = Bundle({y: BayesSearchCV(**search_params) for y in ys})\n",
    "models.win.fit(X_train, win_train)\n",
    "models.open_spread.fit(X_train, open_spread_train)\n",
    "models.close_spread.fit(X_train, close_spread_train)"
   ]
  },
  {
   "cell_type": "code",
   "execution_count": null,
   "metadata": {},
   "outputs": [],
   "source": [
    "estimators = Bundle(\n",
    "    win=models.win.best_estimator_.fit(X_train, win_train),\n",
    "    open_spread=models.open_spread.best_estimator_.fit(X_train, open_spread_train),\n",
    "    close_spread=models.close_spread.best_estimator_.fit(X_train, close_spread_train),\n",
    ")"
   ]
  },
  {
   "cell_type": "code",
   "execution_count": null,
   "metadata": {},
   "outputs": [],
   "source": [
    "preds = Bundle({res: est.predict(X_test) for res, est in estimators.items()})\n",
    "probas = Bundle({res: est.predict_proba(X_test) for res, est in estimators.items()})\n",
    "\n",
    "accuracies = Bundle(\n",
    "    win=accuracy_score(win_test, win_pred),\n",
    "    open_spread=accuracy_score(open_spread_test, open_spread_pred),\n",
    "    close_spread=accuracy_score(close_spread_test, close_spread_pred),\n",
    ")"
   ]
  },
  {
   "cell_type": "code",
   "execution_count": null,
   "metadata": {},
   "outputs": [],
   "source": [
    "fis = Bundle(\n",
    "    {\n",
    "        name: pd.Series(est.feature_importances_, est.feature_name_).sort_values(\n",
    "            ascending=False\n",
    "        )\n",
    "        for name, est in estimators.items()\n",
    "    }\n",
    ")"
   ]
  },
  {
   "cell_type": "code",
   "execution_count": null,
   "metadata": {},
   "outputs": [],
   "source": [
    "plt.barh(fis.win[:20].index, fis.win[:20].values)"
   ]
  },
  {
   "cell_type": "code",
   "execution_count": null,
   "metadata": {},
   "outputs": [],
   "source": [
    "plt.barh(fis.open_spread[:20].index, fis.open_spread[:20].values)"
   ]
  },
  {
   "cell_type": "code",
   "execution_count": null,
   "metadata": {},
   "outputs": [],
   "source": [
    "dividends = X_test[[c for c in X.columns if \"Odds\" in c]]"
   ]
  },
  {
   "cell_type": "code",
   "execution_count": null,
   "metadata": {},
   "outputs": [],
   "source": [
    "dividends.head()"
   ]
  },
  {
   "cell_type": "code",
   "execution_count": null,
   "metadata": {},
   "outputs": [],
   "source": [
    "probs = pd.DataFrame().reindex_like(dividends)"
   ]
  },
  {
   "cell_type": "code",
   "execution_count": null,
   "metadata": {},
   "outputs": [],
   "source": [
    "probs.home_OddsOpen = probs.home_OddsClose = probas.win[:, 0]\n",
    "probs.away_OddsOpen = probs.away_OddsClose = probas.win[:, 2]  # col 1 is sign 0 or draw\n",
    "probs.home_LineOddsOpen = probas.open_spread[:, 0]\n",
    "probs.away_LineOddsOpen = probas.open_spread[:, 2]\n",
    "probs.home_LineOddsClose = probas.close_spread[:, 0]\n",
    "probs.away_LineOddsClose = probas.close_spread[:, 2]\n",
    "\n",
    "probs.head().T.round(3)\n",
    "\n"
   ]
  },
  {
   "cell_type": "code",
   "execution_count": null,
   "metadata": {},
   "outputs": [],
   "source": [
    "((probs * dividends) - 1).round(3).head(10).T"
   ]
  },
  {
   "cell_type": "code",
   "execution_count": null,
   "metadata": {},
   "outputs": [],
   "source": [
    "scorecard = pd.DataFrame().reindex_like(dividends)\n"
   ]
  },
  {
   "cell_type": "code",
   "execution_count": null,
   "metadata": {},
   "outputs": [],
   "source": [
    "scorecard.home_OddsOpen = scorecard.home_OddsClose = win[X_test.index] == 1\n",
    "scorecard.away_OddsOpen = scorecard.away_OddsClose = win[X_test.index] == -1\n",
    "scorecard.home_LineOddsOpen = open_spread[X_test.index] == 1\n",
    "scorecard.away_LineOddsOpen = open_spread[X_test.index] == -1\n",
    "scorecard.home_LineOddsClose = close_spread[X_test.index] == 1\n",
    "scorecard.away_LineOddsClose = close_spread[X_test.index] == -1\n",
    "\n",
    "scorecard.head(10).T"
   ]
  },
  {
   "cell_type": "code",
   "execution_count": null,
   "metadata": {},
   "outputs": [],
   "source": [
    "eps = 0.01\n",
    "bets = ((probs * dividends - 1) > eps).astype(int)\n",
    "bets.head(10).T"
   ]
  },
  {
   "cell_type": "code",
   "execution_count": null,
   "metadata": {},
   "outputs": [],
   "source": [
    "bets.values.sum()"
   ]
  },
  {
   "cell_type": "code",
   "execution_count": null,
   "metadata": {},
   "outputs": [],
   "source": [
    "returns = (bets * dividends)[scorecard].fillna(0)"
   ]
  },
  {
   "cell_type": "code",
   "execution_count": null,
   "metadata": {},
   "outputs": [],
   "source": [
    "rr = returns.T.reset_index(names=\"wager\")\n",
    "rr.groupby(rr.wager.str.contains(\"Open\")).sum().sum(axis=1)"
   ]
  },
  {
   "cell_type": "code",
   "execution_count": null,
   "metadata": {},
   "outputs": [],
   "source": [
    "pd.DataFrame(Bundle(bet_won=scorecard[bets == 1].mean(), pred_prob=probs[bets == 1].mean())).round(3)"
   ]
  },
  {
   "cell_type": "code",
   "execution_count": null,
   "metadata": {},
   "outputs": [],
   "source": [
    "pd.DataFrame(Bundle(bet_won=scorecard[bets == 0].mean(), pred_prob=probs[bets == 0].mean())).round(3)"
   ]
  },
  {
   "cell_type": "code",
   "execution_count": null,
   "metadata": {},
   "outputs": [],
   "source": [
    "import pandas as pd\n",
    "\n",
    "identical_pairs = []\n",
    "# Get every possible pair of column names from `data` using the `combinations` function\n",
    "from itertools import combinations\n",
    "pairs = combinations(X.columns, 2)\n",
    "\n",
    "numeric_cols = X.select_dtypes(include=['number']).columns.tolist()\n",
    "print(numeric_cols)\n",
    "for col1, col2 in pairs:\n",
    "    if col1 in numeric_cols and col2 in numeric_cols:\n",
    "        if np.allclose(X[col1], X[col2]):\n",
    "            identical_pairs.append((col1, col2, \"num\"))\n",
    "        elif np.allclose(X[col1], -X[col2]):\n",
    "            identical_pairs.append((col1, col2, \"-num\"))\n",
    "    else:\n",
    "        if X[col1].equals(X[col2]):\n",
    "            identical_pairs.append((col1, col2, \"obj\"))\n",
    "\n",
    "# Print the identical pairs of columns\n",
    "print(*identical_pairs, sep=\"\\n\")"
   ]
  },
  {
   "cell_type": "code",
   "execution_count": null,
   "metadata": {},
   "outputs": [],
   "source": [
    "X.filter(like=\"score\").T.round(2)"
   ]
  },
  {
   "cell_type": "code",
   "execution_count": null,
   "metadata": {},
   "outputs": [],
   "source": [
    "import seaborn as sns\n",
    "sns.regplot(x=home.LineClose, y=-home.diff_score)"
   ]
  },
  {
   "cell_type": "code",
   "execution_count": null,
   "metadata": {},
   "outputs": [],
   "source": [
    "(home.diff_score == -home.LineClose).mean()"
   ]
  },
  {
   "cell_type": "code",
   "execution_count": null,
   "metadata": {},
   "outputs": [],
   "source": [
    "data[\n",
    "    [\"take\"]\n",
    "    + [(x + y) for x in [\"Odds\", \"Line\", \"LineOdds\"] for y in [\"Open\", \"Close\"]]\n",
    "].describe(percentiles=[0.01, 0.05, 0.95, 0.99]).round(2)"
   ]
  },
  {
   "attachments": {},
   "cell_type": "markdown",
   "metadata": {},
   "source": [
    "## Bet sizing"
   ]
  },
  {
   "cell_type": "code",
   "execution_count": null,
   "metadata": {},
   "outputs": [],
   "source": [
    "c = 0.06  # p hat\n",
    "div = 20  # odds/dividend\n",
    "er = c * div # expected return\n",
    "ev = adv = er - 1  # advantage/expected value\n",
    "pool = 100_000\n",
    "vig = 0.0\n",
    "wealth = pool / 2"
   ]
  },
  {
   "cell_type": "code",
   "execution_count": null,
   "metadata": {},
   "outputs": [],
   "source": [
    "benter_bet = 416"
   ]
  },
  {
   "cell_type": "code",
   "execution_count": null,
   "metadata": {},
   "outputs": [],
   "source": [
    "def breakeven_bet(pool, c, div, vig=0.0):\n",
    "    return pool * (1 / (c * div) + vig - 1) / (1 - vig - 1/c)"
   ]
  },
  {
   "cell_type": "code",
   "execution_count": null,
   "metadata": {},
   "outputs": [],
   "source": [
    "max_bet = breakeven_bet(pool, c, div, vig)\n",
    "max_bet"
   ]
  },
  {
   "cell_type": "code",
   "execution_count": null,
   "metadata": {},
   "outputs": [],
   "source": [
    "def expected_profit(bet, c, div, pool, vig):\n",
    "    div_pre = div\n",
    "    div_post = (pool + bet) * (1 - vig) / (pool / div_pre + bet)\n",
    "    return (c * div_post - 1) * bet"
   ]
  },
  {
   "cell_type": "code",
   "execution_count": null,
   "metadata": {},
   "outputs": [],
   "source": [
    "assert expected_profit(max_bet, c, div, pool, vig) == 0"
   ]
  },
  {
   "cell_type": "code",
   "execution_count": null,
   "metadata": {},
   "outputs": [],
   "source": [
    "# Maximize expected profit with respect to `bet`, for c=0.06 and div0=20\n",
    "from scipy.optimize import minimize_scalar\n",
    "bounds = (0, max_bet)\n",
    "res = minimize_scalar(lambda bet: -expected_profit(bet, c, div, pool, vig), bounds=bounds)\n",
    "bet_opt, exp_profit = res.x, -res.fun\n",
    "bounds, bet_opt, exp_profit, res"
   ]
  },
  {
   "cell_type": "code",
   "execution_count": null,
   "metadata": {},
   "outputs": [],
   "source": [
    "bets = np.linspace(*bounds, 100)\n",
    "ep = [expected_profit(b, c, div, pool, vig) for b in bets]"
   ]
  },
  {
   "cell_type": "code",
   "execution_count": null,
   "metadata": {},
   "outputs": [],
   "source": [
    "expected_profit(bet_opt, c, div, pool, vig), exp_profit"
   ]
  },
  {
   "cell_type": "code",
   "execution_count": null,
   "metadata": {},
   "outputs": [],
   "source": [
    "plt.plot(bets, ep)\n",
    "# Draw a vertical line at `bet_opt`, with grey dashes\n",
    "plt.axvline(bet_opt, color='grey', linestyle='--')\n",
    "plt.axhline(exp_profit, color='grey', linestyle='--')\n",
    "# Draw a vertical line at `benter_bet`, and a horizontal line at `expected_profit(benter_bet)`, both in orange and dashed\n",
    "plt.axvline(benter_bet, color='orange', linestyle='--')\n",
    "plt.axhline(expected_profit(benter_bet, c, div, pool, vig), color='orange', linestyle='--')"
   ]
  },
  {
   "cell_type": "code",
   "execution_count": null,
   "metadata": {},
   "outputs": [],
   "source": [
    "# https://en.wikipedia.org/wiki/Kelly_criterion\n",
    "kelly_bet = (c * div - 1) / (div - 1)  # adv / net_div\n",
    "kelly_bet * wealth"
   ]
  },
  {
   "cell_type": "code",
   "execution_count": null,
   "metadata": {},
   "outputs": [],
   "source": [
    "pd.Series(Bundle(\n",
    "    benter=expected_profit(benter_bet, c, div, pool, vig),\n",
    "    kelly=expected_profit(kelly_bet * wealth, c, div, pool, vig),\n",
    "    kelly_third=expected_profit(2/3 * kelly_bet * wealth, c, div, pool, vig),\n",
    "    ep_max=expected_profit(bet_opt, c, div, pool, vig),\n",
    ")).round(2).sort_values(ascending=False)"
   ]
  },
  {
   "cell_type": "code",
   "execution_count": null,
   "metadata": {},
   "outputs": [],
   "source": [
    "wiki_kelly = c - (1 - c) / (div -1)"
   ]
  },
  {
   "cell_type": "code",
   "execution_count": null,
   "metadata": {},
   "outputs": [],
   "source": [
    "wiki_kelly, kelly_bet"
   ]
  },
  {
   "cell_type": "code",
   "execution_count": null,
   "metadata": {},
   "outputs": [],
   "source": [
    "expected_profit(kelly_bet * wealth, c, div, pool, vig)"
   ]
  },
  {
   "attachments": {},
   "cell_type": "markdown",
   "metadata": {},
   "source": [
    "### Per-game betting"
   ]
  },
  {
   "cell_type": "code",
   "execution_count": null,
   "metadata": {},
   "outputs": [],
   "source": [
    "home[[\"Team\", \"Opponent\", \"date\", \"ts\"]].reset_index().plot(\"game_id\", \"date\", kind=\"scatter\")"
   ]
  },
  {
   "cell_type": "code",
   "execution_count": null,
   "metadata": {},
   "outputs": [],
   "source": [
    "(home.date.sort_index().index.values, home.date.sort_values().index.values)"
   ]
  },
  {
   "cell_type": "code",
   "execution_count": null,
   "metadata": {},
   "outputs": [],
   "source": [
    "# Add <1s to date timestamp in order to break ties\n",
    "ts_ = home.ts + home.index.values / 1e6\n",
    "# Make sure now the games sorted by ID match the games sorted by tie-broken timestamps\n",
    "assert np.all(home.sort_index().index.values == ts_.sort_values().index.values)\n"
   ]
  },
  {
   "cell_type": "code",
   "execution_count": null,
   "metadata": {},
   "outputs": [],
   "source": [
    "home.reset_index().groupby([\"season\"])[[\"date\", \"game_id\"]].agg([\"min\", \"max\"])"
   ]
  },
  {
   "attachments": {},
   "cell_type": "markdown",
   "metadata": {},
   "source": [
    "#### Handicaps & Spreads\n",
    "\n",
    "> You can bet on NFL games through three main bet types: the moneyline, total points, and handicap (spread) markets.\n",
    "> The moneyline market is a straightforward bet on the winner of the game.\n",
    "> The points total market is betting whether the game will go over or under a certain amount of points.\n",
    "> The handicap market is where one side is given a point advantage so that both teams are close to even money, and this is where the big action on NFL betting is.\n",
    "Source: https://insights.matchbook.com/betting-strategy/how-to-bet-on-the-nfl/\n",
    "\n",
    "- `OddsOpen, OddsClose` have no other qualifier, so I'm guessing these are the \"moneyline odds\".\n",
    "- `LineOpen, LineClose` have both positive and negative values, and the away's LineX is always exactly negative the home's LineX, so we'll assume this is the spread line and beta ccordingly. A Line bet, then, is won when `team_score + line >= opp_score`.\n",
    "\n",
    "\n",
    "#### Betting sequence\n",
    "- `game_ids` are monotonically increasing with the game date, so we'll assume we can bet sequentially on every game of the test set, ordered by game_id.\n",
    "\n",
    "\n",
    "#### Bet sizing\n",
    "- This is a terminating (finite amount of bets) game, so Kelly doesn't apply directly. To maximise EV(log(wealth)), in each bet we should bet our entire fortune on the highest +EV bet, if there's any. This is very silly, so we'll treat it as a nonterminating game and bet using Kelly.\n",
    "\n",
    "- For every game, there are eight possible bets: [home, away] * [money, spread] * [open, close]. Since they need to be made simultaneously _and are correlated_, the \"(fractional) Kelly\" criterion is not immediately suitable. Given that Benter goes for \"1/2 - 1/3\" fractional Kelly, we'll go for an \"sum-fractional Kelly\", in which if there are `K` bets on a given game with +EV, we bet $1/(2K)\\ to\\ 1/(3K)$ on each one. Heuristic AF, but reasonable.\n",
    "- To avoid (heuristically) 0-EV bets, we'll actually bet only on bets with $EV>\\epsilon$, and set `eps=0.01`.\n",
    "- Also, the form of Kelly betting which is usually known (eq. 5 in Benter) ignores any effect of bet on payoff odds. This might be true for NFL games with huge pots and individual bettors, but not for an organization in parimutuel betting markets, so we'll assume a pot size of `pool` dollars and calculate a profit-maximizing bet accordingly, as Benter. (NOTE: Why the diff wth benter's???)\n",
    "\n",
    "So, given parameters:\n",
    "- `wealth`\n",
    "- `pool`\n",
    "- `c`\n",
    "- `div0`: the dividend (or `Odds`) _right before betting_\n",
    "- `take`\n",
    "- `kelly_frac`\n",
    "\n",
    "Our bet will be\n",
    "`min(ep_max_bet, kelly_bet)`\n",
    "where\n",
    "`kelly_bet := kelly_frac * adv / (div - 1) * wealth`\n",
    "and \n",
    "`ep_max_bet := argmax{bet} expected_profit(bet, pool, c, div0, take)`\n",
    "and the expected profit is `bet * (c * div1 - 1)`, where `div1` are the new odds, after accounting for the bet made.\n",
    "\n",
    "https://www.forbes.com/betting/sports-betting/what-does-point-spread-mean/\n",
    "What Does a Negative Spread Mean?\n",
    "\n",
    "In the simplest terms, a negative spread indicates the favorite, which is the side that’s expected to win the matchup.\n"
   ]
  },
  {
   "cell_type": "code",
   "execution_count": null,
   "metadata": {},
   "outputs": [],
   "source": [
    "def breakeven_bet(pool, c, div, vig=0.0):\n",
    "    return pool * (1 / (c * div) + vig - 1) / (1 - vig - 1/c)\n",
    "\n",
    "\n",
    "def expected_profit(bet, c, div, pool, vig):\n",
    "    div_pre = div\n",
    "    div_post = (pool + bet) * (1 - vig) / (pool / div_pre + bet)\n",
    "    return (c * div_post - 1) * bet\n",
    "\n",
    "def kelly_wealth_frac(c, div):\n",
    "    # https://en.wikipedia.org/wiki/Kelly_criterion\n",
    "    return (c * div - 1) / (div - 1)"
   ]
  },
  {
   "cell_type": "code",
   "execution_count": null,
   "metadata": {},
   "outputs": [],
   "source": [
    "INITIAL_WEALTH = 1e6\n",
    "EPS = 0.01  # epsilon\n",
    "KELLY_RATIO = 1/2\n",
    "POOL = 1e6\n",
    "DEFAULT_TAKE = 0.05"
   ]
  },
  {
   "cell_type": "code",
   "execution_count": null,
   "metadata": {},
   "outputs": [],
   "source": [
    "idx = 0\n",
    "summary = pd.DataFrame(Bundle(\n",
    "    divs=dividends.iloc[idx],\n",
    "    probs=probs.iloc[idx],\n",
    "))\n",
    "summary[\"exp_ret\"] = summary.divs * summary.probs\n",
    "summary[\"place_bet\"] = summary.exp_ret > (1 + eps)\n",
    "placed_bets = summary.place_bet.sum()\n",
    "placed_bets"
   ]
  },
  {
   "cell_type": "code",
   "execution_count": null,
   "metadata": {},
   "outputs": [],
   "source": [
    "summary"
   ]
  },
  {
   "cell_type": "code",
   "execution_count": null,
   "metadata": {},
   "outputs": [],
   "source": [
    "summary[\"kwf\"] = np.vectorize(kelly_wealth_frac)(summary.probs, summary.divs)"
   ]
  },
  {
   "cell_type": "code",
   "execution_count": null,
   "metadata": {},
   "outputs": [],
   "source": [
    "summary"
   ]
  },
  {
   "cell_type": "code",
   "execution_count": null,
   "metadata": {},
   "outputs": [],
   "source": [
    "summary[\"kelly_bet\"] = summary.kwf * wealth * kelly_ratio / placed_bets\n",
    "summary[\"breakeven_bet\"] = np.vectorize(breakeven_bet)(POOL, summary.probs, summary.divs, DEFAULT_TAKE)"
   ]
  },
  {
   "cell_type": "code",
   "execution_count": null,
   "metadata": {},
   "outputs": [],
   "source": [
    "summary"
   ]
  },
  {
   "cell_type": "code",
   "execution_count": null,
   "metadata": {},
   "outputs": [],
   "source": [
    "# Maximize expected profit with respect to `bet`, for c=0.06 and div0=20\n",
    "from scipy.optimize import minimize_scalar\n",
    "def epmax_bet(c, div, pool, vig, return_res=False):\n",
    "    max_bet = breakeven_bet(pool, c, div, vig)\n",
    "    if max_bet < 0:\n",
    "        return None if return_res else np.nan, np.nan\n",
    "    bounds = (0, max_bet)\n",
    "    res = minimize_scalar(lambda bet: -expected_profit(bet, c, div, pool, vig), bounds=bounds)\n",
    "    bet_opt, exp_profit = res.x, -res.fun\n",
    "    return res if return_res else bet_opt, exp_profit"
   ]
  },
  {
   "cell_type": "code",
   "execution_count": null,
   "metadata": {},
   "outputs": [],
   "source": [
    "np.vectorize(epmax_bet)(summary.probs, summary.divs, POOL, DEFAULT_TAKE)"
   ]
  },
  {
   "cell_type": "code",
   "execution_count": null,
   "metadata": {},
   "outputs": [],
   "source": [
    "summary[\"epmax_bet\"], summary[\"max_ep\"] = np.where(\n",
    "    summary.place_bet,\n",
    "    np.vectorize(epmax_bet)(summary.probs, summary.divs, POOL, DEFAULT_TAKE),\n",
    "    np.nan,\n",
    ")"
   ]
  },
  {
   "cell_type": "code",
   "execution_count": null,
   "metadata": {},
   "outputs": [],
   "source": [
    "summary[\"final_bet\"] = np.minimum(summary.epmax_bet, summary.kelly_bet).fillna(0)"
   ]
  },
  {
   "cell_type": "code",
   "execution_count": null,
   "metadata": {},
   "outputs": [],
   "source": [
    "summary[\"score\"] = scorecard.iloc[idx]\n",
    "summary[\"revenue\"] = np.where(summary.score, summary.divs * summary.final_bet, -summary.final_bet)\n",
    "\n",
    "wealth = INITIAL_WEALTH"
   ]
  },
  {
   "cell_type": "code",
   "execution_count": null,
   "metadata": {},
   "outputs": [],
   "source": [
    "INITIAL_WEALTH"
   ]
  },
  {
   "cell_type": "code",
   "execution_count": null,
   "metadata": {},
   "outputs": [],
   "source": []
  },
  {
   "cell_type": "code",
   "execution_count": null,
   "metadata": {},
   "outputs": [],
   "source": [
    "INITIAL_WEALTH = 1e5\n",
    "EPS = 0.01  # epsilon\n",
    "KELLY_RATIO = 1/2\n",
    "POOL = 1e6\n",
    "DEFAULT_TAKE = 0.05\n",
    "wealth = INITIAL_WEALTH\n",
    "wealth_log = [wealth]\n",
    "for game_id, divs in dividends.sort_index().head(200).iterrows():\n",
    "    summary = pd.DataFrame(Bundle(\n",
    "        divs=divs,\n",
    "        probs=probs.loc[game_id],\n",
    "        score=scorecard.loc[game_id],\n",
    "    ))\n",
    "    summary[\"exp_ret\"] = summary.divs * summary.probs\n",
    "    summary[\"place_bet\"] = summary.exp_ret > (1 + eps)\n",
    "    placed_bets = summary.place_bet.sum()\n",
    "    summary[\"kwf\"] = np.vectorize(kelly_wealth_frac)(summary.probs, summary.divs)\n",
    "    summary[\"kelly_bet\"] = summary.kwf * wealth * kelly_ratio / placed_bets\n",
    "    summary[\"breakeven_bet\"] = np.vectorize(breakeven_bet)(POOL, summary.probs, summary.divs, DEFAULT_TAKE)\n",
    "    summary[\"epmax_bet\"], summary[\"max_ep\"] = np.where(\n",
    "        summary.place_bet,\n",
    "        np.vectorize(epmax_bet)(summary.probs, summary.divs, POOL, DEFAULT_TAKE),\n",
    "        np.nan,\n",
    "    )\n",
    "    summary[\"final_bet\"] = np.minimum(summary.epmax_bet, summary.kelly_bet).fillna(0)\n",
    "    wealth -= summary.final_bet.sum()\n",
    "    summary[\"revenue\"] = np.where(summary.score, summary.divs * summary.final_bet, 0)\n",
    "    # print(summary.round(2))\n",
    "    wealth += summary.revenue.sum()\n",
    "    wealth_log.append(wealth)\n",
    "    print(f\"{game_id}: {wealth:.2f}\")\n"
   ]
  },
  {
   "cell_type": "code",
   "execution_count": null,
   "metadata": {},
   "outputs": [],
   "source": [
    "plt.plot(wealth_log)\n",
    "plt.yscale(\"log\")\n",
    "plt.show()"
   ]
  },
  {
   "cell_type": "code",
   "execution_count": null,
   "metadata": {},
   "outputs": [],
   "source": [
    "INITIAL_WEALTH = 1e5\n",
    "EPS = 0.01  # epsilon\n",
    "KELLY_RATIO = 1/2\n",
    "POOL = 1e6\n",
    "DEFAULT_TAKE = 0.05\n",
    "wealth = INITIAL_WEALTH\n",
    "wealth_log = [wealth]\n",
    "for game_id, divs in dividends.sort_index().head(200).iterrows():\n",
    "    summary = pd.DataFrame(Bundle(\n",
    "        divs=divs,\n",
    "        probs=probs.loc[game_id],\n",
    "        score=scorecard.loc[game_id],\n",
    "    ))\n",
    "    summary[\"exp_ret\"] = summary.divs * summary.probs\n",
    "    summary[\"place_bet\"] = summary.score\n",
    "    placed_bets = summary.place_bet.sum()\n",
    "    summary[\"kwf\"] = np.vectorize(kelly_wealth_frac)(summary.probs, summary.divs)\n",
    "    summary[\"kelly_bet\"] = summary.kwf * wealth * kelly_ratio / placed_bets\n",
    "    summary[\"breakeven_bet\"] = np.vectorize(breakeven_bet)(POOL, summary.probs, summary.divs, DEFAULT_TAKE)\n",
    "    summary[\"epmax_bet\"], summary[\"max_ep\"] = np.where(\n",
    "        summary.place_bet,\n",
    "        np.vectorize(epmax_bet)(summary.probs, summary.divs, POOL, DEFAULT_TAKE),\n",
    "        np.nan,\n",
    "    )\n",
    "    summary[\"final_bet\"] = np.where(summary.score, 0.01 * wealth, 0)\n",
    "    wealth -= summary.final_bet.sum()\n",
    "    summary[\"revenue\"] = np.where(summary.score, summary.divs * summary.final_bet, 0)\n",
    "    # print(summary.round(2))\n",
    "    wealth += summary.revenue.sum()\n",
    "    wealth_log.append(wealth)\n",
    "    print(f\"{game_id}: {wealth:.2f}\")\n"
   ]
  },
  {
   "cell_type": "code",
   "execution_count": null,
   "metadata": {},
   "outputs": [],
   "source": [
    "plt.plot(wealth_log)\n",
    "plt.yscale(\"log\")\n",
    "plt.show()"
   ]
  },
  {
   "cell_type": "code",
   "execution_count": null,
   "metadata": {},
   "outputs": [],
   "source": [
    "INITIAL_WEALTH = 1e5\n",
    "EPS = 0.01  # epsilon\n",
    "KELLY_RATIO = 1/2\n",
    "POOL = 1e6\n",
    "DEFAULT_TAKE = 0.05\n",
    "wealth = INITIAL_WEALTH\n",
    "wealth_log = [wealth]\n",
    "for game_id, divs in dividends.sort_index().head(200).iterrows():\n",
    "    summary = pd.DataFrame(Bundle(\n",
    "        divs=divs,\n",
    "        probs=probs.loc[game_id],\n",
    "        score=scorecard.loc[game_id],\n",
    "    ))\n",
    "    summary[\"exp_ret\"] = summary.divs * summary.probs\n",
    "    summary[\"place_bet\"] = summary.score\n",
    "    placed_bets = summary.place_bet.sum()\n",
    "    summary[\"kwf\"] = np.vectorize(kelly_wealth_frac)(summary.probs, summary.divs)\n",
    "    summary[\"kelly_bet\"] = summary.kwf * wealth * kelly_ratio / placed_bets\n",
    "    summary[\"breakeven_bet\"] = np.vectorize(breakeven_bet)(POOL, summary.probs, summary.divs, DEFAULT_TAKE)\n",
    "    summary[\"epmax_bet\"], summary[\"max_ep\"] = np.where(\n",
    "        summary.place_bet,\n",
    "        np.vectorize(epmax_bet)(summary.probs, summary.divs, POOL, DEFAULT_TAKE),\n",
    "        np.nan,\n",
    "    )\n",
    "    summary[\"final_bet\"] = 0.01 * wealth\n",
    "    wealth -= summary.final_bet.sum()\n",
    "    summary[\"revenue\"] = np.where(summary.score, summary.divs * summary.final_bet, 0)\n",
    "    # print(summary.round(2))\n",
    "    wealth += summary.revenue.sum()\n",
    "    wealth_log.append(wealth)\n",
    "    print(f\"{game_id}: {wealth:.2f}\")\n"
   ]
  },
  {
   "cell_type": "code",
   "execution_count": null,
   "metadata": {},
   "outputs": [],
   "source": [
    "plt.plot(wealth_log)\n",
    "plt.yscale(\"log\")\n",
    "plt.show()"
   ]
  },
  {
   "cell_type": "code",
   "execution_count": null,
   "metadata": {},
   "outputs": [],
   "source": [
    "INITIAL_WEALTH = 1e5\n",
    "EPS = 0.01  # epsilon\n",
    "KELLY_RATIO = 1/2\n",
    "POOL = 1e6\n",
    "DEFAULT_TAKE = 0.05\n",
    "wealth = INITIAL_WEALTH\n",
    "wealth_log = [wealth]\n",
    "for game_id, divs in dividends.sort_index().head(200).iterrows():\n",
    "    summary = pd.DataFrame(Bundle(\n",
    "        divs=divs,\n",
    "        probs=probs.loc[game_id],\n",
    "        score=scorecard.loc[game_id],\n",
    "    ))\n",
    "    summary[\"exp_ret\"] = summary.divs * summary.probs\n",
    "    summary[\"place_bet\"] = summary.score\n",
    "    placed_bets = summary.place_bet.sum()\n",
    "    summary[\"kwf\"] = np.vectorize(kelly_wealth_frac)(summary.probs, summary.divs)\n",
    "    summary[\"kelly_bet\"] = summary.kwf * wealth * kelly_ratio / placed_bets\n",
    "    summary[\"breakeven_bet\"] = np.vectorize(breakeven_bet)(POOL, summary.probs, summary.divs, DEFAULT_TAKE)\n",
    "    summary[\"epmax_bet\"], summary[\"max_ep\"] = np.where(\n",
    "        summary.place_bet,\n",
    "        np.vectorize(epmax_bet)(summary.probs, summary.divs, POOL, DEFAULT_TAKE),\n",
    "        np.nan,\n",
    "    )\n",
    "    summary[\"final_bet\"] = np.where(summary.divs < 2, 0.01 * wealth, 0)\n",
    "    wealth -= summary.final_bet.sum()\n",
    "    summary[\"revenue\"] = np.where(summary.score, summary.divs * summary.final_bet, 0)\n",
    "    # print(summary.round(2))\n",
    "    wealth += summary.revenue.sum()\n",
    "    wealth_log.append(wealth)\n",
    "    print(f\"{game_id}: {wealth:.2f}\")\n"
   ]
  },
  {
   "cell_type": "code",
   "execution_count": null,
   "metadata": {},
   "outputs": [],
   "source": [
    "plt.plot(wealth_log)\n",
    "plt.yscale(\"log\")\n",
    "plt.show()"
   ]
  },
  {
   "cell_type": "code",
   "execution_count": null,
   "metadata": {},
   "outputs": [],
   "source": [
    "INITIAL_WEALTH = 1e5\n",
    "EPS = 0.01  # epsilon\n",
    "KELLY_RATIO = 1/2\n",
    "POOL = 1e6\n",
    "DEFAULT_TAKE = 0.05\n",
    "wealth = INITIAL_WEALTH\n",
    "wealth_log = [wealth]\n",
    "for game_id, divs in dividends.sort_index().head(200).iterrows():\n",
    "    summary = pd.DataFrame(Bundle(\n",
    "        divs=divs,\n",
    "        probs=probs.loc[game_id],\n",
    "        score=scorecard.loc[game_id],\n",
    "    ))\n",
    "    summary[\"exp_ret\"] = summary.divs * summary.probs\n",
    "    summary[\"place_bet\"] = summary.score\n",
    "    placed_bets = summary.place_bet.sum()\n",
    "    summary[\"kwf\"] = np.vectorize(kelly_wealth_frac)(summary.probs, summary.divs)\n",
    "    summary[\"kelly_bet\"] = summary.kwf * wealth * kelly_ratio / placed_bets\n",
    "    summary[\"breakeven_bet\"] = np.vectorize(breakeven_bet)(POOL, summary.probs, summary.divs, DEFAULT_TAKE)\n",
    "    summary[\"epmax_bet\"], summary[\"max_ep\"] = np.where(\n",
    "        summary.place_bet,\n",
    "        np.vectorize(epmax_bet)(summary.probs, summary.divs, POOL, DEFAULT_TAKE),\n",
    "        np.nan,\n",
    "    )\n",
    "    summary[\"final_bet\"] = np.where(np.random.uniform(size=len(summary)) > 0.5, 0.01 * wealth, 0)\n",
    "    wealth -= summary.final_bet.sum()\n",
    "    summary[\"revenue\"] = np.where(summary.score, summary.divs * summary.final_bet, 0)\n",
    "    # print(summary.round(2))\n",
    "    wealth += summary.revenue.sum()\n",
    "    wealth_log.append(wealth)\n",
    "    print(f\"{game_id}: {wealth:.2f}\")\n"
   ]
  },
  {
   "cell_type": "code",
   "execution_count": null,
   "metadata": {},
   "outputs": [],
   "source": [
    "plt.plot(wealth_log)\n",
    "plt.yscale(\"log\")\n",
    "plt.show()"
   ]
  },
  {
   "attachments": {},
   "cell_type": "markdown",
   "metadata": {},
   "source": [
    "## Appendix: Some other stuff"
   ]
  },
  {
   "attachments": {},
   "cell_type": "markdown",
   "metadata": {},
   "source": [
    "### Better predicting"
   ]
  },
  {
   "attachments": {},
   "cell_type": "markdown",
   "metadata": {},
   "source": [
    "https://www.forbes.com/betting/sports-betting/what-does-point-spread-mean/\n",
    "What Does a Negative Spread Mean?\n",
    "\n",
    "In the simplest terms, a negative spread indicates the favorite, which is the side that’s expected to win the matchup.\n",
    "\n"
   ]
  },
  {
   "cell_type": "code",
   "execution_count": null,
   "metadata": {},
   "outputs": [],
   "source": [
    "ys = [\"win\", \"open_spread\", \"close_spread\"]\n",
    "models = Bundle({y: BayesSearchCV(**search_params) for y in ys})\n",
    "models.win.fit(X_train, win_train)\n",
    "models.open_spread.fit(X_train, open_spread_train)\n",
    "models.close_spread.fit(X_train, close_spread_train)"
   ]
  },
  {
   "attachments": {},
   "cell_type": "markdown",
   "metadata": {},
   "source": [
    "### Distinguishing between \"match metrics\" (post-game) and \"team stats\" (pre-game)"
   ]
  },
  {
   "cell_type": "code",
   "execution_count": null,
   "metadata": {},
   "outputs": [],
   "source": [
    "from skopt import BayesSearchCV\n",
    "from skopt.space import Real, Integer\n",
    "\n",
    "# Define the search space for the hyperparameters\n",
    "search_space = {\n",
    "    \"num_leaves\": Integer(2, 10),\n",
    "    \"learning_rate\": Real(0.01, 0.25),\n",
    "    \"feature_fraction\": Real(0.5, 1.0),\n",
    "    \"num_iterations\": Integer(50, 500),\n",
    "    \"lambda_l1\": Real(0, 10),\n",
    "    \"lambda_l2\": Real(0, 10),\n",
    "}\n",
    "\n",
    "# Define the LightGBM parameters\n",
    "# params = {\n",
    "#     \"objective\": \"binary\",\n",
    "#     \"metric\": \"binary_logloss\",\n",
    "#     \"boosting_type\": \"gbdt\",\n",
    "# }\n",
    "params = {\n",
    "    \"objective\": \"multiclass\",\n",
    "    \"num_class\": 3,\n",
    "    \"metric\": \"multi_logloss\",\n",
    "    \"boosting_type\": \"gbdt\",\n",
    "}\n",
    "# Define the BayesSearchCV object for each model\n",
    "search_params = Bundle(\n",
    "    estimator=lgb.LGBMClassifier(**params),\n",
    "    search_spaces=search_space,\n",
    "    n_iter=27,\n",
    "    cv=3,\n",
    "    n_jobs=-1,\n",
    "    scoring=\"neg_log_loss\",  # \"accuracy\": pros and cons\n",
    "    random_state=42,\n",
    ")\n"
   ]
  },
  {
   "cell_type": "code",
   "execution_count": null,
   "metadata": {},
   "outputs": [],
   "source": [
    "X = data[betting_cols]\n",
    "# y = data.win\n",
    "y = data.signed_win\n",
    "model = BayesSearchCV(**search_params)\n",
    "model.fit(X, y)\n",
    "est = model.best_estimator_.fit(X, y)"
   ]
  },
  {
   "cell_type": "code",
   "execution_count": null,
   "metadata": {},
   "outputs": [],
   "source": [
    "est"
   ]
  },
  {
   "cell_type": "code",
   "execution_count": null,
   "metadata": {},
   "outputs": [],
   "source": [
    "truth = pd.get_dummies(data.signed_win)[[1.0, 0.0, -1.0]]\n",
    "preds = est.predict_proba(X)"
   ]
  },
  {
   "cell_type": "code",
   "execution_count": null,
   "metadata": {},
   "outputs": [],
   "source": [
    "np.log(preds[truth == 1]).sum()"
   ]
  },
  {
   "cell_type": "code",
   "execution_count": null,
   "metadata": {},
   "outputs": [],
   "source": [
    "np.log(0.5) * len(truth)"
   ]
  },
  {
   "cell_type": "code",
   "execution_count": null,
   "metadata": {},
   "outputs": [],
   "source": [
    "preds"
   ]
  },
  {
   "cell_type": "code",
   "execution_count": null,
   "metadata": {},
   "outputs": [],
   "source": [
    "pd.DataFrame(preds)#.reindex_like(truth)"
   ]
  },
  {
   "cell_type": "code",
   "execution_count": null,
   "metadata": {},
   "outputs": [],
   "source": [
    "(df.pred == df.true).mean(), df.pred.mean(), df.true.mean()"
   ]
  },
  {
   "cell_type": "code",
   "execution_count": null,
   "metadata": {},
   "outputs": [],
   "source": [
    "pd.crosstab(est.predict(X), y)"
   ]
  },
  {
   "cell_type": "code",
   "execution_count": null,
   "metadata": {},
   "outputs": [],
   "source": [
    "loglikelihood = \n",
    "def pseudoR2(preds, true)\n",
    "    return 1 - (pred - true).var() / true.var()"
   ]
  },
  {
   "attachments": {},
   "cell_type": "markdown",
   "metadata": {},
   "source": []
  }
 ],
 "metadata": {
  "kernelspec": {
   "display_name": "jose-luis",
   "language": "python",
   "name": "python3"
  },
  "language_info": {
   "codemirror_mode": {
    "name": "ipython",
    "version": 3
   },
   "file_extension": ".py",
   "mimetype": "text/x-python",
   "name": "python",
   "nbconvert_exporter": "python",
   "pygments_lexer": "ipython3",
   "version": "3.10.10"
  },
  "orig_nbformat": 4
 },
 "nbformat": 4,
 "nbformat_minor": 2
}
