{
 "cells": [
  {
   "attachments": {},
   "cell_type": "markdown",
   "metadata": {},
   "source": [
    "# Post-meet: Benter 1994 & NFL Data Project"
   ]
  },
  {
   "attachments": {},
   "cell_type": "markdown",
   "metadata": {},
   "source": [
    "## Data"
   ]
  },
  {
   "attachments": {},
   "cell_type": "markdown",
   "metadata": {},
   "source": [
    "**“game data.csv”**: Game level summary statistics from pro-football-reference.com. Data columns are:\n",
    "\n",
    "- `link`: link to page data was scraped from, contains information on relevant team\n",
    "- `week`: week of game\n",
    "- `date`: date of game\n",
    "- `ot`: indicator for if game went to overtime\n",
    "- `rec`: record of team for that season after the game was completed\n",
    "- `opp`: opposing team\n",
    "- `team_score`: points scored\n",
    "- `opp_score`: points allowed\n",
    "- `o_fistdown`: first downs gained\n",
    "- `o_yards`: total yards gained\n",
    "- `o_passy`: pass yards gained\n",
    "- `o_rushy`: rush yards gained\n",
    "- `o_to`: offensive turnovers\n",
    "- `d_fistdown`: first downs allowed\n",
    "- `d_yards`: total yards allowed\n",
    "- `d_passy`: pass yards allowed\n",
    "- `d_rushy`: rush yards allowed\n",
    "- `d_to`: defensive turnovers\n",
    "- `ep_offense`: Offense’s “Expected Points”\n",
    "- `ep_defense`: Defense’s “Expected Points”\n",
    "- `ep_st`: Special Teams’ “Expected Points”\n",
    "- `Team`: the home team (abbreviated)\n",
    "- `Season`: season the game took place\n",
    "- `eday`: date the game took place on\n",
    "- `ha`: indicator if the “Team” is the home or away team\n",
    "- `OddsOpen`: decimal odds of the “Team” winning at the start of betting (typically 6 days before the game is played)\n",
    "- `OddsClose`: decimal odds of the “Team” winning right before kickoff\n",
    "- `LineOpen`: Moneyline for the “Team” winning at the start of betting (typically 6 days before the game is played)\n",
    "- `LineClose`: Moneyline for the “Team” winning right before kickoff\n",
    "- `LineOddsOpen`: Payout for the moneyline bet (decimal odds) at start of betting for the “Team”\n",
    "- `LineOddsClose`: Payout for the moneyline bet (decimal odds) right before kickoff\n",
    "- `Opponent`: opposing team (abbreviated)\n",
    "- `game_id`: identifier variable for the game. This is NOT a unique identifier as each game_id should be repeated twice. Observations should be unique by game_id and “Team”\n",
    "- `take`: take or vigorish for the OddsClose bet\n",
    "- `win`: 0/1 indicator for if the Team won or not\n",
    "\n",
    "For all ELO measures see https://projects.fivethirtyeight.com/complete-history-of-the-nfl/"
   ]
  },
  {
   "attachments": {},
   "cell_type": "markdown",
   "metadata": {},
   "source": [
    "## Setup"
   ]
  },
  {
   "cell_type": "code",
   "execution_count": 249,
   "metadata": {},
   "outputs": [],
   "source": [
    "import os\n",
    "import lightgbm as lgb\n",
    "import pandas as pd\n",
    "import numpy as np\n",
    "import matplotlib.pyplot as plt\n",
    "from sklearn.model_selection import train_test_split\n",
    "from sklearn.metrics import accuracy_score\n",
    "from scipy.optimize import minimize_scalar\n",
    "\n",
    "\n",
    "# To avoid time conversion issues\n",
    "os.environ['TZ'] = 'UTC'"
   ]
  },
  {
   "cell_type": "code",
   "execution_count": 90,
   "metadata": {},
   "outputs": [],
   "source": [
    "class Bundle(dict):\n",
    "    def __getattr__(self, key):\n",
    "        try:\n",
    "            return self[key]\n",
    "        except KeyError:\n",
    "            raise AttributeError(key)\n",
    "\n",
    "    def __setattr__(self, key, value):\n",
    "        self[key] = value"
   ]
  },
  {
   "cell_type": "code",
   "execution_count": 91,
   "metadata": {},
   "outputs": [
    {
     "name": "stdout",
     "output_type": "stream",
     "text": [
      "(3584, 38)\n"
     ]
    },
    {
     "data": {
      "text/html": [
       "<div>\n",
       "<style scoped>\n",
       "    .dataframe tbody tr th:only-of-type {\n",
       "        vertical-align: middle;\n",
       "    }\n",
       "\n",
       "    .dataframe tbody tr th {\n",
       "        vertical-align: top;\n",
       "    }\n",
       "\n",
       "    .dataframe thead th {\n",
       "        text-align: right;\n",
       "    }\n",
       "</style>\n",
       "<table border=\"1\" class=\"dataframe\">\n",
       "  <thead>\n",
       "    <tr style=\"text-align: right;\">\n",
       "      <th></th>\n",
       "      <th>0</th>\n",
       "      <th>1</th>\n",
       "      <th>2</th>\n",
       "      <th>3</th>\n",
       "      <th>4</th>\n",
       "    </tr>\n",
       "  </thead>\n",
       "  <tbody>\n",
       "    <tr>\n",
       "      <th>week</th>\n",
       "      <td>1</td>\n",
       "      <td>2</td>\n",
       "      <td>3</td>\n",
       "      <td>4</td>\n",
       "      <td>5</td>\n",
       "    </tr>\n",
       "    <tr>\n",
       "      <th>date</th>\n",
       "      <td>September 07</td>\n",
       "      <td>September 14</td>\n",
       "      <td>September 18</td>\n",
       "      <td>September 28</td>\n",
       "      <td>October 05</td>\n",
       "    </tr>\n",
       "    <tr>\n",
       "      <th>ot</th>\n",
       "      <td>OT</td>\n",
       "      <td>NaN</td>\n",
       "      <td>NaN</td>\n",
       "      <td>NaN</td>\n",
       "      <td>NaN</td>\n",
       "    </tr>\n",
       "    <tr>\n",
       "      <th>rec</th>\n",
       "      <td>1-0</td>\n",
       "      <td>1-1</td>\n",
       "      <td>2-1</td>\n",
       "      <td>2-2</td>\n",
       "      <td>2-3</td>\n",
       "    </tr>\n",
       "    <tr>\n",
       "      <th>opp</th>\n",
       "      <td>New Orleans Saints</td>\n",
       "      <td>Cincinnati Bengals</td>\n",
       "      <td>Tampa Bay Buccaneers</td>\n",
       "      <td>Minnesota Vikings</td>\n",
       "      <td>New York Giants</td>\n",
       "    </tr>\n",
       "    <tr>\n",
       "      <th>team_score</th>\n",
       "      <td>37.0</td>\n",
       "      <td>10.0</td>\n",
       "      <td>56.0</td>\n",
       "      <td>28.0</td>\n",
       "      <td>20.0</td>\n",
       "    </tr>\n",
       "    <tr>\n",
       "      <th>opp_score</th>\n",
       "      <td>34.0</td>\n",
       "      <td>24.0</td>\n",
       "      <td>14.0</td>\n",
       "      <td>41.0</td>\n",
       "      <td>30.0</td>\n",
       "    </tr>\n",
       "    <tr>\n",
       "      <th>o_fistdown</th>\n",
       "      <td>28.0</td>\n",
       "      <td>19.0</td>\n",
       "      <td>26.0</td>\n",
       "      <td>23.0</td>\n",
       "      <td>20.0</td>\n",
       "    </tr>\n",
       "    <tr>\n",
       "      <th>o_yards</th>\n",
       "      <td>568.0</td>\n",
       "      <td>309.0</td>\n",
       "      <td>488.0</td>\n",
       "      <td>411.0</td>\n",
       "      <td>397.0</td>\n",
       "    </tr>\n",
       "    <tr>\n",
       "      <th>o_passy</th>\n",
       "      <td>445.0</td>\n",
       "      <td>212.0</td>\n",
       "      <td>344.0</td>\n",
       "      <td>288.0</td>\n",
       "      <td>307.0</td>\n",
       "    </tr>\n",
       "    <tr>\n",
       "      <th>o_rushy</th>\n",
       "      <td>123.0</td>\n",
       "      <td>97.0</td>\n",
       "      <td>144.0</td>\n",
       "      <td>123.0</td>\n",
       "      <td>90.0</td>\n",
       "    </tr>\n",
       "    <tr>\n",
       "      <th>o_to</th>\n",
       "      <td>1</td>\n",
       "      <td>3</td>\n",
       "      <td>4</td>\n",
       "      <td>2</td>\n",
       "      <td>1</td>\n",
       "    </tr>\n",
       "    <tr>\n",
       "      <th>d_fistdown</th>\n",
       "      <td>30.0</td>\n",
       "      <td>21.0</td>\n",
       "      <td>10.0</td>\n",
       "      <td>26.0</td>\n",
       "      <td>22.0</td>\n",
       "    </tr>\n",
       "    <tr>\n",
       "      <th>d_yards</th>\n",
       "      <td>472.0</td>\n",
       "      <td>472.0</td>\n",
       "      <td>217.0</td>\n",
       "      <td>558.0</td>\n",
       "      <td>317.0</td>\n",
       "    </tr>\n",
       "    <tr>\n",
       "      <th>d_passy</th>\n",
       "      <td>333.0</td>\n",
       "      <td>302.0</td>\n",
       "      <td>153.0</td>\n",
       "      <td>317.0</td>\n",
       "      <td>193.0</td>\n",
       "    </tr>\n",
       "    <tr>\n",
       "      <th>d_rushy</th>\n",
       "      <td>139.0</td>\n",
       "      <td>170.0</td>\n",
       "      <td>64.0</td>\n",
       "      <td>241.0</td>\n",
       "      <td>124.0</td>\n",
       "    </tr>\n",
       "    <tr>\n",
       "      <th>d_to</th>\n",
       "      <td>2</td>\n",
       "      <td>0</td>\n",
       "      <td>5</td>\n",
       "      <td>0</td>\n",
       "      <td>2</td>\n",
       "    </tr>\n",
       "    <tr>\n",
       "      <th>ep_offense</th>\n",
       "      <td>25.42</td>\n",
       "      <td>-9.3</td>\n",
       "      <td>13.83</td>\n",
       "      <td>12.49</td>\n",
       "      <td>5.0</td>\n",
       "    </tr>\n",
       "    <tr>\n",
       "      <th>ep_defense</th>\n",
       "      <td>-21.85</td>\n",
       "      <td>-16.280001</td>\n",
       "      <td>29.0</td>\n",
       "      <td>-29.120001</td>\n",
       "      <td>-14.28</td>\n",
       "    </tr>\n",
       "    <tr>\n",
       "      <th>ep_st</th>\n",
       "      <td>-0.57</td>\n",
       "      <td>10.47</td>\n",
       "      <td>-4.23</td>\n",
       "      <td>1.75</td>\n",
       "      <td>1.67</td>\n",
       "    </tr>\n",
       "    <tr>\n",
       "      <th>Team</th>\n",
       "      <td>atl</td>\n",
       "      <td>atl</td>\n",
       "      <td>atl</td>\n",
       "      <td>atl</td>\n",
       "      <td>atl</td>\n",
       "    </tr>\n",
       "    <tr>\n",
       "      <th>season</th>\n",
       "      <td>2014</td>\n",
       "      <td>2014</td>\n",
       "      <td>2014</td>\n",
       "      <td>2014</td>\n",
       "      <td>2014</td>\n",
       "    </tr>\n",
       "    <tr>\n",
       "      <th>eday</th>\n",
       "      <td>07sep2014</td>\n",
       "      <td>14sep2014</td>\n",
       "      <td>18sep2014</td>\n",
       "      <td>28sep2014</td>\n",
       "      <td>05oct2014</td>\n",
       "    </tr>\n",
       "    <tr>\n",
       "      <th>ha</th>\n",
       "      <td>H</td>\n",
       "      <td>A</td>\n",
       "      <td>H</td>\n",
       "      <td>A</td>\n",
       "      <td>A</td>\n",
       "    </tr>\n",
       "    <tr>\n",
       "      <th>OddsOpen</th>\n",
       "      <td>2.31</td>\n",
       "      <td>2.95</td>\n",
       "      <td>1.363</td>\n",
       "      <td>1.724</td>\n",
       "      <td>2.88</td>\n",
       "    </tr>\n",
       "    <tr>\n",
       "      <th>OddsClose</th>\n",
       "      <td>2.44</td>\n",
       "      <td>3.16</td>\n",
       "      <td>1.361</td>\n",
       "      <td>1.432</td>\n",
       "      <td>2.76</td>\n",
       "    </tr>\n",
       "    <tr>\n",
       "      <th>LineOpen</th>\n",
       "      <td>2.5</td>\n",
       "      <td>4.0</td>\n",
       "      <td>-5.5</td>\n",
       "      <td>-3.0</td>\n",
       "      <td>4.0</td>\n",
       "    </tr>\n",
       "    <tr>\n",
       "      <th>LineClose</th>\n",
       "      <td>3.0</td>\n",
       "      <td>5.5</td>\n",
       "      <td>-6.5</td>\n",
       "      <td>-5.5</td>\n",
       "      <td>4.0</td>\n",
       "    </tr>\n",
       "    <tr>\n",
       "      <th>LineOddsOpen</th>\n",
       "      <td>2.06</td>\n",
       "      <td>2.05</td>\n",
       "      <td>1.952</td>\n",
       "      <td>1.952</td>\n",
       "      <td>1.952</td>\n",
       "    </tr>\n",
       "    <tr>\n",
       "      <th>LineOddsClose</th>\n",
       "      <td>1.961</td>\n",
       "      <td>1.925</td>\n",
       "      <td>1.925</td>\n",
       "      <td>1.917</td>\n",
       "      <td>1.934</td>\n",
       "    </tr>\n",
       "    <tr>\n",
       "      <th>Opponent</th>\n",
       "      <td>nor</td>\n",
       "      <td>cin</td>\n",
       "      <td>tam</td>\n",
       "      <td>min</td>\n",
       "      <td>nyg</td>\n",
       "    </tr>\n",
       "    <tr>\n",
       "      <th>game_id</th>\n",
       "      <td>2140</td>\n",
       "      <td>2161</td>\n",
       "      <td>2169</td>\n",
       "      <td>2187</td>\n",
       "      <td>2211</td>\n",
       "    </tr>\n",
       "    <tr>\n",
       "      <th>elo</th>\n",
       "      <td>1458.825</td>\n",
       "      <td>1475.033</td>\n",
       "      <td>1461.5229</td>\n",
       "      <td>1485.661</td>\n",
       "      <td>1463.7629</td>\n",
       "    </tr>\n",
       "    <tr>\n",
       "      <th>elo_prob</th>\n",
       "      <td>0.428661</td>\n",
       "      <td>0.269114</td>\n",
       "      <td>0.662082</td>\n",
       "      <td>0.424808</td>\n",
       "      <td>0.358524</td>\n",
       "    </tr>\n",
       "    <tr>\n",
       "      <th>qbelo</th>\n",
       "      <td>1495.6633</td>\n",
       "      <td>1511.3295</td>\n",
       "      <td>1492.9829</td>\n",
       "      <td>1516.1132</td>\n",
       "      <td>1487.3192</td>\n",
       "    </tr>\n",
       "    <tr>\n",
       "      <th>qbelo_prob</th>\n",
       "      <td>0.444847</td>\n",
       "      <td>0.354743</td>\n",
       "      <td>0.674791</td>\n",
       "      <td>0.538832</td>\n",
       "      <td>0.389688</td>\n",
       "    </tr>\n",
       "    <tr>\n",
       "      <th>take</th>\n",
       "      <td>1.024967</td>\n",
       "      <td>1.024854</td>\n",
       "      <td>1.024373</td>\n",
       "      <td>1.024491</td>\n",
       "      <td>1.024729</td>\n",
       "    </tr>\n",
       "    <tr>\n",
       "      <th>win</th>\n",
       "      <td>1</td>\n",
       "      <td>0</td>\n",
       "      <td>1</td>\n",
       "      <td>0</td>\n",
       "      <td>0</td>\n",
       "    </tr>\n",
       "  </tbody>\n",
       "</table>\n",
       "</div>"
      ],
      "text/plain": [
       "                                0                   1                     2  \\\n",
       "week                            1                   2                     3   \n",
       "date                 September 07        September 14          September 18   \n",
       "ot                             OT                 NaN                   NaN   \n",
       "rec                           1-0                 1-1                   2-1   \n",
       "opp            New Orleans Saints  Cincinnati Bengals  Tampa Bay Buccaneers   \n",
       "team_score                   37.0                10.0                  56.0   \n",
       "opp_score                    34.0                24.0                  14.0   \n",
       "o_fistdown                   28.0                19.0                  26.0   \n",
       "o_yards                     568.0               309.0                 488.0   \n",
       "o_passy                     445.0               212.0                 344.0   \n",
       "o_rushy                     123.0                97.0                 144.0   \n",
       "o_to                            1                   3                     4   \n",
       "d_fistdown                   30.0                21.0                  10.0   \n",
       "d_yards                     472.0               472.0                 217.0   \n",
       "d_passy                     333.0               302.0                 153.0   \n",
       "d_rushy                     139.0               170.0                  64.0   \n",
       "d_to                            2                   0                     5   \n",
       "ep_offense                  25.42                -9.3                 13.83   \n",
       "ep_defense                 -21.85          -16.280001                  29.0   \n",
       "ep_st                       -0.57               10.47                 -4.23   \n",
       "Team                          atl                 atl                   atl   \n",
       "season                       2014                2014                  2014   \n",
       "eday                    07sep2014           14sep2014             18sep2014   \n",
       "ha                              H                   A                     H   \n",
       "OddsOpen                     2.31                2.95                 1.363   \n",
       "OddsClose                    2.44                3.16                 1.361   \n",
       "LineOpen                      2.5                 4.0                  -5.5   \n",
       "LineClose                     3.0                 5.5                  -6.5   \n",
       "LineOddsOpen                 2.06                2.05                 1.952   \n",
       "LineOddsClose               1.961               1.925                 1.925   \n",
       "Opponent                      nor                 cin                   tam   \n",
       "game_id                      2140                2161                  2169   \n",
       "elo                      1458.825            1475.033             1461.5229   \n",
       "elo_prob                 0.428661            0.269114              0.662082   \n",
       "qbelo                   1495.6633           1511.3295             1492.9829   \n",
       "qbelo_prob               0.444847            0.354743              0.674791   \n",
       "take                     1.024967            1.024854              1.024373   \n",
       "win                             1                   0                     1   \n",
       "\n",
       "                               3                4  \n",
       "week                           4                5  \n",
       "date                September 28       October 05  \n",
       "ot                           NaN              NaN  \n",
       "rec                          2-2              2-3  \n",
       "opp            Minnesota Vikings  New York Giants  \n",
       "team_score                  28.0             20.0  \n",
       "opp_score                   41.0             30.0  \n",
       "o_fistdown                  23.0             20.0  \n",
       "o_yards                    411.0            397.0  \n",
       "o_passy                    288.0            307.0  \n",
       "o_rushy                    123.0             90.0  \n",
       "o_to                           2                1  \n",
       "d_fistdown                  26.0             22.0  \n",
       "d_yards                    558.0            317.0  \n",
       "d_passy                    317.0            193.0  \n",
       "d_rushy                    241.0            124.0  \n",
       "d_to                           0                2  \n",
       "ep_offense                 12.49              5.0  \n",
       "ep_defense            -29.120001           -14.28  \n",
       "ep_st                       1.75             1.67  \n",
       "Team                         atl              atl  \n",
       "season                      2014             2014  \n",
       "eday                   28sep2014        05oct2014  \n",
       "ha                             A                A  \n",
       "OddsOpen                   1.724             2.88  \n",
       "OddsClose                  1.432             2.76  \n",
       "LineOpen                    -3.0              4.0  \n",
       "LineClose                   -5.5              4.0  \n",
       "LineOddsOpen               1.952            1.952  \n",
       "LineOddsClose              1.917            1.934  \n",
       "Opponent                     min              nyg  \n",
       "game_id                     2187             2211  \n",
       "elo                     1485.661        1463.7629  \n",
       "elo_prob                0.424808         0.358524  \n",
       "qbelo                  1516.1132        1487.3192  \n",
       "qbelo_prob              0.538832         0.389688  \n",
       "take                    1.024491         1.024729  \n",
       "win                            0                0  "
      ]
     },
     "execution_count": 91,
     "metadata": {},
     "output_type": "execute_result"
    }
   ],
   "source": [
    "filename = \"Data Project NFL/clean NFL.csv\"\n",
    "# Load the data from the CSV file\n",
    "raw = pd.read_csv(filename)\n",
    "print(raw.shape)\n",
    "raw.head().T"
   ]
  },
  {
   "attachments": {},
   "cell_type": "markdown",
   "metadata": {},
   "source": [
    "## EDA (Exploratory Data Analysis)"
   ]
  },
  {
   "cell_type": "code",
   "execution_count": 4,
   "metadata": {},
   "outputs": [
    {
     "data": {
      "text/plain": [
       "week               int64\n",
       "date              object\n",
       "ot                object\n",
       "rec               object\n",
       "opp               object\n",
       "team_score       float64\n",
       "opp_score        float64\n",
       "o_fistdown       float64\n",
       "o_yards          float64\n",
       "o_passy          float64\n",
       "o_rushy          float64\n",
       "o_to               int64\n",
       "d_fistdown       float64\n",
       "d_yards          float64\n",
       "d_passy          float64\n",
       "d_rushy          float64\n",
       "d_to               int64\n",
       "ep_offense       float64\n",
       "ep_defense       float64\n",
       "ep_st            float64\n",
       "Team              object\n",
       "season             int64\n",
       "eday              object\n",
       "ha                object\n",
       "OddsOpen         float64\n",
       "OddsClose        float64\n",
       "LineOpen         float64\n",
       "LineClose        float64\n",
       "LineOddsOpen     float64\n",
       "LineOddsClose    float64\n",
       "Opponent          object\n",
       "game_id            int64\n",
       "elo              float64\n",
       "elo_prob         float64\n",
       "qbelo            float64\n",
       "qbelo_prob       float64\n",
       "take             float64\n",
       "win                int64\n",
       "dtype: object"
      ]
     },
     "execution_count": 4,
     "metadata": {},
     "output_type": "execute_result"
    }
   ],
   "source": [
    "raw.dtypes"
   ]
  },
  {
   "cell_type": "code",
   "execution_count": 5,
   "metadata": {},
   "outputs": [
    {
     "data": {
      "text/plain": [
       "3414                                                   ot\n",
       "386     ep_st, LineOddsClose, LineClose, LineOpen, Odd...\n",
       "0       qbelo_prob, elo_prob, elo, game_id, take, week...\n",
       "dtype: object"
      ]
     },
     "execution_count": 5,
     "metadata": {},
     "output_type": "execute_result"
    }
   ],
   "source": [
    "nulls = raw.isna().sum().sort_values(ascending=False)\n",
    "pd.Series({n: \", \".join(nulls[nulls == n].index.tolist()) for n in nulls.unique()})\n",
    "# print(nulls)"
   ]
  },
  {
   "cell_type": "code",
   "execution_count": 6,
   "metadata": {},
   "outputs": [
    {
     "data": {
      "text/plain": [
       "NaN    3414\n",
       "OT      170\n",
       "Name: ot, dtype: int64"
      ]
     },
     "execution_count": 6,
     "metadata": {},
     "output_type": "execute_result"
    }
   ],
   "source": [
    "raw.ot.value_counts(dropna=False)"
   ]
  },
  {
   "attachments": {},
   "cell_type": "markdown",
   "metadata": {},
   "source": [
    "We expect `OT` to be a boolean flag, instead it's \"OT\" or None. Must encode correctly. But first let look at the rest of NaNs.\n",
    "\n",
    "Then there's apparently a set of 386 records with no data for a lot of fields. Grouping by season, we can see they're all from the 2020 season:"
   ]
  },
  {
   "cell_type": "code",
   "execution_count": 7,
   "metadata": {},
   "outputs": [
    {
     "data": {
      "text/plain": [
       "2014    512\n",
       "2015    512\n",
       "2016    512\n",
       "2017    512\n",
       "2018    512\n",
       "2019    512\n",
       "2020    512\n",
       "Name: season, dtype: int64"
      ]
     },
     "execution_count": 7,
     "metadata": {},
     "output_type": "execute_result"
    }
   ],
   "source": [
    "raw.season.value_counts()"
   ]
  },
  {
   "cell_type": "code",
   "execution_count": 8,
   "metadata": {},
   "outputs": [
    {
     "data": {
      "text/html": [
       "<div>\n",
       "<style scoped>\n",
       "    .dataframe tbody tr th:only-of-type {\n",
       "        vertical-align: middle;\n",
       "    }\n",
       "\n",
       "    .dataframe tbody tr th {\n",
       "        vertical-align: top;\n",
       "    }\n",
       "\n",
       "    .dataframe thead th {\n",
       "        text-align: right;\n",
       "    }\n",
       "</style>\n",
       "<table border=\"1\" class=\"dataframe\">\n",
       "  <thead>\n",
       "    <tr style=\"text-align: right;\">\n",
       "      <th>season</th>\n",
       "      <th>2014</th>\n",
       "      <th>2015</th>\n",
       "      <th>2016</th>\n",
       "      <th>2017</th>\n",
       "      <th>2018</th>\n",
       "      <th>2019</th>\n",
       "      <th>2020</th>\n",
       "    </tr>\n",
       "  </thead>\n",
       "  <tbody>\n",
       "    <tr>\n",
       "      <th>week</th>\n",
       "      <td>0</td>\n",
       "      <td>0</td>\n",
       "      <td>0</td>\n",
       "      <td>0</td>\n",
       "      <td>0</td>\n",
       "      <td>0</td>\n",
       "      <td>0</td>\n",
       "    </tr>\n",
       "    <tr>\n",
       "      <th>date</th>\n",
       "      <td>0</td>\n",
       "      <td>0</td>\n",
       "      <td>0</td>\n",
       "      <td>0</td>\n",
       "      <td>0</td>\n",
       "      <td>0</td>\n",
       "      <td>0</td>\n",
       "    </tr>\n",
       "    <tr>\n",
       "      <th>ot</th>\n",
       "      <td>490</td>\n",
       "      <td>470</td>\n",
       "      <td>486</td>\n",
       "      <td>484</td>\n",
       "      <td>482</td>\n",
       "      <td>494</td>\n",
       "      <td>508</td>\n",
       "    </tr>\n",
       "    <tr>\n",
       "      <th>rec</th>\n",
       "      <td>0</td>\n",
       "      <td>0</td>\n",
       "      <td>0</td>\n",
       "      <td>0</td>\n",
       "      <td>0</td>\n",
       "      <td>0</td>\n",
       "      <td>386</td>\n",
       "    </tr>\n",
       "    <tr>\n",
       "      <th>opp</th>\n",
       "      <td>0</td>\n",
       "      <td>0</td>\n",
       "      <td>0</td>\n",
       "      <td>0</td>\n",
       "      <td>0</td>\n",
       "      <td>0</td>\n",
       "      <td>0</td>\n",
       "    </tr>\n",
       "    <tr>\n",
       "      <th>team_score</th>\n",
       "      <td>0</td>\n",
       "      <td>0</td>\n",
       "      <td>0</td>\n",
       "      <td>0</td>\n",
       "      <td>0</td>\n",
       "      <td>0</td>\n",
       "      <td>386</td>\n",
       "    </tr>\n",
       "    <tr>\n",
       "      <th>opp_score</th>\n",
       "      <td>0</td>\n",
       "      <td>0</td>\n",
       "      <td>0</td>\n",
       "      <td>0</td>\n",
       "      <td>0</td>\n",
       "      <td>0</td>\n",
       "      <td>386</td>\n",
       "    </tr>\n",
       "    <tr>\n",
       "      <th>o_fistdown</th>\n",
       "      <td>0</td>\n",
       "      <td>0</td>\n",
       "      <td>0</td>\n",
       "      <td>0</td>\n",
       "      <td>0</td>\n",
       "      <td>0</td>\n",
       "      <td>386</td>\n",
       "    </tr>\n",
       "    <tr>\n",
       "      <th>o_yards</th>\n",
       "      <td>0</td>\n",
       "      <td>0</td>\n",
       "      <td>0</td>\n",
       "      <td>0</td>\n",
       "      <td>0</td>\n",
       "      <td>0</td>\n",
       "      <td>386</td>\n",
       "    </tr>\n",
       "    <tr>\n",
       "      <th>o_passy</th>\n",
       "      <td>0</td>\n",
       "      <td>0</td>\n",
       "      <td>0</td>\n",
       "      <td>0</td>\n",
       "      <td>0</td>\n",
       "      <td>0</td>\n",
       "      <td>386</td>\n",
       "    </tr>\n",
       "  </tbody>\n",
       "</table>\n",
       "</div>"
      ],
      "text/plain": [
       "season      2014  2015  2016  2017  2018  2019  2020\n",
       "week           0     0     0     0     0     0     0\n",
       "date           0     0     0     0     0     0     0\n",
       "ot           490   470   486   484   482   494   508\n",
       "rec            0     0     0     0     0     0   386\n",
       "opp            0     0     0     0     0     0     0\n",
       "team_score     0     0     0     0     0     0   386\n",
       "opp_score      0     0     0     0     0     0   386\n",
       "o_fistdown     0     0     0     0     0     0   386\n",
       "o_yards        0     0     0     0     0     0   386\n",
       "o_passy        0     0     0     0     0     0   386"
      ]
     },
     "execution_count": 8,
     "metadata": {},
     "output_type": "execute_result"
    }
   ],
   "source": [
    "raw.groupby([\"season\"]).apply(lambda x: x.isna().sum()).round(2).T.head(10)"
   ]
  },
  {
   "attachments": {},
   "cell_type": "markdown",
   "metadata": {},
   "source": [
    "Not _every_ game from 2020 season has no data, let's look at per-week stats:"
   ]
  },
  {
   "cell_type": "code",
   "execution_count": 9,
   "metadata": {},
   "outputs": [
    {
     "data": {
      "text/html": [
       "<div>\n",
       "<style scoped>\n",
       "    .dataframe tbody tr th:only-of-type {\n",
       "        vertical-align: middle;\n",
       "    }\n",
       "\n",
       "    .dataframe tbody tr th {\n",
       "        vertical-align: top;\n",
       "    }\n",
       "\n",
       "    .dataframe thead th {\n",
       "        text-align: right;\n",
       "    }\n",
       "</style>\n",
       "<table border=\"1\" class=\"dataframe\">\n",
       "  <thead>\n",
       "    <tr style=\"text-align: right;\">\n",
       "      <th>week</th>\n",
       "      <th>1</th>\n",
       "      <th>2</th>\n",
       "      <th>3</th>\n",
       "      <th>4</th>\n",
       "      <th>5</th>\n",
       "      <th>6</th>\n",
       "      <th>7</th>\n",
       "      <th>8</th>\n",
       "      <th>9</th>\n",
       "      <th>10</th>\n",
       "      <th>11</th>\n",
       "      <th>12</th>\n",
       "      <th>13</th>\n",
       "      <th>14</th>\n",
       "      <th>15</th>\n",
       "      <th>16</th>\n",
       "      <th>17</th>\n",
       "    </tr>\n",
       "  </thead>\n",
       "  <tbody>\n",
       "    <tr>\n",
       "      <th>LineOddsOpen</th>\n",
       "      <td>0</td>\n",
       "      <td>0</td>\n",
       "      <td>0</td>\n",
       "      <td>0</td>\n",
       "      <td>30</td>\n",
       "      <td>28</td>\n",
       "      <td>28</td>\n",
       "      <td>28</td>\n",
       "      <td>28</td>\n",
       "      <td>28</td>\n",
       "      <td>26</td>\n",
       "      <td>32</td>\n",
       "      <td>30</td>\n",
       "      <td>32</td>\n",
       "      <td>32</td>\n",
       "      <td>32</td>\n",
       "      <td>32</td>\n",
       "    </tr>\n",
       "    <tr>\n",
       "      <th>LineOddsClose</th>\n",
       "      <td>0</td>\n",
       "      <td>0</td>\n",
       "      <td>0</td>\n",
       "      <td>0</td>\n",
       "      <td>30</td>\n",
       "      <td>28</td>\n",
       "      <td>28</td>\n",
       "      <td>28</td>\n",
       "      <td>28</td>\n",
       "      <td>28</td>\n",
       "      <td>26</td>\n",
       "      <td>32</td>\n",
       "      <td>30</td>\n",
       "      <td>32</td>\n",
       "      <td>32</td>\n",
       "      <td>32</td>\n",
       "      <td>32</td>\n",
       "    </tr>\n",
       "    <tr>\n",
       "      <th>Opponent</th>\n",
       "      <td>0</td>\n",
       "      <td>0</td>\n",
       "      <td>0</td>\n",
       "      <td>0</td>\n",
       "      <td>30</td>\n",
       "      <td>28</td>\n",
       "      <td>28</td>\n",
       "      <td>28</td>\n",
       "      <td>28</td>\n",
       "      <td>28</td>\n",
       "      <td>26</td>\n",
       "      <td>32</td>\n",
       "      <td>30</td>\n",
       "      <td>32</td>\n",
       "      <td>32</td>\n",
       "      <td>32</td>\n",
       "      <td>32</td>\n",
       "    </tr>\n",
       "    <tr>\n",
       "      <th>game_id</th>\n",
       "      <td>0</td>\n",
       "      <td>0</td>\n",
       "      <td>0</td>\n",
       "      <td>0</td>\n",
       "      <td>0</td>\n",
       "      <td>0</td>\n",
       "      <td>0</td>\n",
       "      <td>0</td>\n",
       "      <td>0</td>\n",
       "      <td>0</td>\n",
       "      <td>0</td>\n",
       "      <td>0</td>\n",
       "      <td>0</td>\n",
       "      <td>0</td>\n",
       "      <td>0</td>\n",
       "      <td>0</td>\n",
       "      <td>0</td>\n",
       "    </tr>\n",
       "    <tr>\n",
       "      <th>elo</th>\n",
       "      <td>0</td>\n",
       "      <td>0</td>\n",
       "      <td>0</td>\n",
       "      <td>0</td>\n",
       "      <td>0</td>\n",
       "      <td>0</td>\n",
       "      <td>0</td>\n",
       "      <td>0</td>\n",
       "      <td>0</td>\n",
       "      <td>0</td>\n",
       "      <td>0</td>\n",
       "      <td>0</td>\n",
       "      <td>0</td>\n",
       "      <td>0</td>\n",
       "      <td>0</td>\n",
       "      <td>0</td>\n",
       "      <td>0</td>\n",
       "    </tr>\n",
       "    <tr>\n",
       "      <th>elo_prob</th>\n",
       "      <td>0</td>\n",
       "      <td>0</td>\n",
       "      <td>0</td>\n",
       "      <td>0</td>\n",
       "      <td>0</td>\n",
       "      <td>0</td>\n",
       "      <td>0</td>\n",
       "      <td>0</td>\n",
       "      <td>0</td>\n",
       "      <td>0</td>\n",
       "      <td>0</td>\n",
       "      <td>0</td>\n",
       "      <td>0</td>\n",
       "      <td>0</td>\n",
       "      <td>0</td>\n",
       "      <td>0</td>\n",
       "      <td>0</td>\n",
       "    </tr>\n",
       "    <tr>\n",
       "      <th>qbelo</th>\n",
       "      <td>0</td>\n",
       "      <td>0</td>\n",
       "      <td>0</td>\n",
       "      <td>0</td>\n",
       "      <td>30</td>\n",
       "      <td>28</td>\n",
       "      <td>28</td>\n",
       "      <td>28</td>\n",
       "      <td>28</td>\n",
       "      <td>28</td>\n",
       "      <td>26</td>\n",
       "      <td>32</td>\n",
       "      <td>30</td>\n",
       "      <td>32</td>\n",
       "      <td>32</td>\n",
       "      <td>32</td>\n",
       "      <td>32</td>\n",
       "    </tr>\n",
       "    <tr>\n",
       "      <th>qbelo_prob</th>\n",
       "      <td>0</td>\n",
       "      <td>0</td>\n",
       "      <td>0</td>\n",
       "      <td>0</td>\n",
       "      <td>0</td>\n",
       "      <td>0</td>\n",
       "      <td>0</td>\n",
       "      <td>0</td>\n",
       "      <td>0</td>\n",
       "      <td>0</td>\n",
       "      <td>0</td>\n",
       "      <td>0</td>\n",
       "      <td>0</td>\n",
       "      <td>0</td>\n",
       "      <td>0</td>\n",
       "      <td>0</td>\n",
       "      <td>0</td>\n",
       "    </tr>\n",
       "    <tr>\n",
       "      <th>take</th>\n",
       "      <td>0</td>\n",
       "      <td>0</td>\n",
       "      <td>0</td>\n",
       "      <td>0</td>\n",
       "      <td>0</td>\n",
       "      <td>0</td>\n",
       "      <td>0</td>\n",
       "      <td>0</td>\n",
       "      <td>0</td>\n",
       "      <td>0</td>\n",
       "      <td>0</td>\n",
       "      <td>0</td>\n",
       "      <td>0</td>\n",
       "      <td>0</td>\n",
       "      <td>0</td>\n",
       "      <td>0</td>\n",
       "      <td>0</td>\n",
       "    </tr>\n",
       "    <tr>\n",
       "      <th>win</th>\n",
       "      <td>0</td>\n",
       "      <td>0</td>\n",
       "      <td>0</td>\n",
       "      <td>0</td>\n",
       "      <td>0</td>\n",
       "      <td>0</td>\n",
       "      <td>0</td>\n",
       "      <td>0</td>\n",
       "      <td>0</td>\n",
       "      <td>0</td>\n",
       "      <td>0</td>\n",
       "      <td>0</td>\n",
       "      <td>0</td>\n",
       "      <td>0</td>\n",
       "      <td>0</td>\n",
       "      <td>0</td>\n",
       "      <td>0</td>\n",
       "    </tr>\n",
       "  </tbody>\n",
       "</table>\n",
       "</div>"
      ],
      "text/plain": [
       "week           1   2   3   4   5   6   7   8   9   10  11  12  13  14  15  16  \\\n",
       "LineOddsOpen    0   0   0   0  30  28  28  28  28  28  26  32  30  32  32  32   \n",
       "LineOddsClose   0   0   0   0  30  28  28  28  28  28  26  32  30  32  32  32   \n",
       "Opponent        0   0   0   0  30  28  28  28  28  28  26  32  30  32  32  32   \n",
       "game_id         0   0   0   0   0   0   0   0   0   0   0   0   0   0   0   0   \n",
       "elo             0   0   0   0   0   0   0   0   0   0   0   0   0   0   0   0   \n",
       "elo_prob        0   0   0   0   0   0   0   0   0   0   0   0   0   0   0   0   \n",
       "qbelo           0   0   0   0  30  28  28  28  28  28  26  32  30  32  32  32   \n",
       "qbelo_prob      0   0   0   0   0   0   0   0   0   0   0   0   0   0   0   0   \n",
       "take            0   0   0   0   0   0   0   0   0   0   0   0   0   0   0   0   \n",
       "win             0   0   0   0   0   0   0   0   0   0   0   0   0   0   0   0   \n",
       "\n",
       "week           17  \n",
       "LineOddsOpen   32  \n",
       "LineOddsClose  32  \n",
       "Opponent       32  \n",
       "game_id         0  \n",
       "elo             0  \n",
       "elo_prob        0  \n",
       "qbelo          32  \n",
       "qbelo_prob      0  \n",
       "take            0  \n",
       "win             0  "
      ]
     },
     "execution_count": 9,
     "metadata": {},
     "output_type": "execute_result"
    }
   ],
   "source": [
    "raw[raw.season == 2020].groupby([\"week\"]).apply(lambda x: x.isna().sum()).round(2).T.tail(10)"
   ]
  },
  {
   "attachments": {},
   "cell_type": "markdown",
   "metadata": {},
   "source": [
    "From week 4 onwards, the data is missing, but the response variable `win` is never empty. Let's see its value distribution."
   ]
  },
  {
   "cell_type": "code",
   "execution_count": 10,
   "metadata": {},
   "outputs": [
    {
     "data": {
      "text/plain": [
       "0    386\n",
       "Name: win, dtype: int64"
      ]
     },
     "execution_count": 10,
     "metadata": {},
     "output_type": "execute_result"
    }
   ],
   "source": [
    "raw[(raw.season == 2020) & (raw.week >= 5)].win.value_counts(dropna=False)"
   ]
  },
  {
   "attachments": {},
   "cell_type": "markdown",
   "metadata": {},
   "source": [
    "No chance _both_ teams lost every match after week 5, this is a zero-value where a NaN value should have been. "
   ]
  },
  {
   "cell_type": "code",
   "execution_count": 17,
   "metadata": {},
   "outputs": [
    {
     "data": {
      "text/html": [
       "<div>\n",
       "<style scoped>\n",
       "    .dataframe tbody tr th:only-of-type {\n",
       "        vertical-align: middle;\n",
       "    }\n",
       "\n",
       "    .dataframe tbody tr th {\n",
       "        vertical-align: top;\n",
       "    }\n",
       "\n",
       "    .dataframe thead th {\n",
       "        text-align: right;\n",
       "    }\n",
       "</style>\n",
       "<table border=\"1\" class=\"dataframe\">\n",
       "  <thead>\n",
       "    <tr style=\"text-align: right;\">\n",
       "      <th>team_score</th>\n",
       "      <th>False</th>\n",
       "      <th>True</th>\n",
       "    </tr>\n",
       "  </thead>\n",
       "  <tbody>\n",
       "    <tr>\n",
       "      <th>ot</th>\n",
       "      <td>0.95</td>\n",
       "      <td>1.0</td>\n",
       "    </tr>\n",
       "    <tr>\n",
       "      <th>week</th>\n",
       "      <td>0.00</td>\n",
       "      <td>0.0</td>\n",
       "    </tr>\n",
       "    <tr>\n",
       "      <th>LineOddsClose</th>\n",
       "      <td>0.00</td>\n",
       "      <td>1.0</td>\n",
       "    </tr>\n",
       "    <tr>\n",
       "      <th>eday</th>\n",
       "      <td>0.00</td>\n",
       "      <td>0.0</td>\n",
       "    </tr>\n",
       "    <tr>\n",
       "      <th>ha</th>\n",
       "      <td>0.00</td>\n",
       "      <td>1.0</td>\n",
       "    </tr>\n",
       "    <tr>\n",
       "      <th>OddsOpen</th>\n",
       "      <td>0.00</td>\n",
       "      <td>1.0</td>\n",
       "    </tr>\n",
       "    <tr>\n",
       "      <th>OddsClose</th>\n",
       "      <td>0.00</td>\n",
       "      <td>1.0</td>\n",
       "    </tr>\n",
       "    <tr>\n",
       "      <th>LineOpen</th>\n",
       "      <td>0.00</td>\n",
       "      <td>1.0</td>\n",
       "    </tr>\n",
       "    <tr>\n",
       "      <th>LineClose</th>\n",
       "      <td>0.00</td>\n",
       "      <td>1.0</td>\n",
       "    </tr>\n",
       "    <tr>\n",
       "      <th>LineOddsOpen</th>\n",
       "      <td>0.00</td>\n",
       "      <td>1.0</td>\n",
       "    </tr>\n",
       "  </tbody>\n",
       "</table>\n",
       "</div>"
      ],
      "text/plain": [
       "team_score     False  True \n",
       "ot              0.95    1.0\n",
       "week            0.00    0.0\n",
       "LineOddsClose   0.00    1.0\n",
       "eday            0.00    0.0\n",
       "ha              0.00    1.0\n",
       "OddsOpen        0.00    1.0\n",
       "OddsClose       0.00    1.0\n",
       "LineOpen        0.00    1.0\n",
       "LineClose       0.00    1.0\n",
       "LineOddsOpen    0.00    1.0"
      ]
     },
     "execution_count": 17,
     "metadata": {},
     "output_type": "execute_result"
    }
   ],
   "source": [
    "raw.groupby(raw.team_score.isna()).apply(lambda x: x.isna().mean()).round(\n",
    "    2\n",
    ").T.sort_values(by=False, ascending=False).head(10)"
   ]
  },
  {
   "attachments": {},
   "cell_type": "markdown",
   "metadata": {},
   "source": [
    "Games with a value for `team_score`, only have `ot` missing (which we know already), and all other fields are present. _Every_ game without a `team_score` value, neither has any of the other missing fields, and although they have a `win` value, it's not significant.\n",
    "\n",
    "**We'll drop every row without `team_score`, which should delete 386 rows:**\n"
   ]
  },
  {
   "cell_type": "code",
   "execution_count": 18,
   "metadata": {},
   "outputs": [],
   "source": [
    "data = raw[raw.team_score.notna()].copy()\n",
    "assert len(raw) - 386 == len(data)"
   ]
  },
  {
   "cell_type": "code",
   "execution_count": 19,
   "metadata": {},
   "outputs": [],
   "source": [
    "data[\"ot\"] = data[\"ot\"].notna()"
   ]
  },
  {
   "cell_type": "code",
   "execution_count": 20,
   "metadata": {},
   "outputs": [
    {
     "data": {
      "text/html": [
       "<div>\n",
       "<style scoped>\n",
       "    .dataframe tbody tr th:only-of-type {\n",
       "        vertical-align: middle;\n",
       "    }\n",
       "\n",
       "    .dataframe tbody tr th {\n",
       "        vertical-align: top;\n",
       "    }\n",
       "\n",
       "    .dataframe thead th {\n",
       "        text-align: right;\n",
       "    }\n",
       "</style>\n",
       "<table border=\"1\" class=\"dataframe\">\n",
       "  <thead>\n",
       "    <tr style=\"text-align: right;\">\n",
       "      <th></th>\n",
       "      <th>raw_date</th>\n",
       "      <th>eday</th>\n",
       "      <th>date</th>\n",
       "      <th>ts</th>\n",
       "    </tr>\n",
       "  </thead>\n",
       "  <tbody>\n",
       "    <tr>\n",
       "      <th>0</th>\n",
       "      <td>September 07</td>\n",
       "      <td>07sep2014</td>\n",
       "      <td>2014-09-07</td>\n",
       "      <td>1410048000</td>\n",
       "    </tr>\n",
       "    <tr>\n",
       "      <th>1</th>\n",
       "      <td>September 14</td>\n",
       "      <td>14sep2014</td>\n",
       "      <td>2014-09-14</td>\n",
       "      <td>1410652800</td>\n",
       "    </tr>\n",
       "    <tr>\n",
       "      <th>2</th>\n",
       "      <td>September 18</td>\n",
       "      <td>18sep2014</td>\n",
       "      <td>2014-09-18</td>\n",
       "      <td>1410998400</td>\n",
       "    </tr>\n",
       "    <tr>\n",
       "      <th>3</th>\n",
       "      <td>September 28</td>\n",
       "      <td>28sep2014</td>\n",
       "      <td>2014-09-28</td>\n",
       "      <td>1411862400</td>\n",
       "    </tr>\n",
       "    <tr>\n",
       "      <th>4</th>\n",
       "      <td>October 05</td>\n",
       "      <td>05oct2014</td>\n",
       "      <td>2014-10-05</td>\n",
       "      <td>1412467200</td>\n",
       "    </tr>\n",
       "  </tbody>\n",
       "</table>\n",
       "</div>"
      ],
      "text/plain": [
       "       raw_date       eday       date          ts\n",
       "0  September 07  07sep2014 2014-09-07  1410048000\n",
       "1  September 14  14sep2014 2014-09-14  1410652800\n",
       "2  September 18  18sep2014 2014-09-18  1410998400\n",
       "3  September 28  28sep2014 2014-09-28  1411862400\n",
       "4    October 05  05oct2014 2014-10-05  1412467200"
      ]
     },
     "execution_count": 20,
     "metadata": {},
     "output_type": "execute_result"
    }
   ],
   "source": [
    "# Convert the 'eday' column to datetime dtype\n",
    "data[\"raw_date\"] = data.date\n",
    "data['date'] = pd.to_datetime(data['eday'], format='%d%b%Y')\n",
    "# Convert the datetime objects to Unix timestamps\n",
    "data['ts'] = data.date.astype(int) // 10**9\n",
    "\n",
    "data[[\"raw_date\", \"eday\", \"date\", \"ts\"]].head()"
   ]
  },
  {
   "cell_type": "code",
   "execution_count": 21,
   "metadata": {},
   "outputs": [],
   "source": [
    "from datetime import datetime\n",
    "\n",
    "assert [\n",
    "    datetime.fromtimestamp(timestamp) for timestamp in data.ts\n",
    "] == data.date.tolist()"
   ]
  },
  {
   "cell_type": "code",
   "execution_count": 22,
   "metadata": {},
   "outputs": [],
   "source": [
    "# Convert `rec` to three separate fields\n",
    "# data[[\"win\", \"loss\", \"tie\"]] = data['rec'].str.split(\"-\",expand=True).fillna(0).astype(int)"
   ]
  },
  {
   "cell_type": "code",
   "execution_count": 23,
   "metadata": {},
   "outputs": [],
   "source": [
    "assert sorted(data.ha.unique()) == [\"A\", \"H\"]  # Exclude any third options\n",
    "data[\"H\"] = data.ha == \"H\""
   ]
  },
  {
   "cell_type": "code",
   "execution_count": 24,
   "metadata": {},
   "outputs": [],
   "source": [
    "for x in [\"o\", \"d\"]:\n",
    "    assert np.all(data[x + \"_yards\"] == data[x + \"_passy\"] + data[x + \"_rushy\"])"
   ]
  },
  {
   "attachments": {},
   "cell_type": "markdown",
   "metadata": {},
   "source": [
    "Even then, we'll keep the three and let the estimator decide on the better representation."
   ]
  },
  {
   "cell_type": "code",
   "execution_count": 25,
   "metadata": {},
   "outputs": [
    {
     "data": {
      "text/plain": [
       "((1599, 41), (1599, 41))"
      ]
     },
     "execution_count": 25,
     "metadata": {},
     "output_type": "execute_result"
    }
   ],
   "source": [
    "assert data[data.H].shape == data[~data.H].shape\n",
    "data[data.H].shape, data[~data.H].shape"
   ]
  },
  {
   "cell_type": "code",
   "execution_count": 26,
   "metadata": {},
   "outputs": [],
   "source": [
    "data[\"diff_score\"] = data.team_score - data.opp_score\n",
    "data[\"signed_win\"] = np.sign(data.diff_score)"
   ]
  },
  {
   "cell_type": "code",
   "execution_count": 27,
   "metadata": {},
   "outputs": [
    {
     "data": {
      "text/plain": [
       "win  signed_win\n",
       "0    -1.0          1592\n",
       "1     1.0          1592\n",
       "0     0.0            14\n",
       "dtype: int64"
      ]
     },
     "execution_count": 27,
     "metadata": {},
     "output_type": "execute_result"
    }
   ],
   "source": [
    "data[[\"win\", \"signed_win\"]].value_counts()"
   ]
  },
  {
   "attachments": {},
   "cell_type": "markdown",
   "metadata": {},
   "source": [
    "## Feature Engineering\n",
    "\n",
    "Every `week` of every `season`, several `games` between a `home_team` and an `away_team` happen. Some of the features available are particular to the match itself, including the betting odds and line odds:"
   ]
  },
  {
   "cell_type": "code",
   "execution_count": 28,
   "metadata": {},
   "outputs": [],
   "source": [
    "stats_cols = [\n",
    "    \"diff_score\",\n",
    "    \"team_score\",\n",
    "    \"opp_score\",\n",
    "    \"o_fistdown\",\n",
    "    \"o_yards\",\n",
    "    \"o_passy\",\n",
    "    \"o_rushy\",\n",
    "    \"o_to\",\n",
    "    \"d_fistdown\",\n",
    "    \"d_yards\",\n",
    "    \"d_passy\",\n",
    "    \"d_rushy\",\n",
    "    \"d_to\",\n",
    "    \"ep_offense\",\n",
    "    \"ep_defense\",\n",
    "    \"ep_st\",\n",
    "    \"elo\",\n",
    "    \"elo_prob\",\n",
    "    \"qbelo\",\n",
    "    \"qbelo_prob\",\n",
    "    \"win\",\n",
    "]\n",
    "betting_cols = [\n",
    "    \"OddsOpen\",\n",
    "    \"OddsClose\",\n",
    "    \"LineOpen\",\n",
    "    \"LineClose\",\n",
    "    \"LineOddsOpen\",\n",
    "    \"LineOddsClose\",\n",
    "]"
   ]
  },
  {
   "attachments": {},
   "cell_type": "markdown",
   "metadata": {},
   "source": [
    "TODO: `stats_cols` include a lot of \"post-game\" metrics that you only know after the _end_ of the match, and cannot be used as features to predict the outcome (`[team|opp]_score, [o|d]_[yards|passy|rushy|fistdown|to]`), and some that look like \"pre-game\" stats about each team (`ep_[offense|defense|st], (qb)elo(_prob)`). We should clearly differentiate between the two, and keep the latter (instead of dropping them all) as prediction features."
   ]
  },
  {
   "attachments": {},
   "cell_type": "markdown",
   "metadata": {},
   "source": [
    "For each match, we'll create two set of features, for the home (`home_`) and away (`away_`) teams. For each , match, \"base feature\" (i.e. each column in `stats_cols`) and home/away team, we'll calculate:\n",
    "- the last value against any other team (`vsall_last_`),\n",
    "- the historical average against any other team, up until last match included (`vsall_avg_`)\n",
    "- the last value against the same opponent (`vsopp_last_`),\n",
    "- the historical average against the same opponent, up until last match included (`vsopp_avg_`)\n",
    "- the season average, up until last match included (`season_avg_`)\n",
    "\n",
    "We do not include `season_last_` features, because except for the first match of the season it's identical to `vsall_last_`.\n"
   ]
  },
  {
   "cell_type": "code",
   "execution_count": 29,
   "metadata": {},
   "outputs": [],
   "source": [
    "key = [\"season\", \"week\", \"Opponent\", \"Team\"]\n",
    "data = data.sort_values(by=key)\n",
    "vsall = data.groupby(\"Team\", group_keys=False)[stats_cols]\n",
    "vsopp = data.groupby([\"Opponent\", \"Team\"], group_keys=False)[stats_cols]\n",
    "season = data.groupby([\"season\", \"Team\"], group_keys=False)[stats_cols]"
   ]
  },
  {
   "cell_type": "code",
   "execution_count": 30,
   "metadata": {},
   "outputs": [],
   "source": [
    "feats = pd.concat(\n",
    "    [\n",
    "        data[key + betting_cols],\n",
    "        # Last game stats\n",
    "        vsall.shift().add_prefix(\"vsall_last_\"),\n",
    "        # Historical stats average (expanding.mean) up to last game (shift)\n",
    "        vsall.apply(lambda x: x.shift().expanding().mean()).add_prefix(\"vsall_avg_\"),\n",
    "        # Sames as before, but exclusively against the current opponen\n",
    "        vsopp.shift().add_prefix(\"vsopp_last_\"),\n",
    "        vsopp.apply(lambda x: x.shift().expanding().mean()).add_prefix(\"vsopp_avg_\"),\n",
    "        season.apply(lambda x: x.shift().expanding().mean()).add_prefix(\"season_avg_\"),\n",
    "    ],\n",
    "    axis=1,\n",
    ").set_index(key)"
   ]
  },
  {
   "cell_type": "code",
   "execution_count": 31,
   "metadata": {},
   "outputs": [],
   "source": [
    "match_cols = key + [\"date\", \"ts\", \"ot\"]"
   ]
  },
  {
   "cell_type": "code",
   "execution_count": 32,
   "metadata": {},
   "outputs": [],
   "source": [
    "if \"game_id\" in data.columns:\n",
    "    data = data.set_index(\"game_id\").sort_index()\n",
    "home, away = data[data.H], data[~data.H]\n",
    "assert len(home) == len(away) == len(data) / 2\n",
    "assert np.all(home.index == away.index)"
   ]
  },
  {
   "cell_type": "code",
   "execution_count": 33,
   "metadata": {},
   "outputs": [],
   "source": [
    "home_feats = home[key].reset_index().set_index(key).join(feats).set_index(\"game_id\").sort_index()\n",
    "away_feats = away[key].reset_index().set_index(key).join(feats).set_index(\"game_id\").sort_index()"
   ]
  },
  {
   "cell_type": "code",
   "execution_count": 42,
   "metadata": {},
   "outputs": [],
   "source": [
    "X = home[match_cols].sort_index().join(\n",
    "    home_feats.add_prefix(\"home_\")\n",
    ").join(away_feats.add_prefix(\"away_\")).sort_index()"
   ]
  },
  {
   "cell_type": "code",
   "execution_count": 43,
   "metadata": {},
   "outputs": [
    {
     "data": {
      "text/plain": [
       "array([0.467, 0.502, 0.502])"
      ]
     },
     "execution_count": 43,
     "metadata": {},
     "output_type": "execute_result"
    }
   ],
   "source": [
    "over_spread = np.array([\n",
    "    (home.team_score + home.LineClose > home.opp_score).mean(),\n",
    "    (away.team_score + away.LineClose > away.opp_score).mean(),\n",
    "    (home.opp_score + away.LineClose > home.team_score).mean(),\n",
    "]).round(3)\n",
    "over_spread"
   ]
  },
  {
   "cell_type": "code",
   "execution_count": 44,
   "metadata": {},
   "outputs": [
    {
     "data": {
      "text/html": [
       "<div>\n",
       "<style scoped>\n",
       "    .dataframe tbody tr th:only-of-type {\n",
       "        vertical-align: middle;\n",
       "    }\n",
       "\n",
       "    .dataframe tbody tr th {\n",
       "        vertical-align: top;\n",
       "    }\n",
       "\n",
       "    .dataframe thead th {\n",
       "        text-align: right;\n",
       "    }\n",
       "</style>\n",
       "<table border=\"1\" class=\"dataframe\">\n",
       "  <thead>\n",
       "    <tr style=\"text-align: right;\">\n",
       "      <th></th>\n",
       "      <th>season</th>\n",
       "      <th>week</th>\n",
       "      <th>Opponent</th>\n",
       "      <th>Team</th>\n",
       "      <th>date</th>\n",
       "      <th>ts</th>\n",
       "      <th>ot</th>\n",
       "    </tr>\n",
       "    <tr>\n",
       "      <th>game_id</th>\n",
       "      <th></th>\n",
       "      <th></th>\n",
       "      <th></th>\n",
       "      <th></th>\n",
       "      <th></th>\n",
       "      <th></th>\n",
       "      <th></th>\n",
       "    </tr>\n",
       "  </thead>\n",
       "  <tbody>\n",
       "    <tr>\n",
       "      <th>2137</th>\n",
       "      <td>2014</td>\n",
       "      <td>1</td>\n",
       "      <td>gnb</td>\n",
       "      <td>sea</td>\n",
       "      <td>2014-09-04</td>\n",
       "      <td>1409788800</td>\n",
       "      <td>False</td>\n",
       "    </tr>\n",
       "    <tr>\n",
       "      <th>2138</th>\n",
       "      <td>2014</td>\n",
       "      <td>1</td>\n",
       "      <td>nwe</td>\n",
       "      <td>mia</td>\n",
       "      <td>2014-09-07</td>\n",
       "      <td>1410048000</td>\n",
       "      <td>False</td>\n",
       "    </tr>\n",
       "    <tr>\n",
       "      <th>2139</th>\n",
       "      <td>2014</td>\n",
       "      <td>1</td>\n",
       "      <td>cin</td>\n",
       "      <td>rav</td>\n",
       "      <td>2014-09-07</td>\n",
       "      <td>1410048000</td>\n",
       "      <td>False</td>\n",
       "    </tr>\n",
       "    <tr>\n",
       "      <th>2140</th>\n",
       "      <td>2014</td>\n",
       "      <td>1</td>\n",
       "      <td>nor</td>\n",
       "      <td>atl</td>\n",
       "      <td>2014-09-07</td>\n",
       "      <td>1410048000</td>\n",
       "      <td>True</td>\n",
       "    </tr>\n",
       "    <tr>\n",
       "      <th>2141</th>\n",
       "      <td>2014</td>\n",
       "      <td>1</td>\n",
       "      <td>sfo</td>\n",
       "      <td>dal</td>\n",
       "      <td>2014-09-07</td>\n",
       "      <td>1410048000</td>\n",
       "      <td>False</td>\n",
       "    </tr>\n",
       "    <tr>\n",
       "      <th>...</th>\n",
       "      <td>...</td>\n",
       "      <td>...</td>\n",
       "      <td>...</td>\n",
       "      <td>...</td>\n",
       "      <td>...</td>\n",
       "      <td>...</td>\n",
       "      <td>...</td>\n",
       "    </tr>\n",
       "    <tr>\n",
       "      <th>3797</th>\n",
       "      <td>2020</td>\n",
       "      <td>4</td>\n",
       "      <td>clt</td>\n",
       "      <td>chi</td>\n",
       "      <td>2020-10-04</td>\n",
       "      <td>1601769600</td>\n",
       "      <td>False</td>\n",
       "    </tr>\n",
       "    <tr>\n",
       "      <th>3798</th>\n",
       "      <td>2020</td>\n",
       "      <td>4</td>\n",
       "      <td>buf</td>\n",
       "      <td>rai</td>\n",
       "      <td>2020-10-04</td>\n",
       "      <td>1601769600</td>\n",
       "      <td>False</td>\n",
       "    </tr>\n",
       "    <tr>\n",
       "      <th>3799</th>\n",
       "      <td>2020</td>\n",
       "      <td>4</td>\n",
       "      <td>phi</td>\n",
       "      <td>sfo</td>\n",
       "      <td>2020-10-04</td>\n",
       "      <td>1601769600</td>\n",
       "      <td>False</td>\n",
       "    </tr>\n",
       "    <tr>\n",
       "      <th>3800</th>\n",
       "      <td>2020</td>\n",
       "      <td>4</td>\n",
       "      <td>nwe</td>\n",
       "      <td>kan</td>\n",
       "      <td>2020-10-05</td>\n",
       "      <td>1601856000</td>\n",
       "      <td>False</td>\n",
       "    </tr>\n",
       "    <tr>\n",
       "      <th>3801</th>\n",
       "      <td>2020</td>\n",
       "      <td>4</td>\n",
       "      <td>atl</td>\n",
       "      <td>gnb</td>\n",
       "      <td>2020-10-05</td>\n",
       "      <td>1601856000</td>\n",
       "      <td>False</td>\n",
       "    </tr>\n",
       "  </tbody>\n",
       "</table>\n",
       "<p>1599 rows × 7 columns</p>\n",
       "</div>"
      ],
      "text/plain": [
       "         season  week Opponent Team       date          ts     ot\n",
       "game_id                                                          \n",
       "2137       2014     1      gnb  sea 2014-09-04  1409788800  False\n",
       "2138       2014     1      nwe  mia 2014-09-07  1410048000  False\n",
       "2139       2014     1      cin  rav 2014-09-07  1410048000  False\n",
       "2140       2014     1      nor  atl 2014-09-07  1410048000   True\n",
       "2141       2014     1      sfo  dal 2014-09-07  1410048000  False\n",
       "...         ...   ...      ...  ...        ...         ...    ...\n",
       "3797       2020     4      clt  chi 2020-10-04  1601769600  False\n",
       "3798       2020     4      buf  rai 2020-10-04  1601769600  False\n",
       "3799       2020     4      phi  sfo 2020-10-04  1601769600  False\n",
       "3800       2020     4      nwe  kan 2020-10-05  1601856000  False\n",
       "3801       2020     4      atl  gnb 2020-10-05  1601856000  False\n",
       "\n",
       "[1599 rows x 7 columns]"
      ]
     },
     "execution_count": 44,
     "metadata": {},
     "output_type": "execute_result"
    }
   ],
   "source": [
    "home[match_cols]"
   ]
  },
  {
   "attachments": {},
   "cell_type": "markdown",
   "metadata": {},
   "source": [
    "## Modelling"
   ]
  },
  {
   "attachments": {},
   "cell_type": "markdown",
   "metadata": {},
   "source": [
    "Benter:\n",
    "> The type of model used by the author is the **multinomial logit** model proposed by Bolton and Chapman (1986). This model is well suited to horse racing and has the convenient property that its output is a **set of probability estimates which sum to 1 within each race**."
   ]
  },
  {
   "attachments": {},
   "cell_type": "markdown",
   "metadata": {},
   "source": [
    "There are eight possible bets to make on every game:\n",
    "$$ \\text{Bet on the [money, spread] line for the [home, away] team @ book [open, close]}$$\n",
    "\n",
    "To bet on any of those, we need an estimate of the probability of winning the event. There are several ways to do so. In no particular order, here are some possible models:\n",
    "\n",
    "#### 1. \"Trinomial\" Signed Lines\n",
    "For every \"line\" (money or spread), one of three things can happen: home wins, draw/push, away wins. One can then train such \"trinomial\" response (with a logit as Benter, or any other model that outputs probabilities for each class) for every line available (money, open spread, close spread), using the same set of observations, one for each match.\n",
    "- Pros: very straightforward to implement\n",
    "- Cons: loses information by not differentiating between a big (say, +20) and small (+2) win over the line.\n",
    "\n",
    "#### 2. Parametric Point Scores\n",
    "Instead of directly predicting bet's winning probabilities, we first explicitly model the point scoring distribution for both teams, and then derive a closed-form distribution for the point difference of every game. [Maher (1982)](http://www.90minut.pl/misc/maher.pdf), [Dixon & Coles (1997)](https://web.math.ku.dk/~rolf/teaching/thesis/DixonColes.pdf) do so for soccer games rather convincingly, representing the home and away scores essentially as Poisson RVs.\n",
    "- Pros: allows for explicit mean/variance calculations about the game scores; provides ways of computing money, total and spread line odds.\n",
    "- Cons: No obvious parametric distribution to fit even soccer scores (with +1 point increments), less so for american football.\n",
    "\n",
    "#### 3. Score Difference PMF\n",
    "Having no \"total\" line, the money and spread bets winning probabilities can be found knowing just the score difference distribution, which can be thought of as a discrete RV assuming integer values between `min_diff, max_diff`. Then, the probability of winning a bet with $L$ line, is\n",
    "$$ P(diff > L) = \\sum_{k>L} P(diff=k)$$\n",
    "- Pros: Very few assumptions, any nonparametric classifier which outputs class probabilities would do.\n",
    "- Cons: There are a _lot_ of possible lines. Even a [0.05, 0.95] quantile range is `[-22, 27]` in the dataset, for a total of 50 outcomes to train on just ~1.6K games\n",
    "\n",
    "### 4. Score Difference CDF\n",
    "Instead of finding the full PMF for the score difference $diff$ as in Model #3 ($P(diff=k)$ for every $k$), we could directly estimate the quantities of interest $P(diff > L) = 1 - F(L)$, where $F$ is the cumulative distribution function for $diff$. To that end, for every possible line $L$, we train a binary classifier, on the outcome $diff > L$, with every game available.\n",
    "- Pros: Gives direct probabilities of winning any money/spread bet (money bets == spread bets with +-0 line).\n",
    "- Cons: We need to train 50+ classifiers, one for each \"step\" on the CDF \"ladder\"."
   ]
  },
  {
   "attachments": {},
   "cell_type": "markdown",
   "metadata": {},
   "source": [
    "We'll go for Model #1, not because of any intrinsic merit, but due to a lack of time to explore other alternatives."
   ]
  },
  {
   "cell_type": "code",
   "execution_count": 45,
   "metadata": {},
   "outputs": [
    {
     "data": {
      "text/plain": [
       "count    1599.000000\n",
       "mean        1.821764\n",
       "std        14.354579\n",
       "min       -49.000000\n",
       "5%        -22.000000\n",
       "50%         3.000000\n",
       "95%        27.000000\n",
       "max        52.000000\n",
       "Name: diff_score, dtype: float64"
      ]
     },
     "execution_count": 45,
     "metadata": {},
     "output_type": "execute_result"
    }
   ],
   "source": [
    "home.diff_score.describe(percentiles=[0.05, 0.95])"
   ]
  },
  {
   "cell_type": "code",
   "execution_count": 46,
   "metadata": {},
   "outputs": [
    {
     "data": {
      "text/plain": [
       " 3.0     130\n",
       "-3.0      94\n",
       " 7.0      82\n",
       "-7.0      67\n",
       " 6.0      55\n",
       " 10.0     51\n",
       "-6.0      50\n",
       " 14.0     48\n",
       "Name: diff_score, dtype: int64"
      ]
     },
     "execution_count": 46,
     "metadata": {},
     "output_type": "execute_result"
    }
   ],
   "source": [
    "home.diff_score.value_counts().head(8)"
   ]
  },
  {
   "cell_type": "code",
   "execution_count": 47,
   "metadata": {},
   "outputs": [],
   "source": [
    "# \"Signed\" Responses\n",
    "Y = pd.DataFrame(Bundle(\n",
    "    win=np.sign(home.team_score - home.opp_score),\n",
    "    open_spread=np.sign(home.team_score + home.LineOpen - home.opp_score),\n",
    "    close_spread=np.sign(home.team_score + home.LineClose - home.opp_score),\n",
    "))"
   ]
  },
  {
   "cell_type": "code",
   "execution_count": 48,
   "metadata": {},
   "outputs": [
    {
     "data": {
      "text/plain": [
       "win   open_spread  close_spread\n",
       " 1.0   1.0          1.0            662\n",
       "-1.0  -1.0         -1.0            608\n",
       " 1.0  -1.0         -1.0            159\n",
       "-1.0   1.0          1.0             51\n",
       " 1.0  -1.0          0.0             17\n",
       "-1.0  -1.0          1.0             12\n",
       " 1.0   0.0         -1.0             12\n",
       "-1.0  -1.0          0.0             11\n",
       " 1.0  -1.0          1.0             11\n",
       "       1.0         -1.0             10\n",
       "       0.0          0.0              9\n",
       "       1.0          0.0              7\n",
       "-1.0   1.0         -1.0              6\n",
       "       0.0          0.0              4\n",
       "                    1.0              4\n",
       " 0.0  -1.0         -1.0              4\n",
       " 1.0   0.0          1.0              4\n",
       "-1.0   0.0         -1.0              3\n",
       " 0.0   1.0          1.0              2\n",
       "-1.0   1.0          0.0              2\n",
       " 0.0  -1.0          1.0              1\n",
       "dtype: int64"
      ]
     },
     "execution_count": 48,
     "metadata": {},
     "output_type": "execute_result"
    }
   ],
   "source": [
    "Y.value_counts()"
   ]
  },
  {
   "cell_type": "code",
   "execution_count": 49,
   "metadata": {},
   "outputs": [
    {
     "data": {
      "text/plain": [
       "((1599, 229), (1599, 3))"
      ]
     },
     "execution_count": 49,
     "metadata": {},
     "output_type": "execute_result"
    }
   ],
   "source": [
    "X.shape, Y.shape"
   ]
  },
  {
   "cell_type": "code",
   "execution_count": 50,
   "metadata": {},
   "outputs": [],
   "source": [
    "first_season = data.season.min()\n",
    "starting_elo = (\n",
    "    data[(data.season == first_season) & (data.week == 1)][[\"Team\", \"elo\"]]\n",
    "    .set_index(\"Team\")\n",
    "    .elo\n",
    ")\n",
    "team_rank = starting_elo.rank().astype(int)"
   ]
  },
  {
   "cell_type": "code",
   "execution_count": 51,
   "metadata": {},
   "outputs": [],
   "source": [
    "# TODO: Move this to the \"Feature Engineering\" section.\n",
    "X[\"team_rank\"] = team_rank[X.Team].values\n",
    "X[\"opp_rank\"] = team_rank[X.Opponent].values\n",
    "X = X.drop(columns=[\"Team\", \"Opponent\", \"date\"])\n"
   ]
  },
  {
   "attachments": {},
   "cell_type": "markdown",
   "metadata": {},
   "source": [
    "## Estimation / Model Training"
   ]
  },
  {
   "cell_type": "code",
   "execution_count": 53,
   "metadata": {},
   "outputs": [],
   "source": [
    "# Load the historical match data for the team\n",
    "# Split the data into training and testing sets\n",
    "(\n",
    "    X_train,\n",
    "    X_test,\n",
    "    Y_train,\n",
    "    Y_test,\n",
    ") = train_test_split(X, Y, test_size=0.2, random_state=42)"
   ]
  },
  {
   "cell_type": "code",
   "execution_count": 54,
   "metadata": {},
   "outputs": [
    {
     "data": {
      "text/plain": [
       "((1279, 228), (320, 228), (1279, 3), (320, 3))"
      ]
     },
     "execution_count": 54,
     "metadata": {},
     "output_type": "execute_result"
    }
   ],
   "source": [
    "X_train.shape, X_test.shape, Y_train.shape, Y_test.shape"
   ]
  },
  {
   "cell_type": "code",
   "execution_count": 56,
   "metadata": {},
   "outputs": [],
   "source": [
    "from skopt import BayesSearchCV\n",
    "from skopt.space import Real, Integer\n",
    "\n",
    "# Define the search space for the hyperparameters\n",
    "search_space = {\n",
    "    \"num_leaves\": Integer(2, 10),\n",
    "    \"learning_rate\": Real(0.01, 0.25),\n",
    "    \"feature_fraction\": Real(0.5, 1.0),\n",
    "    \"num_iterations\": Integer(50, 500),\n",
    "    \"lambda_l1\": Real(0, 10),\n",
    "    \"lambda_l2\": Real(0, 10),\n",
    "}\n",
    "\n",
    "# Define the LightGBM parameters\n",
    "params = {\n",
    "    \"objective\": \"multiclass\",\n",
    "    \"num_class\": 3,\n",
    "    \"metric\": \"multi_logloss\",\n",
    "    \"boosting_type\": \"gbdt\",\n",
    "}\n",
    "\n",
    "# Define the BayesSearchCV object for each model\n",
    "search_params = Bundle(\n",
    "    estimator=lgb.LGBMClassifier(**params),\n",
    "    search_spaces=search_space,\n",
    "    n_iter=30,\n",
    "    cv=3,\n",
    "    n_jobs=-1,\n",
    "    scoring=\"f1_weighted\",  # TODO: Consider pros/cons of \"neg_log_loss\", \"accuracy\"\n",
    "    random_state=42,\n",
    ")\n"
   ]
  },
  {
   "cell_type": "code",
   "execution_count": 61,
   "metadata": {},
   "outputs": [
    {
     "data": {
      "text/plain": [
       "['open_spread', 'close_spread']"
      ]
     },
     "execution_count": 61,
     "metadata": {},
     "output_type": "execute_result"
    }
   ],
   "source": [
    "[y for y in Y.columns if y != \"win\"]"
   ]
  },
  {
   "cell_type": "code",
   "execution_count": 63,
   "metadata": {},
   "outputs": [
    {
     "name": "stderr",
     "output_type": "stream",
     "text": [
      "/Users/gonzalo/opt/anaconda3/envs/jose-luis/lib/python3.10/site-packages/lightgbm/engine.py:177: UserWarning: Found `num_iterations` in params. Will use it instead of argument\n",
      "  _log_warning(f\"Found `{alias}` in params. Will use it instead of argument\")\n",
      "/Users/gonzalo/opt/anaconda3/envs/jose-luis/lib/python3.10/site-packages/lightgbm/engine.py:177: UserWarning: Found `num_iterations` in params. Will use it instead of argument\n",
      "  _log_warning(f\"Found `{alias}` in params. Will use it instead of argument\")\n",
      "/Users/gonzalo/opt/anaconda3/envs/jose-luis/lib/python3.10/site-packages/lightgbm/engine.py:177: UserWarning: Found `num_iterations` in params. Will use it instead of argument\n",
      "  _log_warning(f\"Found `{alias}` in params. Will use it instead of argument\")\n"
     ]
    },
    {
     "name": "stdout",
     "output_type": "stream",
     "text": [
      "[LightGBM] [Warning] feature_fraction is set=0.705051979426657, colsample_bytree=1.0 will be ignored. Current value: feature_fraction=0.705051979426657\n",
      "[LightGBM] [Warning] lambda_l2 is set=9.328679988478338, reg_lambda=0.0 will be ignored. Current value: lambda_l2=9.328679988478338\n",
      "[LightGBM] [Warning] lambda_l1 is set=7.277257431773251, reg_alpha=0.0 will be ignored. Current value: lambda_l1=7.277257431773251\n",
      "[LightGBM] [Warning] feature_fraction is set=0.705051979426657, colsample_bytree=1.0 will be ignored. Current value: feature_fraction=0.705051979426657\n",
      "[LightGBM] [Warning] lambda_l2 is set=9.328679988478338, reg_lambda=0.0 will be ignored. Current value: lambda_l2=9.328679988478338\n",
      "[LightGBM] [Warning] lambda_l1 is set=7.277257431773251, reg_alpha=0.0 will be ignored. Current value: lambda_l1=7.277257431773251\n",
      "[LightGBM] [Warning] feature_fraction is set=0.705051979426657, colsample_bytree=1.0 will be ignored. Current value: feature_fraction=0.705051979426657\n",
      "[LightGBM] [Warning] lambda_l2 is set=9.328679988478338, reg_lambda=0.0 will be ignored. Current value: lambda_l2=9.328679988478338\n",
      "[LightGBM] [Warning] lambda_l1 is set=7.277257431773251, reg_alpha=0.0 will be ignored. Current value: lambda_l1=7.277257431773251\n"
     ]
    },
    {
     "name": "stderr",
     "output_type": "stream",
     "text": [
      "/Users/gonzalo/opt/anaconda3/envs/jose-luis/lib/python3.10/site-packages/lightgbm/engine.py:177: UserWarning: Found `num_iterations` in params. Will use it instead of argument\n",
      "  _log_warning(f\"Found `{alias}` in params. Will use it instead of argument\")\n"
     ]
    },
    {
     "name": "stdout",
     "output_type": "stream",
     "text": [
      "[LightGBM] [Warning] feature_fraction is set=0.9186941777766422, colsample_bytree=1.0 will be ignored. Current value: feature_fraction=0.9186941777766422\n",
      "[LightGBM] [Warning] lambda_l2 is set=3.03410109884175, reg_lambda=0.0 will be ignored. Current value: lambda_l2=3.03410109884175\n",
      "[LightGBM] [Warning] lambda_l1 is set=8.833152773808623, reg_alpha=0.0 will be ignored. Current value: lambda_l1=8.833152773808623\n"
     ]
    },
    {
     "name": "stderr",
     "output_type": "stream",
     "text": [
      "/Users/gonzalo/opt/anaconda3/envs/jose-luis/lib/python3.10/site-packages/lightgbm/engine.py:177: UserWarning: Found `num_iterations` in params. Will use it instead of argument\n",
      "  _log_warning(f\"Found `{alias}` in params. Will use it instead of argument\")\n",
      "/Users/gonzalo/opt/anaconda3/envs/jose-luis/lib/python3.10/site-packages/lightgbm/engine.py:177: UserWarning: Found `num_iterations` in params. Will use it instead of argument\n",
      "  _log_warning(f\"Found `{alias}` in params. Will use it instead of argument\")\n"
     ]
    },
    {
     "name": "stdout",
     "output_type": "stream",
     "text": [
      "[LightGBM] [Warning] feature_fraction is set=0.9186941777766422, colsample_bytree=1.0 will be ignored. Current value: feature_fraction=0.9186941777766422\n",
      "[LightGBM] [Warning] feature_fraction is set=0.9186941777766422, colsample_bytree=1.0 will be ignored. Current value: feature_fraction=0.9186941777766422\n",
      "[LightGBM] [Warning] lambda_l2 is set=3.03410109884175, reg_lambda=0.0 will be ignored. Current value: lambda_l2=3.03410109884175\n",
      "[LightGBM] [Warning] lambda_l2 is set=3.03410109884175, reg_lambda=0.0 will be ignored. Current value: lambda_l2=3.03410109884175\n",
      "[LightGBM] [Warning] lambda_l1 is set=8.833152773808623, reg_alpha=0.0 will be ignored. Current value: lambda_l1=8.833152773808623\n",
      "[LightGBM] [Warning] lambda_l1 is set=8.833152773808623, reg_alpha=0.0 will be ignored. Current value: lambda_l1=8.833152773808623\n"
     ]
    },
    {
     "name": "stderr",
     "output_type": "stream",
     "text": [
      "/Users/gonzalo/opt/anaconda3/envs/jose-luis/lib/python3.10/site-packages/lightgbm/engine.py:177: UserWarning: Found `num_iterations` in params. Will use it instead of argument\n",
      "  _log_warning(f\"Found `{alias}` in params. Will use it instead of argument\")\n",
      "/Users/gonzalo/opt/anaconda3/envs/jose-luis/lib/python3.10/site-packages/lightgbm/engine.py:177: UserWarning: Found `num_iterations` in params. Will use it instead of argument\n",
      "  _log_warning(f\"Found `{alias}` in params. Will use it instead of argument\")\n"
     ]
    },
    {
     "name": "stdout",
     "output_type": "stream",
     "text": [
      "[LightGBM] [Warning] feature_fraction is set=0.7224162561505759, colsample_bytree=1.0 will be ignored. Current value: feature_fraction=0.7224162561505759\n",
      "[LightGBM] [Warning] lambda_l2 is set=1.0485915855270358, reg_lambda=0.0 will be ignored. Current value: lambda_l2=1.0485915855270358\n",
      "[LightGBM] [Warning] lambda_l1 is set=9.18722521669377, reg_alpha=0.0 will be ignored. Current value: lambda_l1=9.18722521669377\n",
      "[LightGBM] [Warning] feature_fraction is set=0.7224162561505759, colsample_bytree=1.0 will be ignored. Current value: feature_fraction=0.7224162561505759\n",
      "[LightGBM] [Warning] lambda_l2 is set=1.0485915855270358, reg_lambda=0.0 will be ignored. Current value: lambda_l2=1.0485915855270358\n",
      "[LightGBM] [Warning] lambda_l1 is set=9.18722521669377, reg_alpha=0.0 will be ignored. Current value: lambda_l1=9.18722521669377\n"
     ]
    },
    {
     "name": "stderr",
     "output_type": "stream",
     "text": [
      "/Users/gonzalo/opt/anaconda3/envs/jose-luis/lib/python3.10/site-packages/lightgbm/engine.py:177: UserWarning: Found `num_iterations` in params. Will use it instead of argument\n",
      "  _log_warning(f\"Found `{alias}` in params. Will use it instead of argument\")\n"
     ]
    },
    {
     "name": "stdout",
     "output_type": "stream",
     "text": [
      "[LightGBM] [Warning] feature_fraction is set=0.7224162561505759, colsample_bytree=1.0 will be ignored. Current value: feature_fraction=0.7224162561505759\n",
      "[LightGBM] [Warning] lambda_l2 is set=1.0485915855270358, reg_lambda=0.0 will be ignored. Current value: lambda_l2=1.0485915855270358\n",
      "[LightGBM] [Warning] lambda_l1 is set=9.18722521669377, reg_alpha=0.0 will be ignored. Current value: lambda_l1=9.18722521669377\n"
     ]
    },
    {
     "name": "stderr",
     "output_type": "stream",
     "text": [
      "/Users/gonzalo/opt/anaconda3/envs/jose-luis/lib/python3.10/site-packages/lightgbm/engine.py:177: UserWarning: Found `num_iterations` in params. Will use it instead of argument\n",
      "  _log_warning(f\"Found `{alias}` in params. Will use it instead of argument\")\n",
      "/Users/gonzalo/opt/anaconda3/envs/jose-luis/lib/python3.10/site-packages/lightgbm/engine.py:177: UserWarning: Found `num_iterations` in params. Will use it instead of argument\n",
      "  _log_warning(f\"Found `{alias}` in params. Will use it instead of argument\")\n"
     ]
    },
    {
     "name": "stdout",
     "output_type": "stream",
     "text": [
      "[LightGBM] [Warning] feature_fraction is set=0.9061979941786817, colsample_bytree=1.0 will be ignored. Current value: feature_fraction=0.9061979941786817\n",
      "[LightGBM] [Warning] lambda_l2 is set=5.9804707751212804, reg_lambda=0.0 will be ignored. Current value: lambda_l2=5.9804707751212804\n",
      "[LightGBM] [Warning] lambda_l1 is set=1.718715613965607, reg_alpha=0.0 will be ignored. Current value: lambda_l1=1.718715613965607\n",
      "[LightGBM] [Warning] feature_fraction is set=0.9061979941786817, colsample_bytree=1.0 will be ignored. Current value: feature_fraction=0.9061979941786817\n",
      "[LightGBM] [Warning] lambda_l2 is set=5.9804707751212804, reg_lambda=0.0 will be ignored. Current value: lambda_l2=5.9804707751212804\n",
      "[LightGBM] [Warning] lambda_l1 is set=1.718715613965607, reg_alpha=0.0 will be ignored. Current value: lambda_l1=1.718715613965607\n"
     ]
    },
    {
     "name": "stderr",
     "output_type": "stream",
     "text": [
      "/Users/gonzalo/opt/anaconda3/envs/jose-luis/lib/python3.10/site-packages/lightgbm/engine.py:177: UserWarning: Found `num_iterations` in params. Will use it instead of argument\n",
      "  _log_warning(f\"Found `{alias}` in params. Will use it instead of argument\")\n"
     ]
    },
    {
     "name": "stdout",
     "output_type": "stream",
     "text": [
      "[LightGBM] [Warning] feature_fraction is set=0.9061979941786817, colsample_bytree=1.0 will be ignored. Current value: feature_fraction=0.9061979941786817\n",
      "[LightGBM] [Warning] lambda_l2 is set=5.9804707751212804, reg_lambda=0.0 will be ignored. Current value: lambda_l2=5.9804707751212804\n",
      "[LightGBM] [Warning] lambda_l1 is set=1.718715613965607, reg_alpha=0.0 will be ignored. Current value: lambda_l1=1.718715613965607\n"
     ]
    },
    {
     "name": "stderr",
     "output_type": "stream",
     "text": [
      "/Users/gonzalo/opt/anaconda3/envs/jose-luis/lib/python3.10/site-packages/lightgbm/engine.py:177: UserWarning: Found `num_iterations` in params. Will use it instead of argument\n",
      "  _log_warning(f\"Found `{alias}` in params. Will use it instead of argument\")\n",
      "/Users/gonzalo/opt/anaconda3/envs/jose-luis/lib/python3.10/site-packages/lightgbm/engine.py:177: UserWarning: Found `num_iterations` in params. Will use it instead of argument\n",
      "  _log_warning(f\"Found `{alias}` in params. Will use it instead of argument\")\n"
     ]
    },
    {
     "name": "stdout",
     "output_type": "stream",
     "text": [
      "[LightGBM] [Warning] feature_fraction is set=0.8997767208035865, colsample_bytree=1.0 will be ignored. Current value: feature_fraction=0.8997767208035865\n",
      "[LightGBM] [Warning] lambda_l2 is set=5.266202371276925, reg_lambda=0.0 will be ignored. Current value: lambda_l2=5.266202371276925\n",
      "[LightGBM] [Warning] lambda_l1 is set=4.380291864409234, reg_alpha=0.0 will be ignored. Current value: lambda_l1=4.380291864409234\n",
      "[LightGBM] [Warning] feature_fraction is set=0.8997767208035865, colsample_bytree=1.0 will be ignored. Current value: feature_fraction=0.8997767208035865\n",
      "[LightGBM] [Warning] lambda_l2 is set=5.266202371276925, reg_lambda=0.0 will be ignored. Current value: lambda_l2=5.266202371276925\n",
      "[LightGBM] [Warning] lambda_l1 is set=4.380291864409234, reg_alpha=0.0 will be ignored. Current value: lambda_l1=4.380291864409234\n"
     ]
    },
    {
     "name": "stderr",
     "output_type": "stream",
     "text": [
      "/Users/gonzalo/opt/anaconda3/envs/jose-luis/lib/python3.10/site-packages/lightgbm/engine.py:177: UserWarning: Found `num_iterations` in params. Will use it instead of argument\n",
      "  _log_warning(f\"Found `{alias}` in params. Will use it instead of argument\")\n"
     ]
    },
    {
     "name": "stdout",
     "output_type": "stream",
     "text": [
      "[LightGBM] [Warning] feature_fraction is set=0.8997767208035865, colsample_bytree=1.0 will be ignored. Current value: feature_fraction=0.8997767208035865\n",
      "[LightGBM] [Warning] lambda_l2 is set=5.266202371276925, reg_lambda=0.0 will be ignored. Current value: lambda_l2=5.266202371276925\n",
      "[LightGBM] [Warning] lambda_l1 is set=4.380291864409234, reg_alpha=0.0 will be ignored. Current value: lambda_l1=4.380291864409234\n"
     ]
    },
    {
     "name": "stderr",
     "output_type": "stream",
     "text": [
      "/Users/gonzalo/opt/anaconda3/envs/jose-luis/lib/python3.10/site-packages/lightgbm/engine.py:177: UserWarning: Found `num_iterations` in params. Will use it instead of argument\n",
      "  _log_warning(f\"Found `{alias}` in params. Will use it instead of argument\")\n",
      "/Users/gonzalo/opt/anaconda3/envs/jose-luis/lib/python3.10/site-packages/lightgbm/engine.py:177: UserWarning: Found `num_iterations` in params. Will use it instead of argument\n",
      "  _log_warning(f\"Found `{alias}` in params. Will use it instead of argument\")\n",
      "/Users/gonzalo/opt/anaconda3/envs/jose-luis/lib/python3.10/site-packages/lightgbm/engine.py:177: UserWarning: Found `num_iterations` in params. Will use it instead of argument\n",
      "  _log_warning(f\"Found `{alias}` in params. Will use it instead of argument\")\n"
     ]
    },
    {
     "name": "stdout",
     "output_type": "stream",
     "text": [
      "[LightGBM] [Warning] feature_fraction is set=0.8670140089927842, colsample_bytree=1.0 will be ignored. Current value: feature_fraction=0.8670140089927842\n",
      "[LightGBM] [Warning] lambda_l2 is set=1.6360717863855025, reg_lambda=0.0 will be ignored. Current value: lambda_l2=1.6360717863855025\n",
      "[LightGBM] [Warning] lambda_l1 is set=9.393697376027717, reg_alpha=0.0 will be ignored. Current value: lambda_l1=9.393697376027717\n",
      "[LightGBM] [Warning] feature_fraction is set=0.8670140089927842, colsample_bytree=1.0 will be ignored. Current value: feature_fraction=0.8670140089927842\n",
      "[LightGBM] [Warning] lambda_l2 is set=1.6360717863855025, reg_lambda=0.0 will be ignored. Current value: lambda_l2=1.6360717863855025\n",
      "[LightGBM] [Warning] lambda_l1 is set=9.393697376027717, reg_alpha=0.0 will be ignored. Current value: lambda_l1=9.393697376027717\n",
      "[LightGBM] [Warning] feature_fraction is set=0.8670140089927842, colsample_bytree=1.0 will be ignored. Current value: feature_fraction=0.8670140089927842\n",
      "[LightGBM] [Warning] lambda_l2 is set=1.6360717863855025, reg_lambda=0.0 will be ignored. Current value: lambda_l2=1.6360717863855025\n",
      "[LightGBM] [Warning] lambda_l1 is set=9.393697376027717, reg_alpha=0.0 will be ignored. Current value: lambda_l1=9.393697376027717\n"
     ]
    },
    {
     "name": "stderr",
     "output_type": "stream",
     "text": [
      "/Users/gonzalo/opt/anaconda3/envs/jose-luis/lib/python3.10/site-packages/lightgbm/engine.py:177: UserWarning: Found `num_iterations` in params. Will use it instead of argument\n",
      "  _log_warning(f\"Found `{alias}` in params. Will use it instead of argument\")\n",
      "/Users/gonzalo/opt/anaconda3/envs/jose-luis/lib/python3.10/site-packages/lightgbm/engine.py:177: UserWarning: Found `num_iterations` in params. Will use it instead of argument\n",
      "  _log_warning(f\"Found `{alias}` in params. Will use it instead of argument\")\n",
      "/Users/gonzalo/opt/anaconda3/envs/jose-luis/lib/python3.10/site-packages/lightgbm/engine.py:177: UserWarning: Found `num_iterations` in params. Will use it instead of argument\n",
      "  _log_warning(f\"Found `{alias}` in params. Will use it instead of argument\")\n"
     ]
    },
    {
     "name": "stdout",
     "output_type": "stream",
     "text": [
      "[LightGBM] [Warning] feature_fraction is set=0.8085396792511581, colsample_bytree=1.0 will be ignored. Current value: feature_fraction=0.8085396792511581\n",
      "[LightGBM] [Warning] lambda_l2 is set=3.5902293192140395, reg_lambda=0.0 will be ignored. Current value: lambda_l2=3.5902293192140395\n",
      "[LightGBM] [Warning] lambda_l1 is set=7.753643788278826, reg_alpha=0.0 will be ignored. Current value: lambda_l1=7.753643788278826\n",
      "[LightGBM] [Warning] feature_fraction is set=0.8085396792511581, colsample_bytree=1.0 will be ignored. Current value: feature_fraction=0.8085396792511581\n",
      "[LightGBM] [Warning] lambda_l2 is set=3.5902293192140395, reg_lambda=0.0 will be ignored. Current value: lambda_l2=3.5902293192140395\n",
      "[LightGBM] [Warning] lambda_l1 is set=7.753643788278826, reg_alpha=0.0 will be ignored. Current value: lambda_l1=7.753643788278826\n",
      "[LightGBM] [Warning] feature_fraction is set=0.8085396792511581, colsample_bytree=1.0 will be ignored. Current value: feature_fraction=0.8085396792511581\n",
      "[LightGBM] [Warning] lambda_l2 is set=3.5902293192140395, reg_lambda=0.0 will be ignored. Current value: lambda_l2=3.5902293192140395\n",
      "[LightGBM] [Warning] lambda_l1 is set=7.753643788278826, reg_alpha=0.0 will be ignored. Current value: lambda_l1=7.753643788278826\n"
     ]
    },
    {
     "name": "stderr",
     "output_type": "stream",
     "text": [
      "/Users/gonzalo/opt/anaconda3/envs/jose-luis/lib/python3.10/site-packages/lightgbm/engine.py:177: UserWarning: Found `num_iterations` in params. Will use it instead of argument\n",
      "  _log_warning(f\"Found `{alias}` in params. Will use it instead of argument\")\n",
      "/Users/gonzalo/opt/anaconda3/envs/jose-luis/lib/python3.10/site-packages/lightgbm/engine.py:177: UserWarning: Found `num_iterations` in params. Will use it instead of argument\n",
      "  _log_warning(f\"Found `{alias}` in params. Will use it instead of argument\")\n",
      "/Users/gonzalo/opt/anaconda3/envs/jose-luis/lib/python3.10/site-packages/lightgbm/engine.py:177: UserWarning: Found `num_iterations` in params. Will use it instead of argument\n",
      "  _log_warning(f\"Found `{alias}` in params. Will use it instead of argument\")\n"
     ]
    },
    {
     "name": "stdout",
     "output_type": "stream",
     "text": [
      "[LightGBM] [Warning] feature_fraction is set=0.7717015338451563, colsample_bytree=1.0 will be ignored. Current value: feature_fraction=0.7717015338451563\n",
      "[LightGBM] [Warning] lambda_l2 is set=4.964667035967167, reg_lambda=0.0 will be ignored. Current value: lambda_l2=4.964667035967167\n",
      "[LightGBM] [Warning] lambda_l1 is set=9.200092264373165, reg_alpha=0.0 will be ignored. Current value: lambda_l1=9.200092264373165\n",
      "[LightGBM] [Warning] feature_fraction is set=0.7717015338451563, colsample_bytree=1.0 will be ignored. Current value: feature_fraction=0.7717015338451563\n",
      "[LightGBM] [Warning] lambda_l2 is set=4.964667035967167, reg_lambda=0.0 will be ignored. Current value: lambda_l2=4.964667035967167\n",
      "[LightGBM] [Warning] lambda_l1 is set=9.200092264373165, reg_alpha=0.0 will be ignored. Current value: lambda_l1=9.200092264373165\n",
      "[LightGBM] [Warning] feature_fraction is set=0.7717015338451563, colsample_bytree=1.0 will be ignored. Current value: feature_fraction=0.7717015338451563\n",
      "[LightGBM] [Warning] lambda_l2 is set=4.964667035967167, reg_lambda=0.0 will be ignored. Current value: lambda_l2=4.964667035967167\n",
      "[LightGBM] [Warning] lambda_l1 is set=9.200092264373165, reg_alpha=0.0 will be ignored. Current value: lambda_l1=9.200092264373165\n"
     ]
    },
    {
     "name": "stderr",
     "output_type": "stream",
     "text": [
      "/Users/gonzalo/opt/anaconda3/envs/jose-luis/lib/python3.10/site-packages/lightgbm/engine.py:177: UserWarning: Found `num_iterations` in params. Will use it instead of argument\n",
      "  _log_warning(f\"Found `{alias}` in params. Will use it instead of argument\")\n",
      "/Users/gonzalo/opt/anaconda3/envs/jose-luis/lib/python3.10/site-packages/lightgbm/engine.py:177: UserWarning: Found `num_iterations` in params. Will use it instead of argument\n",
      "  _log_warning(f\"Found `{alias}` in params. Will use it instead of argument\")\n",
      "/Users/gonzalo/opt/anaconda3/envs/jose-luis/lib/python3.10/site-packages/lightgbm/engine.py:177: UserWarning: Found `num_iterations` in params. Will use it instead of argument\n",
      "  _log_warning(f\"Found `{alias}` in params. Will use it instead of argument\")\n"
     ]
    },
    {
     "name": "stdout",
     "output_type": "stream",
     "text": [
      "[LightGBM] [Warning] feature_fraction is set=0.9777389931549642, colsample_bytree=1.0 will be ignored. Current value: feature_fraction=0.9777389931549642\n",
      "[LightGBM] [Warning] lambda_l2 is set=8.71651928463215, reg_lambda=0.0 will be ignored. Current value: lambda_l2=8.71651928463215\n",
      "[LightGBM] [Warning] lambda_l1 is set=7.00621444621366, reg_alpha=0.0 will be ignored. Current value: lambda_l1=7.00621444621366\n",
      "[LightGBM] [Warning] feature_fraction is set=0.9777389931549642, colsample_bytree=1.0 will be ignored. Current value: feature_fraction=0.9777389931549642\n",
      "[LightGBM] [Warning] lambda_l2 is set=8.71651928463215, reg_lambda=0.0 will be ignored. Current value: lambda_l2=8.71651928463215\n",
      "[LightGBM] [Warning] lambda_l1 is set=7.00621444621366, reg_alpha=0.0 will be ignored. Current value: lambda_l1=7.00621444621366\n",
      "[LightGBM] [Warning] feature_fraction is set=0.9777389931549642, colsample_bytree=1.0 will be ignored. Current value: feature_fraction=0.9777389931549642\n",
      "[LightGBM] [Warning] lambda_l2 is set=8.71651928463215, reg_lambda=0.0 will be ignored. Current value: lambda_l2=8.71651928463215\n",
      "[LightGBM] [Warning] lambda_l1 is set=7.00621444621366, reg_alpha=0.0 will be ignored. Current value: lambda_l1=7.00621444621366\n"
     ]
    },
    {
     "name": "stderr",
     "output_type": "stream",
     "text": [
      "/Users/gonzalo/opt/anaconda3/envs/jose-luis/lib/python3.10/site-packages/lightgbm/engine.py:177: UserWarning: Found `num_iterations` in params. Will use it instead of argument\n",
      "  _log_warning(f\"Found `{alias}` in params. Will use it instead of argument\")\n",
      "/Users/gonzalo/opt/anaconda3/envs/jose-luis/lib/python3.10/site-packages/lightgbm/engine.py:177: UserWarning: Found `num_iterations` in params. Will use it instead of argument\n",
      "  _log_warning(f\"Found `{alias}` in params. Will use it instead of argument\")\n",
      "/Users/gonzalo/opt/anaconda3/envs/jose-luis/lib/python3.10/site-packages/lightgbm/engine.py:177: UserWarning: Found `num_iterations` in params. Will use it instead of argument\n",
      "  _log_warning(f\"Found `{alias}` in params. Will use it instead of argument\")\n"
     ]
    },
    {
     "name": "stdout",
     "output_type": "stream",
     "text": [
      "[LightGBM] [Warning] feature_fraction is set=0.5018151536273716, colsample_bytree=1.0 will be ignored. Current value: feature_fraction=0.5018151536273716\n",
      "[LightGBM] [Warning] lambda_l2 is set=7.412827443680273, reg_lambda=0.0 will be ignored. Current value: lambda_l2=7.412827443680273\n",
      "[LightGBM] [Warning] lambda_l1 is set=8.178300196637515, reg_alpha=0.0 will be ignored. Current value: lambda_l1=8.178300196637515\n",
      "[LightGBM] [Warning] feature_fraction is set=0.5018151536273716, colsample_bytree=1.0 will be ignored. Current value: feature_fraction=0.5018151536273716\n",
      "[LightGBM] [Warning] lambda_l2 is set=7.412827443680273, reg_lambda=0.0 will be ignored. Current value: lambda_l2=7.412827443680273\n",
      "[LightGBM] [Warning] lambda_l1 is set=8.178300196637515, reg_alpha=0.0 will be ignored. Current value: lambda_l1=8.178300196637515\n",
      "[LightGBM] [Warning] feature_fraction is set=0.5018151536273716, colsample_bytree=1.0 will be ignored. Current value: feature_fraction=0.5018151536273716\n",
      "[LightGBM] [Warning] lambda_l2 is set=7.412827443680273, reg_lambda=0.0 will be ignored. Current value: lambda_l2=7.412827443680273\n",
      "[LightGBM] [Warning] lambda_l1 is set=8.178300196637515, reg_alpha=0.0 will be ignored. Current value: lambda_l1=8.178300196637515\n"
     ]
    },
    {
     "name": "stderr",
     "output_type": "stream",
     "text": [
      "/Users/gonzalo/opt/anaconda3/envs/jose-luis/lib/python3.10/site-packages/lightgbm/engine.py:177: UserWarning: Found `num_iterations` in params. Will use it instead of argument\n",
      "  _log_warning(f\"Found `{alias}` in params. Will use it instead of argument\")\n",
      "/Users/gonzalo/opt/anaconda3/envs/jose-luis/lib/python3.10/site-packages/lightgbm/engine.py:177: UserWarning: Found `num_iterations` in params. Will use it instead of argument\n",
      "  _log_warning(f\"Found `{alias}` in params. Will use it instead of argument\")\n",
      "/Users/gonzalo/opt/anaconda3/envs/jose-luis/lib/python3.10/site-packages/lightgbm/engine.py:177: UserWarning: Found `num_iterations` in params. Will use it instead of argument\n",
      "  _log_warning(f\"Found `{alias}` in params. Will use it instead of argument\")\n"
     ]
    },
    {
     "name": "stdout",
     "output_type": "stream",
     "text": [
      "[LightGBM] [Warning] feature_fraction is set=0.7471525251651421, colsample_bytree=1.0 will be ignored. Current value: feature_fraction=0.7471525251651421\n",
      "[LightGBM] [Warning] lambda_l2 is set=3.963872883457346, reg_lambda=0.0 will be ignored. Current value: lambda_l2=3.963872883457346\n",
      "[LightGBM] [Warning] lambda_l1 is set=10.0, reg_alpha=0.0 will be ignored. Current value: lambda_l1=10.0\n",
      "[LightGBM] [Warning] feature_fraction is set=0.7471525251651421, colsample_bytree=1.0 will be ignored. Current value: feature_fraction=0.7471525251651421\n",
      "[LightGBM] [Warning] lambda_l2 is set=3.963872883457346, reg_lambda=0.0 will be ignored. Current value: lambda_l2=3.963872883457346\n",
      "[LightGBM] [Warning] lambda_l1 is set=10.0, reg_alpha=0.0 will be ignored. Current value: lambda_l1=10.0\n",
      "[LightGBM] [Warning] feature_fraction is set=0.7471525251651421, colsample_bytree=1.0 will be ignored. Current value: feature_fraction=0.7471525251651421\n",
      "[LightGBM] [Warning] lambda_l2 is set=3.963872883457346, reg_lambda=0.0 will be ignored. Current value: lambda_l2=3.963872883457346\n",
      "[LightGBM] [Warning] lambda_l1 is set=10.0, reg_alpha=0.0 will be ignored. Current value: lambda_l1=10.0\n"
     ]
    },
    {
     "name": "stderr",
     "output_type": "stream",
     "text": [
      "/Users/gonzalo/opt/anaconda3/envs/jose-luis/lib/python3.10/site-packages/lightgbm/engine.py:177: UserWarning: Found `num_iterations` in params. Will use it instead of argument\n",
      "  _log_warning(f\"Found `{alias}` in params. Will use it instead of argument\")\n",
      "/Users/gonzalo/opt/anaconda3/envs/jose-luis/lib/python3.10/site-packages/lightgbm/engine.py:177: UserWarning: Found `num_iterations` in params. Will use it instead of argument\n",
      "  _log_warning(f\"Found `{alias}` in params. Will use it instead of argument\")\n",
      "/Users/gonzalo/opt/anaconda3/envs/jose-luis/lib/python3.10/site-packages/lightgbm/engine.py:177: UserWarning: Found `num_iterations` in params. Will use it instead of argument\n",
      "  _log_warning(f\"Found `{alias}` in params. Will use it instead of argument\")\n"
     ]
    },
    {
     "name": "stdout",
     "output_type": "stream",
     "text": [
      "[LightGBM] [Warning] feature_fraction is set=0.8038800152448076, colsample_bytree=1.0 will be ignored. Current value: feature_fraction=0.8038800152448076\n",
      "[LightGBM] [Warning] lambda_l2 is set=1.2980769982601992, reg_lambda=0.0 will be ignored. Current value: lambda_l2=1.2980769982601992\n",
      "[LightGBM] [Warning] lambda_l1 is set=0.0, reg_alpha=0.0 will be ignored. Current value: lambda_l1=0.0\n",
      "[LightGBM] [Warning] feature_fraction is set=0.8038800152448076, colsample_bytree=1.0 will be ignored. Current value: feature_fraction=0.8038800152448076\n",
      "[LightGBM] [Warning] lambda_l2 is set=1.2980769982601992, reg_lambda=0.0 will be ignored. Current value: lambda_l2=1.2980769982601992\n",
      "[LightGBM] [Warning] lambda_l1 is set=0.0, reg_alpha=0.0 will be ignored. Current value: lambda_l1=0.0\n",
      "[LightGBM] [Warning] feature_fraction is set=0.8038800152448076, colsample_bytree=1.0 will be ignored. Current value: feature_fraction=0.8038800152448076\n",
      "[LightGBM] [Warning] lambda_l2 is set=1.2980769982601992, reg_lambda=0.0 will be ignored. Current value: lambda_l2=1.2980769982601992\n",
      "[LightGBM] [Warning] lambda_l1 is set=0.0, reg_alpha=0.0 will be ignored. Current value: lambda_l1=0.0\n"
     ]
    },
    {
     "name": "stderr",
     "output_type": "stream",
     "text": [
      "/Users/gonzalo/opt/anaconda3/envs/jose-luis/lib/python3.10/site-packages/lightgbm/engine.py:177: UserWarning: Found `num_iterations` in params. Will use it instead of argument\n",
      "  _log_warning(f\"Found `{alias}` in params. Will use it instead of argument\")\n",
      "/Users/gonzalo/opt/anaconda3/envs/jose-luis/lib/python3.10/site-packages/lightgbm/engine.py:177: UserWarning: Found `num_iterations` in params. Will use it instead of argument\n",
      "  _log_warning(f\"Found `{alias}` in params. Will use it instead of argument\")\n",
      "/Users/gonzalo/opt/anaconda3/envs/jose-luis/lib/python3.10/site-packages/lightgbm/engine.py:177: UserWarning: Found `num_iterations` in params. Will use it instead of argument\n",
      "  _log_warning(f\"Found `{alias}` in params. Will use it instead of argument\")\n"
     ]
    },
    {
     "name": "stdout",
     "output_type": "stream",
     "text": [
      "[LightGBM] [Warning] feature_fraction is set=0.8130660230091358, colsample_bytree=1.0 will be ignored. Current value: feature_fraction=0.8130660230091358\n",
      "[LightGBM] [Warning] lambda_l2 is set=10.0, reg_lambda=0.0 will be ignored. Current value: lambda_l2=10.0\n",
      "[LightGBM] [Warning] lambda_l1 is set=3.4940797592540865e-18, reg_alpha=0.0 will be ignored. Current value: lambda_l1=3.4940797592540865e-18\n",
      "[LightGBM] [Warning] feature_fraction is set=0.8130660230091358, colsample_bytree=1.0 will be ignored. Current value: feature_fraction=0.8130660230091358\n",
      "[LightGBM] [Warning] lambda_l2 is set=10.0, reg_lambda=0.0 will be ignored. Current value: lambda_l2=10.0\n",
      "[LightGBM] [Warning] lambda_l1 is set=3.4940797592540865e-18, reg_alpha=0.0 will be ignored. Current value: lambda_l1=3.4940797592540865e-18\n",
      "[LightGBM] [Warning] feature_fraction is set=0.8130660230091358, colsample_bytree=1.0 will be ignored. Current value: feature_fraction=0.8130660230091358\n",
      "[LightGBM] [Warning] lambda_l2 is set=10.0, reg_lambda=0.0 will be ignored. Current value: lambda_l2=10.0\n",
      "[LightGBM] [Warning] lambda_l1 is set=3.4940797592540865e-18, reg_alpha=0.0 will be ignored. Current value: lambda_l1=3.4940797592540865e-18\n"
     ]
    },
    {
     "name": "stderr",
     "output_type": "stream",
     "text": [
      "/Users/gonzalo/opt/anaconda3/envs/jose-luis/lib/python3.10/site-packages/lightgbm/engine.py:177: UserWarning: Found `num_iterations` in params. Will use it instead of argument\n",
      "  _log_warning(f\"Found `{alias}` in params. Will use it instead of argument\")\n",
      "/Users/gonzalo/opt/anaconda3/envs/jose-luis/lib/python3.10/site-packages/lightgbm/engine.py:177: UserWarning: Found `num_iterations` in params. Will use it instead of argument\n",
      "  _log_warning(f\"Found `{alias}` in params. Will use it instead of argument\")\n",
      "/Users/gonzalo/opt/anaconda3/envs/jose-luis/lib/python3.10/site-packages/lightgbm/engine.py:177: UserWarning: Found `num_iterations` in params. Will use it instead of argument\n",
      "  _log_warning(f\"Found `{alias}` in params. Will use it instead of argument\")\n"
     ]
    },
    {
     "name": "stdout",
     "output_type": "stream",
     "text": [
      "[LightGBM] [Warning] feature_fraction is set=0.7599046234766829, colsample_bytree=1.0 will be ignored. Current value: feature_fraction=0.7599046234766829\n",
      "[LightGBM] [Warning] lambda_l2 is set=3.826838161700242, reg_lambda=0.0 will be ignored. Current value: lambda_l2=3.826838161700242\n",
      "[LightGBM] [Warning] lambda_l1 is set=6.046356472880651, reg_alpha=0.0 will be ignored. Current value: lambda_l1=6.046356472880651\n",
      "[LightGBM] [Warning] feature_fraction is set=0.7599046234766829, colsample_bytree=1.0 will be ignored. Current value: feature_fraction=0.7599046234766829\n",
      "[LightGBM] [Warning] lambda_l2 is set=3.826838161700242, reg_lambda=0.0 will be ignored. Current value: lambda_l2=3.826838161700242\n",
      "[LightGBM] [Warning] lambda_l1 is set=6.046356472880651, reg_alpha=0.0 will be ignored. Current value: lambda_l1=6.046356472880651\n",
      "[LightGBM] [Warning] feature_fraction is set=0.7599046234766829, colsample_bytree=1.0 will be ignored. Current value: feature_fraction=0.7599046234766829\n",
      "[LightGBM] [Warning] lambda_l2 is set=3.826838161700242, reg_lambda=0.0 will be ignored. Current value: lambda_l2=3.826838161700242\n",
      "[LightGBM] [Warning] lambda_l1 is set=6.046356472880651, reg_alpha=0.0 will be ignored. Current value: lambda_l1=6.046356472880651\n"
     ]
    },
    {
     "name": "stderr",
     "output_type": "stream",
     "text": [
      "/Users/gonzalo/opt/anaconda3/envs/jose-luis/lib/python3.10/site-packages/lightgbm/engine.py:177: UserWarning: Found `num_iterations` in params. Will use it instead of argument\n",
      "  _log_warning(f\"Found `{alias}` in params. Will use it instead of argument\")\n",
      "/Users/gonzalo/opt/anaconda3/envs/jose-luis/lib/python3.10/site-packages/lightgbm/engine.py:177: UserWarning: Found `num_iterations` in params. Will use it instead of argument\n",
      "  _log_warning(f\"Found `{alias}` in params. Will use it instead of argument\")\n",
      "/Users/gonzalo/opt/anaconda3/envs/jose-luis/lib/python3.10/site-packages/lightgbm/engine.py:177: UserWarning: Found `num_iterations` in params. Will use it instead of argument\n",
      "  _log_warning(f\"Found `{alias}` in params. Will use it instead of argument\")\n"
     ]
    },
    {
     "name": "stdout",
     "output_type": "stream",
     "text": [
      "[LightGBM] [Warning] feature_fraction is set=0.5, colsample_bytree=1.0 will be ignored. Current value: feature_fraction=0.5\n",
      "[LightGBM] [Warning] lambda_l2 is set=4.241136502200377, reg_lambda=0.0 will be ignored. Current value: lambda_l2=4.241136502200377\n",
      "[LightGBM] [Warning] lambda_l1 is set=7.583839561113037, reg_alpha=0.0 will be ignored. Current value: lambda_l1=7.583839561113037\n",
      "[LightGBM] [Warning] feature_fraction is set=0.5, colsample_bytree=1.0 will be ignored. Current value: feature_fraction=0.5\n",
      "[LightGBM] [Warning] lambda_l2 is set=4.241136502200377, reg_lambda=0.0 will be ignored. Current value: lambda_l2=4.241136502200377\n",
      "[LightGBM] [Warning] lambda_l1 is set=7.583839561113037, reg_alpha=0.0 will be ignored. Current value: lambda_l1=7.583839561113037\n",
      "[LightGBM] [Warning] feature_fraction is set=0.5, colsample_bytree=1.0 will be ignored. Current value: feature_fraction=0.5\n",
      "[LightGBM] [Warning] lambda_l2 is set=4.241136502200377, reg_lambda=0.0 will be ignored. Current value: lambda_l2=4.241136502200377\n",
      "[LightGBM] [Warning] lambda_l1 is set=7.583839561113037, reg_alpha=0.0 will be ignored. Current value: lambda_l1=7.583839561113037\n"
     ]
    },
    {
     "name": "stderr",
     "output_type": "stream",
     "text": [
      "/Users/gonzalo/opt/anaconda3/envs/jose-luis/lib/python3.10/site-packages/lightgbm/engine.py:177: UserWarning: Found `num_iterations` in params. Will use it instead of argument\n",
      "  _log_warning(f\"Found `{alias}` in params. Will use it instead of argument\")\n",
      "/Users/gonzalo/opt/anaconda3/envs/jose-luis/lib/python3.10/site-packages/lightgbm/engine.py:177: UserWarning: Found `num_iterations` in params. Will use it instead of argument\n",
      "  _log_warning(f\"Found `{alias}` in params. Will use it instead of argument\")\n",
      "/Users/gonzalo/opt/anaconda3/envs/jose-luis/lib/python3.10/site-packages/lightgbm/engine.py:177: UserWarning: Found `num_iterations` in params. Will use it instead of argument\n",
      "  _log_warning(f\"Found `{alias}` in params. Will use it instead of argument\")\n"
     ]
    },
    {
     "name": "stdout",
     "output_type": "stream",
     "text": [
      "[LightGBM] [Warning] feature_fraction is set=1.0, colsample_bytree=1.0 will be ignored. Current value: feature_fraction=1.0\n",
      "[LightGBM] [Warning] lambda_l2 is set=4.3636755051041725, reg_lambda=0.0 will be ignored. Current value: lambda_l2=4.3636755051041725\n",
      "[LightGBM] [Warning] lambda_l1 is set=10.0, reg_alpha=0.0 will be ignored. Current value: lambda_l1=10.0\n",
      "[LightGBM] [Warning] feature_fraction is set=1.0, colsample_bytree=1.0 will be ignored. Current value: feature_fraction=1.0\n",
      "[LightGBM] [Warning] lambda_l2 is set=4.3636755051041725, reg_lambda=0.0 will be ignored. Current value: lambda_l2=4.3636755051041725\n",
      "[LightGBM] [Warning] lambda_l1 is set=10.0, reg_alpha=0.0 will be ignored. Current value: lambda_l1=10.0\n",
      "[LightGBM] [Warning] feature_fraction is set=1.0, colsample_bytree=1.0 will be ignored. Current value: feature_fraction=1.0\n",
      "[LightGBM] [Warning] lambda_l2 is set=4.3636755051041725, reg_lambda=0.0 will be ignored. Current value: lambda_l2=4.3636755051041725\n",
      "[LightGBM] [Warning] lambda_l1 is set=10.0, reg_alpha=0.0 will be ignored. Current value: lambda_l1=10.0\n"
     ]
    },
    {
     "name": "stderr",
     "output_type": "stream",
     "text": [
      "/Users/gonzalo/opt/anaconda3/envs/jose-luis/lib/python3.10/site-packages/lightgbm/engine.py:177: UserWarning: Found `num_iterations` in params. Will use it instead of argument\n",
      "  _log_warning(f\"Found `{alias}` in params. Will use it instead of argument\")\n",
      "/Users/gonzalo/opt/anaconda3/envs/jose-luis/lib/python3.10/site-packages/lightgbm/engine.py:177: UserWarning: Found `num_iterations` in params. Will use it instead of argument\n",
      "  _log_warning(f\"Found `{alias}` in params. Will use it instead of argument\")\n",
      "/Users/gonzalo/opt/anaconda3/envs/jose-luis/lib/python3.10/site-packages/lightgbm/engine.py:177: UserWarning: Found `num_iterations` in params. Will use it instead of argument\n",
      "  _log_warning(f\"Found `{alias}` in params. Will use it instead of argument\")\n"
     ]
    },
    {
     "name": "stdout",
     "output_type": "stream",
     "text": [
      "[LightGBM] [Warning] feature_fraction is set=0.6111544714974603, colsample_bytree=1.0 will be ignored. Current value: feature_fraction=0.6111544714974603\n",
      "[LightGBM] [Warning] lambda_l2 is set=4.082850209663818, reg_lambda=0.0 will be ignored. Current value: lambda_l2=4.082850209663818\n",
      "[LightGBM] [Warning] lambda_l1 is set=10.0, reg_alpha=0.0 will be ignored. Current value: lambda_l1=10.0\n",
      "[LightGBM] [Warning] feature_fraction is set=0.6111544714974603, colsample_bytree=1.0 will be ignored. Current value: feature_fraction=0.6111544714974603\n",
      "[LightGBM] [Warning] lambda_l2 is set=4.082850209663818, reg_lambda=0.0 will be ignored. Current value: lambda_l2=4.082850209663818\n",
      "[LightGBM] [Warning] lambda_l1 is set=10.0, reg_alpha=0.0 will be ignored. Current value: lambda_l1=10.0\n",
      "[LightGBM] [Warning] feature_fraction is set=0.6111544714974603, colsample_bytree=1.0 will be ignored. Current value: feature_fraction=0.6111544714974603\n",
      "[LightGBM] [Warning] lambda_l2 is set=4.082850209663818, reg_lambda=0.0 will be ignored. Current value: lambda_l2=4.082850209663818\n",
      "[LightGBM] [Warning] lambda_l1 is set=10.0, reg_alpha=0.0 will be ignored. Current value: lambda_l1=10.0\n"
     ]
    },
    {
     "name": "stderr",
     "output_type": "stream",
     "text": [
      "/Users/gonzalo/opt/anaconda3/envs/jose-luis/lib/python3.10/site-packages/lightgbm/engine.py:177: UserWarning: Found `num_iterations` in params. Will use it instead of argument\n",
      "  _log_warning(f\"Found `{alias}` in params. Will use it instead of argument\")\n",
      "/Users/gonzalo/opt/anaconda3/envs/jose-luis/lib/python3.10/site-packages/lightgbm/engine.py:177: UserWarning: Found `num_iterations` in params. Will use it instead of argument\n",
      "  _log_warning(f\"Found `{alias}` in params. Will use it instead of argument\")\n",
      "/Users/gonzalo/opt/anaconda3/envs/jose-luis/lib/python3.10/site-packages/lightgbm/engine.py:177: UserWarning: Found `num_iterations` in params. Will use it instead of argument\n",
      "  _log_warning(f\"Found `{alias}` in params. Will use it instead of argument\")\n"
     ]
    },
    {
     "name": "stdout",
     "output_type": "stream",
     "text": [
      "[LightGBM] [Warning] feature_fraction is set=0.504087360334463, colsample_bytree=1.0 will be ignored. Current value: feature_fraction=0.504087360334463\n",
      "[LightGBM] [Warning] lambda_l2 is set=5.154726386662302, reg_lambda=0.0 will be ignored. Current value: lambda_l2=5.154726386662302\n",
      "[LightGBM] [Warning] lambda_l1 is set=10.0, reg_alpha=0.0 will be ignored. Current value: lambda_l1=10.0\n",
      "[LightGBM] [Warning] feature_fraction is set=0.504087360334463, colsample_bytree=1.0 will be ignored. Current value: feature_fraction=0.504087360334463\n",
      "[LightGBM] [Warning] lambda_l2 is set=5.154726386662302, reg_lambda=0.0 will be ignored. Current value: lambda_l2=5.154726386662302\n",
      "[LightGBM] [Warning] lambda_l1 is set=10.0, reg_alpha=0.0 will be ignored. Current value: lambda_l1=10.0\n",
      "[LightGBM] [Warning] feature_fraction is set=0.504087360334463, colsample_bytree=1.0 will be ignored. Current value: feature_fraction=0.504087360334463\n",
      "[LightGBM] [Warning] lambda_l2 is set=5.154726386662302, reg_lambda=0.0 will be ignored. Current value: lambda_l2=5.154726386662302\n",
      "[LightGBM] [Warning] lambda_l1 is set=10.0, reg_alpha=0.0 will be ignored. Current value: lambda_l1=10.0\n"
     ]
    },
    {
     "name": "stderr",
     "output_type": "stream",
     "text": [
      "/Users/gonzalo/opt/anaconda3/envs/jose-luis/lib/python3.10/site-packages/lightgbm/engine.py:177: UserWarning: Found `num_iterations` in params. Will use it instead of argument\n",
      "  _log_warning(f\"Found `{alias}` in params. Will use it instead of argument\")\n",
      "/Users/gonzalo/opt/anaconda3/envs/jose-luis/lib/python3.10/site-packages/lightgbm/engine.py:177: UserWarning: Found `num_iterations` in params. Will use it instead of argument\n",
      "  _log_warning(f\"Found `{alias}` in params. Will use it instead of argument\")\n",
      "/Users/gonzalo/opt/anaconda3/envs/jose-luis/lib/python3.10/site-packages/lightgbm/engine.py:177: UserWarning: Found `num_iterations` in params. Will use it instead of argument\n",
      "  _log_warning(f\"Found `{alias}` in params. Will use it instead of argument\")\n"
     ]
    },
    {
     "name": "stdout",
     "output_type": "stream",
     "text": [
      "[LightGBM] [Warning] feature_fraction is set=0.5, colsample_bytree=1.0 will be ignored. Current value: feature_fraction=0.5\n",
      "[LightGBM] [Warning] lambda_l2 is set=0.0, reg_lambda=0.0 will be ignored. Current value: lambda_l2=0.0\n",
      "[LightGBM] [Warning] lambda_l1 is set=10.0, reg_alpha=0.0 will be ignored. Current value: lambda_l1=10.0\n",
      "[LightGBM] [Warning] feature_fraction is set=0.5, colsample_bytree=1.0 will be ignored. Current value: feature_fraction=0.5\n",
      "[LightGBM] [Warning] lambda_l2 is set=0.0, reg_lambda=0.0 will be ignored. Current value: lambda_l2=0.0\n",
      "[LightGBM] [Warning] lambda_l1 is set=10.0, reg_alpha=0.0 will be ignored. Current value: lambda_l1=10.0\n",
      "[LightGBM] [Warning] feature_fraction is set=0.5, colsample_bytree=1.0 will be ignored. Current value: feature_fraction=0.5\n",
      "[LightGBM] [Warning] lambda_l2 is set=0.0, reg_lambda=0.0 will be ignored. Current value: lambda_l2=0.0\n",
      "[LightGBM] [Warning] lambda_l1 is set=10.0, reg_alpha=0.0 will be ignored. Current value: lambda_l1=10.0\n"
     ]
    },
    {
     "name": "stderr",
     "output_type": "stream",
     "text": [
      "/Users/gonzalo/opt/anaconda3/envs/jose-luis/lib/python3.10/site-packages/lightgbm/engine.py:177: UserWarning: Found `num_iterations` in params. Will use it instead of argument\n",
      "  _log_warning(f\"Found `{alias}` in params. Will use it instead of argument\")\n",
      "/Users/gonzalo/opt/anaconda3/envs/jose-luis/lib/python3.10/site-packages/lightgbm/engine.py:177: UserWarning: Found `num_iterations` in params. Will use it instead of argument\n",
      "  _log_warning(f\"Found `{alias}` in params. Will use it instead of argument\")\n",
      "/Users/gonzalo/opt/anaconda3/envs/jose-luis/lib/python3.10/site-packages/lightgbm/engine.py:177: UserWarning: Found `num_iterations` in params. Will use it instead of argument\n",
      "  _log_warning(f\"Found `{alias}` in params. Will use it instead of argument\")\n"
     ]
    },
    {
     "name": "stdout",
     "output_type": "stream",
     "text": [
      "[LightGBM] [Warning] feature_fraction is set=0.9191357842810544, colsample_bytree=1.0 will be ignored. Current value: feature_fraction=0.9191357842810544\n",
      "[LightGBM] [Warning] lambda_l2 is set=9.776475319441403, reg_lambda=0.0 will be ignored. Current value: lambda_l2=9.776475319441403\n",
      "[LightGBM] [Warning] lambda_l1 is set=0.0, reg_alpha=0.0 will be ignored. Current value: lambda_l1=0.0\n",
      "[LightGBM] [Warning] feature_fraction is set=0.9191357842810544, colsample_bytree=1.0 will be ignored. Current value: feature_fraction=0.9191357842810544\n",
      "[LightGBM] [Warning] lambda_l2 is set=9.776475319441403, reg_lambda=0.0 will be ignored. Current value: lambda_l2=9.776475319441403\n",
      "[LightGBM] [Warning] lambda_l1 is set=0.0, reg_alpha=0.0 will be ignored. Current value: lambda_l1=0.0\n",
      "[LightGBM] [Warning] feature_fraction is set=0.9191357842810544, colsample_bytree=1.0 will be ignored. Current value: feature_fraction=0.9191357842810544\n",
      "[LightGBM] [Warning] lambda_l2 is set=9.776475319441403, reg_lambda=0.0 will be ignored. Current value: lambda_l2=9.776475319441403\n",
      "[LightGBM] [Warning] lambda_l1 is set=0.0, reg_alpha=0.0 will be ignored. Current value: lambda_l1=0.0\n"
     ]
    },
    {
     "name": "stderr",
     "output_type": "stream",
     "text": [
      "/Users/gonzalo/opt/anaconda3/envs/jose-luis/lib/python3.10/site-packages/lightgbm/engine.py:177: UserWarning: Found `num_iterations` in params. Will use it instead of argument\n",
      "  _log_warning(f\"Found `{alias}` in params. Will use it instead of argument\")\n",
      "/Users/gonzalo/opt/anaconda3/envs/jose-luis/lib/python3.10/site-packages/lightgbm/engine.py:177: UserWarning: Found `num_iterations` in params. Will use it instead of argument\n",
      "  _log_warning(f\"Found `{alias}` in params. Will use it instead of argument\")\n",
      "/Users/gonzalo/opt/anaconda3/envs/jose-luis/lib/python3.10/site-packages/lightgbm/engine.py:177: UserWarning: Found `num_iterations` in params. Will use it instead of argument\n",
      "  _log_warning(f\"Found `{alias}` in params. Will use it instead of argument\")\n"
     ]
    },
    {
     "name": "stdout",
     "output_type": "stream",
     "text": [
      "[LightGBM] [Warning] feature_fraction is set=0.5, colsample_bytree=1.0 will be ignored. Current value: feature_fraction=0.5\n",
      "[LightGBM] [Warning] lambda_l2 is set=0.0, reg_lambda=0.0 will be ignored. Current value: lambda_l2=0.0\n",
      "[LightGBM] [Warning] lambda_l1 is set=10.0, reg_alpha=0.0 will be ignored. Current value: lambda_l1=10.0\n",
      "[LightGBM] [Warning] feature_fraction is set=0.5, colsample_bytree=1.0 will be ignored. Current value: feature_fraction=0.5\n",
      "[LightGBM] [Warning] lambda_l2 is set=0.0, reg_lambda=0.0 will be ignored. Current value: lambda_l2=0.0\n",
      "[LightGBM] [Warning] lambda_l1 is set=10.0, reg_alpha=0.0 will be ignored. Current value: lambda_l1=10.0\n",
      "[LightGBM] [Warning] feature_fraction is set=0.5, colsample_bytree=1.0 will be ignored. Current value: feature_fraction=0.5\n",
      "[LightGBM] [Warning] lambda_l2 is set=0.0, reg_lambda=0.0 will be ignored. Current value: lambda_l2=0.0\n",
      "[LightGBM] [Warning] lambda_l1 is set=10.0, reg_alpha=0.0 will be ignored. Current value: lambda_l1=10.0\n"
     ]
    },
    {
     "name": "stderr",
     "output_type": "stream",
     "text": [
      "/Users/gonzalo/opt/anaconda3/envs/jose-luis/lib/python3.10/site-packages/lightgbm/engine.py:177: UserWarning: Found `num_iterations` in params. Will use it instead of argument\n",
      "  _log_warning(f\"Found `{alias}` in params. Will use it instead of argument\")\n",
      "/Users/gonzalo/opt/anaconda3/envs/jose-luis/lib/python3.10/site-packages/lightgbm/engine.py:177: UserWarning: Found `num_iterations` in params. Will use it instead of argument\n",
      "  _log_warning(f\"Found `{alias}` in params. Will use it instead of argument\")\n",
      "/Users/gonzalo/opt/anaconda3/envs/jose-luis/lib/python3.10/site-packages/lightgbm/engine.py:177: UserWarning: Found `num_iterations` in params. Will use it instead of argument\n",
      "  _log_warning(f\"Found `{alias}` in params. Will use it instead of argument\")\n"
     ]
    },
    {
     "name": "stdout",
     "output_type": "stream",
     "text": [
      "[LightGBM] [Warning] feature_fraction is set=1.0, colsample_bytree=1.0 will be ignored. Current value: feature_fraction=1.0\n",
      "[LightGBM] [Warning] lambda_l2 is set=10.0, reg_lambda=0.0 will be ignored. Current value: lambda_l2=10.0\n",
      "[LightGBM] [Warning] lambda_l1 is set=10.0, reg_alpha=0.0 will be ignored. Current value: lambda_l1=10.0\n",
      "[LightGBM] [Warning] feature_fraction is set=1.0, colsample_bytree=1.0 will be ignored. Current value: feature_fraction=1.0\n",
      "[LightGBM] [Warning] lambda_l2 is set=10.0, reg_lambda=0.0 will be ignored. Current value: lambda_l2=10.0\n",
      "[LightGBM] [Warning] lambda_l1 is set=10.0, reg_alpha=0.0 will be ignored. Current value: lambda_l1=10.0\n",
      "[LightGBM] [Warning] feature_fraction is set=1.0, colsample_bytree=1.0 will be ignored. Current value: feature_fraction=1.0\n",
      "[LightGBM] [Warning] lambda_l2 is set=10.0, reg_lambda=0.0 will be ignored. Current value: lambda_l2=10.0\n",
      "[LightGBM] [Warning] lambda_l1 is set=10.0, reg_alpha=0.0 will be ignored. Current value: lambda_l1=10.0\n"
     ]
    },
    {
     "name": "stderr",
     "output_type": "stream",
     "text": [
      "/Users/gonzalo/opt/anaconda3/envs/jose-luis/lib/python3.10/site-packages/lightgbm/engine.py:177: UserWarning: Found `num_iterations` in params. Will use it instead of argument\n",
      "  _log_warning(f\"Found `{alias}` in params. Will use it instead of argument\")\n",
      "/Users/gonzalo/opt/anaconda3/envs/jose-luis/lib/python3.10/site-packages/lightgbm/engine.py:177: UserWarning: Found `num_iterations` in params. Will use it instead of argument\n",
      "  _log_warning(f\"Found `{alias}` in params. Will use it instead of argument\")\n",
      "/Users/gonzalo/opt/anaconda3/envs/jose-luis/lib/python3.10/site-packages/lightgbm/engine.py:177: UserWarning: Found `num_iterations` in params. Will use it instead of argument\n",
      "  _log_warning(f\"Found `{alias}` in params. Will use it instead of argument\")\n"
     ]
    },
    {
     "name": "stdout",
     "output_type": "stream",
     "text": [
      "[LightGBM] [Warning] feature_fraction is set=0.9190620122786544, colsample_bytree=1.0 will be ignored. Current value: feature_fraction=0.9190620122786544\n",
      "[LightGBM] [Warning] lambda_l2 is set=1.1142388524542703, reg_lambda=0.0 will be ignored. Current value: lambda_l2=1.1142388524542703\n",
      "[LightGBM] [Warning] lambda_l1 is set=0.8344579900681349, reg_alpha=0.0 will be ignored. Current value: lambda_l1=0.8344579900681349\n",
      "[LightGBM] [Warning] feature_fraction is set=0.9190620122786544, colsample_bytree=1.0 will be ignored. Current value: feature_fraction=0.9190620122786544\n",
      "[LightGBM] [Warning] lambda_l2 is set=1.1142388524542703, reg_lambda=0.0 will be ignored. Current value: lambda_l2=1.1142388524542703\n",
      "[LightGBM] [Warning] lambda_l1 is set=0.8344579900681349, reg_alpha=0.0 will be ignored. Current value: lambda_l1=0.8344579900681349\n",
      "[LightGBM] [Warning] feature_fraction is set=0.9190620122786544, colsample_bytree=1.0 will be ignored. Current value: feature_fraction=0.9190620122786544\n",
      "[LightGBM] [Warning] lambda_l2 is set=1.1142388524542703, reg_lambda=0.0 will be ignored. Current value: lambda_l2=1.1142388524542703\n",
      "[LightGBM] [Warning] lambda_l1 is set=0.8344579900681349, reg_alpha=0.0 will be ignored. Current value: lambda_l1=0.8344579900681349\n"
     ]
    },
    {
     "name": "stderr",
     "output_type": "stream",
     "text": [
      "/Users/gonzalo/opt/anaconda3/envs/jose-luis/lib/python3.10/site-packages/lightgbm/engine.py:177: UserWarning: Found `num_iterations` in params. Will use it instead of argument\n",
      "  _log_warning(f\"Found `{alias}` in params. Will use it instead of argument\")\n",
      "/Users/gonzalo/opt/anaconda3/envs/jose-luis/lib/python3.10/site-packages/lightgbm/engine.py:177: UserWarning: Found `num_iterations` in params. Will use it instead of argument\n",
      "  _log_warning(f\"Found `{alias}` in params. Will use it instead of argument\")\n",
      "/Users/gonzalo/opt/anaconda3/envs/jose-luis/lib/python3.10/site-packages/lightgbm/engine.py:177: UserWarning: Found `num_iterations` in params. Will use it instead of argument\n",
      "  _log_warning(f\"Found `{alias}` in params. Will use it instead of argument\")\n"
     ]
    },
    {
     "name": "stdout",
     "output_type": "stream",
     "text": [
      "[LightGBM] [Warning] feature_fraction is set=0.7045957157690184, colsample_bytree=1.0 will be ignored. Current value: feature_fraction=0.7045957157690184\n",
      "[LightGBM] [Warning] lambda_l2 is set=0.0, reg_lambda=0.0 will be ignored. Current value: lambda_l2=0.0\n",
      "[LightGBM] [Warning] lambda_l1 is set=3.1092049918014935, reg_alpha=0.0 will be ignored. Current value: lambda_l1=3.1092049918014935\n",
      "[LightGBM] [Warning] feature_fraction is set=0.7045957157690184, colsample_bytree=1.0 will be ignored. Current value: feature_fraction=0.7045957157690184\n",
      "[LightGBM] [Warning] lambda_l2 is set=0.0, reg_lambda=0.0 will be ignored. Current value: lambda_l2=0.0\n",
      "[LightGBM] [Warning] lambda_l1 is set=3.1092049918014935, reg_alpha=0.0 will be ignored. Current value: lambda_l1=3.1092049918014935\n",
      "[LightGBM] [Warning] feature_fraction is set=0.7045957157690184, colsample_bytree=1.0 will be ignored. Current value: feature_fraction=0.7045957157690184\n",
      "[LightGBM] [Warning] lambda_l2 is set=0.0, reg_lambda=0.0 will be ignored. Current value: lambda_l2=0.0\n",
      "[LightGBM] [Warning] lambda_l1 is set=3.1092049918014935, reg_alpha=0.0 will be ignored. Current value: lambda_l1=3.1092049918014935\n"
     ]
    },
    {
     "name": "stderr",
     "output_type": "stream",
     "text": [
      "/Users/gonzalo/opt/anaconda3/envs/jose-luis/lib/python3.10/site-packages/lightgbm/engine.py:177: UserWarning: Found `num_iterations` in params. Will use it instead of argument\n",
      "  _log_warning(f\"Found `{alias}` in params. Will use it instead of argument\")\n",
      "/Users/gonzalo/opt/anaconda3/envs/jose-luis/lib/python3.10/site-packages/lightgbm/engine.py:177: UserWarning: Found `num_iterations` in params. Will use it instead of argument\n",
      "  _log_warning(f\"Found `{alias}` in params. Will use it instead of argument\")\n",
      "/Users/gonzalo/opt/anaconda3/envs/jose-luis/lib/python3.10/site-packages/lightgbm/engine.py:177: UserWarning: Found `num_iterations` in params. Will use it instead of argument\n",
      "  _log_warning(f\"Found `{alias}` in params. Will use it instead of argument\")\n"
     ]
    },
    {
     "name": "stdout",
     "output_type": "stream",
     "text": [
      "[LightGBM] [Warning] feature_fraction is set=0.5094029327598968, colsample_bytree=1.0 will be ignored. Current value: feature_fraction=0.5094029327598968\n",
      "[LightGBM] [Warning] lambda_l2 is set=10.0, reg_lambda=0.0 will be ignored. Current value: lambda_l2=10.0\n",
      "[LightGBM] [Warning] lambda_l1 is set=10.0, reg_alpha=0.0 will be ignored. Current value: lambda_l1=10.0\n",
      "[LightGBM] [Warning] feature_fraction is set=0.5094029327598968, colsample_bytree=1.0 will be ignored. Current value: feature_fraction=0.5094029327598968\n",
      "[LightGBM] [Warning] lambda_l2 is set=10.0, reg_lambda=0.0 will be ignored. Current value: lambda_l2=10.0\n",
      "[LightGBM] [Warning] lambda_l1 is set=10.0, reg_alpha=0.0 will be ignored. Current value: lambda_l1=10.0\n",
      "[LightGBM] [Warning] feature_fraction is set=0.5094029327598968, colsample_bytree=1.0 will be ignored. Current value: feature_fraction=0.5094029327598968\n",
      "[LightGBM] [Warning] lambda_l2 is set=10.0, reg_lambda=0.0 will be ignored. Current value: lambda_l2=10.0\n",
      "[LightGBM] [Warning] lambda_l1 is set=10.0, reg_alpha=0.0 will be ignored. Current value: lambda_l1=10.0\n"
     ]
    },
    {
     "name": "stderr",
     "output_type": "stream",
     "text": [
      "/Users/gonzalo/opt/anaconda3/envs/jose-luis/lib/python3.10/site-packages/lightgbm/engine.py:177: UserWarning: Found `num_iterations` in params. Will use it instead of argument\n",
      "  _log_warning(f\"Found `{alias}` in params. Will use it instead of argument\")\n",
      "/Users/gonzalo/opt/anaconda3/envs/jose-luis/lib/python3.10/site-packages/lightgbm/engine.py:177: UserWarning: Found `num_iterations` in params. Will use it instead of argument\n",
      "  _log_warning(f\"Found `{alias}` in params. Will use it instead of argument\")\n",
      "/Users/gonzalo/opt/anaconda3/envs/jose-luis/lib/python3.10/site-packages/lightgbm/engine.py:177: UserWarning: Found `num_iterations` in params. Will use it instead of argument\n",
      "  _log_warning(f\"Found `{alias}` in params. Will use it instead of argument\")\n"
     ]
    },
    {
     "name": "stdout",
     "output_type": "stream",
     "text": [
      "[LightGBM] [Warning] feature_fraction is set=0.553779503430611, colsample_bytree=1.0 will be ignored. Current value: feature_fraction=0.553779503430611\n",
      "[LightGBM] [Warning] lambda_l2 is set=0.0, reg_lambda=0.0 will be ignored. Current value: lambda_l2=0.0\n",
      "[LightGBM] [Warning] lambda_l1 is set=10.0, reg_alpha=0.0 will be ignored. Current value: lambda_l1=10.0\n",
      "[LightGBM] [Warning] feature_fraction is set=0.553779503430611, colsample_bytree=1.0 will be ignored. Current value: feature_fraction=0.553779503430611\n",
      "[LightGBM] [Warning] lambda_l2 is set=0.0, reg_lambda=0.0 will be ignored. Current value: lambda_l2=0.0\n",
      "[LightGBM] [Warning] lambda_l1 is set=10.0, reg_alpha=0.0 will be ignored. Current value: lambda_l1=10.0\n",
      "[LightGBM] [Warning] feature_fraction is set=0.553779503430611, colsample_bytree=1.0 will be ignored. Current value: feature_fraction=0.553779503430611\n",
      "[LightGBM] [Warning] lambda_l2 is set=0.0, reg_lambda=0.0 will be ignored. Current value: lambda_l2=0.0\n",
      "[LightGBM] [Warning] lambda_l1 is set=10.0, reg_alpha=0.0 will be ignored. Current value: lambda_l1=10.0\n"
     ]
    },
    {
     "name": "stderr",
     "output_type": "stream",
     "text": [
      "/Users/gonzalo/opt/anaconda3/envs/jose-luis/lib/python3.10/site-packages/lightgbm/engine.py:177: UserWarning: Found `num_iterations` in params. Will use it instead of argument\n",
      "  _log_warning(f\"Found `{alias}` in params. Will use it instead of argument\")\n",
      "/Users/gonzalo/opt/anaconda3/envs/jose-luis/lib/python3.10/site-packages/lightgbm/engine.py:177: UserWarning: Found `num_iterations` in params. Will use it instead of argument\n",
      "  _log_warning(f\"Found `{alias}` in params. Will use it instead of argument\")\n",
      "/Users/gonzalo/opt/anaconda3/envs/jose-luis/lib/python3.10/site-packages/lightgbm/engine.py:177: UserWarning: Found `num_iterations` in params. Will use it instead of argument\n",
      "  _log_warning(f\"Found `{alias}` in params. Will use it instead of argument\")\n"
     ]
    },
    {
     "name": "stdout",
     "output_type": "stream",
     "text": [
      "[LightGBM] [Warning] feature_fraction is set=0.9001732691851903, colsample_bytree=1.0 will be ignored. Current value: feature_fraction=0.9001732691851903\n",
      "[LightGBM] [Warning] lambda_l2 is set=10.0, reg_lambda=0.0 will be ignored. Current value: lambda_l2=10.0\n",
      "[LightGBM] [Warning] lambda_l1 is set=8.210698928515527, reg_alpha=0.0 will be ignored. Current value: lambda_l1=8.210698928515527\n",
      "[LightGBM] [Warning] feature_fraction is set=0.9001732691851903, colsample_bytree=1.0 will be ignored. Current value: feature_fraction=0.9001732691851903\n",
      "[LightGBM] [Warning] lambda_l2 is set=10.0, reg_lambda=0.0 will be ignored. Current value: lambda_l2=10.0\n",
      "[LightGBM] [Warning] lambda_l1 is set=8.210698928515527, reg_alpha=0.0 will be ignored. Current value: lambda_l1=8.210698928515527\n",
      "[LightGBM] [Warning] feature_fraction is set=0.9001732691851903, colsample_bytree=1.0 will be ignored. Current value: feature_fraction=0.9001732691851903\n",
      "[LightGBM] [Warning] lambda_l2 is set=10.0, reg_lambda=0.0 will be ignored. Current value: lambda_l2=10.0\n",
      "[LightGBM] [Warning] lambda_l1 is set=8.210698928515527, reg_alpha=0.0 will be ignored. Current value: lambda_l1=8.210698928515527\n"
     ]
    },
    {
     "name": "stderr",
     "output_type": "stream",
     "text": [
      "/Users/gonzalo/opt/anaconda3/envs/jose-luis/lib/python3.10/site-packages/lightgbm/engine.py:177: UserWarning: Found `num_iterations` in params. Will use it instead of argument\n",
      "  _log_warning(f\"Found `{alias}` in params. Will use it instead of argument\")\n",
      "/Users/gonzalo/opt/anaconda3/envs/jose-luis/lib/python3.10/site-packages/lightgbm/engine.py:177: UserWarning: Found `num_iterations` in params. Will use it instead of argument\n",
      "  _log_warning(f\"Found `{alias}` in params. Will use it instead of argument\")\n",
      "/Users/gonzalo/opt/anaconda3/envs/jose-luis/lib/python3.10/site-packages/lightgbm/engine.py:177: UserWarning: Found `num_iterations` in params. Will use it instead of argument\n",
      "  _log_warning(f\"Found `{alias}` in params. Will use it instead of argument\")\n"
     ]
    },
    {
     "name": "stdout",
     "output_type": "stream",
     "text": [
      "[LightGBM] [Warning] feature_fraction is set=0.5, colsample_bytree=1.0 will be ignored. Current value: feature_fraction=0.5\n",
      "[LightGBM] [Warning] lambda_l2 is set=10.0, reg_lambda=0.0 will be ignored. Current value: lambda_l2=10.0\n",
      "[LightGBM] [Warning] lambda_l1 is set=10.0, reg_alpha=0.0 will be ignored. Current value: lambda_l1=10.0\n",
      "[LightGBM] [Warning] feature_fraction is set=0.5, colsample_bytree=1.0 will be ignored. Current value: feature_fraction=0.5\n",
      "[LightGBM] [Warning] lambda_l2 is set=10.0, reg_lambda=0.0 will be ignored. Current value: lambda_l2=10.0\n",
      "[LightGBM] [Warning] lambda_l1 is set=10.0, reg_alpha=0.0 will be ignored. Current value: lambda_l1=10.0\n",
      "[LightGBM] [Warning] feature_fraction is set=0.5, colsample_bytree=1.0 will be ignored. Current value: feature_fraction=0.5\n",
      "[LightGBM] [Warning] lambda_l2 is set=10.0, reg_lambda=0.0 will be ignored. Current value: lambda_l2=10.0\n",
      "[LightGBM] [Warning] lambda_l1 is set=10.0, reg_alpha=0.0 will be ignored. Current value: lambda_l1=10.0\n"
     ]
    },
    {
     "name": "stderr",
     "output_type": "stream",
     "text": [
      "/Users/gonzalo/opt/anaconda3/envs/jose-luis/lib/python3.10/site-packages/lightgbm/engine.py:177: UserWarning: Found `num_iterations` in params. Will use it instead of argument\n",
      "  _log_warning(f\"Found `{alias}` in params. Will use it instead of argument\")\n",
      "/Users/gonzalo/opt/anaconda3/envs/jose-luis/lib/python3.10/site-packages/lightgbm/engine.py:177: UserWarning: Found `num_iterations` in params. Will use it instead of argument\n",
      "  _log_warning(f\"Found `{alias}` in params. Will use it instead of argument\")\n",
      "/Users/gonzalo/opt/anaconda3/envs/jose-luis/lib/python3.10/site-packages/lightgbm/engine.py:177: UserWarning: Found `num_iterations` in params. Will use it instead of argument\n",
      "  _log_warning(f\"Found `{alias}` in params. Will use it instead of argument\")\n"
     ]
    },
    {
     "name": "stdout",
     "output_type": "stream",
     "text": [
      "[LightGBM] [Warning] feature_fraction is set=0.5752027384378398, colsample_bytree=1.0 will be ignored. Current value: feature_fraction=0.5752027384378398\n",
      "[LightGBM] [Warning] lambda_l2 is set=2.591634181443698, reg_lambda=0.0 will be ignored. Current value: lambda_l2=2.591634181443698\n",
      "[LightGBM] [Warning] lambda_l1 is set=0.052945865272152996, reg_alpha=0.0 will be ignored. Current value: lambda_l1=0.052945865272152996\n",
      "[LightGBM] [Warning] feature_fraction is set=0.5752027384378398, colsample_bytree=1.0 will be ignored. Current value: feature_fraction=0.5752027384378398\n",
      "[LightGBM] [Warning] lambda_l2 is set=2.591634181443698, reg_lambda=0.0 will be ignored. Current value: lambda_l2=2.591634181443698\n",
      "[LightGBM] [Warning] lambda_l1 is set=0.052945865272152996, reg_alpha=0.0 will be ignored. Current value: lambda_l1=0.052945865272152996\n",
      "[LightGBM] [Warning] feature_fraction is set=0.5752027384378398, colsample_bytree=1.0 will be ignored. Current value: feature_fraction=0.5752027384378398\n",
      "[LightGBM] [Warning] lambda_l2 is set=2.591634181443698, reg_lambda=0.0 will be ignored. Current value: lambda_l2=2.591634181443698\n",
      "[LightGBM] [Warning] lambda_l1 is set=0.052945865272152996, reg_alpha=0.0 will be ignored. Current value: lambda_l1=0.052945865272152996\n"
     ]
    },
    {
     "name": "stderr",
     "output_type": "stream",
     "text": [
      "/Users/gonzalo/opt/anaconda3/envs/jose-luis/lib/python3.10/site-packages/lightgbm/engine.py:177: UserWarning: Found `num_iterations` in params. Will use it instead of argument\n",
      "  _log_warning(f\"Found `{alias}` in params. Will use it instead of argument\")\n",
      "/Users/gonzalo/opt/anaconda3/envs/jose-luis/lib/python3.10/site-packages/lightgbm/engine.py:177: UserWarning: Found `num_iterations` in params. Will use it instead of argument\n",
      "  _log_warning(f\"Found `{alias}` in params. Will use it instead of argument\")\n",
      "/Users/gonzalo/opt/anaconda3/envs/jose-luis/lib/python3.10/site-packages/lightgbm/engine.py:177: UserWarning: Found `num_iterations` in params. Will use it instead of argument\n",
      "  _log_warning(f\"Found `{alias}` in params. Will use it instead of argument\")\n"
     ]
    },
    {
     "name": "stdout",
     "output_type": "stream",
     "text": [
      "[LightGBM] [Warning] feature_fraction is set=1.0, colsample_bytree=1.0 will be ignored. Current value: feature_fraction=1.0\n",
      "[LightGBM] [Warning] lambda_l2 is set=10.0, reg_lambda=0.0 will be ignored. Current value: lambda_l2=10.0\n",
      "[LightGBM] [Warning] lambda_l1 is set=2.740292121809106, reg_alpha=0.0 will be ignored. Current value: lambda_l1=2.740292121809106\n",
      "[LightGBM] [Warning] feature_fraction is set=1.0, colsample_bytree=1.0 will be ignored. Current value: feature_fraction=1.0\n",
      "[LightGBM] [Warning] lambda_l2 is set=10.0, reg_lambda=0.0 will be ignored. Current value: lambda_l2=10.0\n",
      "[LightGBM] [Warning] lambda_l1 is set=2.740292121809106, reg_alpha=0.0 will be ignored. Current value: lambda_l1=2.740292121809106\n",
      "[LightGBM] [Warning] feature_fraction is set=1.0, colsample_bytree=1.0 will be ignored. Current value: feature_fraction=1.0\n",
      "[LightGBM] [Warning] lambda_l2 is set=10.0, reg_lambda=0.0 will be ignored. Current value: lambda_l2=10.0\n",
      "[LightGBM] [Warning] lambda_l1 is set=2.740292121809106, reg_alpha=0.0 will be ignored. Current value: lambda_l1=2.740292121809106\n"
     ]
    },
    {
     "name": "stderr",
     "output_type": "stream",
     "text": [
      "/Users/gonzalo/opt/anaconda3/envs/jose-luis/lib/python3.10/site-packages/lightgbm/engine.py:177: UserWarning: Found `num_iterations` in params. Will use it instead of argument\n",
      "  _log_warning(f\"Found `{alias}` in params. Will use it instead of argument\")\n"
     ]
    },
    {
     "name": "stdout",
     "output_type": "stream",
     "text": [
      "[LightGBM] [Warning] feature_fraction is set=1.0, colsample_bytree=1.0 will be ignored. Current value: feature_fraction=1.0\n",
      "[LightGBM] [Warning] lambda_l2 is set=4.3636755051041725, reg_lambda=0.0 will be ignored. Current value: lambda_l2=4.3636755051041725\n",
      "[LightGBM] [Warning] lambda_l1 is set=10.0, reg_alpha=0.0 will be ignored. Current value: lambda_l1=10.0\n"
     ]
    },
    {
     "name": "stderr",
     "output_type": "stream",
     "text": [
      "/Users/gonzalo/opt/anaconda3/envs/jose-luis/lib/python3.10/site-packages/lightgbm/engine.py:177: UserWarning: Found `num_iterations` in params. Will use it instead of argument\n",
      "  _log_warning(f\"Found `{alias}` in params. Will use it instead of argument\")\n",
      "/Users/gonzalo/opt/anaconda3/envs/jose-luis/lib/python3.10/site-packages/lightgbm/engine.py:177: UserWarning: Found `num_iterations` in params. Will use it instead of argument\n",
      "  _log_warning(f\"Found `{alias}` in params. Will use it instead of argument\")\n",
      "/Users/gonzalo/opt/anaconda3/envs/jose-luis/lib/python3.10/site-packages/lightgbm/engine.py:177: UserWarning: Found `num_iterations` in params. Will use it instead of argument\n",
      "  _log_warning(f\"Found `{alias}` in params. Will use it instead of argument\")\n"
     ]
    },
    {
     "name": "stdout",
     "output_type": "stream",
     "text": [
      "[LightGBM] [Warning] feature_fraction is set=0.705051979426657, colsample_bytree=1.0 will be ignored. Current value: feature_fraction=0.705051979426657\n",
      "[LightGBM] [Warning] lambda_l2 is set=9.328679988478338, reg_lambda=0.0 will be ignored. Current value: lambda_l2=9.328679988478338\n",
      "[LightGBM] [Warning] lambda_l1 is set=7.277257431773251, reg_alpha=0.0 will be ignored. Current value: lambda_l1=7.277257431773251\n",
      "[LightGBM] [Warning] feature_fraction is set=0.705051979426657, colsample_bytree=1.0 will be ignored. Current value: feature_fraction=0.705051979426657\n",
      "[LightGBM] [Warning] lambda_l2 is set=9.328679988478338, reg_lambda=0.0 will be ignored. Current value: lambda_l2=9.328679988478338\n",
      "[LightGBM] [Warning] lambda_l1 is set=7.277257431773251, reg_alpha=0.0 will be ignored. Current value: lambda_l1=7.277257431773251\n",
      "[LightGBM] [Warning] feature_fraction is set=0.705051979426657, colsample_bytree=1.0 will be ignored. Current value: feature_fraction=0.705051979426657\n",
      "[LightGBM] [Warning] lambda_l2 is set=9.328679988478338, reg_lambda=0.0 will be ignored. Current value: lambda_l2=9.328679988478338\n",
      "[LightGBM] [Warning] lambda_l1 is set=7.277257431773251, reg_alpha=0.0 will be ignored. Current value: lambda_l1=7.277257431773251\n"
     ]
    },
    {
     "name": "stderr",
     "output_type": "stream",
     "text": [
      "/Users/gonzalo/opt/anaconda3/envs/jose-luis/lib/python3.10/site-packages/lightgbm/engine.py:177: UserWarning: Found `num_iterations` in params. Will use it instead of argument\n",
      "  _log_warning(f\"Found `{alias}` in params. Will use it instead of argument\")\n",
      "/Users/gonzalo/opt/anaconda3/envs/jose-luis/lib/python3.10/site-packages/lightgbm/engine.py:177: UserWarning: Found `num_iterations` in params. Will use it instead of argument\n",
      "  _log_warning(f\"Found `{alias}` in params. Will use it instead of argument\")\n",
      "/Users/gonzalo/opt/anaconda3/envs/jose-luis/lib/python3.10/site-packages/lightgbm/engine.py:177: UserWarning: Found `num_iterations` in params. Will use it instead of argument\n",
      "  _log_warning(f\"Found `{alias}` in params. Will use it instead of argument\")\n"
     ]
    },
    {
     "name": "stdout",
     "output_type": "stream",
     "text": [
      "[LightGBM] [Warning] feature_fraction is set=0.9186941777766422, colsample_bytree=1.0 will be ignored. Current value: feature_fraction=0.9186941777766422\n",
      "[LightGBM] [Warning] lambda_l2 is set=3.03410109884175, reg_lambda=0.0 will be ignored. Current value: lambda_l2=3.03410109884175\n",
      "[LightGBM] [Warning] lambda_l1 is set=8.833152773808623, reg_alpha=0.0 will be ignored. Current value: lambda_l1=8.833152773808623\n",
      "[LightGBM] [Warning] feature_fraction is set=0.9186941777766422, colsample_bytree=1.0 will be ignored. Current value: feature_fraction=0.9186941777766422\n",
      "[LightGBM] [Warning] lambda_l2 is set=3.03410109884175, reg_lambda=0.0 will be ignored. Current value: lambda_l2=3.03410109884175\n",
      "[LightGBM] [Warning] lambda_l1 is set=8.833152773808623, reg_alpha=0.0 will be ignored. Current value: lambda_l1=8.833152773808623\n",
      "[LightGBM] [Warning] feature_fraction is set=0.9186941777766422, colsample_bytree=1.0 will be ignored. Current value: feature_fraction=0.9186941777766422\n",
      "[LightGBM] [Warning] lambda_l2 is set=3.03410109884175, reg_lambda=0.0 will be ignored. Current value: lambda_l2=3.03410109884175\n",
      "[LightGBM] [Warning] lambda_l1 is set=8.833152773808623, reg_alpha=0.0 will be ignored. Current value: lambda_l1=8.833152773808623\n"
     ]
    },
    {
     "name": "stderr",
     "output_type": "stream",
     "text": [
      "/Users/gonzalo/opt/anaconda3/envs/jose-luis/lib/python3.10/site-packages/lightgbm/engine.py:177: UserWarning: Found `num_iterations` in params. Will use it instead of argument\n",
      "  _log_warning(f\"Found `{alias}` in params. Will use it instead of argument\")\n",
      "/Users/gonzalo/opt/anaconda3/envs/jose-luis/lib/python3.10/site-packages/lightgbm/engine.py:177: UserWarning: Found `num_iterations` in params. Will use it instead of argument\n",
      "  _log_warning(f\"Found `{alias}` in params. Will use it instead of argument\")\n",
      "/Users/gonzalo/opt/anaconda3/envs/jose-luis/lib/python3.10/site-packages/lightgbm/engine.py:177: UserWarning: Found `num_iterations` in params. Will use it instead of argument\n",
      "  _log_warning(f\"Found `{alias}` in params. Will use it instead of argument\")\n"
     ]
    },
    {
     "name": "stdout",
     "output_type": "stream",
     "text": [
      "[LightGBM] [Warning] feature_fraction is set=0.7224162561505759, colsample_bytree=1.0 will be ignored. Current value: feature_fraction=0.7224162561505759\n",
      "[LightGBM] [Warning] lambda_l2 is set=1.0485915855270358, reg_lambda=0.0 will be ignored. Current value: lambda_l2=1.0485915855270358\n",
      "[LightGBM] [Warning] lambda_l1 is set=9.18722521669377, reg_alpha=0.0 will be ignored. Current value: lambda_l1=9.18722521669377\n",
      "[LightGBM] [Warning] feature_fraction is set=0.7224162561505759, colsample_bytree=1.0 will be ignored. Current value: feature_fraction=0.7224162561505759\n",
      "[LightGBM] [Warning] lambda_l2 is set=1.0485915855270358, reg_lambda=0.0 will be ignored. Current value: lambda_l2=1.0485915855270358\n",
      "[LightGBM] [Warning] lambda_l1 is set=9.18722521669377, reg_alpha=0.0 will be ignored. Current value: lambda_l1=9.18722521669377\n",
      "[LightGBM] [Warning] feature_fraction is set=0.7224162561505759, colsample_bytree=1.0 will be ignored. Current value: feature_fraction=0.7224162561505759\n",
      "[LightGBM] [Warning] lambda_l2 is set=1.0485915855270358, reg_lambda=0.0 will be ignored. Current value: lambda_l2=1.0485915855270358\n",
      "[LightGBM] [Warning] lambda_l1 is set=9.18722521669377, reg_alpha=0.0 will be ignored. Current value: lambda_l1=9.18722521669377\n"
     ]
    },
    {
     "name": "stderr",
     "output_type": "stream",
     "text": [
      "/Users/gonzalo/opt/anaconda3/envs/jose-luis/lib/python3.10/site-packages/lightgbm/engine.py:177: UserWarning: Found `num_iterations` in params. Will use it instead of argument\n",
      "  _log_warning(f\"Found `{alias}` in params. Will use it instead of argument\")\n",
      "/Users/gonzalo/opt/anaconda3/envs/jose-luis/lib/python3.10/site-packages/lightgbm/engine.py:177: UserWarning: Found `num_iterations` in params. Will use it instead of argument\n",
      "  _log_warning(f\"Found `{alias}` in params. Will use it instead of argument\")\n",
      "/Users/gonzalo/opt/anaconda3/envs/jose-luis/lib/python3.10/site-packages/lightgbm/engine.py:177: UserWarning: Found `num_iterations` in params. Will use it instead of argument\n",
      "  _log_warning(f\"Found `{alias}` in params. Will use it instead of argument\")\n"
     ]
    },
    {
     "name": "stdout",
     "output_type": "stream",
     "text": [
      "[LightGBM] [Warning] feature_fraction is set=0.9061979941786817, colsample_bytree=1.0 will be ignored. Current value: feature_fraction=0.9061979941786817\n",
      "[LightGBM] [Warning] lambda_l2 is set=5.9804707751212804, reg_lambda=0.0 will be ignored. Current value: lambda_l2=5.9804707751212804\n",
      "[LightGBM] [Warning] lambda_l1 is set=1.718715613965607, reg_alpha=0.0 will be ignored. Current value: lambda_l1=1.718715613965607\n",
      "[LightGBM] [Warning] feature_fraction is set=0.9061979941786817, colsample_bytree=1.0 will be ignored. Current value: feature_fraction=0.9061979941786817\n",
      "[LightGBM] [Warning] lambda_l2 is set=5.9804707751212804, reg_lambda=0.0 will be ignored. Current value: lambda_l2=5.9804707751212804\n",
      "[LightGBM] [Warning] lambda_l1 is set=1.718715613965607, reg_alpha=0.0 will be ignored. Current value: lambda_l1=1.718715613965607\n",
      "[LightGBM] [Warning] feature_fraction is set=0.9061979941786817, colsample_bytree=1.0 will be ignored. Current value: feature_fraction=0.9061979941786817\n",
      "[LightGBM] [Warning] lambda_l2 is set=5.9804707751212804, reg_lambda=0.0 will be ignored. Current value: lambda_l2=5.9804707751212804\n",
      "[LightGBM] [Warning] lambda_l1 is set=1.718715613965607, reg_alpha=0.0 will be ignored. Current value: lambda_l1=1.718715613965607\n"
     ]
    },
    {
     "name": "stderr",
     "output_type": "stream",
     "text": [
      "/Users/gonzalo/opt/anaconda3/envs/jose-luis/lib/python3.10/site-packages/lightgbm/engine.py:177: UserWarning: Found `num_iterations` in params. Will use it instead of argument\n",
      "  _log_warning(f\"Found `{alias}` in params. Will use it instead of argument\")\n",
      "/Users/gonzalo/opt/anaconda3/envs/jose-luis/lib/python3.10/site-packages/lightgbm/engine.py:177: UserWarning: Found `num_iterations` in params. Will use it instead of argument\n",
      "  _log_warning(f\"Found `{alias}` in params. Will use it instead of argument\")\n",
      "/Users/gonzalo/opt/anaconda3/envs/jose-luis/lib/python3.10/site-packages/lightgbm/engine.py:177: UserWarning: Found `num_iterations` in params. Will use it instead of argument\n",
      "  _log_warning(f\"Found `{alias}` in params. Will use it instead of argument\")\n"
     ]
    },
    {
     "name": "stdout",
     "output_type": "stream",
     "text": [
      "[LightGBM] [Warning] feature_fraction is set=0.8997767208035865, colsample_bytree=1.0 will be ignored. Current value: feature_fraction=0.8997767208035865\n",
      "[LightGBM] [Warning] feature_fraction is set=0.8997767208035865, colsample_bytree=1.0 will be ignored. Current value: feature_fraction=0.8997767208035865\n",
      "[LightGBM] [Warning] lambda_l2 is set=5.266202371276925, reg_lambda=0.0 will be ignored. Current value: lambda_l2=5.266202371276925\n",
      "[LightGBM] [Warning] lambda_l1 is set=4.380291864409234, reg_alpha=0.0 will be ignored. Current value: lambda_l1=4.380291864409234\n",
      "[LightGBM] [Warning] lambda_l2 is set=5.266202371276925, reg_lambda=0.0 will be ignored. Current value: lambda_l2=5.266202371276925\n",
      "[LightGBM] [Warning] lambda_l1 is set=4.380291864409234, reg_alpha=0.0 will be ignored. Current value: lambda_l1=4.380291864409234\n",
      "[LightGBM] [Warning] feature_fraction is set=0.8997767208035865, colsample_bytree=1.0 will be ignored. Current value: feature_fraction=0.8997767208035865\n",
      "[LightGBM] [Warning] lambda_l2 is set=5.266202371276925, reg_lambda=0.0 will be ignored. Current value: lambda_l2=5.266202371276925\n",
      "[LightGBM] [Warning] lambda_l1 is set=4.380291864409234, reg_alpha=0.0 will be ignored. Current value: lambda_l1=4.380291864409234\n"
     ]
    },
    {
     "name": "stderr",
     "output_type": "stream",
     "text": [
      "/Users/gonzalo/opt/anaconda3/envs/jose-luis/lib/python3.10/site-packages/lightgbm/engine.py:177: UserWarning: Found `num_iterations` in params. Will use it instead of argument\n",
      "  _log_warning(f\"Found `{alias}` in params. Will use it instead of argument\")\n",
      "/Users/gonzalo/opt/anaconda3/envs/jose-luis/lib/python3.10/site-packages/lightgbm/engine.py:177: UserWarning: Found `num_iterations` in params. Will use it instead of argument\n",
      "  _log_warning(f\"Found `{alias}` in params. Will use it instead of argument\")\n",
      "/Users/gonzalo/opt/anaconda3/envs/jose-luis/lib/python3.10/site-packages/lightgbm/engine.py:177: UserWarning: Found `num_iterations` in params. Will use it instead of argument\n",
      "  _log_warning(f\"Found `{alias}` in params. Will use it instead of argument\")\n"
     ]
    },
    {
     "name": "stdout",
     "output_type": "stream",
     "text": [
      "[LightGBM] [Warning] feature_fraction is set=0.8670140089927842, colsample_bytree=1.0 will be ignored. Current value: feature_fraction=0.8670140089927842\n",
      "[LightGBM] [Warning] lambda_l2 is set=1.6360717863855025, reg_lambda=0.0 will be ignored. Current value: lambda_l2=1.6360717863855025\n",
      "[LightGBM] [Warning] lambda_l1 is set=9.393697376027717, reg_alpha=0.0 will be ignored. Current value: lambda_l1=9.393697376027717\n",
      "[LightGBM] [Warning] feature_fraction is set=0.8670140089927842, colsample_bytree=1.0 will be ignored. Current value: feature_fraction=0.8670140089927842\n",
      "[LightGBM] [Warning] lambda_l2 is set=1.6360717863855025, reg_lambda=0.0 will be ignored. Current value: lambda_l2=1.6360717863855025\n",
      "[LightGBM] [Warning] lambda_l1 is set=9.393697376027717, reg_alpha=0.0 will be ignored. Current value: lambda_l1=9.393697376027717\n",
      "[LightGBM] [Warning] feature_fraction is set=0.8670140089927842, colsample_bytree=1.0 will be ignored. Current value: feature_fraction=0.8670140089927842\n",
      "[LightGBM] [Warning] lambda_l2 is set=1.6360717863855025, reg_lambda=0.0 will be ignored. Current value: lambda_l2=1.6360717863855025\n",
      "[LightGBM] [Warning] lambda_l1 is set=9.393697376027717, reg_alpha=0.0 will be ignored. Current value: lambda_l1=9.393697376027717\n"
     ]
    },
    {
     "name": "stderr",
     "output_type": "stream",
     "text": [
      "/Users/gonzalo/opt/anaconda3/envs/jose-luis/lib/python3.10/site-packages/lightgbm/engine.py:177: UserWarning: Found `num_iterations` in params. Will use it instead of argument\n",
      "  _log_warning(f\"Found `{alias}` in params. Will use it instead of argument\")\n",
      "/Users/gonzalo/opt/anaconda3/envs/jose-luis/lib/python3.10/site-packages/lightgbm/engine.py:177: UserWarning: Found `num_iterations` in params. Will use it instead of argument\n",
      "  _log_warning(f\"Found `{alias}` in params. Will use it instead of argument\")\n",
      "/Users/gonzalo/opt/anaconda3/envs/jose-luis/lib/python3.10/site-packages/lightgbm/engine.py:177: UserWarning: Found `num_iterations` in params. Will use it instead of argument\n",
      "  _log_warning(f\"Found `{alias}` in params. Will use it instead of argument\")\n"
     ]
    },
    {
     "name": "stdout",
     "output_type": "stream",
     "text": [
      "[LightGBM] [Warning] feature_fraction is set=0.8085396792511581, colsample_bytree=1.0 will be ignored. Current value: feature_fraction=0.8085396792511581\n",
      "[LightGBM] [Warning] lambda_l2 is set=3.5902293192140395, reg_lambda=0.0 will be ignored. Current value: lambda_l2=3.5902293192140395\n",
      "[LightGBM] [Warning] lambda_l1 is set=7.753643788278826, reg_alpha=0.0 will be ignored. Current value: lambda_l1=7.753643788278826\n",
      "[LightGBM] [Warning] feature_fraction is set=0.8085396792511581, colsample_bytree=1.0 will be ignored. Current value: feature_fraction=0.8085396792511581\n",
      "[LightGBM] [Warning] lambda_l2 is set=3.5902293192140395, reg_lambda=0.0 will be ignored. Current value: lambda_l2=3.5902293192140395\n",
      "[LightGBM] [Warning] lambda_l1 is set=7.753643788278826, reg_alpha=0.0 will be ignored. Current value: lambda_l1=7.753643788278826\n",
      "[LightGBM] [Warning] feature_fraction is set=0.8085396792511581, colsample_bytree=1.0 will be ignored. Current value: feature_fraction=0.8085396792511581\n",
      "[LightGBM] [Warning] lambda_l2 is set=3.5902293192140395, reg_lambda=0.0 will be ignored. Current value: lambda_l2=3.5902293192140395\n",
      "[LightGBM] [Warning] lambda_l1 is set=7.753643788278826, reg_alpha=0.0 will be ignored. Current value: lambda_l1=7.753643788278826\n"
     ]
    },
    {
     "name": "stderr",
     "output_type": "stream",
     "text": [
      "/Users/gonzalo/opt/anaconda3/envs/jose-luis/lib/python3.10/site-packages/lightgbm/engine.py:177: UserWarning: Found `num_iterations` in params. Will use it instead of argument\n",
      "  _log_warning(f\"Found `{alias}` in params. Will use it instead of argument\")\n",
      "/Users/gonzalo/opt/anaconda3/envs/jose-luis/lib/python3.10/site-packages/lightgbm/engine.py:177: UserWarning: Found `num_iterations` in params. Will use it instead of argument\n",
      "  _log_warning(f\"Found `{alias}` in params. Will use it instead of argument\")\n",
      "/Users/gonzalo/opt/anaconda3/envs/jose-luis/lib/python3.10/site-packages/lightgbm/engine.py:177: UserWarning: Found `num_iterations` in params. Will use it instead of argument\n",
      "  _log_warning(f\"Found `{alias}` in params. Will use it instead of argument\")\n"
     ]
    },
    {
     "name": "stdout",
     "output_type": "stream",
     "text": [
      "[LightGBM] [Warning] feature_fraction is set=0.7717015338451563, colsample_bytree=1.0 will be ignored. Current value: feature_fraction=0.7717015338451563\n",
      "[LightGBM] [Warning] lambda_l2 is set=4.964667035967167, reg_lambda=0.0 will be ignored. Current value: lambda_l2=4.964667035967167\n",
      "[LightGBM] [Warning] lambda_l1 is set=9.200092264373165, reg_alpha=0.0 will be ignored. Current value: lambda_l1=9.200092264373165\n",
      "[LightGBM] [Warning] feature_fraction is set=0.7717015338451563, colsample_bytree=1.0 will be ignored. Current value: feature_fraction=0.7717015338451563\n",
      "[LightGBM] [Warning] lambda_l2 is set=4.964667035967167, reg_lambda=0.0 will be ignored. Current value: lambda_l2=4.964667035967167\n",
      "[LightGBM] [Warning] lambda_l1 is set=9.200092264373165, reg_alpha=0.0 will be ignored. Current value: lambda_l1=9.200092264373165\n",
      "[LightGBM] [Warning] feature_fraction is set=0.7717015338451563, colsample_bytree=1.0 will be ignored. Current value: feature_fraction=0.7717015338451563\n",
      "[LightGBM] [Warning] lambda_l2 is set=4.964667035967167, reg_lambda=0.0 will be ignored. Current value: lambda_l2=4.964667035967167\n",
      "[LightGBM] [Warning] lambda_l1 is set=9.200092264373165, reg_alpha=0.0 will be ignored. Current value: lambda_l1=9.200092264373165\n"
     ]
    },
    {
     "name": "stderr",
     "output_type": "stream",
     "text": [
      "/Users/gonzalo/opt/anaconda3/envs/jose-luis/lib/python3.10/site-packages/lightgbm/engine.py:177: UserWarning: Found `num_iterations` in params. Will use it instead of argument\n",
      "  _log_warning(f\"Found `{alias}` in params. Will use it instead of argument\")\n",
      "/Users/gonzalo/opt/anaconda3/envs/jose-luis/lib/python3.10/site-packages/lightgbm/engine.py:177: UserWarning: Found `num_iterations` in params. Will use it instead of argument\n",
      "  _log_warning(f\"Found `{alias}` in params. Will use it instead of argument\")\n",
      "/Users/gonzalo/opt/anaconda3/envs/jose-luis/lib/python3.10/site-packages/lightgbm/engine.py:177: UserWarning: Found `num_iterations` in params. Will use it instead of argument\n",
      "  _log_warning(f\"Found `{alias}` in params. Will use it instead of argument\")\n"
     ]
    },
    {
     "name": "stdout",
     "output_type": "stream",
     "text": [
      "[LightGBM] [Warning] feature_fraction is set=0.9777389931549642, colsample_bytree=1.0 will be ignored. Current value: feature_fraction=0.9777389931549642\n",
      "[LightGBM] [Warning] lambda_l2 is set=8.71651928463215, reg_lambda=0.0 will be ignored. Current value: lambda_l2=8.71651928463215\n",
      "[LightGBM] [Warning] lambda_l1 is set=7.00621444621366, reg_alpha=0.0 will be ignored. Current value: lambda_l1=7.00621444621366\n",
      "[LightGBM] [Warning] feature_fraction is set=0.9777389931549642, colsample_bytree=1.0 will be ignored. Current value: feature_fraction=0.9777389931549642\n",
      "[LightGBM] [Warning] feature_fraction is set=0.9777389931549642, colsample_bytree=1.0 will be ignored. Current value: feature_fraction=0.9777389931549642[LightGBM] [Warning] lambda_l2 is set=8.71651928463215, reg_lambda=0.0 will be ignored. Current value: lambda_l2=8.71651928463215\n",
      "\n",
      "[LightGBM] [Warning] lambda_l1 is set=7.00621444621366, reg_alpha=0.0 will be ignored. Current value: lambda_l1=7.00621444621366\n",
      "[LightGBM] [Warning] lambda_l2 is set=8.71651928463215, reg_lambda=0.0 will be ignored. Current value: lambda_l2=8.71651928463215\n",
      "[LightGBM] [Warning] lambda_l1 is set=7.00621444621366, reg_alpha=0.0 will be ignored. Current value: lambda_l1=7.00621444621366\n"
     ]
    },
    {
     "name": "stderr",
     "output_type": "stream",
     "text": [
      "/Users/gonzalo/opt/anaconda3/envs/jose-luis/lib/python3.10/site-packages/lightgbm/engine.py:177: UserWarning: Found `num_iterations` in params. Will use it instead of argument\n",
      "  _log_warning(f\"Found `{alias}` in params. Will use it instead of argument\")\n",
      "/Users/gonzalo/opt/anaconda3/envs/jose-luis/lib/python3.10/site-packages/lightgbm/engine.py:177: UserWarning: Found `num_iterations` in params. Will use it instead of argument\n",
      "  _log_warning(f\"Found `{alias}` in params. Will use it instead of argument\")\n",
      "/Users/gonzalo/opt/anaconda3/envs/jose-luis/lib/python3.10/site-packages/lightgbm/engine.py:177: UserWarning: Found `num_iterations` in params. Will use it instead of argument\n",
      "  _log_warning(f\"Found `{alias}` in params. Will use it instead of argument\")\n"
     ]
    },
    {
     "name": "stdout",
     "output_type": "stream",
     "text": [
      "[LightGBM] [Warning] feature_fraction is set=0.5018151536273716, colsample_bytree=1.0 will be ignored. Current value: feature_fraction=0.5018151536273716\n",
      "[LightGBM] [Warning] lambda_l2 is set=7.412827443680273, reg_lambda=0.0 will be ignored. Current value: lambda_l2=7.412827443680273\n",
      "[LightGBM] [Warning] lambda_l1 is set=8.178300196637515, reg_alpha=0.0 will be ignored. Current value: lambda_l1=8.178300196637515\n",
      "[LightGBM] [Warning] feature_fraction is set=0.5018151536273716, colsample_bytree=1.0 will be ignored. Current value: feature_fraction=0.5018151536273716\n",
      "[LightGBM] [Warning] lambda_l2 is set=7.412827443680273, reg_lambda=0.0 will be ignored. Current value: lambda_l2=7.412827443680273\n",
      "[LightGBM] [Warning] lambda_l1 is set=8.178300196637515, reg_alpha=0.0 will be ignored. Current value: lambda_l1=8.178300196637515\n",
      "[LightGBM] [Warning] feature_fraction is set=0.5018151536273716, colsample_bytree=1.0 will be ignored. Current value: feature_fraction=0.5018151536273716\n",
      "[LightGBM] [Warning] lambda_l2 is set=7.412827443680273, reg_lambda=0.0 will be ignored. Current value: lambda_l2=7.412827443680273\n",
      "[LightGBM] [Warning] lambda_l1 is set=8.178300196637515, reg_alpha=0.0 will be ignored. Current value: lambda_l1=8.178300196637515\n"
     ]
    },
    {
     "name": "stderr",
     "output_type": "stream",
     "text": [
      "/Users/gonzalo/opt/anaconda3/envs/jose-luis/lib/python3.10/site-packages/lightgbm/engine.py:177: UserWarning: Found `num_iterations` in params. Will use it instead of argument\n",
      "  _log_warning(f\"Found `{alias}` in params. Will use it instead of argument\")\n",
      "/Users/gonzalo/opt/anaconda3/envs/jose-luis/lib/python3.10/site-packages/lightgbm/engine.py:177: UserWarning: Found `num_iterations` in params. Will use it instead of argument\n",
      "  _log_warning(f\"Found `{alias}` in params. Will use it instead of argument\")\n",
      "/Users/gonzalo/opt/anaconda3/envs/jose-luis/lib/python3.10/site-packages/lightgbm/engine.py:177: UserWarning: Found `num_iterations` in params. Will use it instead of argument\n",
      "  _log_warning(f\"Found `{alias}` in params. Will use it instead of argument\")\n"
     ]
    },
    {
     "name": "stdout",
     "output_type": "stream",
     "text": [
      "[LightGBM] [Warning] feature_fraction is set=0.9758453352220565, colsample_bytree=1.0 will be ignored. Current value: feature_fraction=0.9758453352220565\n",
      "[LightGBM] [Warning] lambda_l2 is set=1.7881025944691555, reg_lambda=0.0 will be ignored. Current value: lambda_l2=1.7881025944691555\n",
      "[LightGBM] [Warning] lambda_l1 is set=5.54502717245634, reg_alpha=0.0 will be ignored. Current value: lambda_l1=5.54502717245634\n",
      "[LightGBM] [Warning] feature_fraction is set=0.9758453352220565, colsample_bytree=1.0 will be ignored. Current value: feature_fraction=0.9758453352220565\n",
      "[LightGBM] [Warning] lambda_l2 is set=1.7881025944691555, reg_lambda=0.0 will be ignored. Current value: lambda_l2=1.7881025944691555\n",
      "[LightGBM] [Warning] lambda_l1 is set=5.54502717245634, reg_alpha=0.0 will be ignored. Current value: lambda_l1=5.54502717245634\n",
      "[LightGBM] [Warning] feature_fraction is set=0.9758453352220565, colsample_bytree=1.0 will be ignored. Current value: feature_fraction=0.9758453352220565\n",
      "[LightGBM] [Warning] lambda_l2 is set=1.7881025944691555, reg_lambda=0.0 will be ignored. Current value: lambda_l2=1.7881025944691555\n",
      "[LightGBM] [Warning] lambda_l1 is set=5.54502717245634, reg_alpha=0.0 will be ignored. Current value: lambda_l1=5.54502717245634\n"
     ]
    },
    {
     "name": "stderr",
     "output_type": "stream",
     "text": [
      "/Users/gonzalo/opt/anaconda3/envs/jose-luis/lib/python3.10/site-packages/lightgbm/engine.py:177: UserWarning: Found `num_iterations` in params. Will use it instead of argument\n",
      "  _log_warning(f\"Found `{alias}` in params. Will use it instead of argument\")\n",
      "/Users/gonzalo/opt/anaconda3/envs/jose-luis/lib/python3.10/site-packages/lightgbm/engine.py:177: UserWarning: Found `num_iterations` in params. Will use it instead of argument\n",
      "  _log_warning(f\"Found `{alias}` in params. Will use it instead of argument\")\n",
      "/Users/gonzalo/opt/anaconda3/envs/jose-luis/lib/python3.10/site-packages/lightgbm/engine.py:177: UserWarning: Found `num_iterations` in params. Will use it instead of argument\n",
      "  _log_warning(f\"Found `{alias}` in params. Will use it instead of argument\")\n"
     ]
    },
    {
     "name": "stdout",
     "output_type": "stream",
     "text": [
      "[LightGBM] [Warning] feature_fraction is set=0.5055540596618072, colsample_bytree=1.0 will be ignored. Current value: feature_fraction=0.5055540596618072\n",
      "[LightGBM] [Warning] lambda_l2 is set=8.958844773635123, reg_lambda=0.0 will be ignored. Current value: lambda_l2=8.958844773635123\n",
      "[LightGBM] [Warning] lambda_l1 is set=3.651418460919424, reg_alpha=0.0 will be ignored. Current value: lambda_l1=3.651418460919424\n",
      "[LightGBM] [Warning] feature_fraction is set=0.5055540596618072, colsample_bytree=1.0 will be ignored. Current value: feature_fraction=0.5055540596618072\n",
      "[LightGBM] [Warning] lambda_l2 is set=8.958844773635123, reg_lambda=0.0 will be ignored. Current value: lambda_l2=8.958844773635123\n",
      "[LightGBM] [Warning] lambda_l1 is set=3.651418460919424, reg_alpha=0.0 will be ignored. Current value: lambda_l1=3.651418460919424\n",
      "[LightGBM] [Warning] feature_fraction is set=0.5055540596618072, colsample_bytree=1.0 will be ignored. Current value: feature_fraction=0.5055540596618072\n",
      "[LightGBM] [Warning] lambda_l2 is set=8.958844773635123, reg_lambda=0.0 will be ignored. Current value: lambda_l2=8.958844773635123\n",
      "[LightGBM] [Warning] lambda_l1 is set=3.651418460919424, reg_alpha=0.0 will be ignored. Current value: lambda_l1=3.651418460919424\n"
     ]
    },
    {
     "name": "stderr",
     "output_type": "stream",
     "text": [
      "/Users/gonzalo/opt/anaconda3/envs/jose-luis/lib/python3.10/site-packages/lightgbm/engine.py:177: UserWarning: Found `num_iterations` in params. Will use it instead of argument\n",
      "  _log_warning(f\"Found `{alias}` in params. Will use it instead of argument\")\n",
      "/Users/gonzalo/opt/anaconda3/envs/jose-luis/lib/python3.10/site-packages/lightgbm/engine.py:177: UserWarning: Found `num_iterations` in params. Will use it instead of argument\n",
      "  _log_warning(f\"Found `{alias}` in params. Will use it instead of argument\")\n",
      "/Users/gonzalo/opt/anaconda3/envs/jose-luis/lib/python3.10/site-packages/lightgbm/engine.py:177: UserWarning: Found `num_iterations` in params. Will use it instead of argument\n",
      "  _log_warning(f\"Found `{alias}` in params. Will use it instead of argument\")\n"
     ]
    },
    {
     "name": "stdout",
     "output_type": "stream",
     "text": [
      "[LightGBM] [Warning] feature_fraction is set=0.9719835189908385, colsample_bytree=1.0 will be ignored. Current value: feature_fraction=0.9719835189908385\n",
      "[LightGBM] [Warning] lambda_l2 is set=3.1777691846966833, reg_lambda=0.0 will be ignored. Current value: lambda_l2=3.1777691846966833\n",
      "[LightGBM] [Warning] lambda_l1 is set=5.957776857552624, reg_alpha=0.0 will be ignored. Current value: lambda_l1=5.957776857552624\n",
      "[LightGBM] [Warning] feature_fraction is set=0.9719835189908385, colsample_bytree=1.0 will be ignored. Current value: feature_fraction=0.9719835189908385\n",
      "[LightGBM] [Warning] lambda_l2 is set=3.1777691846966833, reg_lambda=0.0 will be ignored. Current value: lambda_l2=3.1777691846966833\n",
      "[LightGBM] [Warning] lambda_l1 is set=5.957776857552624, reg_alpha=0.0 will be ignored. Current value: lambda_l1=5.957776857552624\n",
      "[LightGBM] [Warning] feature_fraction is set=0.9719835189908385, colsample_bytree=1.0 will be ignored. Current value: feature_fraction=0.9719835189908385\n",
      "[LightGBM] [Warning] lambda_l2 is set=3.1777691846966833, reg_lambda=0.0 will be ignored. Current value: lambda_l2=3.1777691846966833\n",
      "[LightGBM] [Warning] lambda_l1 is set=5.957776857552624, reg_alpha=0.0 will be ignored. Current value: lambda_l1=5.957776857552624\n"
     ]
    },
    {
     "name": "stderr",
     "output_type": "stream",
     "text": [
      "/Users/gonzalo/opt/anaconda3/envs/jose-luis/lib/python3.10/site-packages/lightgbm/engine.py:177: UserWarning: Found `num_iterations` in params. Will use it instead of argument\n",
      "  _log_warning(f\"Found `{alias}` in params. Will use it instead of argument\")\n",
      "/Users/gonzalo/opt/anaconda3/envs/jose-luis/lib/python3.10/site-packages/lightgbm/engine.py:177: UserWarning: Found `num_iterations` in params. Will use it instead of argument\n",
      "  _log_warning(f\"Found `{alias}` in params. Will use it instead of argument\")\n",
      "/Users/gonzalo/opt/anaconda3/envs/jose-luis/lib/python3.10/site-packages/lightgbm/engine.py:177: UserWarning: Found `num_iterations` in params. Will use it instead of argument\n",
      "  _log_warning(f\"Found `{alias}` in params. Will use it instead of argument\")\n"
     ]
    },
    {
     "name": "stdout",
     "output_type": "stream",
     "text": [
      "[LightGBM] [Warning] feature_fraction is set=0.7184556028874137, colsample_bytree=1.0 will be ignored. Current value: feature_fraction=0.7184556028874137\n",
      "[LightGBM] [Warning] lambda_l2 is set=9.27167176173307, reg_lambda=0.0 will be ignored. Current value: lambda_l2=9.27167176173307\n",
      "[LightGBM] [Warning] lambda_l1 is set=6.245841936114581, reg_alpha=0.0 will be ignored. Current value: lambda_l1=6.245841936114581\n",
      "[LightGBM] [Warning] feature_fraction is set=0.7184556028874137, colsample_bytree=1.0 will be ignored. Current value: feature_fraction=0.7184556028874137\n",
      "[LightGBM] [Warning] lambda_l2 is set=9.27167176173307, reg_lambda=0.0 will be ignored. Current value: lambda_l2=9.27167176173307\n",
      "[LightGBM] [Warning] lambda_l1 is set=6.245841936114581, reg_alpha=0.0 will be ignored. Current value: lambda_l1=6.245841936114581\n",
      "[LightGBM] [Warning] feature_fraction is set=0.7184556028874137, colsample_bytree=1.0 will be ignored. Current value: feature_fraction=0.7184556028874137\n",
      "[LightGBM] [Warning] lambda_l2 is set=9.27167176173307, reg_lambda=0.0 will be ignored. Current value: lambda_l2=9.27167176173307\n",
      "[LightGBM] [Warning] lambda_l1 is set=6.245841936114581, reg_alpha=0.0 will be ignored. Current value: lambda_l1=6.245841936114581\n"
     ]
    },
    {
     "name": "stderr",
     "output_type": "stream",
     "text": [
      "/Users/gonzalo/opt/anaconda3/envs/jose-luis/lib/python3.10/site-packages/lightgbm/engine.py:177: UserWarning: Found `num_iterations` in params. Will use it instead of argument\n",
      "  _log_warning(f\"Found `{alias}` in params. Will use it instead of argument\")\n",
      "/Users/gonzalo/opt/anaconda3/envs/jose-luis/lib/python3.10/site-packages/lightgbm/engine.py:177: UserWarning: Found `num_iterations` in params. Will use it instead of argument\n",
      "  _log_warning(f\"Found `{alias}` in params. Will use it instead of argument\")\n",
      "/Users/gonzalo/opt/anaconda3/envs/jose-luis/lib/python3.10/site-packages/lightgbm/engine.py:177: UserWarning: Found `num_iterations` in params. Will use it instead of argument\n",
      "  _log_warning(f\"Found `{alias}` in params. Will use it instead of argument\")\n"
     ]
    },
    {
     "name": "stdout",
     "output_type": "stream",
     "text": [
      "[LightGBM] [Warning] feature_fraction is set=1.0, colsample_bytree=1.0 will be ignored. Current value: feature_fraction=1.0\n",
      "[LightGBM] [Warning] lambda_l2 is set=10.0, reg_lambda=0.0 will be ignored. Current value: lambda_l2=10.0\n",
      "[LightGBM] [Warning] lambda_l1 is set=4.792334004215111, reg_alpha=0.0 will be ignored. Current value: lambda_l1=4.792334004215111\n",
      "[LightGBM] [Warning] feature_fraction is set=1.0, colsample_bytree=1.0 will be ignored. Current value: feature_fraction=1.0\n",
      "[LightGBM] [Warning] lambda_l2 is set=10.0, reg_lambda=0.0 will be ignored. Current value: lambda_l2=10.0\n",
      "[LightGBM] [Warning] lambda_l1 is set=4.792334004215111, reg_alpha=0.0 will be ignored. Current value: lambda_l1=4.792334004215111\n",
      "[LightGBM] [Warning] feature_fraction is set=1.0, colsample_bytree=1.0 will be ignored. Current value: feature_fraction=1.0\n",
      "[LightGBM] [Warning] lambda_l2 is set=10.0, reg_lambda=0.0 will be ignored. Current value: lambda_l2=10.0\n",
      "[LightGBM] [Warning] lambda_l1 is set=4.792334004215111, reg_alpha=0.0 will be ignored. Current value: lambda_l1=4.792334004215111\n"
     ]
    },
    {
     "name": "stderr",
     "output_type": "stream",
     "text": [
      "/Users/gonzalo/opt/anaconda3/envs/jose-luis/lib/python3.10/site-packages/lightgbm/engine.py:177: UserWarning: Found `num_iterations` in params. Will use it instead of argument\n",
      "  _log_warning(f\"Found `{alias}` in params. Will use it instead of argument\")\n",
      "/Users/gonzalo/opt/anaconda3/envs/jose-luis/lib/python3.10/site-packages/lightgbm/engine.py:177: UserWarning: Found `num_iterations` in params. Will use it instead of argument\n",
      "  _log_warning(f\"Found `{alias}` in params. Will use it instead of argument\")\n",
      "/Users/gonzalo/opt/anaconda3/envs/jose-luis/lib/python3.10/site-packages/lightgbm/engine.py:177: UserWarning: Found `num_iterations` in params. Will use it instead of argument\n",
      "  _log_warning(f\"Found `{alias}` in params. Will use it instead of argument\")\n"
     ]
    },
    {
     "name": "stdout",
     "output_type": "stream",
     "text": [
      "[LightGBM] [Warning] feature_fraction is set=0.5276195573540541, colsample_bytree=1.0 will be ignored. Current value: feature_fraction=0.5276195573540541\n",
      "[LightGBM] [Warning] lambda_l2 is set=6.838570747107084, reg_lambda=0.0 will be ignored. Current value: lambda_l2=6.838570747107084\n",
      "[LightGBM] [Warning] lambda_l1 is set=1.6039916645768104, reg_alpha=0.0 will be ignored. Current value: lambda_l1=1.6039916645768104\n",
      "[LightGBM] [Warning] feature_fraction is set=0.5276195573540541, colsample_bytree=1.0 will be ignored. Current value: feature_fraction=0.5276195573540541\n",
      "[LightGBM] [Warning] lambda_l2 is set=6.838570747107084, reg_lambda=0.0 will be ignored. Current value: lambda_l2=6.838570747107084\n",
      "[LightGBM] [Warning] lambda_l1 is set=1.6039916645768104, reg_alpha=0.0 will be ignored. Current value: lambda_l1=1.6039916645768104\n",
      "[LightGBM] [Warning] feature_fraction is set=0.5276195573540541, colsample_bytree=1.0 will be ignored. Current value: feature_fraction=0.5276195573540541\n",
      "[LightGBM] [Warning] lambda_l2 is set=6.838570747107084, reg_lambda=0.0 will be ignored. Current value: lambda_l2=6.838570747107084\n",
      "[LightGBM] [Warning] lambda_l1 is set=1.6039916645768104, reg_alpha=0.0 will be ignored. Current value: lambda_l1=1.6039916645768104\n"
     ]
    },
    {
     "name": "stderr",
     "output_type": "stream",
     "text": [
      "/Users/gonzalo/opt/anaconda3/envs/jose-luis/lib/python3.10/site-packages/lightgbm/engine.py:177: UserWarning: Found `num_iterations` in params. Will use it instead of argument\n",
      "  _log_warning(f\"Found `{alias}` in params. Will use it instead of argument\")\n",
      "/Users/gonzalo/opt/anaconda3/envs/jose-luis/lib/python3.10/site-packages/lightgbm/engine.py:177: UserWarning: Found `num_iterations` in params. Will use it instead of argument\n",
      "  _log_warning(f\"Found `{alias}` in params. Will use it instead of argument\")\n",
      "/Users/gonzalo/opt/anaconda3/envs/jose-luis/lib/python3.10/site-packages/lightgbm/engine.py:177: UserWarning: Found `num_iterations` in params. Will use it instead of argument\n",
      "  _log_warning(f\"Found `{alias}` in params. Will use it instead of argument\")\n"
     ]
    },
    {
     "name": "stdout",
     "output_type": "stream",
     "text": [
      "[LightGBM] [Warning] feature_fraction is set=0.9515862318941655, colsample_bytree=1.0 will be ignored. Current value: feature_fraction=0.9515862318941655\n",
      "[LightGBM] [Warning] lambda_l2 is set=5.731022823210444, reg_lambda=0.0 will be ignored. Current value: lambda_l2=5.731022823210444\n",
      "[LightGBM] [Warning] lambda_l1 is set=2.8203263341119857, reg_alpha=0.0 will be ignored. Current value: lambda_l1=2.8203263341119857\n",
      "[LightGBM] [Warning] feature_fraction is set=0.9515862318941655, colsample_bytree=1.0 will be ignored. Current value: feature_fraction=0.9515862318941655\n",
      "[LightGBM] [Warning] lambda_l2 is set=5.731022823210444, reg_lambda=0.0 will be ignored. Current value: lambda_l2=5.731022823210444\n",
      "[LightGBM] [Warning] lambda_l1 is set=2.8203263341119857, reg_alpha=0.0 will be ignored. Current value: lambda_l1=2.8203263341119857\n",
      "[LightGBM] [Warning] feature_fraction is set=0.9515862318941655, colsample_bytree=1.0 will be ignored. Current value: feature_fraction=0.9515862318941655\n",
      "[LightGBM] [Warning] lambda_l2 is set=5.731022823210444, reg_lambda=0.0 will be ignored. Current value: lambda_l2=5.731022823210444\n",
      "[LightGBM] [Warning] lambda_l1 is set=2.8203263341119857, reg_alpha=0.0 will be ignored. Current value: lambda_l1=2.8203263341119857\n"
     ]
    },
    {
     "name": "stderr",
     "output_type": "stream",
     "text": [
      "/Users/gonzalo/opt/anaconda3/envs/jose-luis/lib/python3.10/site-packages/lightgbm/engine.py:177: UserWarning: Found `num_iterations` in params. Will use it instead of argument\n",
      "  _log_warning(f\"Found `{alias}` in params. Will use it instead of argument\")\n",
      "/Users/gonzalo/opt/anaconda3/envs/jose-luis/lib/python3.10/site-packages/lightgbm/engine.py:177: UserWarning: Found `num_iterations` in params. Will use it instead of argument\n",
      "  _log_warning(f\"Found `{alias}` in params. Will use it instead of argument\")\n",
      "/Users/gonzalo/opt/anaconda3/envs/jose-luis/lib/python3.10/site-packages/lightgbm/engine.py:177: UserWarning: Found `num_iterations` in params. Will use it instead of argument\n",
      "  _log_warning(f\"Found `{alias}` in params. Will use it instead of argument\")\n"
     ]
    },
    {
     "name": "stdout",
     "output_type": "stream",
     "text": [
      "[LightGBM] [Warning] feature_fraction is set=0.8635669738518255, colsample_bytree=1.0 will be ignored. Current value: feature_fraction=0.8635669738518255\n",
      "[LightGBM] [Warning] lambda_l2 is set=1.702493522232193, reg_lambda=0.0 will be ignored. Current value: lambda_l2=1.702493522232193\n",
      "[LightGBM] [Warning] lambda_l1 is set=0.0, reg_alpha=0.0 will be ignored. Current value: lambda_l1=0.0\n",
      "[LightGBM] [Warning] feature_fraction is set=0.8635669738518255, colsample_bytree=1.0 will be ignored. Current value: feature_fraction=0.8635669738518255\n",
      "[LightGBM] [Warning] lambda_l2 is set=1.702493522232193, reg_lambda=0.0 will be ignored. Current value: lambda_l2=1.702493522232193\n",
      "[LightGBM] [Warning] lambda_l1 is set=0.0, reg_alpha=0.0 will be ignored. Current value: lambda_l1=0.0\n",
      "[LightGBM] [Warning] feature_fraction is set=0.8635669738518255, colsample_bytree=1.0 will be ignored. Current value: feature_fraction=0.8635669738518255\n",
      "[LightGBM] [Warning] lambda_l2 is set=1.702493522232193, reg_lambda=0.0 will be ignored. Current value: lambda_l2=1.702493522232193\n",
      "[LightGBM] [Warning] lambda_l1 is set=0.0, reg_alpha=0.0 will be ignored. Current value: lambda_l1=0.0\n"
     ]
    },
    {
     "name": "stderr",
     "output_type": "stream",
     "text": [
      "/Users/gonzalo/opt/anaconda3/envs/jose-luis/lib/python3.10/site-packages/lightgbm/engine.py:177: UserWarning: Found `num_iterations` in params. Will use it instead of argument\n",
      "  _log_warning(f\"Found `{alias}` in params. Will use it instead of argument\")\n",
      "/Users/gonzalo/opt/anaconda3/envs/jose-luis/lib/python3.10/site-packages/lightgbm/engine.py:177: UserWarning: Found `num_iterations` in params. Will use it instead of argument\n",
      "  _log_warning(f\"Found `{alias}` in params. Will use it instead of argument\")\n",
      "/Users/gonzalo/opt/anaconda3/envs/jose-luis/lib/python3.10/site-packages/lightgbm/engine.py:177: UserWarning: Found `num_iterations` in params. Will use it instead of argument\n",
      "  _log_warning(f\"Found `{alias}` in params. Will use it instead of argument\")\n"
     ]
    },
    {
     "name": "stdout",
     "output_type": "stream",
     "text": [
      "[LightGBM] [Warning] feature_fraction is set=0.8881309354945098, colsample_bytree=1.0 will be ignored. Current value: feature_fraction=0.8881309354945098\n",
      "[LightGBM] [Warning] lambda_l2 is set=4.420226978380502, reg_lambda=0.0 will be ignored. Current value: lambda_l2=4.420226978380502\n",
      "[LightGBM] [Warning] lambda_l1 is set=0.0, reg_alpha=0.0 will be ignored. Current value: lambda_l1=0.0\n",
      "[LightGBM] [Warning] feature_fraction is set=0.8881309354945098, colsample_bytree=1.0 will be ignored. Current value: feature_fraction=0.8881309354945098\n",
      "[LightGBM] [Warning] lambda_l2 is set=4.420226978380502, reg_lambda=0.0 will be ignored. Current value: lambda_l2=4.420226978380502\n",
      "[LightGBM] [Warning] lambda_l1 is set=0.0, reg_alpha=0.0 will be ignored. Current value: lambda_l1=0.0\n",
      "[LightGBM] [Warning] feature_fraction is set=0.8881309354945098, colsample_bytree=1.0 will be ignored. Current value: feature_fraction=0.8881309354945098\n",
      "[LightGBM] [Warning] lambda_l2 is set=4.420226978380502, reg_lambda=0.0 will be ignored. Current value: lambda_l2=4.420226978380502\n",
      "[LightGBM] [Warning] lambda_l1 is set=0.0, reg_alpha=0.0 will be ignored. Current value: lambda_l1=0.0\n"
     ]
    },
    {
     "name": "stderr",
     "output_type": "stream",
     "text": [
      "/Users/gonzalo/opt/anaconda3/envs/jose-luis/lib/python3.10/site-packages/lightgbm/engine.py:177: UserWarning: Found `num_iterations` in params. Will use it instead of argument\n",
      "  _log_warning(f\"Found `{alias}` in params. Will use it instead of argument\")\n",
      "/Users/gonzalo/opt/anaconda3/envs/jose-luis/lib/python3.10/site-packages/lightgbm/engine.py:177: UserWarning: Found `num_iterations` in params. Will use it instead of argument\n",
      "  _log_warning(f\"Found `{alias}` in params. Will use it instead of argument\")\n",
      "/Users/gonzalo/opt/anaconda3/envs/jose-luis/lib/python3.10/site-packages/lightgbm/engine.py:177: UserWarning: Found `num_iterations` in params. Will use it instead of argument\n",
      "  _log_warning(f\"Found `{alias}` in params. Will use it instead of argument\")\n"
     ]
    },
    {
     "name": "stdout",
     "output_type": "stream",
     "text": [
      "[LightGBM] [Warning] feature_fraction is set=0.9518782023424985, colsample_bytree=1.0 will be ignored. Current value: feature_fraction=0.9518782023424985\n",
      "[LightGBM] [Warning] lambda_l2 is set=3.6503807266433346, reg_lambda=0.0 will be ignored. Current value: lambda_l2=3.6503807266433346\n",
      "[LightGBM] [Warning] lambda_l1 is set=10.0, reg_alpha=0.0 will be ignored. Current value: lambda_l1=10.0\n",
      "[LightGBM] [Warning] feature_fraction is set=0.9518782023424985, colsample_bytree=1.0 will be ignored. Current value: feature_fraction=0.9518782023424985\n",
      "[LightGBM] [Warning] lambda_l2 is set=3.6503807266433346, reg_lambda=0.0 will be ignored. Current value: lambda_l2=3.6503807266433346\n",
      "[LightGBM] [Warning] lambda_l1 is set=10.0, reg_alpha=0.0 will be ignored. Current value: lambda_l1=10.0\n",
      "[LightGBM] [Warning] feature_fraction is set=0.9518782023424985, colsample_bytree=1.0 will be ignored. Current value: feature_fraction=0.9518782023424985\n",
      "[LightGBM] [Warning] lambda_l2 is set=3.6503807266433346, reg_lambda=0.0 will be ignored. Current value: lambda_l2=3.6503807266433346\n",
      "[LightGBM] [Warning] lambda_l1 is set=10.0, reg_alpha=0.0 will be ignored. Current value: lambda_l1=10.0\n"
     ]
    },
    {
     "name": "stderr",
     "output_type": "stream",
     "text": [
      "/Users/gonzalo/opt/anaconda3/envs/jose-luis/lib/python3.10/site-packages/lightgbm/engine.py:177: UserWarning: Found `num_iterations` in params. Will use it instead of argument\n",
      "  _log_warning(f\"Found `{alias}` in params. Will use it instead of argument\")\n",
      "/Users/gonzalo/opt/anaconda3/envs/jose-luis/lib/python3.10/site-packages/lightgbm/engine.py:177: UserWarning: Found `num_iterations` in params. Will use it instead of argument\n",
      "  _log_warning(f\"Found `{alias}` in params. Will use it instead of argument\")\n",
      "/Users/gonzalo/opt/anaconda3/envs/jose-luis/lib/python3.10/site-packages/lightgbm/engine.py:177: UserWarning: Found `num_iterations` in params. Will use it instead of argument\n",
      "  _log_warning(f\"Found `{alias}` in params. Will use it instead of argument\")\n"
     ]
    },
    {
     "name": "stdout",
     "output_type": "stream",
     "text": [
      "[LightGBM] [Warning] feature_fraction is set=1.0, colsample_bytree=1.0 will be ignored. Current value: feature_fraction=1.0\n",
      "[LightGBM] [Warning] lambda_l2 is set=3.0324657398168187, reg_lambda=0.0 will be ignored. Current value: lambda_l2=3.0324657398168187\n",
      "[LightGBM] [Warning] lambda_l1 is set=2.660803369330598, reg_alpha=0.0 will be ignored. Current value: lambda_l1=2.660803369330598\n",
      "[LightGBM] [Warning] feature_fraction is set=1.0, colsample_bytree=1.0 will be ignored. Current value: feature_fraction=1.0\n",
      "[LightGBM] [Warning] lambda_l2 is set=3.0324657398168187, reg_lambda=0.0 will be ignored. Current value: lambda_l2=3.0324657398168187\n",
      "[LightGBM] [Warning] lambda_l1 is set=2.660803369330598, reg_alpha=0.0 will be ignored. Current value: lambda_l1=2.660803369330598\n",
      "[LightGBM] [Warning] feature_fraction is set=1.0, colsample_bytree=1.0 will be ignored. Current value: feature_fraction=1.0\n",
      "[LightGBM] [Warning] lambda_l2 is set=3.0324657398168187, reg_lambda=0.0 will be ignored. Current value: lambda_l2=3.0324657398168187\n",
      "[LightGBM] [Warning] lambda_l1 is set=2.660803369330598, reg_alpha=0.0 will be ignored. Current value: lambda_l1=2.660803369330598\n"
     ]
    },
    {
     "name": "stderr",
     "output_type": "stream",
     "text": [
      "/Users/gonzalo/opt/anaconda3/envs/jose-luis/lib/python3.10/site-packages/lightgbm/engine.py:177: UserWarning: Found `num_iterations` in params. Will use it instead of argument\n",
      "  _log_warning(f\"Found `{alias}` in params. Will use it instead of argument\")\n",
      "/Users/gonzalo/opt/anaconda3/envs/jose-luis/lib/python3.10/site-packages/lightgbm/engine.py:177: UserWarning: Found `num_iterations` in params. Will use it instead of argument\n",
      "  _log_warning(f\"Found `{alias}` in params. Will use it instead of argument\")\n",
      "/Users/gonzalo/opt/anaconda3/envs/jose-luis/lib/python3.10/site-packages/lightgbm/engine.py:177: UserWarning: Found `num_iterations` in params. Will use it instead of argument\n",
      "  _log_warning(f\"Found `{alias}` in params. Will use it instead of argument\")\n"
     ]
    },
    {
     "name": "stdout",
     "output_type": "stream",
     "text": [
      "[LightGBM] [Warning] feature_fraction is set=0.6165119862825151, colsample_bytree=1.0 will be ignored. Current value: feature_fraction=0.6165119862825151\n",
      "[LightGBM] [Warning] lambda_l2 is set=1.138361312535101, reg_lambda=0.0 will be ignored. Current value: lambda_l2=1.138361312535101\n",
      "[LightGBM] [Warning] lambda_l1 is set=0.0, reg_alpha=0.0 will be ignored. Current value: lambda_l1=0.0\n",
      "[LightGBM] [Warning] feature_fraction is set=0.6165119862825151, colsample_bytree=1.0 will be ignored. Current value: feature_fraction=0.6165119862825151\n",
      "[LightGBM] [Warning] lambda_l2 is set=1.138361312535101, reg_lambda=0.0 will be ignored. Current value: lambda_l2=1.138361312535101\n",
      "[LightGBM] [Warning] lambda_l1 is set=0.0, reg_alpha=0.0 will be ignored. Current value: lambda_l1=0.0\n",
      "[LightGBM] [Warning] feature_fraction is set=0.6165119862825151, colsample_bytree=1.0 will be ignored. Current value: feature_fraction=0.6165119862825151\n",
      "[LightGBM] [Warning] lambda_l2 is set=1.138361312535101, reg_lambda=0.0 will be ignored. Current value: lambda_l2=1.138361312535101\n",
      "[LightGBM] [Warning] lambda_l1 is set=0.0, reg_alpha=0.0 will be ignored. Current value: lambda_l1=0.0\n"
     ]
    },
    {
     "name": "stderr",
     "output_type": "stream",
     "text": [
      "/Users/gonzalo/opt/anaconda3/envs/jose-luis/lib/python3.10/site-packages/lightgbm/engine.py:177: UserWarning: Found `num_iterations` in params. Will use it instead of argument\n",
      "  _log_warning(f\"Found `{alias}` in params. Will use it instead of argument\")\n",
      "/Users/gonzalo/opt/anaconda3/envs/jose-luis/lib/python3.10/site-packages/lightgbm/engine.py:177: UserWarning: Found `num_iterations` in params. Will use it instead of argument\n",
      "  _log_warning(f\"Found `{alias}` in params. Will use it instead of argument\")\n",
      "/Users/gonzalo/opt/anaconda3/envs/jose-luis/lib/python3.10/site-packages/lightgbm/engine.py:177: UserWarning: Found `num_iterations` in params. Will use it instead of argument\n",
      "  _log_warning(f\"Found `{alias}` in params. Will use it instead of argument\")\n"
     ]
    },
    {
     "name": "stdout",
     "output_type": "stream",
     "text": [
      "[LightGBM] [Warning] feature_fraction is set=0.9744809212540735, colsample_bytree=1.0 will be ignored. Current value: feature_fraction=0.9744809212540735\n",
      "[LightGBM] [Warning] lambda_l2 is set=3.360047940784723, reg_lambda=0.0 will be ignored. Current value: lambda_l2=3.360047940784723\n",
      "[LightGBM] [Warning] lambda_l1 is set=6.013194543122858, reg_alpha=0.0 will be ignored. Current value: lambda_l1=6.013194543122858\n",
      "[LightGBM] [Warning] feature_fraction is set=0.9744809212540735, colsample_bytree=1.0 will be ignored. Current value: feature_fraction=0.9744809212540735\n",
      "[LightGBM] [Warning] lambda_l2 is set=3.360047940784723, reg_lambda=0.0 will be ignored. Current value: lambda_l2=3.360047940784723\n",
      "[LightGBM] [Warning] lambda_l1 is set=6.013194543122858, reg_alpha=0.0 will be ignored. Current value: lambda_l1=6.013194543122858\n",
      "[LightGBM] [Warning] feature_fraction is set=0.9744809212540735, colsample_bytree=1.0 will be ignored. Current value: feature_fraction=0.9744809212540735\n",
      "[LightGBM] [Warning] lambda_l2 is set=3.360047940784723, reg_lambda=0.0 will be ignored. Current value: lambda_l2=3.360047940784723\n",
      "[LightGBM] [Warning] lambda_l1 is set=6.013194543122858, reg_alpha=0.0 will be ignored. Current value: lambda_l1=6.013194543122858\n"
     ]
    },
    {
     "name": "stderr",
     "output_type": "stream",
     "text": [
      "/Users/gonzalo/opt/anaconda3/envs/jose-luis/lib/python3.10/site-packages/lightgbm/engine.py:177: UserWarning: Found `num_iterations` in params. Will use it instead of argument\n",
      "  _log_warning(f\"Found `{alias}` in params. Will use it instead of argument\")\n",
      "/Users/gonzalo/opt/anaconda3/envs/jose-luis/lib/python3.10/site-packages/lightgbm/engine.py:177: UserWarning: Found `num_iterations` in params. Will use it instead of argument\n",
      "  _log_warning(f\"Found `{alias}` in params. Will use it instead of argument\")\n",
      "/Users/gonzalo/opt/anaconda3/envs/jose-luis/lib/python3.10/site-packages/lightgbm/engine.py:177: UserWarning: Found `num_iterations` in params. Will use it instead of argument\n",
      "  _log_warning(f\"Found `{alias}` in params. Will use it instead of argument\")\n"
     ]
    },
    {
     "name": "stdout",
     "output_type": "stream",
     "text": [
      "[LightGBM] [Warning] feature_fraction is set=1.0, colsample_bytree=1.0 will be ignored. Current value: feature_fraction=1.0\n",
      "[LightGBM] [Warning] lambda_l2 is set=10.0, reg_lambda=0.0 will be ignored. Current value: lambda_l2=10.0\n",
      "[LightGBM] [Warning] lambda_l1 is set=1.1856223480093593, reg_alpha=0.0 will be ignored. Current value: lambda_l1=1.1856223480093593\n",
      "[LightGBM] [Warning] feature_fraction is set=1.0, colsample_bytree=1.0 will be ignored. Current value: feature_fraction=1.0\n",
      "[LightGBM] [Warning] lambda_l2 is set=10.0, reg_lambda=0.0 will be ignored. Current value: lambda_l2=10.0\n",
      "[LightGBM] [Warning] lambda_l1 is set=1.1856223480093593, reg_alpha=0.0 will be ignored. Current value: lambda_l1=1.1856223480093593\n",
      "[LightGBM] [Warning] feature_fraction is set=1.0, colsample_bytree=1.0 will be ignored. Current value: feature_fraction=1.0\n",
      "[LightGBM] [Warning] lambda_l2 is set=10.0, reg_lambda=0.0 will be ignored. Current value: lambda_l2=10.0\n",
      "[LightGBM] [Warning] lambda_l1 is set=1.1856223480093593, reg_alpha=0.0 will be ignored. Current value: lambda_l1=1.1856223480093593\n"
     ]
    },
    {
     "name": "stderr",
     "output_type": "stream",
     "text": [
      "/Users/gonzalo/opt/anaconda3/envs/jose-luis/lib/python3.10/site-packages/lightgbm/engine.py:177: UserWarning: Found `num_iterations` in params. Will use it instead of argument\n",
      "  _log_warning(f\"Found `{alias}` in params. Will use it instead of argument\")\n",
      "/Users/gonzalo/opt/anaconda3/envs/jose-luis/lib/python3.10/site-packages/lightgbm/engine.py:177: UserWarning: Found `num_iterations` in params. Will use it instead of argument\n",
      "  _log_warning(f\"Found `{alias}` in params. Will use it instead of argument\")\n",
      "/Users/gonzalo/opt/anaconda3/envs/jose-luis/lib/python3.10/site-packages/lightgbm/engine.py:177: UserWarning: Found `num_iterations` in params. Will use it instead of argument\n",
      "  _log_warning(f\"Found `{alias}` in params. Will use it instead of argument\")\n"
     ]
    },
    {
     "name": "stdout",
     "output_type": "stream",
     "text": [
      "[LightGBM] [Warning] feature_fraction is set=0.910084059376369, colsample_bytree=1.0 will be ignored. Current value: feature_fraction=0.910084059376369\n",
      "[LightGBM] [Warning] lambda_l2 is set=0.0, reg_lambda=0.0 will be ignored. Current value: lambda_l2=0.0\n",
      "[LightGBM] [Warning] lambda_l1 is set=0.0, reg_alpha=0.0 will be ignored. Current value: lambda_l1=0.0\n",
      "[LightGBM] [Warning] feature_fraction is set=0.910084059376369, colsample_bytree=1.0 will be ignored. Current value: feature_fraction=0.910084059376369\n",
      "[LightGBM] [Warning] lambda_l2 is set=0.0, reg_lambda=0.0 will be ignored. Current value: lambda_l2=0.0\n",
      "[LightGBM] [Warning] lambda_l1 is set=0.0, reg_alpha=0.0 will be ignored. Current value: lambda_l1=0.0\n",
      "[LightGBM] [Warning] feature_fraction is set=0.910084059376369, colsample_bytree=1.0 will be ignored. Current value: feature_fraction=0.910084059376369\n",
      "[LightGBM] [Warning] lambda_l2 is set=0.0, reg_lambda=0.0 will be ignored. Current value: lambda_l2=0.0\n",
      "[LightGBM] [Warning] lambda_l1 is set=0.0, reg_alpha=0.0 will be ignored. Current value: lambda_l1=0.0\n"
     ]
    },
    {
     "name": "stderr",
     "output_type": "stream",
     "text": [
      "/Users/gonzalo/opt/anaconda3/envs/jose-luis/lib/python3.10/site-packages/lightgbm/engine.py:177: UserWarning: Found `num_iterations` in params. Will use it instead of argument\n",
      "  _log_warning(f\"Found `{alias}` in params. Will use it instead of argument\")\n",
      "/Users/gonzalo/opt/anaconda3/envs/jose-luis/lib/python3.10/site-packages/lightgbm/engine.py:177: UserWarning: Found `num_iterations` in params. Will use it instead of argument\n",
      "  _log_warning(f\"Found `{alias}` in params. Will use it instead of argument\")\n",
      "/Users/gonzalo/opt/anaconda3/envs/jose-luis/lib/python3.10/site-packages/lightgbm/engine.py:177: UserWarning: Found `num_iterations` in params. Will use it instead of argument\n",
      "  _log_warning(f\"Found `{alias}` in params. Will use it instead of argument\")\n"
     ]
    },
    {
     "name": "stdout",
     "output_type": "stream",
     "text": [
      "[LightGBM] [Warning] feature_fraction is set=0.9544310748926941, colsample_bytree=1.0 will be ignored. Current value: feature_fraction=0.9544310748926941\n",
      "[LightGBM] [Warning] lambda_l2 is set=7.0472999028802, reg_lambda=0.0 will be ignored. Current value: lambda_l2=7.0472999028802\n",
      "[LightGBM] [Warning] lambda_l1 is set=4.190897945635896, reg_alpha=0.0 will be ignored. Current value: lambda_l1=4.190897945635896\n",
      "[LightGBM] [Warning] feature_fraction is set=0.9544310748926941, colsample_bytree=1.0 will be ignored. Current value: feature_fraction=0.9544310748926941\n",
      "[LightGBM] [Warning] lambda_l2 is set=7.0472999028802, reg_lambda=0.0 will be ignored. Current value: lambda_l2=7.0472999028802\n",
      "[LightGBM] [Warning] lambda_l1 is set=4.190897945635896, reg_alpha=0.0 will be ignored. Current value: lambda_l1=4.190897945635896\n",
      "[LightGBM] [Warning] feature_fraction is set=0.9544310748926941, colsample_bytree=1.0 will be ignored. Current value: feature_fraction=0.9544310748926941\n",
      "[LightGBM] [Warning] lambda_l2 is set=7.0472999028802, reg_lambda=0.0 will be ignored. Current value: lambda_l2=7.0472999028802\n",
      "[LightGBM] [Warning] lambda_l1 is set=4.190897945635896, reg_alpha=0.0 will be ignored. Current value: lambda_l1=4.190897945635896\n"
     ]
    },
    {
     "name": "stderr",
     "output_type": "stream",
     "text": [
      "/Users/gonzalo/opt/anaconda3/envs/jose-luis/lib/python3.10/site-packages/lightgbm/engine.py:177: UserWarning: Found `num_iterations` in params. Will use it instead of argument\n",
      "  _log_warning(f\"Found `{alias}` in params. Will use it instead of argument\")\n",
      "/Users/gonzalo/opt/anaconda3/envs/jose-luis/lib/python3.10/site-packages/lightgbm/engine.py:177: UserWarning: Found `num_iterations` in params. Will use it instead of argument\n",
      "  _log_warning(f\"Found `{alias}` in params. Will use it instead of argument\")\n",
      "/Users/gonzalo/opt/anaconda3/envs/jose-luis/lib/python3.10/site-packages/lightgbm/engine.py:177: UserWarning: Found `num_iterations` in params. Will use it instead of argument\n",
      "  _log_warning(f\"Found `{alias}` in params. Will use it instead of argument\")\n"
     ]
    },
    {
     "name": "stdout",
     "output_type": "stream",
     "text": [
      "[LightGBM] [Warning] feature_fraction is set=1.0, colsample_bytree=1.0 will be ignored. Current value: feature_fraction=1.0\n",
      "[LightGBM] [Warning] lambda_l2 is set=0.0, reg_lambda=0.0 will be ignored. Current value: lambda_l2=0.0\n",
      "[LightGBM] [Warning] lambda_l1 is set=5.454388149361509, reg_alpha=0.0 will be ignored. Current value: lambda_l1=5.454388149361509\n",
      "[LightGBM] [Warning] feature_fraction is set=1.0, colsample_bytree=1.0 will be ignored. Current value: feature_fraction=1.0\n",
      "[LightGBM] [Warning] lambda_l2 is set=0.0, reg_lambda=0.0 will be ignored. Current value: lambda_l2=0.0\n",
      "[LightGBM] [Warning] lambda_l1 is set=5.454388149361509, reg_alpha=0.0 will be ignored. Current value: lambda_l1=5.454388149361509\n",
      "[LightGBM] [Warning] feature_fraction is set=1.0, colsample_bytree=1.0 will be ignored. Current value: feature_fraction=1.0\n",
      "[LightGBM] [Warning] lambda_l2 is set=0.0, reg_lambda=0.0 will be ignored. Current value: lambda_l2=0.0\n",
      "[LightGBM] [Warning] lambda_l1 is set=5.454388149361509, reg_alpha=0.0 will be ignored. Current value: lambda_l1=5.454388149361509\n"
     ]
    },
    {
     "name": "stderr",
     "output_type": "stream",
     "text": [
      "/Users/gonzalo/opt/anaconda3/envs/jose-luis/lib/python3.10/site-packages/lightgbm/engine.py:177: UserWarning: Found `num_iterations` in params. Will use it instead of argument\n",
      "  _log_warning(f\"Found `{alias}` in params. Will use it instead of argument\")\n",
      "/Users/gonzalo/opt/anaconda3/envs/jose-luis/lib/python3.10/site-packages/lightgbm/engine.py:177: UserWarning: Found `num_iterations` in params. Will use it instead of argument\n",
      "  _log_warning(f\"Found `{alias}` in params. Will use it instead of argument\")\n",
      "/Users/gonzalo/opt/anaconda3/envs/jose-luis/lib/python3.10/site-packages/lightgbm/engine.py:177: UserWarning: Found `num_iterations` in params. Will use it instead of argument\n",
      "  _log_warning(f\"Found `{alias}` in params. Will use it instead of argument\")\n"
     ]
    },
    {
     "name": "stdout",
     "output_type": "stream",
     "text": [
      "[LightGBM] [Warning] feature_fraction is set=1.0, colsample_bytree=1.0 will be ignored. Current value: feature_fraction=1.0\n",
      "[LightGBM] [Warning] lambda_l2 is set=0.41409418891403704, reg_lambda=0.0 will be ignored. Current value: lambda_l2=0.41409418891403704\n",
      "[LightGBM] [Warning] lambda_l1 is set=6.550581656349941, reg_alpha=0.0 will be ignored. Current value: lambda_l1=6.550581656349941\n",
      "[LightGBM] [Warning] feature_fraction is set=1.0, colsample_bytree=1.0 will be ignored. Current value: feature_fraction=1.0\n",
      "[LightGBM] [Warning] lambda_l2 is set=0.41409418891403704, reg_lambda=0.0 will be ignored. Current value: lambda_l2=0.41409418891403704\n",
      "[LightGBM] [Warning] lambda_l1 is set=6.550581656349941, reg_alpha=0.0 will be ignored. Current value: lambda_l1=6.550581656349941\n",
      "[LightGBM] [Warning] feature_fraction is set=1.0, colsample_bytree=1.0 will be ignored. Current value: feature_fraction=1.0\n",
      "[LightGBM] [Warning] lambda_l2 is set=0.41409418891403704, reg_lambda=0.0 will be ignored. Current value: lambda_l2=0.41409418891403704\n",
      "[LightGBM] [Warning] lambda_l1 is set=6.550581656349941, reg_alpha=0.0 will be ignored. Current value: lambda_l1=6.550581656349941\n"
     ]
    },
    {
     "name": "stderr",
     "output_type": "stream",
     "text": [
      "/Users/gonzalo/opt/anaconda3/envs/jose-luis/lib/python3.10/site-packages/lightgbm/engine.py:177: UserWarning: Found `num_iterations` in params. Will use it instead of argument\n",
      "  _log_warning(f\"Found `{alias}` in params. Will use it instead of argument\")\n",
      "/Users/gonzalo/opt/anaconda3/envs/jose-luis/lib/python3.10/site-packages/lightgbm/engine.py:177: UserWarning: Found `num_iterations` in params. Will use it instead of argument\n",
      "  _log_warning(f\"Found `{alias}` in params. Will use it instead of argument\")\n",
      "/Users/gonzalo/opt/anaconda3/envs/jose-luis/lib/python3.10/site-packages/lightgbm/engine.py:177: UserWarning: Found `num_iterations` in params. Will use it instead of argument\n",
      "  _log_warning(f\"Found `{alias}` in params. Will use it instead of argument\")\n"
     ]
    },
    {
     "name": "stdout",
     "output_type": "stream",
     "text": [
      "[LightGBM] [Warning] feature_fraction is set=0.6148410101764874, colsample_bytree=1.0 will be ignored. Current value: feature_fraction=0.6148410101764874\n",
      "[LightGBM] [Warning] lambda_l2 is set=3.4386917873250478, reg_lambda=0.0 will be ignored. Current value: lambda_l2=3.4386917873250478\n",
      "[LightGBM] [Warning] lambda_l1 is set=3.0763177334400815, reg_alpha=0.0 will be ignored. Current value: lambda_l1=3.0763177334400815\n",
      "[LightGBM] [Warning] feature_fraction is set=0.6148410101764874, colsample_bytree=1.0 will be ignored. Current value: feature_fraction=0.6148410101764874\n",
      "[LightGBM] [Warning] lambda_l2 is set=3.4386917873250478, reg_lambda=0.0 will be ignored. Current value: lambda_l2=3.4386917873250478\n",
      "[LightGBM] [Warning] lambda_l1 is set=3.0763177334400815, reg_alpha=0.0 will be ignored. Current value: lambda_l1=3.0763177334400815\n",
      "[LightGBM] [Warning] feature_fraction is set=0.6148410101764874, colsample_bytree=1.0 will be ignored. Current value: feature_fraction=0.6148410101764874\n",
      "[LightGBM] [Warning] lambda_l2 is set=3.4386917873250478, reg_lambda=0.0 will be ignored. Current value: lambda_l2=3.4386917873250478\n",
      "[LightGBM] [Warning] lambda_l1 is set=3.0763177334400815, reg_alpha=0.0 will be ignored. Current value: lambda_l1=3.0763177334400815\n"
     ]
    },
    {
     "name": "stderr",
     "output_type": "stream",
     "text": [
      "/Users/gonzalo/opt/anaconda3/envs/jose-luis/lib/python3.10/site-packages/lightgbm/engine.py:177: UserWarning: Found `num_iterations` in params. Will use it instead of argument\n",
      "  _log_warning(f\"Found `{alias}` in params. Will use it instead of argument\")\n",
      "/Users/gonzalo/opt/anaconda3/envs/jose-luis/lib/python3.10/site-packages/lightgbm/engine.py:177: UserWarning: Found `num_iterations` in params. Will use it instead of argument\n",
      "  _log_warning(f\"Found `{alias}` in params. Will use it instead of argument\")\n",
      "/Users/gonzalo/opt/anaconda3/envs/jose-luis/lib/python3.10/site-packages/lightgbm/engine.py:177: UserWarning: Found `num_iterations` in params. Will use it instead of argument\n",
      "  _log_warning(f\"Found `{alias}` in params. Will use it instead of argument\")\n"
     ]
    },
    {
     "name": "stdout",
     "output_type": "stream",
     "text": [
      "[LightGBM] [Warning] feature_fraction is set=0.5, colsample_bytree=1.0 will be ignored. Current value: feature_fraction=0.5\n",
      "[LightGBM] [Warning] lambda_l2 is set=10.0, reg_lambda=0.0 will be ignored. Current value: lambda_l2=10.0\n",
      "[LightGBM] [Warning] lambda_l1 is set=4.03949420257282, reg_alpha=0.0 will be ignored. Current value: lambda_l1=4.03949420257282\n",
      "[LightGBM] [Warning] feature_fraction is set=0.5, colsample_bytree=1.0 will be ignored. Current value: feature_fraction=0.5\n",
      "[LightGBM] [Warning] lambda_l2 is set=10.0, reg_lambda=0.0 will be ignored. Current value: lambda_l2=10.0\n",
      "[LightGBM] [Warning] lambda_l1 is set=4.03949420257282, reg_alpha=0.0 will be ignored. Current value: lambda_l1=4.03949420257282\n",
      "[LightGBM] [Warning] feature_fraction is set=0.5, colsample_bytree=1.0 will be ignored. Current value: feature_fraction=0.5\n",
      "[LightGBM] [Warning] lambda_l2 is set=10.0, reg_lambda=0.0 will be ignored. Current value: lambda_l2=10.0\n",
      "[LightGBM] [Warning] lambda_l1 is set=4.03949420257282, reg_alpha=0.0 will be ignored. Current value: lambda_l1=4.03949420257282\n"
     ]
    },
    {
     "name": "stderr",
     "output_type": "stream",
     "text": [
      "/Users/gonzalo/opt/anaconda3/envs/jose-luis/lib/python3.10/site-packages/lightgbm/engine.py:177: UserWarning: Found `num_iterations` in params. Will use it instead of argument\n",
      "  _log_warning(f\"Found `{alias}` in params. Will use it instead of argument\")\n",
      "/Users/gonzalo/opt/anaconda3/envs/jose-luis/lib/python3.10/site-packages/lightgbm/engine.py:177: UserWarning: Found `num_iterations` in params. Will use it instead of argument\n",
      "  _log_warning(f\"Found `{alias}` in params. Will use it instead of argument\")\n",
      "/Users/gonzalo/opt/anaconda3/envs/jose-luis/lib/python3.10/site-packages/lightgbm/engine.py:177: UserWarning: Found `num_iterations` in params. Will use it instead of argument\n",
      "  _log_warning(f\"Found `{alias}` in params. Will use it instead of argument\")\n",
      "/Users/gonzalo/opt/anaconda3/envs/jose-luis/lib/python3.10/site-packages/lightgbm/engine.py:177: UserWarning: Found `num_iterations` in params. Will use it instead of argument\n",
      "  _log_warning(f\"Found `{alias}` in params. Will use it instead of argument\")\n"
     ]
    },
    {
     "name": "stdout",
     "output_type": "stream",
     "text": [
      "[LightGBM] [Warning] feature_fraction is set=0.705051979426657, colsample_bytree=1.0 will be ignored. Current value: feature_fraction=0.705051979426657\n",
      "[LightGBM] [Warning] lambda_l2 is set=9.328679988478338, reg_lambda=0.0 will be ignored. Current value: lambda_l2=9.328679988478338\n",
      "[LightGBM] [Warning] lambda_l1 is set=7.277257431773251, reg_alpha=0.0 will be ignored. Current value: lambda_l1=7.277257431773251\n",
      "[LightGBM] [Warning] feature_fraction is set=0.705051979426657, colsample_bytree=1.0 will be ignored. Current value: feature_fraction=0.705051979426657\n",
      "[LightGBM] [Warning] lambda_l2 is set=9.328679988478338, reg_lambda=0.0 will be ignored. Current value: lambda_l2=9.328679988478338\n",
      "[LightGBM] [Warning] lambda_l1 is set=7.277257431773251, reg_alpha=0.0 will be ignored. Current value: lambda_l1=7.277257431773251\n",
      "[LightGBM] [Warning] feature_fraction is set=0.705051979426657, colsample_bytree=1.0 will be ignored. Current value: feature_fraction=0.705051979426657\n",
      "[LightGBM] [Warning] lambda_l2 is set=9.328679988478338, reg_lambda=0.0 will be ignored. Current value: lambda_l2=9.328679988478338\n",
      "[LightGBM] [Warning] lambda_l1 is set=7.277257431773251, reg_alpha=0.0 will be ignored. Current value: lambda_l1=7.277257431773251\n"
     ]
    },
    {
     "name": "stderr",
     "output_type": "stream",
     "text": [
      "/Users/gonzalo/opt/anaconda3/envs/jose-luis/lib/python3.10/site-packages/lightgbm/engine.py:177: UserWarning: Found `num_iterations` in params. Will use it instead of argument\n",
      "  _log_warning(f\"Found `{alias}` in params. Will use it instead of argument\")\n",
      "/Users/gonzalo/opt/anaconda3/envs/jose-luis/lib/python3.10/site-packages/lightgbm/engine.py:177: UserWarning: Found `num_iterations` in params. Will use it instead of argument\n",
      "  _log_warning(f\"Found `{alias}` in params. Will use it instead of argument\")\n",
      "/Users/gonzalo/opt/anaconda3/envs/jose-luis/lib/python3.10/site-packages/lightgbm/engine.py:177: UserWarning: Found `num_iterations` in params. Will use it instead of argument\n",
      "  _log_warning(f\"Found `{alias}` in params. Will use it instead of argument\")\n"
     ]
    },
    {
     "name": "stdout",
     "output_type": "stream",
     "text": [
      "[LightGBM] [Warning] feature_fraction is set=0.9186941777766422, colsample_bytree=1.0 will be ignored. Current value: feature_fraction=0.9186941777766422\n",
      "[LightGBM] [Warning] lambda_l2 is set=3.03410109884175, reg_lambda=0.0 will be ignored. Current value: lambda_l2=3.03410109884175\n",
      "[LightGBM] [Warning] lambda_l1 is set=8.833152773808623, reg_alpha=0.0 will be ignored. Current value: lambda_l1=8.833152773808623\n",
      "[LightGBM] [Warning] feature_fraction is set=0.9186941777766422, colsample_bytree=1.0 will be ignored. Current value: feature_fraction=0.9186941777766422\n",
      "[LightGBM] [Warning] lambda_l2 is set=3.03410109884175, reg_lambda=0.0 will be ignored. Current value: lambda_l2=3.03410109884175\n",
      "[LightGBM] [Warning] lambda_l1 is set=8.833152773808623, reg_alpha=0.0 will be ignored. Current value: lambda_l1=8.833152773808623\n",
      "[LightGBM] [Warning] feature_fraction is set=0.9186941777766422, colsample_bytree=1.0 will be ignored. Current value: feature_fraction=0.9186941777766422\n",
      "[LightGBM] [Warning] lambda_l2 is set=3.03410109884175, reg_lambda=0.0 will be ignored. Current value: lambda_l2=3.03410109884175\n",
      "[LightGBM] [Warning] lambda_l1 is set=8.833152773808623, reg_alpha=0.0 will be ignored. Current value: lambda_l1=8.833152773808623\n"
     ]
    },
    {
     "name": "stderr",
     "output_type": "stream",
     "text": [
      "/Users/gonzalo/opt/anaconda3/envs/jose-luis/lib/python3.10/site-packages/lightgbm/engine.py:177: UserWarning: Found `num_iterations` in params. Will use it instead of argument\n",
      "  _log_warning(f\"Found `{alias}` in params. Will use it instead of argument\")\n",
      "/Users/gonzalo/opt/anaconda3/envs/jose-luis/lib/python3.10/site-packages/lightgbm/engine.py:177: UserWarning: Found `num_iterations` in params. Will use it instead of argument\n",
      "  _log_warning(f\"Found `{alias}` in params. Will use it instead of argument\")\n",
      "/Users/gonzalo/opt/anaconda3/envs/jose-luis/lib/python3.10/site-packages/lightgbm/engine.py:177: UserWarning: Found `num_iterations` in params. Will use it instead of argument\n",
      "  _log_warning(f\"Found `{alias}` in params. Will use it instead of argument\")\n"
     ]
    },
    {
     "name": "stdout",
     "output_type": "stream",
     "text": [
      "[LightGBM] [Warning] feature_fraction is set=0.7224162561505759, colsample_bytree=1.0 will be ignored. Current value: feature_fraction=0.7224162561505759\n",
      "[LightGBM] [Warning] lambda_l2 is set=1.0485915855270358, reg_lambda=0.0 will be ignored. Current value: lambda_l2=1.0485915855270358\n",
      "[LightGBM] [Warning] lambda_l1 is set=9.18722521669377, reg_alpha=0.0 will be ignored. Current value: lambda_l1=9.18722521669377\n",
      "[LightGBM] [Warning] feature_fraction is set=0.7224162561505759, colsample_bytree=1.0 will be ignored. Current value: feature_fraction=0.7224162561505759\n",
      "[LightGBM] [Warning] lambda_l2 is set=1.0485915855270358, reg_lambda=0.0 will be ignored. Current value: lambda_l2=1.0485915855270358\n",
      "[LightGBM] [Warning] lambda_l1 is set=9.18722521669377, reg_alpha=0.0 will be ignored. Current value: lambda_l1=9.18722521669377\n",
      "[LightGBM] [Warning] feature_fraction is set=0.7224162561505759, colsample_bytree=1.0 will be ignored. Current value: feature_fraction=0.7224162561505759\n",
      "[LightGBM] [Warning] lambda_l2 is set=1.0485915855270358, reg_lambda=0.0 will be ignored. Current value: lambda_l2=1.0485915855270358\n",
      "[LightGBM] [Warning] lambda_l1 is set=9.18722521669377, reg_alpha=0.0 will be ignored. Current value: lambda_l1=9.18722521669377\n"
     ]
    },
    {
     "name": "stderr",
     "output_type": "stream",
     "text": [
      "/Users/gonzalo/opt/anaconda3/envs/jose-luis/lib/python3.10/site-packages/lightgbm/engine.py:177: UserWarning: Found `num_iterations` in params. Will use it instead of argument\n",
      "  _log_warning(f\"Found `{alias}` in params. Will use it instead of argument\")\n",
      "/Users/gonzalo/opt/anaconda3/envs/jose-luis/lib/python3.10/site-packages/lightgbm/engine.py:177: UserWarning: Found `num_iterations` in params. Will use it instead of argument\n",
      "  _log_warning(f\"Found `{alias}` in params. Will use it instead of argument\")\n",
      "/Users/gonzalo/opt/anaconda3/envs/jose-luis/lib/python3.10/site-packages/lightgbm/engine.py:177: UserWarning: Found `num_iterations` in params. Will use it instead of argument\n",
      "  _log_warning(f\"Found `{alias}` in params. Will use it instead of argument\")\n"
     ]
    },
    {
     "name": "stdout",
     "output_type": "stream",
     "text": [
      "[LightGBM] [Warning] feature_fraction is set=0.9061979941786817, colsample_bytree=1.0 will be ignored. Current value: feature_fraction=0.9061979941786817\n",
      "[LightGBM] [Warning] lambda_l2 is set=5.9804707751212804, reg_lambda=0.0 will be ignored. Current value: lambda_l2=5.9804707751212804\n",
      "[LightGBM] [Warning] lambda_l1 is set=1.718715613965607, reg_alpha=0.0 will be ignored. Current value: lambda_l1=1.718715613965607\n",
      "[LightGBM] [Warning] feature_fraction is set=0.9061979941786817, colsample_bytree=1.0 will be ignored. Current value: feature_fraction=0.9061979941786817\n",
      "[LightGBM] [Warning] lambda_l2 is set=5.9804707751212804, reg_lambda=0.0 will be ignored. Current value: lambda_l2=5.9804707751212804\n",
      "[LightGBM] [Warning] lambda_l1 is set=1.718715613965607, reg_alpha=0.0 will be ignored. Current value: lambda_l1=1.718715613965607\n",
      "[LightGBM] [Warning] feature_fraction is set=0.9061979941786817, colsample_bytree=1.0 will be ignored. Current value: feature_fraction=0.9061979941786817\n",
      "[LightGBM] [Warning] lambda_l2 is set=5.9804707751212804, reg_lambda=0.0 will be ignored. Current value: lambda_l2=5.9804707751212804\n",
      "[LightGBM] [Warning] lambda_l1 is set=1.718715613965607, reg_alpha=0.0 will be ignored. Current value: lambda_l1=1.718715613965607\n"
     ]
    },
    {
     "name": "stderr",
     "output_type": "stream",
     "text": [
      "/Users/gonzalo/opt/anaconda3/envs/jose-luis/lib/python3.10/site-packages/lightgbm/engine.py:177: UserWarning: Found `num_iterations` in params. Will use it instead of argument\n",
      "  _log_warning(f\"Found `{alias}` in params. Will use it instead of argument\")\n",
      "/Users/gonzalo/opt/anaconda3/envs/jose-luis/lib/python3.10/site-packages/lightgbm/engine.py:177: UserWarning: Found `num_iterations` in params. Will use it instead of argument\n",
      "  _log_warning(f\"Found `{alias}` in params. Will use it instead of argument\")\n",
      "/Users/gonzalo/opt/anaconda3/envs/jose-luis/lib/python3.10/site-packages/lightgbm/engine.py:177: UserWarning: Found `num_iterations` in params. Will use it instead of argument\n",
      "  _log_warning(f\"Found `{alias}` in params. Will use it instead of argument\")\n"
     ]
    },
    {
     "name": "stdout",
     "output_type": "stream",
     "text": [
      "[LightGBM] [Warning] feature_fraction is set=0.8997767208035865, colsample_bytree=1.0 will be ignored. Current value: feature_fraction=0.8997767208035865\n",
      "[LightGBM] [Warning] lambda_l2 is set=5.266202371276925, reg_lambda=0.0 will be ignored. Current value: lambda_l2=5.266202371276925\n",
      "[LightGBM] [Warning] lambda_l1 is set=4.380291864409234, reg_alpha=0.0 will be ignored. Current value: lambda_l1=4.380291864409234\n",
      "[LightGBM] [Warning] feature_fraction is set=0.8997767208035865, colsample_bytree=1.0 will be ignored. Current value: feature_fraction=0.8997767208035865\n",
      "[LightGBM] [Warning] lambda_l2 is set=5.266202371276925, reg_lambda=0.0 will be ignored. Current value: lambda_l2=5.266202371276925\n",
      "[LightGBM] [Warning] lambda_l1 is set=4.380291864409234, reg_alpha=0.0 will be ignored. Current value: lambda_l1=4.380291864409234\n",
      "[LightGBM] [Warning] feature_fraction is set=0.8997767208035865, colsample_bytree=1.0 will be ignored. Current value: feature_fraction=0.8997767208035865\n",
      "[LightGBM] [Warning] lambda_l2 is set=5.266202371276925, reg_lambda=0.0 will be ignored. Current value: lambda_l2=5.266202371276925\n",
      "[LightGBM] [Warning] lambda_l1 is set=4.380291864409234, reg_alpha=0.0 will be ignored. Current value: lambda_l1=4.380291864409234\n"
     ]
    },
    {
     "name": "stderr",
     "output_type": "stream",
     "text": [
      "/Users/gonzalo/opt/anaconda3/envs/jose-luis/lib/python3.10/site-packages/lightgbm/engine.py:177: UserWarning: Found `num_iterations` in params. Will use it instead of argument\n",
      "  _log_warning(f\"Found `{alias}` in params. Will use it instead of argument\")\n",
      "/Users/gonzalo/opt/anaconda3/envs/jose-luis/lib/python3.10/site-packages/lightgbm/engine.py:177: UserWarning: Found `num_iterations` in params. Will use it instead of argument\n",
      "  _log_warning(f\"Found `{alias}` in params. Will use it instead of argument\")\n",
      "/Users/gonzalo/opt/anaconda3/envs/jose-luis/lib/python3.10/site-packages/lightgbm/engine.py:177: UserWarning: Found `num_iterations` in params. Will use it instead of argument\n",
      "  _log_warning(f\"Found `{alias}` in params. Will use it instead of argument\")\n"
     ]
    },
    {
     "name": "stdout",
     "output_type": "stream",
     "text": [
      "[LightGBM] [Warning] feature_fraction is set=0.8670140089927842, colsample_bytree=1.0 will be ignored. Current value: feature_fraction=0.8670140089927842\n",
      "[LightGBM] [Warning] lambda_l2 is set=1.6360717863855025, reg_lambda=0.0 will be ignored. Current value: lambda_l2=1.6360717863855025\n",
      "[LightGBM] [Warning] lambda_l1 is set=9.393697376027717, reg_alpha=0.0 will be ignored. Current value: lambda_l1=9.393697376027717\n",
      "[LightGBM] [Warning] feature_fraction is set=0.8670140089927842, colsample_bytree=1.0 will be ignored. Current value: feature_fraction=0.8670140089927842\n",
      "[LightGBM] [Warning] lambda_l2 is set=1.6360717863855025, reg_lambda=0.0 will be ignored. Current value: lambda_l2=1.6360717863855025\n",
      "[LightGBM] [Warning] lambda_l1 is set=9.393697376027717, reg_alpha=0.0 will be ignored. Current value: lambda_l1=9.393697376027717\n",
      "[LightGBM] [Warning] feature_fraction is set=0.8670140089927842, colsample_bytree=1.0 will be ignored. Current value: feature_fraction=0.8670140089927842\n",
      "[LightGBM] [Warning] lambda_l2 is set=1.6360717863855025, reg_lambda=0.0 will be ignored. Current value: lambda_l2=1.6360717863855025\n",
      "[LightGBM] [Warning] lambda_l1 is set=9.393697376027717, reg_alpha=0.0 will be ignored. Current value: lambda_l1=9.393697376027717\n"
     ]
    },
    {
     "name": "stderr",
     "output_type": "stream",
     "text": [
      "/Users/gonzalo/opt/anaconda3/envs/jose-luis/lib/python3.10/site-packages/lightgbm/engine.py:177: UserWarning: Found `num_iterations` in params. Will use it instead of argument\n",
      "  _log_warning(f\"Found `{alias}` in params. Will use it instead of argument\")\n",
      "/Users/gonzalo/opt/anaconda3/envs/jose-luis/lib/python3.10/site-packages/lightgbm/engine.py:177: UserWarning: Found `num_iterations` in params. Will use it instead of argument\n",
      "  _log_warning(f\"Found `{alias}` in params. Will use it instead of argument\")\n",
      "/Users/gonzalo/opt/anaconda3/envs/jose-luis/lib/python3.10/site-packages/lightgbm/engine.py:177: UserWarning: Found `num_iterations` in params. Will use it instead of argument\n",
      "  _log_warning(f\"Found `{alias}` in params. Will use it instead of argument\")\n"
     ]
    },
    {
     "name": "stdout",
     "output_type": "stream",
     "text": [
      "[LightGBM] [Warning] feature_fraction is set=0.8085396792511581, colsample_bytree=1.0 will be ignored. Current value: feature_fraction=0.8085396792511581\n",
      "[LightGBM] [Warning] lambda_l2 is set=3.5902293192140395, reg_lambda=0.0 will be ignored. Current value: lambda_l2=3.5902293192140395\n",
      "[LightGBM] [Warning] lambda_l1 is set=7.753643788278826, reg_alpha=0.0 will be ignored. Current value: lambda_l1=7.753643788278826\n",
      "[LightGBM] [Warning] feature_fraction is set=0.8085396792511581, colsample_bytree=1.0 will be ignored. Current value: feature_fraction=0.8085396792511581\n",
      "[LightGBM] [Warning] lambda_l2 is set=3.5902293192140395, reg_lambda=0.0 will be ignored. Current value: lambda_l2=3.5902293192140395\n",
      "[LightGBM] [Warning] lambda_l1 is set=7.753643788278826, reg_alpha=0.0 will be ignored. Current value: lambda_l1=7.753643788278826\n",
      "[LightGBM] [Warning] feature_fraction is set=0.8085396792511581, colsample_bytree=1.0 will be ignored. Current value: feature_fraction=0.8085396792511581\n",
      "[LightGBM] [Warning] lambda_l2 is set=3.5902293192140395, reg_lambda=0.0 will be ignored. Current value: lambda_l2=3.5902293192140395\n",
      "[LightGBM] [Warning] lambda_l1 is set=7.753643788278826, reg_alpha=0.0 will be ignored. Current value: lambda_l1=7.753643788278826\n"
     ]
    },
    {
     "name": "stderr",
     "output_type": "stream",
     "text": [
      "/Users/gonzalo/opt/anaconda3/envs/jose-luis/lib/python3.10/site-packages/lightgbm/engine.py:177: UserWarning: Found `num_iterations` in params. Will use it instead of argument\n",
      "  _log_warning(f\"Found `{alias}` in params. Will use it instead of argument\")\n",
      "/Users/gonzalo/opt/anaconda3/envs/jose-luis/lib/python3.10/site-packages/lightgbm/engine.py:177: UserWarning: Found `num_iterations` in params. Will use it instead of argument\n",
      "  _log_warning(f\"Found `{alias}` in params. Will use it instead of argument\")\n",
      "/Users/gonzalo/opt/anaconda3/envs/jose-luis/lib/python3.10/site-packages/lightgbm/engine.py:177: UserWarning: Found `num_iterations` in params. Will use it instead of argument\n",
      "  _log_warning(f\"Found `{alias}` in params. Will use it instead of argument\")\n"
     ]
    },
    {
     "name": "stdout",
     "output_type": "stream",
     "text": [
      "[LightGBM] [Warning] feature_fraction is set=0.7717015338451563, colsample_bytree=1.0 will be ignored. Current value: feature_fraction=0.7717015338451563\n",
      "[LightGBM] [Warning] lambda_l2 is set=4.964667035967167, reg_lambda=0.0 will be ignored. Current value: lambda_l2=4.964667035967167\n",
      "[LightGBM] [Warning] lambda_l1 is set=9.200092264373165, reg_alpha=0.0 will be ignored. Current value: lambda_l1=9.200092264373165\n",
      "[LightGBM] [Warning] feature_fraction is set=0.7717015338451563, colsample_bytree=1.0 will be ignored. Current value: feature_fraction=0.7717015338451563\n",
      "[LightGBM] [Warning] lambda_l2 is set=4.964667035967167, reg_lambda=0.0 will be ignored. Current value: lambda_l2=4.964667035967167\n",
      "[LightGBM] [Warning] lambda_l1 is set=9.200092264373165, reg_alpha=0.0 will be ignored. Current value: lambda_l1=9.200092264373165\n",
      "[LightGBM] [Warning] feature_fraction is set=0.7717015338451563, colsample_bytree=1.0 will be ignored. Current value: feature_fraction=0.7717015338451563\n",
      "[LightGBM] [Warning] lambda_l2 is set=4.964667035967167, reg_lambda=0.0 will be ignored. Current value: lambda_l2=4.964667035967167\n",
      "[LightGBM] [Warning] lambda_l1 is set=9.200092264373165, reg_alpha=0.0 will be ignored. Current value: lambda_l1=9.200092264373165\n"
     ]
    },
    {
     "name": "stderr",
     "output_type": "stream",
     "text": [
      "/Users/gonzalo/opt/anaconda3/envs/jose-luis/lib/python3.10/site-packages/lightgbm/engine.py:177: UserWarning: Found `num_iterations` in params. Will use it instead of argument\n",
      "  _log_warning(f\"Found `{alias}` in params. Will use it instead of argument\")\n",
      "/Users/gonzalo/opt/anaconda3/envs/jose-luis/lib/python3.10/site-packages/lightgbm/engine.py:177: UserWarning: Found `num_iterations` in params. Will use it instead of argument\n",
      "  _log_warning(f\"Found `{alias}` in params. Will use it instead of argument\")\n",
      "/Users/gonzalo/opt/anaconda3/envs/jose-luis/lib/python3.10/site-packages/lightgbm/engine.py:177: UserWarning: Found `num_iterations` in params. Will use it instead of argument\n",
      "  _log_warning(f\"Found `{alias}` in params. Will use it instead of argument\")\n"
     ]
    },
    {
     "name": "stdout",
     "output_type": "stream",
     "text": [
      "[LightGBM] [Warning] feature_fraction is set=0.9777389931549642, colsample_bytree=1.0 will be ignored. Current value: feature_fraction=0.9777389931549642\n",
      "[LightGBM] [Warning] lambda_l2 is set=8.71651928463215, reg_lambda=0.0 will be ignored. Current value: lambda_l2=8.71651928463215\n",
      "[LightGBM] [Warning] lambda_l1 is set=7.00621444621366, reg_alpha=0.0 will be ignored. Current value: lambda_l1=7.00621444621366\n",
      "[LightGBM] [Warning] feature_fraction is set=0.9777389931549642, colsample_bytree=1.0 will be ignored. Current value: feature_fraction=0.9777389931549642\n",
      "[LightGBM] [Warning] lambda_l2 is set=8.71651928463215, reg_lambda=0.0 will be ignored. Current value: lambda_l2=8.71651928463215\n",
      "[LightGBM] [Warning] lambda_l1 is set=7.00621444621366, reg_alpha=0.0 will be ignored. Current value: lambda_l1=7.00621444621366\n",
      "[LightGBM] [Warning] feature_fraction is set=0.9777389931549642, colsample_bytree=1.0 will be ignored. Current value: feature_fraction=0.9777389931549642\n",
      "[LightGBM] [Warning] lambda_l2 is set=8.71651928463215, reg_lambda=0.0 will be ignored. Current value: lambda_l2=8.71651928463215\n",
      "[LightGBM] [Warning] lambda_l1 is set=7.00621444621366, reg_alpha=0.0 will be ignored. Current value: lambda_l1=7.00621444621366\n"
     ]
    },
    {
     "name": "stderr",
     "output_type": "stream",
     "text": [
      "/Users/gonzalo/opt/anaconda3/envs/jose-luis/lib/python3.10/site-packages/lightgbm/engine.py:177: UserWarning: Found `num_iterations` in params. Will use it instead of argument\n",
      "  _log_warning(f\"Found `{alias}` in params. Will use it instead of argument\")\n",
      "/Users/gonzalo/opt/anaconda3/envs/jose-luis/lib/python3.10/site-packages/lightgbm/engine.py:177: UserWarning: Found `num_iterations` in params. Will use it instead of argument\n",
      "  _log_warning(f\"Found `{alias}` in params. Will use it instead of argument\")\n",
      "/Users/gonzalo/opt/anaconda3/envs/jose-luis/lib/python3.10/site-packages/lightgbm/engine.py:177: UserWarning: Found `num_iterations` in params. Will use it instead of argument\n",
      "  _log_warning(f\"Found `{alias}` in params. Will use it instead of argument\")\n"
     ]
    },
    {
     "name": "stdout",
     "output_type": "stream",
     "text": [
      "[LightGBM] [Warning] feature_fraction is set=0.5018151536273716, colsample_bytree=1.0 will be ignored. Current value: feature_fraction=0.5018151536273716\n",
      "[LightGBM] [Warning] lambda_l2 is set=7.412827443680273, reg_lambda=0.0 will be ignored. Current value: lambda_l2=7.412827443680273\n",
      "[LightGBM] [Warning] lambda_l1 is set=8.178300196637515, reg_alpha=0.0 will be ignored. Current value: lambda_l1=8.178300196637515\n",
      "[LightGBM] [Warning] feature_fraction is set=0.5018151536273716, colsample_bytree=1.0 will be ignored. Current value: feature_fraction=0.5018151536273716\n",
      "[LightGBM] [Warning] lambda_l2 is set=7.412827443680273, reg_lambda=0.0 will be ignored. Current value: lambda_l2=7.412827443680273\n",
      "[LightGBM] [Warning] lambda_l1 is set=8.178300196637515, reg_alpha=0.0 will be ignored. Current value: lambda_l1=8.178300196637515\n",
      "[LightGBM] [Warning] feature_fraction is set=0.5018151536273716, colsample_bytree=1.0 will be ignored. Current value: feature_fraction=0.5018151536273716\n",
      "[LightGBM] [Warning] lambda_l2 is set=7.412827443680273, reg_lambda=0.0 will be ignored. Current value: lambda_l2=7.412827443680273\n",
      "[LightGBM] [Warning] lambda_l1 is set=8.178300196637515, reg_alpha=0.0 will be ignored. Current value: lambda_l1=8.178300196637515\n"
     ]
    },
    {
     "name": "stderr",
     "output_type": "stream",
     "text": [
      "/Users/gonzalo/opt/anaconda3/envs/jose-luis/lib/python3.10/site-packages/lightgbm/engine.py:177: UserWarning: Found `num_iterations` in params. Will use it instead of argument\n",
      "  _log_warning(f\"Found `{alias}` in params. Will use it instead of argument\")\n",
      "/Users/gonzalo/opt/anaconda3/envs/jose-luis/lib/python3.10/site-packages/lightgbm/engine.py:177: UserWarning: Found `num_iterations` in params. Will use it instead of argument\n",
      "  _log_warning(f\"Found `{alias}` in params. Will use it instead of argument\")\n",
      "/Users/gonzalo/opt/anaconda3/envs/jose-luis/lib/python3.10/site-packages/lightgbm/engine.py:177: UserWarning: Found `num_iterations` in params. Will use it instead of argument\n",
      "  _log_warning(f\"Found `{alias}` in params. Will use it instead of argument\")\n"
     ]
    },
    {
     "name": "stdout",
     "output_type": "stream",
     "text": [
      "[LightGBM] [Warning] feature_fraction is set=1.0, colsample_bytree=1.0 will be ignored. Current value: feature_fraction=1.0\n",
      "[LightGBM] [Warning] lambda_l2 is set=4.513989586175217, reg_lambda=0.0 will be ignored. Current value: lambda_l2=4.513989586175217\n",
      "[LightGBM] [Warning] lambda_l1 is set=4.483339769917174, reg_alpha=0.0 will be ignored. Current value: lambda_l1=4.483339769917174\n",
      "[LightGBM] [Warning] feature_fraction is set=1.0, colsample_bytree=1.0 will be ignored. Current value: feature_fraction=1.0\n",
      "[LightGBM] [Warning] lambda_l2 is set=4.513989586175217, reg_lambda=0.0 will be ignored. Current value: lambda_l2=4.513989586175217\n",
      "[LightGBM] [Warning] lambda_l1 is set=4.483339769917174, reg_alpha=0.0 will be ignored. Current value: lambda_l1=4.483339769917174\n",
      "[LightGBM] [Warning] feature_fraction is set=1.0, colsample_bytree=1.0 will be ignored. Current value: feature_fraction=1.0\n",
      "[LightGBM] [Warning] lambda_l2 is set=4.513989586175217, reg_lambda=0.0 will be ignored. Current value: lambda_l2=4.513989586175217\n",
      "[LightGBM] [Warning] lambda_l1 is set=4.483339769917174, reg_alpha=0.0 will be ignored. Current value: lambda_l1=4.483339769917174\n"
     ]
    },
    {
     "name": "stderr",
     "output_type": "stream",
     "text": [
      "/Users/gonzalo/opt/anaconda3/envs/jose-luis/lib/python3.10/site-packages/lightgbm/engine.py:177: UserWarning: Found `num_iterations` in params. Will use it instead of argument\n",
      "  _log_warning(f\"Found `{alias}` in params. Will use it instead of argument\")\n",
      "/Users/gonzalo/opt/anaconda3/envs/jose-luis/lib/python3.10/site-packages/lightgbm/engine.py:177: UserWarning: Found `num_iterations` in params. Will use it instead of argument\n",
      "  _log_warning(f\"Found `{alias}` in params. Will use it instead of argument\")\n",
      "/Users/gonzalo/opt/anaconda3/envs/jose-luis/lib/python3.10/site-packages/lightgbm/engine.py:177: UserWarning: Found `num_iterations` in params. Will use it instead of argument\n",
      "  _log_warning(f\"Found `{alias}` in params. Will use it instead of argument\")\n"
     ]
    },
    {
     "name": "stdout",
     "output_type": "stream",
     "text": [
      "[LightGBM] [Warning] feature_fraction is set=0.9929504378707488, colsample_bytree=1.0 will be ignored. Current value: feature_fraction=0.9929504378707488\n",
      "[LightGBM] [Warning] lambda_l2 is set=7.96293547833674, reg_lambda=0.0 will be ignored. Current value: lambda_l2=7.96293547833674\n",
      "[LightGBM] [Warning] lambda_l1 is set=0.5593944437852478, reg_alpha=0.0 will be ignored. Current value: lambda_l1=0.5593944437852478\n",
      "[LightGBM] [Warning] feature_fraction is set=0.9929504378707488, colsample_bytree=1.0 will be ignored. Current value: feature_fraction=0.9929504378707488\n",
      "[LightGBM] [Warning] lambda_l2 is set=7.96293547833674, reg_lambda=0.0 will be ignored. Current value: lambda_l2=7.96293547833674\n",
      "[LightGBM] [Warning] lambda_l1 is set=0.5593944437852478, reg_alpha=0.0 will be ignored. Current value: lambda_l1=0.5593944437852478\n",
      "[LightGBM] [Warning] feature_fraction is set=0.9929504378707488, colsample_bytree=1.0 will be ignored. Current value: feature_fraction=0.9929504378707488\n",
      "[LightGBM] [Warning] lambda_l2 is set=7.96293547833674, reg_lambda=0.0 will be ignored. Current value: lambda_l2=7.96293547833674\n",
      "[LightGBM] [Warning] lambda_l1 is set=0.5593944437852478, reg_alpha=0.0 will be ignored. Current value: lambda_l1=0.5593944437852478\n"
     ]
    },
    {
     "name": "stderr",
     "output_type": "stream",
     "text": [
      "/Users/gonzalo/opt/anaconda3/envs/jose-luis/lib/python3.10/site-packages/lightgbm/engine.py:177: UserWarning: Found `num_iterations` in params. Will use it instead of argument\n",
      "  _log_warning(f\"Found `{alias}` in params. Will use it instead of argument\")\n",
      "/Users/gonzalo/opt/anaconda3/envs/jose-luis/lib/python3.10/site-packages/lightgbm/engine.py:177: UserWarning: Found `num_iterations` in params. Will use it instead of argument\n",
      "  _log_warning(f\"Found `{alias}` in params. Will use it instead of argument\")\n",
      "/Users/gonzalo/opt/anaconda3/envs/jose-luis/lib/python3.10/site-packages/lightgbm/engine.py:177: UserWarning: Found `num_iterations` in params. Will use it instead of argument\n",
      "  _log_warning(f\"Found `{alias}` in params. Will use it instead of argument\")\n"
     ]
    },
    {
     "name": "stdout",
     "output_type": "stream",
     "text": [
      "[LightGBM] [Warning] feature_fraction is set=0.7523451528045445, colsample_bytree=1.0 will be ignored. Current value: feature_fraction=0.7523451528045445\n",
      "[LightGBM] [Warning] lambda_l2 is set=5.805588779583301, reg_lambda=0.0 will be ignored. Current value: lambda_l2=5.805588779583301\n",
      "[LightGBM] [Warning] lambda_l1 is set=6.040379339823415, reg_alpha=0.0 will be ignored. Current value: lambda_l1=6.040379339823415\n",
      "[LightGBM] [Warning] feature_fraction is set=0.7523451528045445, colsample_bytree=1.0 will be ignored. Current value: feature_fraction=0.7523451528045445\n",
      "[LightGBM] [Warning] lambda_l2 is set=5.805588779583301, reg_lambda=0.0 will be ignored. Current value: lambda_l2=5.805588779583301\n",
      "[LightGBM] [Warning] lambda_l1 is set=6.040379339823415, reg_alpha=0.0 will be ignored. Current value: lambda_l1=6.040379339823415\n",
      "[LightGBM] [Warning] feature_fraction is set=0.7523451528045445, colsample_bytree=1.0 will be ignored. Current value: feature_fraction=0.7523451528045445\n",
      "[LightGBM] [Warning] lambda_l2 is set=5.805588779583301, reg_lambda=0.0 will be ignored. Current value: lambda_l2=5.805588779583301\n",
      "[LightGBM] [Warning] lambda_l1 is set=6.040379339823415, reg_alpha=0.0 will be ignored. Current value: lambda_l1=6.040379339823415\n"
     ]
    },
    {
     "name": "stderr",
     "output_type": "stream",
     "text": [
      "/Users/gonzalo/opt/anaconda3/envs/jose-luis/lib/python3.10/site-packages/lightgbm/engine.py:177: UserWarning: Found `num_iterations` in params. Will use it instead of argument\n",
      "  _log_warning(f\"Found `{alias}` in params. Will use it instead of argument\")\n",
      "/Users/gonzalo/opt/anaconda3/envs/jose-luis/lib/python3.10/site-packages/lightgbm/engine.py:177: UserWarning: Found `num_iterations` in params. Will use it instead of argument\n",
      "  _log_warning(f\"Found `{alias}` in params. Will use it instead of argument\")\n",
      "/Users/gonzalo/opt/anaconda3/envs/jose-luis/lib/python3.10/site-packages/lightgbm/engine.py:177: UserWarning: Found `num_iterations` in params. Will use it instead of argument\n",
      "  _log_warning(f\"Found `{alias}` in params. Will use it instead of argument\")\n"
     ]
    },
    {
     "name": "stdout",
     "output_type": "stream",
     "text": [
      "[LightGBM] [Warning] feature_fraction is set=0.689489411785065, colsample_bytree=1.0 will be ignored. Current value: feature_fraction=0.689489411785065\n",
      "[LightGBM] [Warning] lambda_l2 is set=9.154330464151041, reg_lambda=0.0 will be ignored. Current value: lambda_l2=9.154330464151041\n",
      "[LightGBM] [Warning] lambda_l1 is set=2.6104430735008854, reg_alpha=0.0 will be ignored. Current value: lambda_l1=2.6104430735008854\n",
      "[LightGBM] [Warning] feature_fraction is set=0.689489411785065, colsample_bytree=1.0 will be ignored. Current value: feature_fraction=0.689489411785065\n",
      "[LightGBM] [Warning] lambda_l2 is set=9.154330464151041, reg_lambda=0.0 will be ignored. Current value: lambda_l2=9.154330464151041\n",
      "[LightGBM] [Warning] lambda_l1 is set=2.6104430735008854, reg_alpha=0.0 will be ignored. Current value: lambda_l1=2.6104430735008854\n",
      "[LightGBM] [Warning] feature_fraction is set=0.689489411785065, colsample_bytree=1.0 will be ignored. Current value: feature_fraction=0.689489411785065\n",
      "[LightGBM] [Warning] lambda_l2 is set=9.154330464151041, reg_lambda=0.0 will be ignored. Current value: lambda_l2=9.154330464151041\n",
      "[LightGBM] [Warning] lambda_l1 is set=2.6104430735008854, reg_alpha=0.0 will be ignored. Current value: lambda_l1=2.6104430735008854\n"
     ]
    },
    {
     "name": "stderr",
     "output_type": "stream",
     "text": [
      "/Users/gonzalo/opt/anaconda3/envs/jose-luis/lib/python3.10/site-packages/lightgbm/engine.py:177: UserWarning: Found `num_iterations` in params. Will use it instead of argument\n",
      "  _log_warning(f\"Found `{alias}` in params. Will use it instead of argument\")\n",
      "/Users/gonzalo/opt/anaconda3/envs/jose-luis/lib/python3.10/site-packages/lightgbm/engine.py:177: UserWarning: Found `num_iterations` in params. Will use it instead of argument\n",
      "  _log_warning(f\"Found `{alias}` in params. Will use it instead of argument\")\n",
      "/Users/gonzalo/opt/anaconda3/envs/jose-luis/lib/python3.10/site-packages/lightgbm/engine.py:177: UserWarning: Found `num_iterations` in params. Will use it instead of argument\n",
      "  _log_warning(f\"Found `{alias}` in params. Will use it instead of argument\")\n"
     ]
    },
    {
     "name": "stdout",
     "output_type": "stream",
     "text": [
      "[LightGBM] [Warning] feature_fraction is set=1.0, colsample_bytree=1.0 will be ignored. Current value: feature_fraction=1.0\n",
      "[LightGBM] [Warning] lambda_l2 is set=10.0, reg_lambda=0.0 will be ignored. Current value: lambda_l2=10.0\n",
      "[LightGBM] [Warning] lambda_l1 is set=6.667166158605483, reg_alpha=0.0 will be ignored. Current value: lambda_l1=6.667166158605483\n",
      "[LightGBM] [Warning] feature_fraction is set=1.0, colsample_bytree=1.0 will be ignored. Current value: feature_fraction=1.0\n",
      "[LightGBM] [Warning] lambda_l2 is set=10.0, reg_lambda=0.0 will be ignored. Current value: lambda_l2=10.0\n",
      "[LightGBM] [Warning] lambda_l1 is set=6.667166158605483, reg_alpha=0.0 will be ignored. Current value: lambda_l1=6.667166158605483\n",
      "[LightGBM] [Warning] feature_fraction is set=1.0, colsample_bytree=1.0 will be ignored. Current value: feature_fraction=1.0\n",
      "[LightGBM] [Warning] lambda_l2 is set=10.0, reg_lambda=0.0 will be ignored. Current value: lambda_l2=10.0\n",
      "[LightGBM] [Warning] lambda_l1 is set=6.667166158605483, reg_alpha=0.0 will be ignored. Current value: lambda_l1=6.667166158605483\n"
     ]
    },
    {
     "name": "stderr",
     "output_type": "stream",
     "text": [
      "/Users/gonzalo/opt/anaconda3/envs/jose-luis/lib/python3.10/site-packages/lightgbm/engine.py:177: UserWarning: Found `num_iterations` in params. Will use it instead of argument\n",
      "  _log_warning(f\"Found `{alias}` in params. Will use it instead of argument\")\n",
      "/Users/gonzalo/opt/anaconda3/envs/jose-luis/lib/python3.10/site-packages/lightgbm/engine.py:177: UserWarning: Found `num_iterations` in params. Will use it instead of argument\n",
      "  _log_warning(f\"Found `{alias}` in params. Will use it instead of argument\")\n",
      "/Users/gonzalo/opt/anaconda3/envs/jose-luis/lib/python3.10/site-packages/lightgbm/engine.py:177: UserWarning: Found `num_iterations` in params. Will use it instead of argument\n",
      "  _log_warning(f\"Found `{alias}` in params. Will use it instead of argument\")\n"
     ]
    },
    {
     "name": "stdout",
     "output_type": "stream",
     "text": [
      "[LightGBM] [Warning] feature_fraction is set=0.5788713992817252, colsample_bytree=1.0 will be ignored. Current value: feature_fraction=0.5788713992817252\n",
      "[LightGBM] [Warning] lambda_l2 is set=5.119102273730455, reg_lambda=0.0 will be ignored. Current value: lambda_l2=5.119102273730455\n",
      "[LightGBM] [Warning] lambda_l1 is set=2.5983163302706758, reg_alpha=0.0 will be ignored. Current value: lambda_l1=2.5983163302706758\n",
      "[LightGBM] [Warning] feature_fraction is set=0.5788713992817252, colsample_bytree=1.0 will be ignored. Current value: feature_fraction=0.5788713992817252\n",
      "[LightGBM] [Warning] lambda_l2 is set=5.119102273730455, reg_lambda=0.0 will be ignored. Current value: lambda_l2=5.119102273730455\n",
      "[LightGBM] [Warning] lambda_l1 is set=2.5983163302706758, reg_alpha=0.0 will be ignored. Current value: lambda_l1=2.5983163302706758\n",
      "[LightGBM] [Warning] feature_fraction is set=0.5788713992817252, colsample_bytree=1.0 will be ignored. Current value: feature_fraction=0.5788713992817252\n",
      "[LightGBM] [Warning] lambda_l2 is set=5.119102273730455, reg_lambda=0.0 will be ignored. Current value: lambda_l2=5.119102273730455\n",
      "[LightGBM] [Warning] lambda_l1 is set=2.5983163302706758, reg_alpha=0.0 will be ignored. Current value: lambda_l1=2.5983163302706758\n"
     ]
    },
    {
     "name": "stderr",
     "output_type": "stream",
     "text": [
      "/Users/gonzalo/opt/anaconda3/envs/jose-luis/lib/python3.10/site-packages/lightgbm/engine.py:177: UserWarning: Found `num_iterations` in params. Will use it instead of argument\n",
      "  _log_warning(f\"Found `{alias}` in params. Will use it instead of argument\")\n",
      "/Users/gonzalo/opt/anaconda3/envs/jose-luis/lib/python3.10/site-packages/lightgbm/engine.py:177: UserWarning: Found `num_iterations` in params. Will use it instead of argument\n",
      "  _log_warning(f\"Found `{alias}` in params. Will use it instead of argument\")\n",
      "/Users/gonzalo/opt/anaconda3/envs/jose-luis/lib/python3.10/site-packages/lightgbm/engine.py:177: UserWarning: Found `num_iterations` in params. Will use it instead of argument\n",
      "  _log_warning(f\"Found `{alias}` in params. Will use it instead of argument\")\n"
     ]
    },
    {
     "name": "stdout",
     "output_type": "stream",
     "text": [
      "[LightGBM] [Warning] feature_fraction is set=0.5122403553413022, colsample_bytree=1.0 will be ignored. Current value: feature_fraction=0.5122403553413022\n",
      "[LightGBM] [Warning] lambda_l2 is set=3.470907927148396, reg_lambda=0.0 will be ignored. Current value: lambda_l2=3.470907927148396\n",
      "[LightGBM] [Warning] lambda_l1 is set=6.3845151156987345, reg_alpha=0.0 will be ignored. Current value: lambda_l1=6.3845151156987345\n",
      "[LightGBM] [Warning] feature_fraction is set=0.5122403553413022, colsample_bytree=1.0 will be ignored. Current value: feature_fraction=0.5122403553413022\n",
      "[LightGBM] [Warning] lambda_l2 is set=3.470907927148396, reg_lambda=0.0 will be ignored. Current value: lambda_l2=3.470907927148396\n",
      "[LightGBM] [Warning] lambda_l1 is set=6.3845151156987345, reg_alpha=0.0 will be ignored. Current value: lambda_l1=6.3845151156987345\n",
      "[LightGBM] [Warning] feature_fraction is set=0.5122403553413022, colsample_bytree=1.0 will be ignored. Current value: feature_fraction=0.5122403553413022\n",
      "[LightGBM] [Warning] lambda_l2 is set=3.470907927148396, reg_lambda=0.0 will be ignored. Current value: lambda_l2=3.470907927148396\n",
      "[LightGBM] [Warning] lambda_l1 is set=6.3845151156987345, reg_alpha=0.0 will be ignored. Current value: lambda_l1=6.3845151156987345\n"
     ]
    },
    {
     "name": "stderr",
     "output_type": "stream",
     "text": [
      "/Users/gonzalo/opt/anaconda3/envs/jose-luis/lib/python3.10/site-packages/lightgbm/engine.py:177: UserWarning: Found `num_iterations` in params. Will use it instead of argument\n",
      "  _log_warning(f\"Found `{alias}` in params. Will use it instead of argument\")\n",
      "/Users/gonzalo/opt/anaconda3/envs/jose-luis/lib/python3.10/site-packages/lightgbm/engine.py:177: UserWarning: Found `num_iterations` in params. Will use it instead of argument\n",
      "  _log_warning(f\"Found `{alias}` in params. Will use it instead of argument\")\n",
      "/Users/gonzalo/opt/anaconda3/envs/jose-luis/lib/python3.10/site-packages/lightgbm/engine.py:177: UserWarning: Found `num_iterations` in params. Will use it instead of argument\n",
      "  _log_warning(f\"Found `{alias}` in params. Will use it instead of argument\")\n"
     ]
    },
    {
     "name": "stdout",
     "output_type": "stream",
     "text": [
      "[LightGBM] [Warning] feature_fraction is set=0.992608670432719, colsample_bytree=1.0 will be ignored. Current value: feature_fraction=0.992608670432719\n",
      "[LightGBM] [Warning] lambda_l2 is set=0.0, reg_lambda=0.0 will be ignored. Current value: lambda_l2=0.0\n",
      "[LightGBM] [Warning] lambda_l1 is set=0.0, reg_alpha=0.0 will be ignored. Current value: lambda_l1=0.0\n",
      "[LightGBM] [Warning] feature_fraction is set=0.992608670432719, colsample_bytree=1.0 will be ignored. Current value: feature_fraction=0.992608670432719\n",
      "[LightGBM] [Warning] lambda_l2 is set=0.0, reg_lambda=0.0 will be ignored. Current value: lambda_l2=0.0\n",
      "[LightGBM] [Warning] lambda_l1 is set=0.0, reg_alpha=0.0 will be ignored. Current value: lambda_l1=0.0\n",
      "[LightGBM] [Warning] feature_fraction is set=0.992608670432719, colsample_bytree=1.0 will be ignored. Current value: feature_fraction=0.992608670432719\n",
      "[LightGBM] [Warning] lambda_l2 is set=0.0, reg_lambda=0.0 will be ignored. Current value: lambda_l2=0.0\n",
      "[LightGBM] [Warning] lambda_l1 is set=0.0, reg_alpha=0.0 will be ignored. Current value: lambda_l1=0.0\n"
     ]
    },
    {
     "name": "stderr",
     "output_type": "stream",
     "text": [
      "/Users/gonzalo/opt/anaconda3/envs/jose-luis/lib/python3.10/site-packages/lightgbm/engine.py:177: UserWarning: Found `num_iterations` in params. Will use it instead of argument\n",
      "  _log_warning(f\"Found `{alias}` in params. Will use it instead of argument\")\n",
      "/Users/gonzalo/opt/anaconda3/envs/jose-luis/lib/python3.10/site-packages/lightgbm/engine.py:177: UserWarning: Found `num_iterations` in params. Will use it instead of argument\n",
      "  _log_warning(f\"Found `{alias}` in params. Will use it instead of argument\")\n",
      "/Users/gonzalo/opt/anaconda3/envs/jose-luis/lib/python3.10/site-packages/lightgbm/engine.py:177: UserWarning: Found `num_iterations` in params. Will use it instead of argument\n",
      "  _log_warning(f\"Found `{alias}` in params. Will use it instead of argument\")\n"
     ]
    },
    {
     "name": "stdout",
     "output_type": "stream",
     "text": [
      "[LightGBM] [Warning] feature_fraction is set=1.0, colsample_bytree=1.0 will be ignored. Current value: feature_fraction=1.0\n",
      "[LightGBM] [Warning] lambda_l2 is set=10.0, reg_lambda=0.0 will be ignored. Current value: lambda_l2=10.0\n",
      "[LightGBM] [Warning] lambda_l1 is set=6.515669302467526, reg_alpha=0.0 will be ignored. Current value: lambda_l1=6.515669302467526\n",
      "[LightGBM] [Warning] feature_fraction is set=1.0, colsample_bytree=1.0 will be ignored. Current value: feature_fraction=1.0\n",
      "[LightGBM] [Warning] lambda_l2 is set=10.0, reg_lambda=0.0 will be ignored. Current value: lambda_l2=10.0\n",
      "[LightGBM] [Warning] lambda_l1 is set=6.515669302467526, reg_alpha=0.0 will be ignored. Current value: lambda_l1=6.515669302467526\n",
      "[LightGBM] [Warning] feature_fraction is set=1.0, colsample_bytree=1.0 will be ignored. Current value: feature_fraction=1.0\n",
      "[LightGBM] [Warning] lambda_l2 is set=10.0, reg_lambda=0.0 will be ignored. Current value: lambda_l2=10.0\n",
      "[LightGBM] [Warning] lambda_l1 is set=6.515669302467526, reg_alpha=0.0 will be ignored. Current value: lambda_l1=6.515669302467526\n"
     ]
    },
    {
     "name": "stderr",
     "output_type": "stream",
     "text": [
      "/Users/gonzalo/opt/anaconda3/envs/jose-luis/lib/python3.10/site-packages/lightgbm/engine.py:177: UserWarning: Found `num_iterations` in params. Will use it instead of argument\n",
      "  _log_warning(f\"Found `{alias}` in params. Will use it instead of argument\")\n",
      "/Users/gonzalo/opt/anaconda3/envs/jose-luis/lib/python3.10/site-packages/lightgbm/engine.py:177: UserWarning: Found `num_iterations` in params. Will use it instead of argument\n",
      "  _log_warning(f\"Found `{alias}` in params. Will use it instead of argument\")\n",
      "/Users/gonzalo/opt/anaconda3/envs/jose-luis/lib/python3.10/site-packages/lightgbm/engine.py:177: UserWarning: Found `num_iterations` in params. Will use it instead of argument\n",
      "  _log_warning(f\"Found `{alias}` in params. Will use it instead of argument\")\n"
     ]
    },
    {
     "name": "stdout",
     "output_type": "stream",
     "text": [
      "[LightGBM] [Warning] feature_fraction is set=1.0, colsample_bytree=1.0 will be ignored. Current value: feature_fraction=1.0\n",
      "[LightGBM] [Warning] lambda_l2 is set=3.717118354683623, reg_lambda=0.0 will be ignored. Current value: lambda_l2=3.717118354683623\n",
      "[LightGBM] [Warning] lambda_l1 is set=0.0, reg_alpha=0.0 will be ignored. Current value: lambda_l1=0.0\n",
      "[LightGBM] [Warning] feature_fraction is set=1.0, colsample_bytree=1.0 will be ignored. Current value: feature_fraction=1.0\n",
      "[LightGBM] [Warning] lambda_l2 is set=3.717118354683623, reg_lambda=0.0 will be ignored. Current value: lambda_l2=3.717118354683623\n",
      "[LightGBM] [Warning] lambda_l1 is set=0.0, reg_alpha=0.0 will be ignored. Current value: lambda_l1=0.0\n",
      "[LightGBM] [Warning] feature_fraction is set=1.0, colsample_bytree=1.0 will be ignored. Current value: feature_fraction=1.0\n",
      "[LightGBM] [Warning] lambda_l2 is set=3.717118354683623, reg_lambda=0.0 will be ignored. Current value: lambda_l2=3.717118354683623\n",
      "[LightGBM] [Warning] lambda_l1 is set=0.0, reg_alpha=0.0 will be ignored. Current value: lambda_l1=0.0\n"
     ]
    },
    {
     "name": "stderr",
     "output_type": "stream",
     "text": [
      "/Users/gonzalo/opt/anaconda3/envs/jose-luis/lib/python3.10/site-packages/lightgbm/engine.py:177: UserWarning: Found `num_iterations` in params. Will use it instead of argument\n",
      "  _log_warning(f\"Found `{alias}` in params. Will use it instead of argument\")\n",
      "/Users/gonzalo/opt/anaconda3/envs/jose-luis/lib/python3.10/site-packages/lightgbm/engine.py:177: UserWarning: Found `num_iterations` in params. Will use it instead of argument\n",
      "  _log_warning(f\"Found `{alias}` in params. Will use it instead of argument\")\n",
      "/Users/gonzalo/opt/anaconda3/envs/jose-luis/lib/python3.10/site-packages/lightgbm/engine.py:177: UserWarning: Found `num_iterations` in params. Will use it instead of argument\n",
      "  _log_warning(f\"Found `{alias}` in params. Will use it instead of argument\")\n"
     ]
    },
    {
     "name": "stdout",
     "output_type": "stream",
     "text": [
      "[LightGBM] [Warning] feature_fraction is set=1.0, colsample_bytree=1.0 will be ignored. Current value: feature_fraction=1.0\n",
      "[LightGBM] [Warning] lambda_l2 is set=8.122482234727997, reg_lambda=0.0 will be ignored. Current value: lambda_l2=8.122482234727997\n",
      "[LightGBM] [Warning] lambda_l1 is set=6.618428557071682, reg_alpha=0.0 will be ignored. Current value: lambda_l1=6.618428557071682\n",
      "[LightGBM] [Warning] feature_fraction is set=1.0, colsample_bytree=1.0 will be ignored. Current value: feature_fraction=1.0\n",
      "[LightGBM] [Warning] lambda_l2 is set=8.122482234727997, reg_lambda=0.0 will be ignored. Current value: lambda_l2=8.122482234727997\n",
      "[LightGBM] [Warning] lambda_l1 is set=6.618428557071682, reg_alpha=0.0 will be ignored. Current value: lambda_l1=6.618428557071682\n",
      "[LightGBM] [Warning] feature_fraction is set=1.0, colsample_bytree=1.0 will be ignored. Current value: feature_fraction=1.0\n",
      "[LightGBM] [Warning] lambda_l2 is set=8.122482234727997, reg_lambda=0.0 will be ignored. Current value: lambda_l2=8.122482234727997\n",
      "[LightGBM] [Warning] lambda_l1 is set=6.618428557071682, reg_alpha=0.0 will be ignored. Current value: lambda_l1=6.618428557071682\n"
     ]
    },
    {
     "name": "stderr",
     "output_type": "stream",
     "text": [
      "/Users/gonzalo/opt/anaconda3/envs/jose-luis/lib/python3.10/site-packages/lightgbm/engine.py:177: UserWarning: Found `num_iterations` in params. Will use it instead of argument\n",
      "  _log_warning(f\"Found `{alias}` in params. Will use it instead of argument\")\n",
      "/Users/gonzalo/opt/anaconda3/envs/jose-luis/lib/python3.10/site-packages/lightgbm/engine.py:177: UserWarning: Found `num_iterations` in params. Will use it instead of argument\n",
      "  _log_warning(f\"Found `{alias}` in params. Will use it instead of argument\")\n",
      "/Users/gonzalo/opt/anaconda3/envs/jose-luis/lib/python3.10/site-packages/lightgbm/engine.py:177: UserWarning: Found `num_iterations` in params. Will use it instead of argument\n",
      "  _log_warning(f\"Found `{alias}` in params. Will use it instead of argument\")\n"
     ]
    },
    {
     "name": "stdout",
     "output_type": "stream",
     "text": [
      "[LightGBM] [Warning] feature_fraction is set=0.7837873775198732, colsample_bytree=1.0 will be ignored. Current value: feature_fraction=0.7837873775198732\n",
      "[LightGBM] [Warning] lambda_l2 is set=0.0, reg_lambda=0.0 will be ignored. Current value: lambda_l2=0.0\n",
      "[LightGBM] [Warning] lambda_l1 is set=2.503701731686822, reg_alpha=0.0 will be ignored. Current value: lambda_l1=2.503701731686822\n",
      "[LightGBM] [Warning] feature_fraction is set=0.7837873775198732, colsample_bytree=1.0 will be ignored. Current value: feature_fraction=0.7837873775198732\n",
      "[LightGBM] [Warning] lambda_l2 is set=0.0, reg_lambda=0.0 will be ignored. Current value: lambda_l2=0.0\n",
      "[LightGBM] [Warning] lambda_l1 is set=2.503701731686822, reg_alpha=0.0 will be ignored. Current value: lambda_l1=2.503701731686822\n",
      "[LightGBM] [Warning] feature_fraction is set=0.7837873775198732, colsample_bytree=1.0 will be ignored. Current value: feature_fraction=0.7837873775198732\n",
      "[LightGBM] [Warning] lambda_l2 is set=0.0, reg_lambda=0.0 will be ignored. Current value: lambda_l2=0.0\n",
      "[LightGBM] [Warning] lambda_l1 is set=2.503701731686822, reg_alpha=0.0 will be ignored. Current value: lambda_l1=2.503701731686822\n"
     ]
    },
    {
     "name": "stderr",
     "output_type": "stream",
     "text": [
      "/Users/gonzalo/opt/anaconda3/envs/jose-luis/lib/python3.10/site-packages/lightgbm/engine.py:177: UserWarning: Found `num_iterations` in params. Will use it instead of argument\n",
      "  _log_warning(f\"Found `{alias}` in params. Will use it instead of argument\")\n",
      "/Users/gonzalo/opt/anaconda3/envs/jose-luis/lib/python3.10/site-packages/lightgbm/engine.py:177: UserWarning: Found `num_iterations` in params. Will use it instead of argument\n",
      "  _log_warning(f\"Found `{alias}` in params. Will use it instead of argument\")\n",
      "/Users/gonzalo/opt/anaconda3/envs/jose-luis/lib/python3.10/site-packages/lightgbm/engine.py:177: UserWarning: Found `num_iterations` in params. Will use it instead of argument\n",
      "  _log_warning(f\"Found `{alias}` in params. Will use it instead of argument\")\n"
     ]
    },
    {
     "name": "stdout",
     "output_type": "stream",
     "text": [
      "[LightGBM] [Warning] feature_fraction is set=0.9154793315383125, colsample_bytree=1.0 will be ignored. Current value: feature_fraction=0.9154793315383125\n",
      "[LightGBM] [Warning] lambda_l2 is set=9.49305276792554, reg_lambda=0.0 will be ignored. Current value: lambda_l2=9.49305276792554\n",
      "[LightGBM] [Warning] lambda_l1 is set=3.967152319741192, reg_alpha=0.0 will be ignored. Current value: lambda_l1=3.967152319741192\n",
      "[LightGBM] [Warning] feature_fraction is set=0.9154793315383125, colsample_bytree=1.0 will be ignored. Current value: feature_fraction=0.9154793315383125\n",
      "[LightGBM] [Warning] lambda_l2 is set=9.49305276792554, reg_lambda=0.0 will be ignored. Current value: lambda_l2=9.49305276792554\n",
      "[LightGBM] [Warning] lambda_l1 is set=3.967152319741192, reg_alpha=0.0 will be ignored. Current value: lambda_l1=3.967152319741192\n",
      "[LightGBM] [Warning] feature_fraction is set=0.9154793315383125, colsample_bytree=1.0 will be ignored. Current value: feature_fraction=0.9154793315383125\n",
      "[LightGBM] [Warning] lambda_l2 is set=9.49305276792554, reg_lambda=0.0 will be ignored. Current value: lambda_l2=9.49305276792554\n",
      "[LightGBM] [Warning] lambda_l1 is set=3.967152319741192, reg_alpha=0.0 will be ignored. Current value: lambda_l1=3.967152319741192\n"
     ]
    },
    {
     "name": "stderr",
     "output_type": "stream",
     "text": [
      "/Users/gonzalo/opt/anaconda3/envs/jose-luis/lib/python3.10/site-packages/lightgbm/engine.py:177: UserWarning: Found `num_iterations` in params. Will use it instead of argument\n",
      "  _log_warning(f\"Found `{alias}` in params. Will use it instead of argument\")\n",
      "/Users/gonzalo/opt/anaconda3/envs/jose-luis/lib/python3.10/site-packages/lightgbm/engine.py:177: UserWarning: Found `num_iterations` in params. Will use it instead of argument\n",
      "  _log_warning(f\"Found `{alias}` in params. Will use it instead of argument\")\n",
      "/Users/gonzalo/opt/anaconda3/envs/jose-luis/lib/python3.10/site-packages/lightgbm/engine.py:177: UserWarning: Found `num_iterations` in params. Will use it instead of argument\n",
      "  _log_warning(f\"Found `{alias}` in params. Will use it instead of argument\")\n"
     ]
    },
    {
     "name": "stdout",
     "output_type": "stream",
     "text": [
      "[LightGBM] [Warning] feature_fraction is set=1.0, colsample_bytree=1.0 will be ignored. Current value: feature_fraction=1.0\n",
      "[LightGBM] [Warning] lambda_l2 is set=10.0, reg_lambda=0.0 will be ignored. Current value: lambda_l2=10.0\n",
      "[LightGBM] [Warning] lambda_l1 is set=5.936617977493105, reg_alpha=0.0 will be ignored. Current value: lambda_l1=5.936617977493105\n",
      "[LightGBM] [Warning] feature_fraction is set=1.0, colsample_bytree=1.0 will be ignored. Current value: feature_fraction=1.0\n",
      "[LightGBM] [Warning] lambda_l2 is set=10.0, reg_lambda=0.0 will be ignored. Current value: lambda_l2=10.0\n",
      "[LightGBM] [Warning] lambda_l1 is set=5.936617977493105, reg_alpha=0.0 will be ignored. Current value: lambda_l1=5.936617977493105\n",
      "[LightGBM] [Warning] feature_fraction is set=1.0, colsample_bytree=1.0 will be ignored. Current value: feature_fraction=1.0\n",
      "[LightGBM] [Warning] lambda_l2 is set=10.0, reg_lambda=0.0 will be ignored. Current value: lambda_l2=10.0\n",
      "[LightGBM] [Warning] lambda_l1 is set=5.936617977493105, reg_alpha=0.0 will be ignored. Current value: lambda_l1=5.936617977493105\n"
     ]
    },
    {
     "name": "stderr",
     "output_type": "stream",
     "text": [
      "/Users/gonzalo/opt/anaconda3/envs/jose-luis/lib/python3.10/site-packages/lightgbm/engine.py:177: UserWarning: Found `num_iterations` in params. Will use it instead of argument\n",
      "  _log_warning(f\"Found `{alias}` in params. Will use it instead of argument\")\n",
      "/Users/gonzalo/opt/anaconda3/envs/jose-luis/lib/python3.10/site-packages/lightgbm/engine.py:177: UserWarning: Found `num_iterations` in params. Will use it instead of argument\n",
      "  _log_warning(f\"Found `{alias}` in params. Will use it instead of argument\")\n",
      "/Users/gonzalo/opt/anaconda3/envs/jose-luis/lib/python3.10/site-packages/lightgbm/engine.py:177: UserWarning: Found `num_iterations` in params. Will use it instead of argument\n",
      "  _log_warning(f\"Found `{alias}` in params. Will use it instead of argument\")\n"
     ]
    },
    {
     "name": "stdout",
     "output_type": "stream",
     "text": [
      "[LightGBM] [Warning] feature_fraction is set=1.0, colsample_bytree=1.0 will be ignored. Current value: feature_fraction=1.0\n",
      "[LightGBM] [Warning] lambda_l2 is set=10.0, reg_lambda=0.0 will be ignored. Current value: lambda_l2=10.0\n",
      "[LightGBM] [Warning] lambda_l1 is set=3.1476297231210806, reg_alpha=0.0 will be ignored. Current value: lambda_l1=3.1476297231210806\n",
      "[LightGBM] [Warning] feature_fraction is set=1.0, colsample_bytree=1.0 will be ignored. Current value: feature_fraction=1.0\n",
      "[LightGBM] [Warning] lambda_l2 is set=10.0, reg_lambda=0.0 will be ignored. Current value: lambda_l2=10.0\n",
      "[LightGBM] [Warning] lambda_l1 is set=3.1476297231210806, reg_alpha=0.0 will be ignored. Current value: lambda_l1=3.1476297231210806\n",
      "[LightGBM] [Warning] feature_fraction is set=1.0, colsample_bytree=1.0 will be ignored. Current value: feature_fraction=1.0\n",
      "[LightGBM] [Warning] lambda_l2 is set=10.0, reg_lambda=0.0 will be ignored. Current value: lambda_l2=10.0\n",
      "[LightGBM] [Warning] lambda_l1 is set=3.1476297231210806, reg_alpha=0.0 will be ignored. Current value: lambda_l1=3.1476297231210806\n"
     ]
    },
    {
     "name": "stderr",
     "output_type": "stream",
     "text": [
      "/Users/gonzalo/opt/anaconda3/envs/jose-luis/lib/python3.10/site-packages/lightgbm/engine.py:177: UserWarning: Found `num_iterations` in params. Will use it instead of argument\n",
      "  _log_warning(f\"Found `{alias}` in params. Will use it instead of argument\")\n",
      "/Users/gonzalo/opt/anaconda3/envs/jose-luis/lib/python3.10/site-packages/lightgbm/engine.py:177: UserWarning: Found `num_iterations` in params. Will use it instead of argument\n",
      "  _log_warning(f\"Found `{alias}` in params. Will use it instead of argument\")\n",
      "/Users/gonzalo/opt/anaconda3/envs/jose-luis/lib/python3.10/site-packages/lightgbm/engine.py:177: UserWarning: Found `num_iterations` in params. Will use it instead of argument\n",
      "  _log_warning(f\"Found `{alias}` in params. Will use it instead of argument\")\n"
     ]
    },
    {
     "name": "stdout",
     "output_type": "stream",
     "text": [
      "[LightGBM] [Warning] feature_fraction is set=0.8963421379656358, colsample_bytree=1.0 will be ignored. Current value: feature_fraction=0.8963421379656358\n",
      "[LightGBM] [Warning] lambda_l2 is set=10.0, reg_lambda=0.0 will be ignored. Current value: lambda_l2=10.0\n",
      "[LightGBM] [Warning] lambda_l1 is set=0.0, reg_alpha=0.0 will be ignored. Current value: lambda_l1=0.0\n",
      "[LightGBM] [Warning] feature_fraction is set=0.8963421379656358, colsample_bytree=1.0 will be ignored. Current value: feature_fraction=0.8963421379656358\n",
      "[LightGBM] [Warning] lambda_l2 is set=10.0, reg_lambda=0.0 will be ignored. Current value: lambda_l2=10.0\n",
      "[LightGBM] [Warning] lambda_l1 is set=0.0, reg_alpha=0.0 will be ignored. Current value: lambda_l1=0.0\n",
      "[LightGBM] [Warning] feature_fraction is set=0.8963421379656358, colsample_bytree=1.0 will be ignored. Current value: feature_fraction=0.8963421379656358\n",
      "[LightGBM] [Warning] lambda_l2 is set=10.0, reg_lambda=0.0 will be ignored. Current value: lambda_l2=10.0\n",
      "[LightGBM] [Warning] lambda_l1 is set=0.0, reg_alpha=0.0 will be ignored. Current value: lambda_l1=0.0\n"
     ]
    },
    {
     "name": "stderr",
     "output_type": "stream",
     "text": [
      "/Users/gonzalo/opt/anaconda3/envs/jose-luis/lib/python3.10/site-packages/lightgbm/engine.py:177: UserWarning: Found `num_iterations` in params. Will use it instead of argument\n",
      "  _log_warning(f\"Found `{alias}` in params. Will use it instead of argument\")\n",
      "/Users/gonzalo/opt/anaconda3/envs/jose-luis/lib/python3.10/site-packages/lightgbm/engine.py:177: UserWarning: Found `num_iterations` in params. Will use it instead of argument\n",
      "  _log_warning(f\"Found `{alias}` in params. Will use it instead of argument\")\n",
      "/Users/gonzalo/opt/anaconda3/envs/jose-luis/lib/python3.10/site-packages/lightgbm/engine.py:177: UserWarning: Found `num_iterations` in params. Will use it instead of argument\n",
      "  _log_warning(f\"Found `{alias}` in params. Will use it instead of argument\")\n"
     ]
    },
    {
     "name": "stdout",
     "output_type": "stream",
     "text": [
      "[LightGBM] [Warning] feature_fraction is set=0.9015322189301331, colsample_bytree=1.0 will be ignored. Current value: feature_fraction=0.9015322189301331\n",
      "[LightGBM] [Warning] lambda_l2 is set=10.0, reg_lambda=0.0 will be ignored. Current value: lambda_l2=10.0\n",
      "[LightGBM] [Warning] lambda_l1 is set=7.103055576940836, reg_alpha=0.0 will be ignored. Current value: lambda_l1=7.103055576940836\n",
      "[LightGBM] [Warning] feature_fraction is set=0.9015322189301331, colsample_bytree=1.0 will be ignored. Current value: feature_fraction=0.9015322189301331\n",
      "[LightGBM] [Warning] lambda_l2 is set=10.0, reg_lambda=0.0 will be ignored. Current value: lambda_l2=10.0\n",
      "[LightGBM] [Warning] lambda_l1 is set=7.103055576940836, reg_alpha=0.0 will be ignored. Current value: lambda_l1=7.103055576940836\n",
      "[LightGBM] [Warning] feature_fraction is set=0.9015322189301331, colsample_bytree=1.0 will be ignored. Current value: feature_fraction=0.9015322189301331\n",
      "[LightGBM] [Warning] lambda_l2 is set=10.0, reg_lambda=0.0 will be ignored. Current value: lambda_l2=10.0\n",
      "[LightGBM] [Warning] lambda_l1 is set=7.103055576940836, reg_alpha=0.0 will be ignored. Current value: lambda_l1=7.103055576940836\n"
     ]
    },
    {
     "name": "stderr",
     "output_type": "stream",
     "text": [
      "/Users/gonzalo/opt/anaconda3/envs/jose-luis/lib/python3.10/site-packages/lightgbm/engine.py:177: UserWarning: Found `num_iterations` in params. Will use it instead of argument\n",
      "  _log_warning(f\"Found `{alias}` in params. Will use it instead of argument\")\n",
      "/Users/gonzalo/opt/anaconda3/envs/jose-luis/lib/python3.10/site-packages/lightgbm/engine.py:177: UserWarning: Found `num_iterations` in params. Will use it instead of argument\n",
      "  _log_warning(f\"Found `{alias}` in params. Will use it instead of argument\")\n",
      "/Users/gonzalo/opt/anaconda3/envs/jose-luis/lib/python3.10/site-packages/lightgbm/engine.py:177: UserWarning: Found `num_iterations` in params. Will use it instead of argument\n",
      "  _log_warning(f\"Found `{alias}` in params. Will use it instead of argument\")\n"
     ]
    },
    {
     "name": "stdout",
     "output_type": "stream",
     "text": [
      "[LightGBM] [Warning] feature_fraction is set=0.9094076458142584, colsample_bytree=1.0 will be ignored. Current value: feature_fraction=0.9094076458142584\n",
      "[LightGBM] [Warning] lambda_l2 is set=8.364526978994403, reg_lambda=0.0 will be ignored. Current value: lambda_l2=8.364526978994403\n",
      "[LightGBM] [Warning] lambda_l1 is set=6.577727088985195, reg_alpha=0.0 will be ignored. Current value: lambda_l1=6.577727088985195\n",
      "[LightGBM] [Warning] feature_fraction is set=0.9094076458142584, colsample_bytree=1.0 will be ignored. Current value: feature_fraction=0.9094076458142584\n",
      "[LightGBM] [Warning] lambda_l2 is set=8.364526978994403, reg_lambda=0.0 will be ignored. Current value: lambda_l2=8.364526978994403\n",
      "[LightGBM] [Warning] lambda_l1 is set=6.577727088985195, reg_alpha=0.0 will be ignored. Current value: lambda_l1=6.577727088985195\n",
      "[LightGBM] [Warning] feature_fraction is set=0.9094076458142584, colsample_bytree=1.0 will be ignored. Current value: feature_fraction=0.9094076458142584\n",
      "[LightGBM] [Warning] lambda_l2 is set=8.364526978994403, reg_lambda=0.0 will be ignored. Current value: lambda_l2=8.364526978994403\n",
      "[LightGBM] [Warning] lambda_l1 is set=6.577727088985195, reg_alpha=0.0 will be ignored. Current value: lambda_l1=6.577727088985195\n"
     ]
    },
    {
     "name": "stderr",
     "output_type": "stream",
     "text": [
      "/Users/gonzalo/opt/anaconda3/envs/jose-luis/lib/python3.10/site-packages/lightgbm/engine.py:177: UserWarning: Found `num_iterations` in params. Will use it instead of argument\n",
      "  _log_warning(f\"Found `{alias}` in params. Will use it instead of argument\")\n",
      "/Users/gonzalo/opt/anaconda3/envs/jose-luis/lib/python3.10/site-packages/lightgbm/engine.py:177: UserWarning: Found `num_iterations` in params. Will use it instead of argument\n",
      "  _log_warning(f\"Found `{alias}` in params. Will use it instead of argument\")\n",
      "/Users/gonzalo/opt/anaconda3/envs/jose-luis/lib/python3.10/site-packages/lightgbm/engine.py:177: UserWarning: Found `num_iterations` in params. Will use it instead of argument\n",
      "  _log_warning(f\"Found `{alias}` in params. Will use it instead of argument\")\n"
     ]
    },
    {
     "name": "stdout",
     "output_type": "stream",
     "text": [
      "[LightGBM] [Warning] feature_fraction is set=0.5, colsample_bytree=1.0 will be ignored. Current value: feature_fraction=0.5\n",
      "[LightGBM] [Warning] lambda_l2 is set=2.387888210171958, reg_lambda=0.0 will be ignored. Current value: lambda_l2=2.387888210171958\n",
      "[LightGBM] [Warning] lambda_l1 is set=0.0, reg_alpha=0.0 will be ignored. Current value: lambda_l1=0.0\n",
      "[LightGBM] [Warning] feature_fraction is set=0.5, colsample_bytree=1.0 will be ignored. Current value: feature_fraction=0.5\n",
      "[LightGBM] [Warning] lambda_l2 is set=2.387888210171958, reg_lambda=0.0 will be ignored. Current value: lambda_l2=2.387888210171958\n",
      "[LightGBM] [Warning] lambda_l1 is set=0.0, reg_alpha=0.0 will be ignored. Current value: lambda_l1=0.0\n",
      "[LightGBM] [Warning] feature_fraction is set=0.5, colsample_bytree=1.0 will be ignored. Current value: feature_fraction=0.5\n",
      "[LightGBM] [Warning] lambda_l2 is set=2.387888210171958, reg_lambda=0.0 will be ignored. Current value: lambda_l2=2.387888210171958\n",
      "[LightGBM] [Warning] lambda_l1 is set=0.0, reg_alpha=0.0 will be ignored. Current value: lambda_l1=0.0\n"
     ]
    },
    {
     "name": "stderr",
     "output_type": "stream",
     "text": [
      "/Users/gonzalo/opt/anaconda3/envs/jose-luis/lib/python3.10/site-packages/lightgbm/engine.py:177: UserWarning: Found `num_iterations` in params. Will use it instead of argument\n",
      "  _log_warning(f\"Found `{alias}` in params. Will use it instead of argument\")\n",
      "/Users/gonzalo/opt/anaconda3/envs/jose-luis/lib/python3.10/site-packages/lightgbm/engine.py:177: UserWarning: Found `num_iterations` in params. Will use it instead of argument\n",
      "  _log_warning(f\"Found `{alias}` in params. Will use it instead of argument\")\n",
      "/Users/gonzalo/opt/anaconda3/envs/jose-luis/lib/python3.10/site-packages/lightgbm/engine.py:177: UserWarning: Found `num_iterations` in params. Will use it instead of argument\n",
      "  _log_warning(f\"Found `{alias}` in params. Will use it instead of argument\")\n"
     ]
    },
    {
     "name": "stdout",
     "output_type": "stream",
     "text": [
      "[LightGBM] [Warning] feature_fraction is set=0.5, colsample_bytree=1.0 will be ignored. Current value: feature_fraction=0.5\n",
      "[LightGBM] [Warning] lambda_l2 is set=10.0, reg_lambda=0.0 will be ignored. Current value: lambda_l2=10.0\n",
      "[LightGBM] [Warning] lambda_l1 is set=3.704189755146806, reg_alpha=0.0 will be ignored. Current value: lambda_l1=3.704189755146806\n",
      "[LightGBM] [Warning] feature_fraction is set=0.5, colsample_bytree=1.0 will be ignored. Current value: feature_fraction=0.5\n",
      "[LightGBM] [Warning] lambda_l2 is set=10.0, reg_lambda=0.0 will be ignored. Current value: lambda_l2=10.0\n",
      "[LightGBM] [Warning] lambda_l1 is set=3.704189755146806, reg_alpha=0.0 will be ignored. Current value: lambda_l1=3.704189755146806\n",
      "[LightGBM] [Warning] feature_fraction is set=0.5, colsample_bytree=1.0 will be ignored. Current value: feature_fraction=0.5\n",
      "[LightGBM] [Warning] lambda_l2 is set=10.0, reg_lambda=0.0 will be ignored. Current value: lambda_l2=10.0\n",
      "[LightGBM] [Warning] lambda_l1 is set=3.704189755146806, reg_alpha=0.0 will be ignored. Current value: lambda_l1=3.704189755146806\n"
     ]
    },
    {
     "name": "stderr",
     "output_type": "stream",
     "text": [
      "/Users/gonzalo/opt/anaconda3/envs/jose-luis/lib/python3.10/site-packages/lightgbm/engine.py:177: UserWarning: Found `num_iterations` in params. Will use it instead of argument\n",
      "  _log_warning(f\"Found `{alias}` in params. Will use it instead of argument\")\n"
     ]
    }
   ],
   "source": [
    "ys = [\"win\", \"open_spread\", \"close_spread\"]\n",
    "models = Bundle({y: BayesSearchCV(**search_params).fit(X_train, Y_train[y]) for y in Y})\n",
    "# models.win.fit(X_train, Y_train.win)\n",
    "# models.open_spread.fit(X_train, Y_train.open_spread)\n",
    "# models.close_spread.fit(X_train, close_spread_train)"
   ]
  },
  {
   "cell_type": "code",
   "execution_count": null,
   "metadata": {},
   "outputs": [
    {
     "data": {
      "text/html": [
       "<div>\n",
       "<style scoped>\n",
       "    .dataframe tbody tr th:only-of-type {\n",
       "        vertical-align: middle;\n",
       "    }\n",
       "\n",
       "    .dataframe tbody tr th {\n",
       "        vertical-align: top;\n",
       "    }\n",
       "\n",
       "    .dataframe thead th {\n",
       "        text-align: right;\n",
       "    }\n",
       "</style>\n",
       "<table border=\"1\" class=\"dataframe\">\n",
       "  <thead>\n",
       "    <tr style=\"text-align: right;\">\n",
       "      <th></th>\n",
       "      <th>win</th>\n",
       "      <th>open_spread</th>\n",
       "      <th>close_spread</th>\n",
       "    </tr>\n",
       "  </thead>\n",
       "  <tbody>\n",
       "    <tr>\n",
       "      <th>feature_fraction</th>\n",
       "      <td>1.000000</td>\n",
       "      <td>0.975845</td>\n",
       "      <td>0.899777</td>\n",
       "    </tr>\n",
       "    <tr>\n",
       "      <th>lambda_l1</th>\n",
       "      <td>10.000000</td>\n",
       "      <td>5.545027</td>\n",
       "      <td>4.380292</td>\n",
       "    </tr>\n",
       "    <tr>\n",
       "      <th>lambda_l2</th>\n",
       "      <td>4.363676</td>\n",
       "      <td>1.788103</td>\n",
       "      <td>5.266202</td>\n",
       "    </tr>\n",
       "    <tr>\n",
       "      <th>learning_rate</th>\n",
       "      <td>0.010000</td>\n",
       "      <td>0.158795</td>\n",
       "      <td>0.181771</td>\n",
       "    </tr>\n",
       "    <tr>\n",
       "      <th>num_iterations</th>\n",
       "      <td>50.000000</td>\n",
       "      <td>50.000000</td>\n",
       "      <td>457.000000</td>\n",
       "    </tr>\n",
       "    <tr>\n",
       "      <th>num_leaves</th>\n",
       "      <td>2.000000</td>\n",
       "      <td>3.000000</td>\n",
       "      <td>8.000000</td>\n",
       "    </tr>\n",
       "  </tbody>\n",
       "</table>\n",
       "</div>"
      ],
      "text/plain": [
       "                        win  open_spread  close_spread\n",
       "feature_fraction   1.000000     0.975845      0.899777\n",
       "lambda_l1         10.000000     5.545027      4.380292\n",
       "lambda_l2          4.363676     1.788103      5.266202\n",
       "learning_rate      0.010000     0.158795      0.181771\n",
       "num_iterations    50.000000    50.000000    457.000000\n",
       "num_leaves         2.000000     3.000000      8.000000"
      ]
     },
     "metadata": {},
     "output_type": "display_data"
    }
   ],
   "source": [
    "pd.DataFrame({res: model.best_params_ for res, model in models.items()})"
   ]
  },
  {
   "attachments": {},
   "cell_type": "markdown",
   "metadata": {},
   "source": [
    "Not quite beautiful, a lot of hyperparameters being chosen close to the \"frontier\" of the search space. Still, let's train them as they come."
   ]
  },
  {
   "cell_type": "code",
   "execution_count": 64,
   "metadata": {},
   "outputs": [
    {
     "name": "stderr",
     "output_type": "stream",
     "text": [
      "/Users/gonzalo/opt/anaconda3/envs/jose-luis/lib/python3.10/site-packages/lightgbm/engine.py:177: UserWarning: Found `num_iterations` in params. Will use it instead of argument\n",
      "  _log_warning(f\"Found `{alias}` in params. Will use it instead of argument\")\n",
      "/Users/gonzalo/opt/anaconda3/envs/jose-luis/lib/python3.10/site-packages/lightgbm/engine.py:177: UserWarning: Found `num_iterations` in params. Will use it instead of argument\n",
      "  _log_warning(f\"Found `{alias}` in params. Will use it instead of argument\")\n",
      "/Users/gonzalo/opt/anaconda3/envs/jose-luis/lib/python3.10/site-packages/lightgbm/engine.py:177: UserWarning: Found `num_iterations` in params. Will use it instead of argument\n",
      "  _log_warning(f\"Found `{alias}` in params. Will use it instead of argument\")\n"
     ]
    }
   ],
   "source": [
    "estimators = Bundle({y: models[y].best_estimator_.fit(X_train, Y_train[y]) for y in Y})"
   ]
  },
  {
   "cell_type": "code",
   "execution_count": 92,
   "metadata": {},
   "outputs": [
    {
     "data": {
      "text/plain": [
       "{'win': 0.65, 'open_spread': 0.521875, 'close_spread': 0.471875}"
      ]
     },
     "execution_count": 92,
     "metadata": {},
     "output_type": "execute_result"
    }
   ],
   "source": [
    "preds = Bundle({res: pd.Series(est.predict(X_test), X_test.index) for res, est in estimators.items()})\n",
    "probas = Bundle({res: est.predict_proba(X_test) for res, est in estimators.items()})\n",
    "\n",
    "accuracies = Bundle({res: accuracy_score(Y_test[res], preds[res]) for res in Y})\n",
    "accuracies"
   ]
  },
  {
   "cell_type": "code",
   "execution_count": 135,
   "metadata": {},
   "outputs": [
    {
     "data": {
      "text/html": [
       "<div>\n",
       "<style scoped>\n",
       "    .dataframe tbody tr th:only-of-type {\n",
       "        vertical-align: middle;\n",
       "    }\n",
       "\n",
       "    .dataframe tbody tr th {\n",
       "        vertical-align: top;\n",
       "    }\n",
       "\n",
       "    .dataframe thead th {\n",
       "        text-align: right;\n",
       "    }\n",
       "</style>\n",
       "<table border=\"1\" class=\"dataframe\">\n",
       "  <thead>\n",
       "    <tr style=\"text-align: right;\">\n",
       "      <th></th>\n",
       "      <th>win</th>\n",
       "      <th>open_spread</th>\n",
       "      <th>close_spread</th>\n",
       "    </tr>\n",
       "  </thead>\n",
       "  <tbody>\n",
       "    <tr>\n",
       "      <th>-1.0</th>\n",
       "      <td>0.42</td>\n",
       "      <td>0.52</td>\n",
       "      <td>0.51</td>\n",
       "    </tr>\n",
       "    <tr>\n",
       "      <th>0.0</th>\n",
       "      <td>NaN</td>\n",
       "      <td>0.02</td>\n",
       "      <td>0.02</td>\n",
       "    </tr>\n",
       "    <tr>\n",
       "      <th>1.0</th>\n",
       "      <td>0.58</td>\n",
       "      <td>0.46</td>\n",
       "      <td>0.46</td>\n",
       "    </tr>\n",
       "  </tbody>\n",
       "</table>\n",
       "</div>"
      ],
      "text/plain": [
       "       win  open_spread  close_spread\n",
       "-1.0  0.42         0.52          0.51\n",
       " 0.0   NaN         0.02          0.02\n",
       " 1.0  0.58         0.46          0.46"
      ]
     },
     "execution_count": 135,
     "metadata": {},
     "output_type": "execute_result"
    }
   ],
   "source": [
    "pd.DataFrame({res: Y_test[res].value_counts() / len(X_test) for res in Y}).round(2)"
   ]
  },
  {
   "attachments": {},
   "cell_type": "markdown",
   "metadata": {},
   "source": [
    "Win model looks better than baseline \"home alway wins\", open spread is even, close_spread model looks bad in paper."
   ]
  },
  {
   "cell_type": "code",
   "execution_count": 136,
   "metadata": {},
   "outputs": [],
   "source": [
    "fis = pd.DataFrame(Bundle(\n",
    "    {\n",
    "        name: pd.Series(est.feature_importances_, est.feature_name_)\n",
    "        for name, est in estimators.items()\n",
    "    }\n",
    "))"
   ]
  },
  {
   "cell_type": "code",
   "execution_count": 137,
   "metadata": {},
   "outputs": [
    {
     "data": {
      "text/html": [
       "<div>\n",
       "<style scoped>\n",
       "    .dataframe tbody tr th:only-of-type {\n",
       "        vertical-align: middle;\n",
       "    }\n",
       "\n",
       "    .dataframe tbody tr th {\n",
       "        vertical-align: top;\n",
       "    }\n",
       "\n",
       "    .dataframe thead th {\n",
       "        text-align: right;\n",
       "    }\n",
       "</style>\n",
       "<table border=\"1\" class=\"dataframe\">\n",
       "  <thead>\n",
       "    <tr style=\"text-align: right;\">\n",
       "      <th></th>\n",
       "      <th>win</th>\n",
       "      <th>open_spread</th>\n",
       "      <th>close_spread</th>\n",
       "    </tr>\n",
       "  </thead>\n",
       "  <tbody>\n",
       "    <tr>\n",
       "      <th>home_LineOpen</th>\n",
       "      <td>61</td>\n",
       "      <td>0</td>\n",
       "      <td>0</td>\n",
       "    </tr>\n",
       "    <tr>\n",
       "      <th>home_OddsClose</th>\n",
       "      <td>39</td>\n",
       "      <td>0</td>\n",
       "      <td>4</td>\n",
       "    </tr>\n",
       "    <tr>\n",
       "      <th>season</th>\n",
       "      <td>0</td>\n",
       "      <td>0</td>\n",
       "      <td>0</td>\n",
       "    </tr>\n",
       "    <tr>\n",
       "      <th>away_vsall_avg_ep_st</th>\n",
       "      <td>0</td>\n",
       "      <td>12</td>\n",
       "      <td>36</td>\n",
       "    </tr>\n",
       "    <tr>\n",
       "      <th>away_vsall_avg_o_fistdown</th>\n",
       "      <td>0</td>\n",
       "      <td>0</td>\n",
       "      <td>22</td>\n",
       "    </tr>\n",
       "  </tbody>\n",
       "</table>\n",
       "</div>"
      ],
      "text/plain": [
       "                           win  open_spread  close_spread\n",
       "home_LineOpen               61            0             0\n",
       "home_OddsClose              39            0             4\n",
       "season                       0            0             0\n",
       "away_vsall_avg_ep_st         0           12            36\n",
       "away_vsall_avg_o_fistdown    0            0            22"
      ]
     },
     "execution_count": 137,
     "metadata": {},
     "output_type": "execute_result"
    }
   ],
   "source": [
    "fis.sort_values(\"win\", ascending=False).head()"
   ]
  },
  {
   "cell_type": "code",
   "execution_count": 138,
   "metadata": {},
   "outputs": [
    {
     "data": {
      "image/png": "[encoded data removed]",
      "text/plain": [
       "<Figure size 1200x500 with 3 Axes>"
      ]
     },
     "metadata": {},
     "output_type": "display_data"
    }
   ],
   "source": [
    "fig, axs = plt.subplots(1, len(Y.columns),figsize=(12, 5))\n",
    "for i, res in enumerate(Y):\n",
    "    fis[res].sort_values(ascending=False)[:10].plot(kind=\"bar\", ax=axs[i])\n",
    "    # Slant labels 45 degrees\n",
    "    axs[i].set_xticklabels(axs[i].get_xticklabels(), rotation=45, ha=\"right\")\n",
    "    axs[i].set_title(res)\n",
    "plt.show()"
   ]
  },
  {
   "attachments": {},
   "cell_type": "markdown",
   "metadata": {},
   "source": [
    "### Model Fit Evaluation\n",
    "\n",
    "Benter:\n",
    "> The log likelihood function of equation (2) can be used to produce a measure of fit analogous to the R' of multiple linear regression (Equation 3). This pseudo-R*(I?) can be used to compare models and to assess the value of a particular model as a betfing tool. Each set of probability estimates, either the public's or those of a model, achiwe a certain $R^2$ ,defined as (Boltonand Chapman, 1986)\n",
    "> $$ R^2 = 1 - \\frac{L(model)}{L(1/N_j)}$$\n",
    "\n",
    "> A heuristic measure of the potential profitability of a handicapping model, borne out in practice, is the amount by which its inclusion in the combined model (\"C\") along with the public probability estimate(\"P\"_ causes the $R^2$ to increase over the value achieved by the public estimate alone:\n",
    "> $$\\Delta R^2 = R^2_C - R^2_P$$\n",
    "\n",
    "NOTE: This is a version of the F-test for significance of extra regressors ([Wikipedia](https://en.wikipedia.org/wiki/F-test#Regression_problems)), if one took the true [$R^2$](https://en.wikipedia.org/wiki/Coefficient_of_determination) for each model."
   ]
  },
  {
   "attachments": {},
   "cell_type": "markdown",
   "metadata": {},
   "source": [
    "We have three models, so we can calculate three $R^2$'s. Let's try the `win` model first:\n",
    "1. Establish the $1/N_j$ model. It will predict probabilities equal to the in-sample class fractions.\n"
   ]
  },
  {
   "cell_type": "code",
   "execution_count": 231,
   "metadata": {},
   "outputs": [
    {
     "data": {
      "text/plain": [
       " 1.0    0.551212\n",
       "-1.0    0.443315\n",
       " 0.0    0.005473\n",
       "Name: win, dtype: float64"
      ]
     },
     "execution_count": 231,
     "metadata": {},
     "output_type": "execute_result"
    }
   ],
   "source": [
    "baseline_model_probs = Y_train.win.value_counts(normalize=True)\n",
    "baseline_model_probs"
   ]
  },
  {
   "cell_type": "code",
   "execution_count": 232,
   "metadata": {},
   "outputs": [
    {
     "data": {
      "text/plain": [
       "-219.79387848262888"
      ]
     },
     "execution_count": 232,
     "metadata": {},
     "output_type": "execute_result"
    }
   ],
   "source": [
    "baseline_LogL = np.log(baseline_model_probs[Y_test.win.values]).sum()\n",
    "baseline_LogL"
   ]
  },
  {
   "cell_type": "code",
   "execution_count": 233,
   "metadata": {},
   "outputs": [
    {
     "data": {
      "text/html": [
       "<div>\n",
       "<style scoped>\n",
       "    .dataframe tbody tr th:only-of-type {\n",
       "        vertical-align: middle;\n",
       "    }\n",
       "\n",
       "    .dataframe tbody tr th {\n",
       "        vertical-align: top;\n",
       "    }\n",
       "\n",
       "    .dataframe thead th {\n",
       "        text-align: right;\n",
       "    }\n",
       "</style>\n",
       "<table border=\"1\" class=\"dataframe\">\n",
       "  <thead>\n",
       "    <tr style=\"text-align: right;\">\n",
       "      <th></th>\n",
       "      <th>1</th>\n",
       "      <th>0</th>\n",
       "      <th>-1</th>\n",
       "    </tr>\n",
       "    <tr>\n",
       "      <th>game_id</th>\n",
       "      <th></th>\n",
       "      <th></th>\n",
       "      <th></th>\n",
       "    </tr>\n",
       "  </thead>\n",
       "  <tbody>\n",
       "    <tr>\n",
       "      <th>2973</th>\n",
       "      <td>0.370493</td>\n",
       "      <td>0.005449</td>\n",
       "      <td>0.624057</td>\n",
       "    </tr>\n",
       "    <tr>\n",
       "      <th>2261</th>\n",
       "      <td>0.423968</td>\n",
       "      <td>0.005041</td>\n",
       "      <td>0.570991</td>\n",
       "    </tr>\n",
       "    <tr>\n",
       "      <th>2498</th>\n",
       "      <td>0.521644</td>\n",
       "      <td>0.005630</td>\n",
       "      <td>0.472726</td>\n",
       "    </tr>\n",
       "    <tr>\n",
       "      <th>2841</th>\n",
       "      <td>0.370493</td>\n",
       "      <td>0.005449</td>\n",
       "      <td>0.624057</td>\n",
       "    </tr>\n",
       "    <tr>\n",
       "      <th>3518</th>\n",
       "      <td>0.521644</td>\n",
       "      <td>0.005630</td>\n",
       "      <td>0.472726</td>\n",
       "    </tr>\n",
       "  </tbody>\n",
       "</table>\n",
       "</div>"
      ],
      "text/plain": [
       "                1         0        -1\n",
       "game_id                              \n",
       "2973     0.370493  0.005449  0.624057\n",
       "2261     0.423968  0.005041  0.570991\n",
       "2498     0.521644  0.005630  0.472726\n",
       "2841     0.370493  0.005449  0.624057\n",
       "3518     0.521644  0.005630  0.472726"
      ]
     },
     "execution_count": 233,
     "metadata": {},
     "output_type": "execute_result"
    }
   ],
   "source": [
    "win_probas = pd.DataFrame(probas.win).set_index(Y_test.index).rename(columns={0: 1, 1:0, 2: -1})\n",
    "win_probas.head()"
   ]
  },
  {
   "cell_type": "code",
   "execution_count": 234,
   "metadata": {},
   "outputs": [
    {
     "data": {
      "text/plain": [
       "game_id\n",
       "2973   -1.0\n",
       "2261    1.0\n",
       "2498   -1.0\n",
       "2841    1.0\n",
       "3518   -1.0\n",
       "Name: win, dtype: float64"
      ]
     },
     "execution_count": 234,
     "metadata": {},
     "output_type": "execute_result"
    }
   ],
   "source": [
    "Y_test.win.head()"
   ]
  },
  {
   "cell_type": "code",
   "execution_count": 235,
   "metadata": {},
   "outputs": [
    {
     "data": {
      "text/plain": [
       "2973    0.624057\n",
       "2261    0.423968\n",
       "2498    0.472726\n",
       "2841    0.370493\n",
       "3518    0.472726\n",
       "          ...   \n",
       "3440    0.472726\n",
       "3487    0.521644\n",
       "3336    0.521644\n",
       "3133    0.423968\n",
       "2863    0.371679\n",
       "Length: 320, dtype: float64"
      ]
     },
     "execution_count": 235,
     "metadata": {},
     "output_type": "execute_result"
    }
   ],
   "source": [
    "win_model_probs = pd.Series({game_id: row[Y_test.win[game_id]] for game_id, row in win_probas.iterrows()})\n",
    "win_model_probs\n"
   ]
  },
  {
   "cell_type": "code",
   "execution_count": 236,
   "metadata": {},
   "outputs": [
    {
     "data": {
      "text/plain": [
       "-247.29784743861353"
      ]
     },
     "execution_count": 236,
     "metadata": {},
     "output_type": "execute_result"
    }
   ],
   "source": [
    "private_LogL = np.log(win_model_probs).sum()\n",
    "private_LogL"
   ]
  },
  {
   "cell_type": "code",
   "execution_count": 237,
   "metadata": {},
   "outputs": [
    {
     "data": {
      "text/html": [
       "<div>\n",
       "<style scoped>\n",
       "    .dataframe tbody tr th:only-of-type {\n",
       "        vertical-align: middle;\n",
       "    }\n",
       "\n",
       "    .dataframe tbody tr th {\n",
       "        vertical-align: top;\n",
       "    }\n",
       "\n",
       "    .dataframe thead th {\n",
       "        text-align: right;\n",
       "    }\n",
       "</style>\n",
       "<table border=\"1\" class=\"dataframe\">\n",
       "  <thead>\n",
       "    <tr style=\"text-align: right;\">\n",
       "      <th></th>\n",
       "      <th>1</th>\n",
       "      <th>0</th>\n",
       "      <th>-1</th>\n",
       "    </tr>\n",
       "    <tr>\n",
       "      <th>game_id</th>\n",
       "      <th></th>\n",
       "      <th></th>\n",
       "      <th></th>\n",
       "    </tr>\n",
       "  </thead>\n",
       "  <tbody>\n",
       "    <tr>\n",
       "      <th>2973</th>\n",
       "      <td>0.681211</td>\n",
       "      <td>0.0</td>\n",
       "      <td>0.318789</td>\n",
       "    </tr>\n",
       "    <tr>\n",
       "      <th>2261</th>\n",
       "      <td>0.575864</td>\n",
       "      <td>0.0</td>\n",
       "      <td>0.424136</td>\n",
       "    </tr>\n",
       "    <tr>\n",
       "      <th>2498</th>\n",
       "      <td>0.521873</td>\n",
       "      <td>0.0</td>\n",
       "      <td>0.478127</td>\n",
       "    </tr>\n",
       "    <tr>\n",
       "      <th>2841</th>\n",
       "      <td>0.751721</td>\n",
       "      <td>0.0</td>\n",
       "      <td>0.248279</td>\n",
       "    </tr>\n",
       "    <tr>\n",
       "      <th>3518</th>\n",
       "      <td>0.341176</td>\n",
       "      <td>0.0</td>\n",
       "      <td>0.658824</td>\n",
       "    </tr>\n",
       "  </tbody>\n",
       "</table>\n",
       "</div>"
      ],
      "text/plain": [
       "                1    0        -1\n",
       "game_id                         \n",
       "2973     0.681211  0.0  0.318789\n",
       "2261     0.575864  0.0  0.424136\n",
       "2498     0.521873  0.0  0.478127\n",
       "2841     0.751721  0.0  0.248279\n",
       "3518     0.341176  0.0  0.658824"
      ]
     },
     "execution_count": 237,
     "metadata": {},
     "output_type": "execute_result"
    }
   ],
   "source": [
    "public_model_probas = pd.DataFrame().reindex_like(win_probas)\n",
    "public_model_probas[1] = 1/ X_test.home_OddsClose\n",
    "public_model_probas[-1] = 1/ X_test.away_OddsClose\n",
    "public_model_probas[0] = 0  # TODO: Better choice?\n",
    "public_model_probas = public_model_probas.div(public_model_probas.sum(axis=1), axis=0)  # Normalize to 1\n",
    "public_model_probas.head()"
   ]
  },
  {
   "cell_type": "code",
   "execution_count": 238,
   "metadata": {},
   "outputs": [
    {
     "data": {
      "text/plain": [
       "-195.98827647862436"
      ]
     },
     "execution_count": 238,
     "metadata": {},
     "output_type": "execute_result"
    }
   ],
   "source": [
    "public_model_probs = pd.Series({game_id: row[Y_test.win[game_id]] for game_id, row in public_model_probas.iterrows()})\n",
    "public_LogL = np.log(public_model_probs).sum()\n",
    "public_LogL"
   ]
  },
  {
   "cell_type": "code",
   "execution_count": 239,
   "metadata": {},
   "outputs": [
    {
     "data": {
      "text/plain": [
       "(0.10830875804344098, -0.1251352819553544)"
      ]
     },
     "execution_count": 239,
     "metadata": {},
     "output_type": "execute_result"
    }
   ],
   "source": [
    "public_R2 = 1 - (public_LogL / baseline_LogL)\n",
    "private_R2 = 1 - (private_LogL / baseline_LogL)\n",
    "public_R2, private_R2"
   ]
  },
  {
   "attachments": {},
   "cell_type": "markdown",
   "metadata": {},
   "source": [
    "Very bad news indeed. But let's soldier on!\n",
    "\n",
    "THINK: Why isn't the estimator incorporating the information from the public odds, if they are available as features?\n",
    "\n",
    "TODO: Combine public and private estimates in a final prediction. "
   ]
  },
  {
   "attachments": {},
   "cell_type": "markdown",
   "metadata": {},
   "source": [
    "## Bet sizing"
   ]
  },
  {
   "attachments": {},
   "cell_type": "markdown",
   "metadata": {},
   "source": [
    "### Single bet scenario"
   ]
  },
  {
   "cell_type": "code",
   "execution_count": 265,
   "metadata": {},
   "outputs": [],
   "source": [
    "c = 0.06  # p hat\n",
    "div = 20  # odds/dividend\n",
    "er = c * div # expected return\n",
    "ev = adv = er - 1  # advantage/expected value\n",
    "pool = 100_000\n",
    "vig = 0.0\n",
    "wealth = pool / 2"
   ]
  },
  {
   "cell_type": "code",
   "execution_count": 266,
   "metadata": {},
   "outputs": [],
   "source": [
    "benter_bet = 416"
   ]
  },
  {
   "cell_type": "code",
   "execution_count": 267,
   "metadata": {},
   "outputs": [],
   "source": [
    "def breakeven_bet(pool, c, div, vig=0.0):\n",
    "    return pool * (1 / (c * div) + vig - 1) / (1 - vig - 1/c)"
   ]
  },
  {
   "cell_type": "code",
   "execution_count": 268,
   "metadata": {},
   "outputs": [
    {
     "data": {
      "text/plain": [
       "1063.8297872340422"
      ]
     },
     "execution_count": 268,
     "metadata": {},
     "output_type": "execute_result"
    }
   ],
   "source": [
    "max_bet = breakeven_bet(pool, c, div, vig)\n",
    "max_bet"
   ]
  },
  {
   "cell_type": "code",
   "execution_count": 269,
   "metadata": {},
   "outputs": [],
   "source": [
    "def expected_profit(bet, c, div, pool, vig):\n",
    "    div_pre = div\n",
    "    div_post = (pool + bet) * (1 - vig) / (pool / div_pre + bet)\n",
    "    return (c * div_post - 1) * bet"
   ]
  },
  {
   "cell_type": "code",
   "execution_count": 270,
   "metadata": {},
   "outputs": [],
   "source": [
    "assert expected_profit(max_bet, c, div, pool, vig) == 0"
   ]
  },
  {
   "cell_type": "code",
   "execution_count": 271,
   "metadata": {},
   "outputs": [
    {
     "data": {
      "text/plain": [
       "((0, 1063.8297872340422),\n",
       " 506.28267431220087,\n",
       " 48.18856431397316,\n",
       "  message: Solution found.\n",
       "  success: True\n",
       "   status: 0\n",
       "      fun: -48.18856431397316\n",
       "        x: 506.28267431220087\n",
       "      nit: 10\n",
       "     nfev: 10)"
      ]
     },
     "execution_count": 271,
     "metadata": {},
     "output_type": "execute_result"
    }
   ],
   "source": [
    "bounds = (0, max_bet)\n",
    "res = minimize_scalar(lambda bet: -expected_profit(bet, c, div, pool, vig), bounds=bounds)\n",
    "bet_opt, exp_profit = res.x, -res.fun\n",
    "bounds, bet_opt, exp_profit, res"
   ]
  },
  {
   "cell_type": "code",
   "execution_count": 272,
   "metadata": {},
   "outputs": [],
   "source": [
    "bets = np.linspace(*bounds, 100)\n",
    "ep = [expected_profit(b, c, div, pool, vig) for b in bets]"
   ]
  },
  {
   "cell_type": "code",
   "execution_count": 273,
   "metadata": {},
   "outputs": [
    {
     "data": {
      "text/plain": [
       "(48.18856431397316, 48.18856431397316)"
      ]
     },
     "execution_count": 273,
     "metadata": {},
     "output_type": "execute_result"
    }
   ],
   "source": [
    "expected_profit(bet_opt, c, div, pool, vig), exp_profit"
   ]
  },
  {
   "cell_type": "code",
   "execution_count": 274,
   "metadata": {},
   "outputs": [
    {
     "data": {
      "text/plain": [
       "<matplotlib.lines.Line2D at 0x16c66a0b0>"
      ]
     },
     "execution_count": 274,
     "metadata": {},
     "output_type": "execute_result"
    },
    {
     "data": {
      "image/png": "[encoded data removed]",
      "text/plain": [
       "<Figure size 640x480 with 1 Axes>"
      ]
     },
     "metadata": {},
     "output_type": "display_data"
    }
   ],
   "source": [
    "plt.plot(bets, ep)\n",
    "# Draw a vertical line at `bet_opt`, with grey dashes\n",
    "plt.axvline(bet_opt, color='grey', linestyle='--')\n",
    "plt.axhline(exp_profit, color='grey', linestyle='--')\n",
    "# Draw a vertical line at `benter_bet`, and a horizontal line at `expected_profit(benter_bet)`, both in orange and dashed\n",
    "plt.axvline(benter_bet, color='orange', linestyle='--')\n",
    "plt.axhline(expected_profit(benter_bet, c, div, pool, vig), color='orange', linestyle='--')"
   ]
  },
  {
   "cell_type": "code",
   "execution_count": 275,
   "metadata": {},
   "outputs": [
    {
     "data": {
      "text/plain": [
       "526.3157894736842"
      ]
     },
     "execution_count": 275,
     "metadata": {},
     "output_type": "execute_result"
    }
   ],
   "source": [
    "# https://en.wikipedia.org/wiki/Kelly_criterion\n",
    "kelly_bet = (c * div - 1) / (div - 1)  # adv / net_div\n",
    "kelly_bet * wealth"
   ]
  },
  {
   "cell_type": "code",
   "execution_count": 279,
   "metadata": {},
   "outputs": [
    {
     "data": {
      "text/html": [
       "<div>\n",
       "<style scoped>\n",
       "    .dataframe tbody tr th:only-of-type {\n",
       "        vertical-align: middle;\n",
       "    }\n",
       "\n",
       "    .dataframe tbody tr th {\n",
       "        vertical-align: top;\n",
       "    }\n",
       "\n",
       "    .dataframe thead th {\n",
       "        text-align: right;\n",
       "    }\n",
       "</style>\n",
       "<table border=\"1\" class=\"dataframe\">\n",
       "  <thead>\n",
       "    <tr style=\"text-align: right;\">\n",
       "      <th></th>\n",
       "      <th>bets</th>\n",
       "      <th>eps</th>\n",
       "    </tr>\n",
       "  </thead>\n",
       "  <tbody>\n",
       "    <tr>\n",
       "      <th>ep_max</th>\n",
       "      <td>506.28</td>\n",
       "      <td>48.19</td>\n",
       "    </tr>\n",
       "    <tr>\n",
       "      <th>kelly</th>\n",
       "      <td>526.32</td>\n",
       "      <td>48.12</td>\n",
       "    </tr>\n",
       "    <tr>\n",
       "      <th>benter</th>\n",
       "      <td>416.00</td>\n",
       "      <td>46.77</td>\n",
       "    </tr>\n",
       "    <tr>\n",
       "      <th>kelly_half</th>\n",
       "      <td>263.16</td>\n",
       "      <td>37.63</td>\n",
       "    </tr>\n",
       "  </tbody>\n",
       "</table>\n",
       "</div>"
      ],
      "text/plain": [
       "              bets    eps\n",
       "ep_max      506.28  48.19\n",
       "kelly       526.32  48.12\n",
       "benter      416.00  46.77\n",
       "kelly_half  263.16  37.63"
      ]
     },
     "execution_count": 279,
     "metadata": {},
     "output_type": "execute_result"
    }
   ],
   "source": [
    "eps = pd.Series(\n",
    "    Bundle(\n",
    "        benter=expected_profit(benter_bet, c, div, pool, vig),\n",
    "        kelly=expected_profit(kelly_bet * wealth, c, div, pool, vig),\n",
    "        kelly_half=expected_profit(1 / 2 * kelly_bet * wealth, c, div, pool, vig),\n",
    "        ep_max=expected_profit(bet_opt, c, div, pool, vig),\n",
    "    )\n",
    ")\n",
    "bets = pd.Series(\n",
    "    Bundle(\n",
    "        benter=benter_bet,\n",
    "        kelly=kelly_bet * wealth,\n",
    "        kelly_half=kelly_bet / 2 * wealth,\n",
    "        ep_max=bet_opt,\n",
    "    )\n",
    ")\n",
    "pd.DataFrame({\"bets\": bets, \"eps\": eps}).round(2).sort_values(by=\"eps\", ascending=False)"
   ]
  },
  {
   "cell_type": "code",
   "execution_count": 281,
   "metadata": {},
   "outputs": [],
   "source": [
    "wiki_kelly = c - (1 - c) / (div -1)"
   ]
  },
  {
   "cell_type": "code",
   "execution_count": 282,
   "metadata": {},
   "outputs": [
    {
     "data": {
      "text/plain": [
       "(0.010526315789473682, 0.010526315789473682)"
      ]
     },
     "execution_count": 282,
     "metadata": {},
     "output_type": "execute_result"
    }
   ],
   "source": [
    "wiki_kelly, kelly_bet"
   ]
  },
  {
   "attachments": {},
   "cell_type": "markdown",
   "metadata": {},
   "source": [
    "### Per-game betting"
   ]
  },
  {
   "cell_type": "code",
   "execution_count": 309,
   "metadata": {},
   "outputs": [],
   "source": [
    "dividends = X_test[[c for c in X.columns if \"Odds\" in c]]"
   ]
  },
  {
   "cell_type": "code",
   "execution_count": 310,
   "metadata": {},
   "outputs": [
    {
     "data": {
      "text/html": [
       "<div>\n",
       "<style scoped>\n",
       "    .dataframe tbody tr th:only-of-type {\n",
       "        vertical-align: middle;\n",
       "    }\n",
       "\n",
       "    .dataframe tbody tr th {\n",
       "        vertical-align: top;\n",
       "    }\n",
       "\n",
       "    .dataframe thead th {\n",
       "        text-align: right;\n",
       "    }\n",
       "</style>\n",
       "<table border=\"1\" class=\"dataframe\">\n",
       "  <thead>\n",
       "    <tr style=\"text-align: right;\">\n",
       "      <th></th>\n",
       "      <th>home_OddsOpen</th>\n",
       "      <th>home_OddsClose</th>\n",
       "      <th>home_LineOddsOpen</th>\n",
       "      <th>home_LineOddsClose</th>\n",
       "      <th>away_OddsOpen</th>\n",
       "      <th>away_OddsClose</th>\n",
       "      <th>away_LineOddsOpen</th>\n",
       "      <th>away_LineOddsClose</th>\n",
       "    </tr>\n",
       "    <tr>\n",
       "      <th>game_id</th>\n",
       "      <th></th>\n",
       "      <th></th>\n",
       "      <th></th>\n",
       "      <th></th>\n",
       "      <th></th>\n",
       "      <th></th>\n",
       "      <th></th>\n",
       "      <th></th>\n",
       "    </tr>\n",
       "  </thead>\n",
       "  <tbody>\n",
       "    <tr>\n",
       "      <th>2973</th>\n",
       "      <td>1.404</td>\n",
       "      <td>1.432</td>\n",
       "      <td>1.952</td>\n",
       "      <td>1.934</td>\n",
       "      <td>3.200</td>\n",
       "      <td>3.06</td>\n",
       "      <td>1.952</td>\n",
       "      <td>1.970</td>\n",
       "    </tr>\n",
       "    <tr>\n",
       "      <th>2261</th>\n",
       "      <td>1.854</td>\n",
       "      <td>1.694</td>\n",
       "      <td>1.909</td>\n",
       "      <td>2.030</td>\n",
       "      <td>2.060</td>\n",
       "      <td>2.30</td>\n",
       "      <td>2.000</td>\n",
       "      <td>1.877</td>\n",
       "    </tr>\n",
       "    <tr>\n",
       "      <th>2498</th>\n",
       "      <td>2.310</td>\n",
       "      <td>1.869</td>\n",
       "      <td>1.909</td>\n",
       "      <td>1.925</td>\n",
       "      <td>1.689</td>\n",
       "      <td>2.04</td>\n",
       "      <td>2.000</td>\n",
       "      <td>1.980</td>\n",
       "    </tr>\n",
       "    <tr>\n",
       "      <th>2841</th>\n",
       "      <td>1.312</td>\n",
       "      <td>1.298</td>\n",
       "      <td>2.000</td>\n",
       "      <td>2.020</td>\n",
       "      <td>3.810</td>\n",
       "      <td>3.93</td>\n",
       "      <td>1.909</td>\n",
       "      <td>1.884</td>\n",
       "    </tr>\n",
       "    <tr>\n",
       "      <th>3518</th>\n",
       "      <td>2.100</td>\n",
       "      <td>2.800</td>\n",
       "      <td>1.860</td>\n",
       "      <td>1.900</td>\n",
       "      <td>1.760</td>\n",
       "      <td>1.45</td>\n",
       "      <td>1.950</td>\n",
       "      <td>1.900</td>\n",
       "    </tr>\n",
       "  </tbody>\n",
       "</table>\n",
       "</div>"
      ],
      "text/plain": [
       "         home_OddsOpen  home_OddsClose  home_LineOddsOpen  home_LineOddsClose  \\\n",
       "game_id                                                                         \n",
       "2973             1.404           1.432              1.952               1.934   \n",
       "2261             1.854           1.694              1.909               2.030   \n",
       "2498             2.310           1.869              1.909               1.925   \n",
       "2841             1.312           1.298              2.000               2.020   \n",
       "3518             2.100           2.800              1.860               1.900   \n",
       "\n",
       "         away_OddsOpen  away_OddsClose  away_LineOddsOpen  away_LineOddsClose  \n",
       "game_id                                                                        \n",
       "2973             3.200            3.06              1.952               1.970  \n",
       "2261             2.060            2.30              2.000               1.877  \n",
       "2498             1.689            2.04              2.000               1.980  \n",
       "2841             3.810            3.93              1.909               1.884  \n",
       "3518             1.760            1.45              1.950               1.900  "
      ]
     },
     "execution_count": 310,
     "metadata": {},
     "output_type": "execute_result"
    }
   ],
   "source": [
    "dividends.head()"
   ]
  },
  {
   "cell_type": "code",
   "execution_count": 311,
   "metadata": {},
   "outputs": [],
   "source": [
    "probs = pd.DataFrame().reindex_like(dividends)"
   ]
  },
  {
   "cell_type": "code",
   "execution_count": 312,
   "metadata": {},
   "outputs": [
    {
     "data": {
      "text/html": [
       "<div>\n",
       "<style scoped>\n",
       "    .dataframe tbody tr th:only-of-type {\n",
       "        vertical-align: middle;\n",
       "    }\n",
       "\n",
       "    .dataframe tbody tr th {\n",
       "        vertical-align: top;\n",
       "    }\n",
       "\n",
       "    .dataframe thead th {\n",
       "        text-align: right;\n",
       "    }\n",
       "</style>\n",
       "<table border=\"1\" class=\"dataframe\">\n",
       "  <thead>\n",
       "    <tr style=\"text-align: right;\">\n",
       "      <th>game_id</th>\n",
       "      <th>2973</th>\n",
       "      <th>2261</th>\n",
       "      <th>2498</th>\n",
       "      <th>2841</th>\n",
       "      <th>3518</th>\n",
       "    </tr>\n",
       "  </thead>\n",
       "  <tbody>\n",
       "    <tr>\n",
       "      <th>home_OddsOpen</th>\n",
       "      <td>0.370</td>\n",
       "      <td>0.424</td>\n",
       "      <td>0.522</td>\n",
       "      <td>0.370</td>\n",
       "      <td>0.522</td>\n",
       "    </tr>\n",
       "    <tr>\n",
       "      <th>home_OddsClose</th>\n",
       "      <td>0.370</td>\n",
       "      <td>0.424</td>\n",
       "      <td>0.522</td>\n",
       "      <td>0.370</td>\n",
       "      <td>0.522</td>\n",
       "    </tr>\n",
       "    <tr>\n",
       "      <th>home_LineOddsOpen</th>\n",
       "      <td>0.647</td>\n",
       "      <td>0.557</td>\n",
       "      <td>0.638</td>\n",
       "      <td>0.518</td>\n",
       "      <td>0.542</td>\n",
       "    </tr>\n",
       "    <tr>\n",
       "      <th>home_LineOddsClose</th>\n",
       "      <td>0.638</td>\n",
       "      <td>0.647</td>\n",
       "      <td>0.806</td>\n",
       "      <td>0.288</td>\n",
       "      <td>0.303</td>\n",
       "    </tr>\n",
       "    <tr>\n",
       "      <th>away_OddsOpen</th>\n",
       "      <td>0.624</td>\n",
       "      <td>0.571</td>\n",
       "      <td>0.473</td>\n",
       "      <td>0.624</td>\n",
       "      <td>0.473</td>\n",
       "    </tr>\n",
       "    <tr>\n",
       "      <th>away_OddsClose</th>\n",
       "      <td>0.624</td>\n",
       "      <td>0.571</td>\n",
       "      <td>0.473</td>\n",
       "      <td>0.624</td>\n",
       "      <td>0.473</td>\n",
       "    </tr>\n",
       "    <tr>\n",
       "      <th>away_LineOddsOpen</th>\n",
       "      <td>0.340</td>\n",
       "      <td>0.431</td>\n",
       "      <td>0.339</td>\n",
       "      <td>0.465</td>\n",
       "      <td>0.433</td>\n",
       "    </tr>\n",
       "    <tr>\n",
       "      <th>away_LineOddsClose</th>\n",
       "      <td>0.333</td>\n",
       "      <td>0.336</td>\n",
       "      <td>0.188</td>\n",
       "      <td>0.708</td>\n",
       "      <td>0.654</td>\n",
       "    </tr>\n",
       "  </tbody>\n",
       "</table>\n",
       "</div>"
      ],
      "text/plain": [
       "game_id              2973   2261   2498   2841   3518\n",
       "home_OddsOpen       0.370  0.424  0.522  0.370  0.522\n",
       "home_OddsClose      0.370  0.424  0.522  0.370  0.522\n",
       "home_LineOddsOpen   0.647  0.557  0.638  0.518  0.542\n",
       "home_LineOddsClose  0.638  0.647  0.806  0.288  0.303\n",
       "away_OddsOpen       0.624  0.571  0.473  0.624  0.473\n",
       "away_OddsClose      0.624  0.571  0.473  0.624  0.473\n",
       "away_LineOddsOpen   0.340  0.431  0.339  0.465  0.433\n",
       "away_LineOddsClose  0.333  0.336  0.188  0.708  0.654"
      ]
     },
     "execution_count": 312,
     "metadata": {},
     "output_type": "execute_result"
    }
   ],
   "source": [
    "probs.home_OddsOpen = probs.home_OddsClose = probas.win[:, 0]\n",
    "probs.away_OddsOpen = probs.away_OddsClose = probas.win[:, 2]  # col 1 is sign 0 or draw\n",
    "probs.home_LineOddsOpen = probas.open_spread[:, 0]\n",
    "probs.away_LineOddsOpen = probas.open_spread[:, 2]\n",
    "probs.home_LineOddsClose = probas.close_spread[:, 0]\n",
    "probs.away_LineOddsClose = probas.close_spread[:, 2]\n",
    "\n",
    "probs.head().T.round(3)\n",
    "\n"
   ]
  },
  {
   "cell_type": "code",
   "execution_count": 313,
   "metadata": {},
   "outputs": [
    {
     "data": {
      "text/html": [
       "<div>\n",
       "<style scoped>\n",
       "    .dataframe tbody tr th:only-of-type {\n",
       "        vertical-align: middle;\n",
       "    }\n",
       "\n",
       "    .dataframe tbody tr th {\n",
       "        vertical-align: top;\n",
       "    }\n",
       "\n",
       "    .dataframe thead th {\n",
       "        text-align: right;\n",
       "    }\n",
       "</style>\n",
       "<table border=\"1\" class=\"dataframe\">\n",
       "  <thead>\n",
       "    <tr style=\"text-align: right;\">\n",
       "      <th>game_id</th>\n",
       "      <th>2973</th>\n",
       "      <th>2261</th>\n",
       "      <th>2498</th>\n",
       "      <th>2841</th>\n",
       "      <th>3518</th>\n",
       "      <th>3146</th>\n",
       "      <th>3685</th>\n",
       "      <th>2865</th>\n",
       "      <th>2772</th>\n",
       "      <th>3790</th>\n",
       "    </tr>\n",
       "  </thead>\n",
       "  <tbody>\n",
       "    <tr>\n",
       "      <th>home_OddsOpen</th>\n",
       "      <td>-0.480</td>\n",
       "      <td>-0.214</td>\n",
       "      <td>0.205</td>\n",
       "      <td>-0.514</td>\n",
       "      <td>0.095</td>\n",
       "      <td>0.106</td>\n",
       "      <td>-0.347</td>\n",
       "      <td>-0.528</td>\n",
       "      <td>-0.537</td>\n",
       "      <td>2.521</td>\n",
       "    </tr>\n",
       "    <tr>\n",
       "      <th>home_OddsClose</th>\n",
       "      <td>-0.469</td>\n",
       "      <td>-0.282</td>\n",
       "      <td>-0.025</td>\n",
       "      <td>-0.519</td>\n",
       "      <td>0.461</td>\n",
       "      <td>0.226</td>\n",
       "      <td>-0.347</td>\n",
       "      <td>-0.516</td>\n",
       "      <td>-0.562</td>\n",
       "      <td>3.173</td>\n",
       "    </tr>\n",
       "    <tr>\n",
       "      <th>home_LineOddsOpen</th>\n",
       "      <td>0.263</td>\n",
       "      <td>0.064</td>\n",
       "      <td>0.218</td>\n",
       "      <td>0.036</td>\n",
       "      <td>0.009</td>\n",
       "      <td>-0.319</td>\n",
       "      <td>0.108</td>\n",
       "      <td>0.003</td>\n",
       "      <td>0.003</td>\n",
       "      <td>-0.057</td>\n",
       "    </tr>\n",
       "    <tr>\n",
       "      <th>home_LineOddsClose</th>\n",
       "      <td>0.235</td>\n",
       "      <td>0.314</td>\n",
       "      <td>0.551</td>\n",
       "      <td>-0.419</td>\n",
       "      <td>-0.424</td>\n",
       "      <td>-0.666</td>\n",
       "      <td>0.348</td>\n",
       "      <td>0.111</td>\n",
       "      <td>-0.236</td>\n",
       "      <td>0.378</td>\n",
       "    </tr>\n",
       "    <tr>\n",
       "      <th>away_OddsOpen</th>\n",
       "      <td>0.997</td>\n",
       "      <td>0.176</td>\n",
       "      <td>-0.202</td>\n",
       "      <td>1.378</td>\n",
       "      <td>-0.168</td>\n",
       "      <td>-0.146</td>\n",
       "      <td>0.513</td>\n",
       "      <td>1.609</td>\n",
       "      <td>1.783</td>\n",
       "      <td>-0.475</td>\n",
       "    </tr>\n",
       "    <tr>\n",
       "      <th>away_OddsClose</th>\n",
       "      <td>0.910</td>\n",
       "      <td>0.313</td>\n",
       "      <td>-0.036</td>\n",
       "      <td>1.453</td>\n",
       "      <td>-0.315</td>\n",
       "      <td>-0.210</td>\n",
       "      <td>0.513</td>\n",
       "      <td>1.403</td>\n",
       "      <td>2.501</td>\n",
       "      <td>-0.485</td>\n",
       "    </tr>\n",
       "    <tr>\n",
       "      <th>away_LineOddsOpen</th>\n",
       "      <td>-0.336</td>\n",
       "      <td>-0.138</td>\n",
       "      <td>-0.323</td>\n",
       "      <td>-0.112</td>\n",
       "      <td>-0.156</td>\n",
       "      <td>0.198</td>\n",
       "      <td>-0.235</td>\n",
       "      <td>-0.085</td>\n",
       "      <td>-0.072</td>\n",
       "      <td>-0.062</td>\n",
       "    </tr>\n",
       "    <tr>\n",
       "      <th>away_LineOddsClose</th>\n",
       "      <td>-0.344</td>\n",
       "      <td>-0.369</td>\n",
       "      <td>-0.627</td>\n",
       "      <td>0.334</td>\n",
       "      <td>0.242</td>\n",
       "      <td>0.638</td>\n",
       "      <td>-0.451</td>\n",
       "      <td>-0.170</td>\n",
       "      <td>0.155</td>\n",
       "      <td>-0.522</td>\n",
       "    </tr>\n",
       "  </tbody>\n",
       "</table>\n",
       "</div>"
      ],
      "text/plain": [
       "game_id              2973   2261   2498   2841   3518   3146   3685   2865  \\\n",
       "home_OddsOpen      -0.480 -0.214  0.205 -0.514  0.095  0.106 -0.347 -0.528   \n",
       "home_OddsClose     -0.469 -0.282 -0.025 -0.519  0.461  0.226 -0.347 -0.516   \n",
       "home_LineOddsOpen   0.263  0.064  0.218  0.036  0.009 -0.319  0.108  0.003   \n",
       "home_LineOddsClose  0.235  0.314  0.551 -0.419 -0.424 -0.666  0.348  0.111   \n",
       "away_OddsOpen       0.997  0.176 -0.202  1.378 -0.168 -0.146  0.513  1.609   \n",
       "away_OddsClose      0.910  0.313 -0.036  1.453 -0.315 -0.210  0.513  1.403   \n",
       "away_LineOddsOpen  -0.336 -0.138 -0.323 -0.112 -0.156  0.198 -0.235 -0.085   \n",
       "away_LineOddsClose -0.344 -0.369 -0.627  0.334  0.242  0.638 -0.451 -0.170   \n",
       "\n",
       "game_id              2772   3790  \n",
       "home_OddsOpen      -0.537  2.521  \n",
       "home_OddsClose     -0.562  3.173  \n",
       "home_LineOddsOpen   0.003 -0.057  \n",
       "home_LineOddsClose -0.236  0.378  \n",
       "away_OddsOpen       1.783 -0.475  \n",
       "away_OddsClose      2.501 -0.485  \n",
       "away_LineOddsOpen  -0.072 -0.062  \n",
       "away_LineOddsClose  0.155 -0.522  "
      ]
     },
     "execution_count": 313,
     "metadata": {},
     "output_type": "execute_result"
    }
   ],
   "source": [
    "((probs * dividends) - 1).round(3).head(10).T"
   ]
  },
  {
   "cell_type": "code",
   "execution_count": 314,
   "metadata": {},
   "outputs": [],
   "source": [
    "scorecard = pd.DataFrame().reindex_like(dividends)\n"
   ]
  },
  {
   "cell_type": "code",
   "execution_count": 315,
   "metadata": {},
   "outputs": [
    {
     "data": {
      "text/html": [
       "<div>\n",
       "<style scoped>\n",
       "    .dataframe tbody tr th:only-of-type {\n",
       "        vertical-align: middle;\n",
       "    }\n",
       "\n",
       "    .dataframe tbody tr th {\n",
       "        vertical-align: top;\n",
       "    }\n",
       "\n",
       "    .dataframe thead th {\n",
       "        text-align: right;\n",
       "    }\n",
       "</style>\n",
       "<table border=\"1\" class=\"dataframe\">\n",
       "  <thead>\n",
       "    <tr style=\"text-align: right;\">\n",
       "      <th>game_id</th>\n",
       "      <th>2973</th>\n",
       "      <th>2261</th>\n",
       "      <th>2498</th>\n",
       "      <th>2841</th>\n",
       "      <th>3518</th>\n",
       "      <th>3146</th>\n",
       "      <th>3685</th>\n",
       "      <th>2865</th>\n",
       "      <th>2772</th>\n",
       "      <th>3790</th>\n",
       "    </tr>\n",
       "  </thead>\n",
       "  <tbody>\n",
       "    <tr>\n",
       "      <th>home_OddsOpen</th>\n",
       "      <td>False</td>\n",
       "      <td>True</td>\n",
       "      <td>False</td>\n",
       "      <td>True</td>\n",
       "      <td>False</td>\n",
       "      <td>False</td>\n",
       "      <td>True</td>\n",
       "      <td>True</td>\n",
       "      <td>True</td>\n",
       "      <td>False</td>\n",
       "    </tr>\n",
       "    <tr>\n",
       "      <th>home_OddsClose</th>\n",
       "      <td>False</td>\n",
       "      <td>True</td>\n",
       "      <td>False</td>\n",
       "      <td>True</td>\n",
       "      <td>False</td>\n",
       "      <td>False</td>\n",
       "      <td>True</td>\n",
       "      <td>True</td>\n",
       "      <td>True</td>\n",
       "      <td>False</td>\n",
       "    </tr>\n",
       "    <tr>\n",
       "      <th>home_LineOddsOpen</th>\n",
       "      <td>False</td>\n",
       "      <td>True</td>\n",
       "      <td>False</td>\n",
       "      <td>True</td>\n",
       "      <td>False</td>\n",
       "      <td>False</td>\n",
       "      <td>True</td>\n",
       "      <td>False</td>\n",
       "      <td>True</td>\n",
       "      <td>False</td>\n",
       "    </tr>\n",
       "    <tr>\n",
       "      <th>home_LineOddsClose</th>\n",
       "      <td>False</td>\n",
       "      <td>True</td>\n",
       "      <td>False</td>\n",
       "      <td>True</td>\n",
       "      <td>False</td>\n",
       "      <td>False</td>\n",
       "      <td>True</td>\n",
       "      <td>False</td>\n",
       "      <td>True</td>\n",
       "      <td>False</td>\n",
       "    </tr>\n",
       "    <tr>\n",
       "      <th>away_OddsOpen</th>\n",
       "      <td>True</td>\n",
       "      <td>False</td>\n",
       "      <td>True</td>\n",
       "      <td>False</td>\n",
       "      <td>True</td>\n",
       "      <td>True</td>\n",
       "      <td>False</td>\n",
       "      <td>False</td>\n",
       "      <td>False</td>\n",
       "      <td>True</td>\n",
       "    </tr>\n",
       "    <tr>\n",
       "      <th>away_OddsClose</th>\n",
       "      <td>True</td>\n",
       "      <td>False</td>\n",
       "      <td>True</td>\n",
       "      <td>False</td>\n",
       "      <td>True</td>\n",
       "      <td>True</td>\n",
       "      <td>False</td>\n",
       "      <td>False</td>\n",
       "      <td>False</td>\n",
       "      <td>True</td>\n",
       "    </tr>\n",
       "    <tr>\n",
       "      <th>away_LineOddsOpen</th>\n",
       "      <td>True</td>\n",
       "      <td>False</td>\n",
       "      <td>True</td>\n",
       "      <td>False</td>\n",
       "      <td>True</td>\n",
       "      <td>True</td>\n",
       "      <td>False</td>\n",
       "      <td>True</td>\n",
       "      <td>False</td>\n",
       "      <td>True</td>\n",
       "    </tr>\n",
       "    <tr>\n",
       "      <th>away_LineOddsClose</th>\n",
       "      <td>True</td>\n",
       "      <td>False</td>\n",
       "      <td>True</td>\n",
       "      <td>False</td>\n",
       "      <td>True</td>\n",
       "      <td>True</td>\n",
       "      <td>False</td>\n",
       "      <td>True</td>\n",
       "      <td>False</td>\n",
       "      <td>False</td>\n",
       "    </tr>\n",
       "  </tbody>\n",
       "</table>\n",
       "</div>"
      ],
      "text/plain": [
       "game_id              2973   2261   2498   2841   3518   3146   3685   2865  \\\n",
       "home_OddsOpen       False   True  False   True  False  False   True   True   \n",
       "home_OddsClose      False   True  False   True  False  False   True   True   \n",
       "home_LineOddsOpen   False   True  False   True  False  False   True  False   \n",
       "home_LineOddsClose  False   True  False   True  False  False   True  False   \n",
       "away_OddsOpen        True  False   True  False   True   True  False  False   \n",
       "away_OddsClose       True  False   True  False   True   True  False  False   \n",
       "away_LineOddsOpen    True  False   True  False   True   True  False   True   \n",
       "away_LineOddsClose   True  False   True  False   True   True  False   True   \n",
       "\n",
       "game_id              2772   3790  \n",
       "home_OddsOpen        True  False  \n",
       "home_OddsClose       True  False  \n",
       "home_LineOddsOpen    True  False  \n",
       "home_LineOddsClose   True  False  \n",
       "away_OddsOpen       False   True  \n",
       "away_OddsClose      False   True  \n",
       "away_LineOddsOpen   False   True  \n",
       "away_LineOddsClose  False  False  "
      ]
     },
     "execution_count": 315,
     "metadata": {},
     "output_type": "execute_result"
    }
   ],
   "source": [
    "scorecard.home_OddsOpen = scorecard.home_OddsClose = Y.win[X_test.index] == 1\n",
    "scorecard.away_OddsOpen = scorecard.away_OddsClose = Y.win[X_test.index] == -1\n",
    "scorecard.home_LineOddsOpen = Y.open_spread[X_test.index] == 1\n",
    "scorecard.away_LineOddsOpen = Y.open_spread[X_test.index] == -1\n",
    "scorecard.home_LineOddsClose = Y.close_spread[X_test.index] == 1\n",
    "scorecard.away_LineOddsClose = Y.close_spread[X_test.index] == -1\n",
    "\n",
    "scorecard.head(10).T"
   ]
  },
  {
   "cell_type": "code",
   "execution_count": 316,
   "metadata": {},
   "outputs": [
    {
     "data": {
      "text/html": [
       "<div>\n",
       "<style scoped>\n",
       "    .dataframe tbody tr th:only-of-type {\n",
       "        vertical-align: middle;\n",
       "    }\n",
       "\n",
       "    .dataframe tbody tr th {\n",
       "        vertical-align: top;\n",
       "    }\n",
       "\n",
       "    .dataframe thead th {\n",
       "        text-align: right;\n",
       "    }\n",
       "</style>\n",
       "<table border=\"1\" class=\"dataframe\">\n",
       "  <thead>\n",
       "    <tr style=\"text-align: right;\">\n",
       "      <th>game_id</th>\n",
       "      <th>2973</th>\n",
       "      <th>2261</th>\n",
       "      <th>2498</th>\n",
       "      <th>2841</th>\n",
       "      <th>3518</th>\n",
       "      <th>3146</th>\n",
       "      <th>3685</th>\n",
       "      <th>2865</th>\n",
       "      <th>2772</th>\n",
       "      <th>3790</th>\n",
       "    </tr>\n",
       "  </thead>\n",
       "  <tbody>\n",
       "    <tr>\n",
       "      <th>home_OddsOpen</th>\n",
       "      <td>0</td>\n",
       "      <td>0</td>\n",
       "      <td>1</td>\n",
       "      <td>0</td>\n",
       "      <td>1</td>\n",
       "      <td>1</td>\n",
       "      <td>0</td>\n",
       "      <td>0</td>\n",
       "      <td>0</td>\n",
       "      <td>1</td>\n",
       "    </tr>\n",
       "    <tr>\n",
       "      <th>home_OddsClose</th>\n",
       "      <td>0</td>\n",
       "      <td>0</td>\n",
       "      <td>0</td>\n",
       "      <td>0</td>\n",
       "      <td>1</td>\n",
       "      <td>1</td>\n",
       "      <td>0</td>\n",
       "      <td>0</td>\n",
       "      <td>0</td>\n",
       "      <td>1</td>\n",
       "    </tr>\n",
       "    <tr>\n",
       "      <th>home_LineOddsOpen</th>\n",
       "      <td>1</td>\n",
       "      <td>1</td>\n",
       "      <td>1</td>\n",
       "      <td>1</td>\n",
       "      <td>0</td>\n",
       "      <td>0</td>\n",
       "      <td>1</td>\n",
       "      <td>0</td>\n",
       "      <td>0</td>\n",
       "      <td>0</td>\n",
       "    </tr>\n",
       "    <tr>\n",
       "      <th>home_LineOddsClose</th>\n",
       "      <td>1</td>\n",
       "      <td>1</td>\n",
       "      <td>1</td>\n",
       "      <td>0</td>\n",
       "      <td>0</td>\n",
       "      <td>0</td>\n",
       "      <td>1</td>\n",
       "      <td>1</td>\n",
       "      <td>0</td>\n",
       "      <td>1</td>\n",
       "    </tr>\n",
       "    <tr>\n",
       "      <th>away_OddsOpen</th>\n",
       "      <td>1</td>\n",
       "      <td>1</td>\n",
       "      <td>0</td>\n",
       "      <td>1</td>\n",
       "      <td>0</td>\n",
       "      <td>0</td>\n",
       "      <td>1</td>\n",
       "      <td>1</td>\n",
       "      <td>1</td>\n",
       "      <td>0</td>\n",
       "    </tr>\n",
       "    <tr>\n",
       "      <th>away_OddsClose</th>\n",
       "      <td>1</td>\n",
       "      <td>1</td>\n",
       "      <td>0</td>\n",
       "      <td>1</td>\n",
       "      <td>0</td>\n",
       "      <td>0</td>\n",
       "      <td>1</td>\n",
       "      <td>1</td>\n",
       "      <td>1</td>\n",
       "      <td>0</td>\n",
       "    </tr>\n",
       "    <tr>\n",
       "      <th>away_LineOddsOpen</th>\n",
       "      <td>0</td>\n",
       "      <td>0</td>\n",
       "      <td>0</td>\n",
       "      <td>0</td>\n",
       "      <td>0</td>\n",
       "      <td>1</td>\n",
       "      <td>0</td>\n",
       "      <td>0</td>\n",
       "      <td>0</td>\n",
       "      <td>0</td>\n",
       "    </tr>\n",
       "    <tr>\n",
       "      <th>away_LineOddsClose</th>\n",
       "      <td>0</td>\n",
       "      <td>0</td>\n",
       "      <td>0</td>\n",
       "      <td>1</td>\n",
       "      <td>1</td>\n",
       "      <td>1</td>\n",
       "      <td>0</td>\n",
       "      <td>0</td>\n",
       "      <td>1</td>\n",
       "      <td>0</td>\n",
       "    </tr>\n",
       "  </tbody>\n",
       "</table>\n",
       "</div>"
      ],
      "text/plain": [
       "game_id             2973  2261  2498  2841  3518  3146  3685  2865  2772  3790\n",
       "home_OddsOpen          0     0     1     0     1     1     0     0     0     1\n",
       "home_OddsClose         0     0     0     0     1     1     0     0     0     1\n",
       "home_LineOddsOpen      1     1     1     1     0     0     1     0     0     0\n",
       "home_LineOddsClose     1     1     1     0     0     0     1     1     0     1\n",
       "away_OddsOpen          1     1     0     1     0     0     1     1     1     0\n",
       "away_OddsClose         1     1     0     1     0     0     1     1     1     0\n",
       "away_LineOddsOpen      0     0     0     0     0     1     0     0     0     0\n",
       "away_LineOddsClose     0     0     0     1     1     1     0     0     1     0"
      ]
     },
     "execution_count": 316,
     "metadata": {},
     "output_type": "execute_result"
    }
   ],
   "source": [
    "eps = 0.01\n",
    "bets = ((probs * dividends - 1) > eps).astype(int)\n",
    "bets.head(10).T"
   ]
  },
  {
   "cell_type": "code",
   "execution_count": 317,
   "metadata": {},
   "outputs": [
    {
     "data": {
      "text/plain": [
       "1119"
      ]
     },
     "execution_count": 317,
     "metadata": {},
     "output_type": "execute_result"
    }
   ],
   "source": [
    "bets.values.sum()"
   ]
  },
  {
   "cell_type": "code",
   "execution_count": 318,
   "metadata": {},
   "outputs": [
    {
     "data": {
      "text/plain": [
       "1078.661"
      ]
     },
     "execution_count": 318,
     "metadata": {},
     "output_type": "execute_result"
    }
   ],
   "source": [
    "returns = (bets * dividends)[scorecard].fillna(0)\n",
    "returns.sum().sum()"
   ]
  },
  {
   "cell_type": "code",
   "execution_count": 319,
   "metadata": {},
   "outputs": [
    {
     "name": "stderr",
     "output_type": "stream",
     "text": [
      "/var/folders/h3/d7vpv1m17lv29p7dw5y0yy1c0000gn/T/ipykernel_56426/2956346380.py:2: FutureWarning: The default value of numeric_only in DataFrameGroupBy.sum is deprecated. In a future version, numeric_only will default to False. Either specify numeric_only or select only columns which should be valid for the function.\n",
      "  rr.groupby(rr.wager.str.contains(\"Open\")).sum().sum(axis=1)\n"
     ]
    },
    {
     "data": {
      "text/plain": [
       "wager\n",
       "False    578.356\n",
       "True     500.305\n",
       "dtype: float64"
      ]
     },
     "execution_count": 319,
     "metadata": {},
     "output_type": "execute_result"
    }
   ],
   "source": [
    "rr = returns.T.reset_index(names=\"wager\")\n",
    "rr.groupby(rr.wager.str.contains(\"Open\")).sum().sum(axis=1)"
   ]
  },
  {
   "attachments": {},
   "cell_type": "markdown",
   "metadata": {},
   "source": [
    "#### Calibration\n",
    "Very common problem, should be alleviated with combined model, but still thorny.\n",
    "\n",
    "NOTE: Talk about similar problem with impressions' buying, \"winner's curse\".\n",
    "\n",
    "The following tables are similar in spirit to Tables 3 and 4 of Benter:"
   ]
  },
  {
   "cell_type": "code",
   "execution_count": 320,
   "metadata": {},
   "outputs": [
    {
     "data": {
      "text/html": [
       "<div>\n",
       "<style scoped>\n",
       "    .dataframe tbody tr th:only-of-type {\n",
       "        vertical-align: middle;\n",
       "    }\n",
       "\n",
       "    .dataframe tbody tr th {\n",
       "        vertical-align: top;\n",
       "    }\n",
       "\n",
       "    .dataframe thead th {\n",
       "        text-align: right;\n",
       "    }\n",
       "</style>\n",
       "<table border=\"1\" class=\"dataframe\">\n",
       "  <thead>\n",
       "    <tr style=\"text-align: right;\">\n",
       "      <th></th>\n",
       "      <th>bet_won</th>\n",
       "      <th>pred_prob</th>\n",
       "    </tr>\n",
       "  </thead>\n",
       "  <tbody>\n",
       "    <tr>\n",
       "      <th>home_OddsOpen</th>\n",
       "      <td>0.374</td>\n",
       "      <td>0.522</td>\n",
       "    </tr>\n",
       "    <tr>\n",
       "      <th>home_OddsClose</th>\n",
       "      <td>0.408</td>\n",
       "      <td>0.522</td>\n",
       "    </tr>\n",
       "    <tr>\n",
       "      <th>home_LineOddsOpen</th>\n",
       "      <td>0.477</td>\n",
       "      <td>0.579</td>\n",
       "    </tr>\n",
       "    <tr>\n",
       "      <th>home_LineOddsClose</th>\n",
       "      <td>0.469</td>\n",
       "      <td>0.684</td>\n",
       "    </tr>\n",
       "    <tr>\n",
       "      <th>away_OddsOpen</th>\n",
       "      <td>0.317</td>\n",
       "      <td>0.601</td>\n",
       "    </tr>\n",
       "    <tr>\n",
       "      <th>away_OddsClose</th>\n",
       "      <td>0.317</td>\n",
       "      <td>0.599</td>\n",
       "    </tr>\n",
       "    <tr>\n",
       "      <th>away_LineOddsOpen</th>\n",
       "      <td>0.493</td>\n",
       "      <td>0.566</td>\n",
       "    </tr>\n",
       "    <tr>\n",
       "      <th>away_LineOddsClose</th>\n",
       "      <td>0.532</td>\n",
       "      <td>0.666</td>\n",
       "    </tr>\n",
       "  </tbody>\n",
       "</table>\n",
       "</div>"
      ],
      "text/plain": [
       "                    bet_won  pred_prob\n",
       "home_OddsOpen         0.374      0.522\n",
       "home_OddsClose        0.408      0.522\n",
       "home_LineOddsOpen     0.477      0.579\n",
       "home_LineOddsClose    0.469      0.684\n",
       "away_OddsOpen         0.317      0.601\n",
       "away_OddsClose        0.317      0.599\n",
       "away_LineOddsOpen     0.493      0.566\n",
       "away_LineOddsClose    0.532      0.666"
      ]
     },
     "execution_count": 320,
     "metadata": {},
     "output_type": "execute_result"
    }
   ],
   "source": [
    "pd.DataFrame(Bundle(bet_won=scorecard[bets == 1].mean(), pred_prob=probs[bets == 1].mean())).round(3)"
   ]
  },
  {
   "cell_type": "code",
   "execution_count": 321,
   "metadata": {},
   "outputs": [
    {
     "data": {
      "text/html": [
       "<div>\n",
       "<style scoped>\n",
       "    .dataframe tbody tr th:only-of-type {\n",
       "        vertical-align: middle;\n",
       "    }\n",
       "\n",
       "    .dataframe tbody tr th {\n",
       "        vertical-align: top;\n",
       "    }\n",
       "\n",
       "    .dataframe thead th {\n",
       "        text-align: right;\n",
       "    }\n",
       "</style>\n",
       "<table border=\"1\" class=\"dataframe\">\n",
       "  <thead>\n",
       "    <tr style=\"text-align: right;\">\n",
       "      <th></th>\n",
       "      <th>bet_won</th>\n",
       "      <th>pred_prob</th>\n",
       "    </tr>\n",
       "  </thead>\n",
       "  <tbody>\n",
       "    <tr>\n",
       "      <th>home_OddsOpen</th>\n",
       "      <td>0.674</td>\n",
       "      <td>0.404</td>\n",
       "    </tr>\n",
       "    <tr>\n",
       "      <th>home_OddsClose</th>\n",
       "      <td>0.664</td>\n",
       "      <td>0.402</td>\n",
       "    </tr>\n",
       "    <tr>\n",
       "      <th>home_LineOddsOpen</th>\n",
       "      <td>0.436</td>\n",
       "      <td>0.457</td>\n",
       "    </tr>\n",
       "    <tr>\n",
       "      <th>home_LineOddsClose</th>\n",
       "      <td>0.457</td>\n",
       "      <td>0.341</td>\n",
       "    </tr>\n",
       "    <tr>\n",
       "      <th>away_OddsOpen</th>\n",
       "      <td>0.593</td>\n",
       "      <td>0.473</td>\n",
       "    </tr>\n",
       "    <tr>\n",
       "      <th>away_OddsClose</th>\n",
       "      <td>0.600</td>\n",
       "      <td>0.474</td>\n",
       "    </tr>\n",
       "    <tr>\n",
       "      <th>away_LineOddsOpen</th>\n",
       "      <td>0.534</td>\n",
       "      <td>0.433</td>\n",
       "    </tr>\n",
       "    <tr>\n",
       "      <th>away_LineOddsClose</th>\n",
       "      <td>0.497</td>\n",
       "      <td>0.328</td>\n",
       "    </tr>\n",
       "  </tbody>\n",
       "</table>\n",
       "</div>"
      ],
      "text/plain": [
       "                    bet_won  pred_prob\n",
       "home_OddsOpen         0.674      0.404\n",
       "home_OddsClose        0.664      0.402\n",
       "home_LineOddsOpen     0.436      0.457\n",
       "home_LineOddsClose    0.457      0.341\n",
       "away_OddsOpen         0.593      0.473\n",
       "away_OddsClose        0.600      0.474\n",
       "away_LineOddsOpen     0.534      0.433\n",
       "away_LineOddsClose    0.497      0.328"
      ]
     },
     "execution_count": 321,
     "metadata": {},
     "output_type": "execute_result"
    }
   ],
   "source": [
    "pd.DataFrame(Bundle(bet_won=scorecard[bets == 0].mean(), pred_prob=probs[bets == 0].mean())).round(3)"
   ]
  },
  {
   "attachments": {},
   "cell_type": "markdown",
   "metadata": {},
   "source": [
    "### Wagering Strategy\n",
    "First, let's see if we can assume the wagering problem to be \"sequential on the game IDs\":"
   ]
  },
  {
   "cell_type": "code",
   "execution_count": 327,
   "metadata": {},
   "outputs": [
    {
     "data": {
      "text/plain": [
       "<Axes: xlabel='game_id', ylabel='date'>"
      ]
     },
     "execution_count": 327,
     "metadata": {},
     "output_type": "execute_result"
    },
    {
     "data": {
      "image/png": "[encoded data removed]",
      "text/plain": [
       "<Figure size 640x480 with 1 Axes>"
      ]
     },
     "metadata": {},
     "output_type": "display_data"
    }
   ],
   "source": [
    "home[[\"Team\", \"Opponent\", \"date\", \"ts\"]].reset_index().plot(\"game_id\", \"date\", kind=\"scatter\")"
   ]
  },
  {
   "cell_type": "code",
   "execution_count": 328,
   "metadata": {},
   "outputs": [
    {
     "data": {
      "text/plain": [
       "(array([2137, 2138, 2139, ..., 3799, 3800, 3801]),\n",
       " array([2137, 2150, 2149, ..., 3793, 3800, 3801]))"
      ]
     },
     "execution_count": 328,
     "metadata": {},
     "output_type": "execute_result"
    }
   ],
   "source": [
    "(home.date.sort_index().index.values, home.date.sort_values().index.values)"
   ]
  },
  {
   "cell_type": "code",
   "execution_count": 329,
   "metadata": {},
   "outputs": [],
   "source": [
    "# Add <1s to date timestamp in order to break ties\n",
    "ts_ = home.ts + home.index.values / 1e6\n",
    "# Make sure now the games sorted by ID match the games sorted by tie-broken timestamps\n",
    "assert np.all(home.sort_index().index.values == ts_.sort_values().index.values)\n"
   ]
  },
  {
   "cell_type": "code",
   "execution_count": 330,
   "metadata": {},
   "outputs": [
    {
     "data": {
      "text/html": [
       "<div>\n",
       "<style scoped>\n",
       "    .dataframe tbody tr th:only-of-type {\n",
       "        vertical-align: middle;\n",
       "    }\n",
       "\n",
       "    .dataframe tbody tr th {\n",
       "        vertical-align: top;\n",
       "    }\n",
       "\n",
       "    .dataframe thead tr th {\n",
       "        text-align: left;\n",
       "    }\n",
       "\n",
       "    .dataframe thead tr:last-of-type th {\n",
       "        text-align: right;\n",
       "    }\n",
       "</style>\n",
       "<table border=\"1\" class=\"dataframe\">\n",
       "  <thead>\n",
       "    <tr>\n",
       "      <th></th>\n",
       "      <th colspan=\"2\" halign=\"left\">date</th>\n",
       "      <th colspan=\"2\" halign=\"left\">game_id</th>\n",
       "    </tr>\n",
       "    <tr>\n",
       "      <th></th>\n",
       "      <th>min</th>\n",
       "      <th>max</th>\n",
       "      <th>min</th>\n",
       "      <th>max</th>\n",
       "    </tr>\n",
       "    <tr>\n",
       "      <th>season</th>\n",
       "      <th></th>\n",
       "      <th></th>\n",
       "      <th></th>\n",
       "      <th></th>\n",
       "    </tr>\n",
       "  </thead>\n",
       "  <tbody>\n",
       "    <tr>\n",
       "      <th>2014</th>\n",
       "      <td>2014-09-04</td>\n",
       "      <td>2014-12-28</td>\n",
       "      <td>2137</td>\n",
       "      <td>2392</td>\n",
       "    </tr>\n",
       "    <tr>\n",
       "      <th>2015</th>\n",
       "      <td>2015-09-10</td>\n",
       "      <td>2016-01-03</td>\n",
       "      <td>2404</td>\n",
       "      <td>2659</td>\n",
       "    </tr>\n",
       "    <tr>\n",
       "      <th>2016</th>\n",
       "      <td>2016-09-08</td>\n",
       "      <td>2017-01-01</td>\n",
       "      <td>2671</td>\n",
       "      <td>2926</td>\n",
       "    </tr>\n",
       "    <tr>\n",
       "      <th>2017</th>\n",
       "      <td>2017-09-07</td>\n",
       "      <td>2017-12-31</td>\n",
       "      <td>2938</td>\n",
       "      <td>3193</td>\n",
       "    </tr>\n",
       "    <tr>\n",
       "      <th>2018</th>\n",
       "      <td>2018-09-06</td>\n",
       "      <td>2018-12-30</td>\n",
       "      <td>3205</td>\n",
       "      <td>3460</td>\n",
       "    </tr>\n",
       "    <tr>\n",
       "      <th>2019</th>\n",
       "      <td>2019-09-05</td>\n",
       "      <td>2019-12-29</td>\n",
       "      <td>3472</td>\n",
       "      <td>3727</td>\n",
       "    </tr>\n",
       "    <tr>\n",
       "      <th>2020</th>\n",
       "      <td>2020-09-10</td>\n",
       "      <td>2020-10-05</td>\n",
       "      <td>3739</td>\n",
       "      <td>3801</td>\n",
       "    </tr>\n",
       "  </tbody>\n",
       "</table>\n",
       "</div>"
      ],
      "text/plain": [
       "             date            game_id      \n",
       "              min        max     min   max\n",
       "season                                    \n",
       "2014   2014-09-04 2014-12-28    2137  2392\n",
       "2015   2015-09-10 2016-01-03    2404  2659\n",
       "2016   2016-09-08 2017-01-01    2671  2926\n",
       "2017   2017-09-07 2017-12-31    2938  3193\n",
       "2018   2018-09-06 2018-12-30    3205  3460\n",
       "2019   2019-09-05 2019-12-29    3472  3727\n",
       "2020   2020-09-10 2020-10-05    3739  3801"
      ]
     },
     "execution_count": 330,
     "metadata": {},
     "output_type": "execute_result"
    }
   ],
   "source": [
    "home.reset_index().groupby([\"season\"])[[\"date\", \"game_id\"]].agg([\"min\", \"max\"])"
   ]
  },
  {
   "attachments": {},
   "cell_type": "markdown",
   "metadata": {},
   "source": [
    "#### Betting Options\n",
    "\n",
    "> You can bet on NFL games through three main bet types: the moneyline, total points, and handicap (spread) markets.\n",
    "> The moneyline market is a straightforward bet on the winner of the game.\n",
    "> The points total market is betting whether the game will go over or under a certain amount of points.\n",
    "> The handicap market is where one side is given a point advantage so that both teams are close to even money, and this is where the big action on NFL betting is.\n",
    "Source: https://insights.matchbook.com/betting-strategy/how-to-bet-on-the-nfl/\n",
    "\n",
    "- `OddsOpen, OddsClose` have no other qualifier, so I'm guessing these are the \"moneyline odds\".\n",
    "- `LineOpen, LineClose` have both positive and negative values, and the away's LineX is always exactly negative the home's LineX, so we'll assume this is the spread line and beta ccordingly. A Line bet, then, is won when `team_score + line >= opp_score`.\n",
    "\n",
    "\n",
    "#### Betting sequence\n",
    "- `game_ids` are monotonically increasing with the game date, so we'll assume we can bet sequentially on every game of the test set, ordered by game_id.\n",
    "\n",
    "\n",
    "#### Bet sizing\n",
    "- This is a terminating (finite amount of bets) game, so Kelly doesn't apply directly. To maximise EV(log(wealth)), in each bet we should bet our entire fortune on the highest +EV bet, if there's any. This is very silly, so we'll treat it as a nonterminating game and bet using Kelly.\n",
    "\n",
    "- For every game, there are eight possible bets: [home, away] * [money, spread] * [open, close]. Since they need to be made simultaneously _and are correlated_, the \"(fractional) Kelly\" criterion is not immediately suitable. Given that Benter goes for \"1/2 - 1/3\" fractional Kelly, we'll go for an \"sum-fractional Kelly\", in which if there are `K` bets on a given game with +EV, we bet $1/(2K)\\ to\\ 1/(3K)$ on each one. Heuristic AF, but reasonable.\n",
    "\n",
    "- To avoid (heuristically) 0-EV bets, we'll actually bet only on bets with $EV>\\epsilon$, and set `eps=0.01`.\n",
    "\n",
    "- Also, the form of Kelly betting which is usually known (eq. 5 in Benter) ignores any effect of bet on payoff odds. This might be true for NFL games with huge pots and individual bettors, but not for an organization in parimutuel betting markets, so we'll assume a pot size of `pool` dollars and calculate a profit-maximizing bet accordingly, as Benter. (NOTE: Why the diff wth benter's???)\n",
    "\n",
    "So, given parameters:\n",
    "- `wealth`\n",
    "- `pool`\n",
    "- `c`\n",
    "- `div0`: the dividend (or `Odds`) _right before betting_\n",
    "- `take`\n",
    "- `kelly_frac`\n",
    "\n",
    "Our bet will be\n",
    "\n",
    "`min(ep_max_bet, kelly_bet)`\n",
    "\n",
    "where\n",
    "\n",
    "`kelly_bet := kelly_frac * adv / (div - 1) * wealth`\n",
    "\n",
    "and \n",
    "\n",
    "`ep_max_bet := argmax{bet} expected_profit(bet, pool, c, div0, take)`\n",
    "\n",
    "and the expected profit is `bet * (c * div1 - 1)`, where `div1` are the new odds, after accounting for the bet made."
   ]
  },
  {
   "cell_type": "code",
   "execution_count": 345,
   "metadata": {},
   "outputs": [],
   "source": [
    "def breakeven_bet(pool, c, div, vig=0.0):\n",
    "    return pool * (1 / (c * div) + vig - 1) / (1 - vig - 1/c)\n",
    "\n",
    "\n",
    "def expected_profit(bet, c, div, pool, vig):\n",
    "    div_pre = div\n",
    "    div_post = (pool + bet) * (1 - vig) / (pool / div_pre + bet)\n",
    "    return (c * div_post - 1) * bet\n",
    "\n",
    "def kelly_wealth_frac(c, div):\n",
    "    # https://en.wikipedia.org/wiki/Kelly_criterion\n",
    "    return (c * div - 1) / (div - 1)\n",
    "\n",
    "\n",
    "def epmax_bet(c, div, pool, vig, return_res=False):\n",
    "    max_bet = breakeven_bet(pool, c, div, vig)\n",
    "    if max_bet < 0:\n",
    "        return None if return_res else np.nan, np.nan\n",
    "    bounds = (0, max_bet)\n",
    "    res = minimize_scalar(lambda bet: -expected_profit(bet, c, div, pool, vig), bounds=bounds)\n",
    "    bet_opt, exp_profit = res.x, -res.fun\n",
    "    return res if return_res else bet_opt, exp_profit"
   ]
  },
  {
   "cell_type": "code",
   "execution_count": 346,
   "metadata": {},
   "outputs": [],
   "source": [
    "INITIAL_WEALTH = 1e6\n",
    "EPS = 0.01  # epsilon\n",
    "KELLY_RATIO = 1/2\n",
    "POOL = 1e6\n",
    "DEFAULT_TAKE = 0.05  # TODO: implement each game's take"
   ]
  },
  {
   "cell_type": "code",
   "execution_count": 347,
   "metadata": {},
   "outputs": [],
   "source": [
    "INITIAL_WEALTH = 1e5\n",
    "EPS = 0.01  # epsilon\n",
    "KELLY_RATIO = 1/20\n",
    "POOL = 1e6\n",
    "DEFAULT_TAKE = 0.05\n",
    "wealth = INITIAL_WEALTH\n",
    "wealth_log = [wealth]\n",
    "for game_id, divs in dividends.sort_index().head(200).iterrows():\n",
    "    summary = pd.DataFrame(Bundle(\n",
    "        divs=divs,\n",
    "        probs=probs.loc[game_id],\n",
    "        score=scorecard.loc[game_id],\n",
    "    ))\n",
    "    summary[\"exp_ret\"] = summary.divs * summary.probs\n",
    "    summary[\"place_bet\"] = summary.exp_ret > (1 + eps)\n",
    "    placed_bets = summary.place_bet.sum()\n",
    "    summary[\"kwf\"] = np.vectorize(kelly_wealth_frac)(summary.probs, summary.divs)\n",
    "    summary[\"kelly_bet\"] = summary.kwf * wealth * KELLY_RATIO / placed_bets\n",
    "    summary[\"breakeven_bet\"] = np.vectorize(breakeven_bet)(POOL, summary.probs, summary.divs, DEFAULT_TAKE)\n",
    "    summary[\"epmax_bet\"], summary[\"max_ep\"] = np.where(\n",
    "        summary.place_bet,\n",
    "        np.vectorize(epmax_bet)(summary.probs, summary.divs, POOL, DEFAULT_TAKE),\n",
    "        np.nan,\n",
    "    )\n",
    "    summary[\"final_bet\"] = np.minimum(summary.epmax_bet, summary.kelly_bet).fillna(0)\n",
    "    wealth -= summary.final_bet.sum()\n",
    "    summary[\"revenue\"] = np.where(summary.score, summary.divs * summary.final_bet, 0)\n",
    "    # print(summary.round(2))\n",
    "    wealth += summary.revenue.sum()\n",
    "    wealth_log.append(wealth)\n",
    "    # print(f\"{game_id}: {wealth:.2f}\")\n"
   ]
  },
  {
   "cell_type": "code",
   "execution_count": 348,
   "metadata": {},
   "outputs": [
    {
     "data": {
      "image/png": "[encoded data removed]",
      "text/plain": [
       "<Figure size 640x480 with 1 Axes>"
      ]
     },
     "metadata": {},
     "output_type": "display_data"
    }
   ],
   "source": [
    "plt.plot(wealth_log)\n",
    "plt.yscale(\"log\")\n",
    "plt.show()"
   ]
  },
  {
   "attachments": {},
   "cell_type": "markdown",
   "metadata": {},
   "source": [
    "```python\n",
    "# Perfect information\n",
    "    summary[\"final_bet\"] = np.where(summary.score, 0.01 * wealth, 0)\n",
    "# All bets\n",
    "    summary[\"final_bet\"] = 0.01 * wealth\n",
    "# Bet only favorites\n",
    "    summary[\"final_bet\"] = np.where(summary.divs < 2, 0.01 * wealth, 0)\n",
    "# Random Betting\n",
    "    summary[\"final_bet\"] = np.where(np.random.uniform(size=len(summary)) > 0.5, 0.01 * wealth, 0)\n",
    "```"
   ]
  },
  {
   "attachments": {},
   "cell_type": "markdown",
   "metadata": {},
   "source": [
    "TODO: Train estimators per season, then predict & bet on the next season to simulate \"real life\".\n",
    "\n",
    "TODO: Consider Utility Functions that take variance into account.\n",
    "\n",
    "THINK: Does it make sense to consider estimator CV through some money-based decision function?"
   ]
  },
  {
   "attachments": {},
   "cell_type": "markdown",
   "metadata": {},
   "source": [
    "## Appendix: Some other stuff"
   ]
  },
  {
   "attachments": {},
   "cell_type": "markdown",
   "metadata": {},
   "source": [
    "### Better predicting"
   ]
  }
 ],
 "metadata": {
  "kernelspec": {
   "display_name": "jose-luis",
   "language": "python",
   "name": "python3"
  },
  "language_info": {
   "codemirror_mode": {
    "name": "ipython",
    "version": 3
   },
   "file_extension": ".py",
   "mimetype": "text/x-python",
   "name": "python",
   "nbconvert_exporter": "python",
   "pygments_lexer": "ipython3",
   "version": "3.10.10"
  },
  "orig_nbformat": 4
 },
 "nbformat": 4,
 "nbformat_minor": 2
}
